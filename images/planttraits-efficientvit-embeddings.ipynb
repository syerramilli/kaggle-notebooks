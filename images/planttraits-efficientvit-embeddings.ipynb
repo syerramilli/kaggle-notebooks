{
 "cells": [
  {
   "cell_type": "markdown",
   "id": "245cd006",
   "metadata": {
    "_cell_guid": "b1076dfc-b9ad-4769-8c92-a6c4dae69d19",
    "_uuid": "8f2839f25d086af736a60e9eeb907d3b93b6e0e5",
    "papermill": {
     "duration": 0.004413,
     "end_time": "2024-05-22T17:09:13.207279",
     "exception": false,
     "start_time": "2024-05-22T17:09:13.202866",
     "status": "completed"
    },
    "tags": []
   },
   "source": [
    "## Introduction\n",
    "\n",
    "In this notebook, we will generate embeddings for the images from a EfficientVIT model whose weights were trained on the ImageNet-1K dataset."
   ]
  },
  {
   "cell_type": "code",
   "execution_count": 1,
   "id": "6253059e",
   "metadata": {
    "execution": {
     "iopub.execute_input": "2024-05-22T17:09:13.217235Z",
     "iopub.status.busy": "2024-05-22T17:09:13.216551Z",
     "iopub.status.idle": "2024-05-22T17:09:21.425219Z",
     "shell.execute_reply": "2024-05-22T17:09:21.424196Z"
    },
    "papermill": {
     "duration": 8.21612,
     "end_time": "2024-05-22T17:09:21.427627",
     "exception": false,
     "start_time": "2024-05-22T17:09:13.211507",
     "status": "completed"
    },
    "tags": []
   },
   "outputs": [],
   "source": [
    "import numpy as np\n",
    "import pandas as pd\n",
    "import torch\n",
    "import timm\n",
    "from torch.utils.data import DataLoader, Dataset\n",
    "from PIL import Image\n",
    "from tqdm import tqdm\n",
    "from pathlib import Path\n",
    "\n",
    "device = torch.device('cuda' if torch.cuda.is_available() else 'cpu')"
   ]
  },
  {
   "cell_type": "markdown",
   "id": "9044d34b",
   "metadata": {
    "papermill": {
     "duration": 0.003606,
     "end_time": "2024-05-22T17:09:21.435335",
     "exception": false,
     "start_time": "2024-05-22T17:09:21.431729",
     "status": "completed"
    },
    "tags": []
   },
   "source": [
    "## Loading the data"
   ]
  },
  {
   "cell_type": "code",
   "execution_count": 2,
   "id": "209f6d9a",
   "metadata": {
    "execution": {
     "iopub.execute_input": "2024-05-22T17:09:21.444164Z",
     "iopub.status.busy": "2024-05-22T17:09:21.443882Z",
     "iopub.status.idle": "2024-05-22T17:09:24.619616Z",
     "shell.execute_reply": "2024-05-22T17:09:24.618805Z"
    },
    "papermill": {
     "duration": 3.182632,
     "end_time": "2024-05-22T17:09:24.621850",
     "exception": false,
     "start_time": "2024-05-22T17:09:21.439218",
     "status": "completed"
    },
    "tags": []
   },
   "outputs": [],
   "source": [
    "path = Path('/kaggle/input/planttraits2024/')\n",
    "imgs_train = path / 'train_images'\n",
    "imgs_test = path / 'test_images'\n",
    "\n",
    "train = pd.read_csv(path / 'train.csv')\n",
    "train['img_path'] = train['id'].apply(lambda x: imgs_train / f'{x}.jpeg')\n",
    "\n",
    "test = pd.read_csv(path / 'test.csv')\n",
    "test['img_path'] = test['id'].apply(lambda x: imgs_test / f'{x}.jpeg')"
   ]
  },
  {
   "cell_type": "markdown",
   "id": "35092cfa",
   "metadata": {
    "papermill": {
     "duration": 0.003667,
     "end_time": "2024-05-22T17:09:24.629735",
     "exception": false,
     "start_time": "2024-05-22T17:09:24.626068",
     "status": "completed"
    },
    "tags": []
   },
   "source": [
    "## Load model and transforms"
   ]
  },
  {
   "cell_type": "code",
   "execution_count": 3,
   "id": "a6963881",
   "metadata": {
    "execution": {
     "iopub.execute_input": "2024-05-22T17:09:24.638626Z",
     "iopub.status.busy": "2024-05-22T17:09:24.638326Z",
     "iopub.status.idle": "2024-05-22T17:09:25.354369Z",
     "shell.execute_reply": "2024-05-22T17:09:25.353579Z"
    },
    "papermill": {
     "duration": 0.723093,
     "end_time": "2024-05-22T17:09:25.356588",
     "exception": false,
     "start_time": "2024-05-22T17:09:24.633495",
     "status": "completed"
    },
    "tags": []
   },
   "outputs": [
    {
     "data": {
      "application/vnd.jupyter.widget-view+json": {
       "model_id": "a6ef350039964ff3ac3e448ae9ad8d8f",
       "version_major": 2,
       "version_minor": 0
      },
      "text/plain": [
       "model.safetensors:   0%|          | 0.00/13.7M [00:00<?, ?B/s]"
      ]
     },
     "metadata": {},
     "output_type": "display_data"
    }
   ],
   "source": [
    "model = timm.create_model('efficientvit_b0.r224_in1k', pretrained=True, num_classes=0).eval().to(device)\n",
    "transforms = timm.data.create_transform(\n",
    "    **timm.data.resolve_data_config(pretrained_cfg=model.pretrained_cfg)\n",
    ")"
   ]
  },
  {
   "cell_type": "markdown",
   "id": "d06a73c6",
   "metadata": {
    "papermill": {
     "duration": 0.00386,
     "end_time": "2024-05-22T17:09:25.364818",
     "exception": false,
     "start_time": "2024-05-22T17:09:25.360958",
     "status": "completed"
    },
    "tags": []
   },
   "source": [
    "## Image datasets"
   ]
  },
  {
   "cell_type": "code",
   "execution_count": 4,
   "id": "47cf2457",
   "metadata": {
    "execution": {
     "iopub.execute_input": "2024-05-22T17:09:25.374066Z",
     "iopub.status.busy": "2024-05-22T17:09:25.373761Z",
     "iopub.status.idle": "2024-05-22T17:09:25.541328Z",
     "shell.execute_reply": "2024-05-22T17:09:25.540280Z"
    },
    "papermill": {
     "duration": 0.174591,
     "end_time": "2024-05-22T17:09:25.543335",
     "exception": false,
     "start_time": "2024-05-22T17:09:25.368744",
     "status": "completed"
    },
    "tags": []
   },
   "outputs": [],
   "source": [
    "class CustomDataset(Dataset):\n",
    "    def __init__(self, img_paths, transform=None):\n",
    "        self.img_paths = img_paths\n",
    "        self.transform = transform\n",
    "\n",
    "    def __len__(self):\n",
    "        return len(self.img_paths)\n",
    "\n",
    "    def __getitem__(self, idx):\n",
    "        img_path = self.img_paths[idx]\n",
    "        img = Image.open(img_path).convert('RGB')\n",
    "        if self.transform:\n",
    "            img = self.transform(img)\n",
    "        return img\n",
    "    \n",
    "\n",
    "train_dataset = CustomDataset(train['img_path'].astype(str).values, transform=transforms)\n",
    "test_dataset = CustomDataset(test['img_path'].astype(str).values, transform=transforms)\n",
    "\n",
    "# Create data loaders\n",
    "train_loader = DataLoader(train_dataset, batch_size=1024, shuffle=False)\n",
    "test_loader = DataLoader(test_dataset, batch_size=1024, shuffle=False)"
   ]
  },
  {
   "cell_type": "markdown",
   "id": "d97ad46d",
   "metadata": {
    "papermill": {
     "duration": 0.003738,
     "end_time": "2024-05-22T17:09:25.551294",
     "exception": false,
     "start_time": "2024-05-22T17:09:25.547556",
     "status": "completed"
    },
    "tags": []
   },
   "source": [
    "## Generate embeddings"
   ]
  },
  {
   "cell_type": "code",
   "execution_count": 5,
   "id": "62fae2e7",
   "metadata": {
    "execution": {
     "iopub.execute_input": "2024-05-22T17:09:25.560590Z",
     "iopub.status.busy": "2024-05-22T17:09:25.560033Z",
     "iopub.status.idle": "2024-05-22T17:21:38.362805Z",
     "shell.execute_reply": "2024-05-22T17:21:38.361788Z"
    },
    "papermill": {
     "duration": 732.80954,
     "end_time": "2024-05-22T17:21:38.364833",
     "exception": false,
     "start_time": "2024-05-22T17:09:25.555293",
     "status": "completed"
    },
    "tags": []
   },
   "outputs": [
    {
     "name": "stderr",
     "output_type": "stream",
     "text": [
      "100%|██████████| 55/55 [12:12<00:00, 13.32s/it]\n"
     ]
    }
   ],
   "source": [
    "train_embeddings = []\n",
    "with torch.no_grad():\n",
    "    for img in tqdm(train_loader):\n",
    "        img = img.to(device)\n",
    "        output = model(img)\n",
    "        train_embeddings.append(output.cpu().numpy())\n",
    "        \n",
    "train_embeddings = np.concatenate(train_embeddings, axis=0)"
   ]
  },
  {
   "cell_type": "code",
   "execution_count": 6,
   "id": "d9354f1d",
   "metadata": {
    "execution": {
     "iopub.execute_input": "2024-05-22T17:21:38.383944Z",
     "iopub.status.busy": "2024-05-22T17:21:38.383648Z",
     "iopub.status.idle": "2024-05-22T17:22:59.534877Z",
     "shell.execute_reply": "2024-05-22T17:22:59.533833Z"
    },
    "papermill": {
     "duration": 81.162723,
     "end_time": "2024-05-22T17:22:59.536830",
     "exception": false,
     "start_time": "2024-05-22T17:21:38.374107",
     "status": "completed"
    },
    "tags": []
   },
   "outputs": [
    {
     "name": "stderr",
     "output_type": "stream",
     "text": [
      "100%|██████████| 7/7 [01:21<00:00, 11.59s/it]\n"
     ]
    }
   ],
   "source": [
    "test_embeddings = []\n",
    "with torch.no_grad():\n",
    "    for img in tqdm(test_loader):\n",
    "        img = img.to(device)\n",
    "        output = model(img)\n",
    "        test_embeddings.append(output.cpu().numpy())\n",
    "        \n",
    "test_embeddings = np.concatenate(test_embeddings, axis=0)"
   ]
  },
  {
   "cell_type": "code",
   "execution_count": 7,
   "id": "42f4a747",
   "metadata": {
    "execution": {
     "iopub.execute_input": "2024-05-22T17:22:59.557057Z",
     "iopub.status.busy": "2024-05-22T17:22:59.556756Z",
     "iopub.status.idle": "2024-05-22T17:23:00.206525Z",
     "shell.execute_reply": "2024-05-22T17:23:00.205513Z"
    },
    "papermill": {
     "duration": 0.66253,
     "end_time": "2024-05-22T17:23:00.208919",
     "exception": false,
     "start_time": "2024-05-22T17:22:59.546389",
     "status": "completed"
    },
    "tags": []
   },
   "outputs": [],
   "source": [
    "train_embeddings = pd.DataFrame(\n",
    "    train_embeddings,\n",
    "    columns = [f'emb_{i}' for i in range(train_embeddings.shape[1])],\n",
    "    index = train['id']\n",
    ").reset_index()\n",
    "train_embeddings.to_parquet('train_embeddings.parquet', index=False)"
   ]
  },
  {
   "cell_type": "code",
   "execution_count": 8,
   "id": "437417cf",
   "metadata": {
    "execution": {
     "iopub.execute_input": "2024-05-22T17:23:00.229478Z",
     "iopub.status.busy": "2024-05-22T17:23:00.228800Z",
     "iopub.status.idle": "2024-05-22T17:23:00.309314Z",
     "shell.execute_reply": "2024-05-22T17:23:00.308426Z"
    },
    "papermill": {
     "duration": 0.09278,
     "end_time": "2024-05-22T17:23:00.311287",
     "exception": false,
     "start_time": "2024-05-22T17:23:00.218507",
     "status": "completed"
    },
    "tags": []
   },
   "outputs": [],
   "source": [
    "test_embeddings = pd.DataFrame(\n",
    "    test_embeddings,\n",
    "    columns = [f'emb_{i}' for i in range(test_embeddings.shape[1])],\n",
    "    index = test['id']\n",
    ").reset_index()\n",
    "test_embeddings.to_parquet('test_embeddings.parquet', index=False)"
   ]
  },
  {
   "cell_type": "code",
   "execution_count": null,
   "id": "f2326f22",
   "metadata": {
    "papermill": {
     "duration": 0.009082,
     "end_time": "2024-05-22T17:23:00.329701",
     "exception": false,
     "start_time": "2024-05-22T17:23:00.320619",
     "status": "completed"
    },
    "tags": []
   },
   "outputs": [],
   "source": []
  }
 ],
 "metadata": {
  "kaggle": {
   "accelerator": "gpu",
   "dataSources": [
    {
     "databundleVersionId": 8046133,
     "sourceId": 65626,
     "sourceType": "competition"
    }
   ],
   "dockerImageVersionId": 30699,
   "isGpuEnabled": true,
   "isInternetEnabled": true,
   "language": "python",
   "sourceType": "notebook"
  },
  "kernelspec": {
   "display_name": "Python 3",
   "language": "python",
   "name": "python3"
  },
  "language_info": {
   "codemirror_mode": {
    "name": "ipython",
    "version": 3
   },
   "file_extension": ".py",
   "mimetype": "text/x-python",
   "name": "python",
   "nbconvert_exporter": "python",
   "pygments_lexer": "ipython3",
   "version": "3.10.13"
  },
  "papermill": {
   "default_parameters": {},
   "duration": 832.50492,
   "end_time": "2024-05-22T17:23:02.968406",
   "environment_variables": {},
   "exception": null,
   "input_path": "__notebook__.ipynb",
   "output_path": "__notebook__.ipynb",
   "parameters": {},
   "start_time": "2024-05-22T17:09:10.463486",
   "version": "2.5.0"
  },
  "widgets": {
   "application/vnd.jupyter.widget-state+json": {
    "state": {
     "1697736de9564d36a8b5e0c4a6c41781": {
      "model_module": "@jupyter-widgets/controls",
      "model_module_version": "1.5.0",
      "model_name": "DescriptionStyleModel",
      "state": {
       "_model_module": "@jupyter-widgets/controls",
       "_model_module_version": "1.5.0",
       "_model_name": "DescriptionStyleModel",
       "_view_count": null,
       "_view_module": "@jupyter-widgets/base",
       "_view_module_version": "1.2.0",
       "_view_name": "StyleView",
       "description_width": ""
      }
     },
     "454ca6b2eeaf41aeaea77a3a75b60b24": {
      "model_module": "@jupyter-widgets/base",
      "model_module_version": "1.2.0",
      "model_name": "LayoutModel",
      "state": {
       "_model_module": "@jupyter-widgets/base",
       "_model_module_version": "1.2.0",
       "_model_name": "LayoutModel",
       "_view_count": null,
       "_view_module": "@jupyter-widgets/base",
       "_view_module_version": "1.2.0",
       "_view_name": "LayoutView",
       "align_content": null,
       "align_items": null,
       "align_self": null,
       "border": null,
       "bottom": null,
       "display": null,
       "flex": null,
       "flex_flow": null,
       "grid_area": null,
       "grid_auto_columns": null,
       "grid_auto_flow": null,
       "grid_auto_rows": null,
       "grid_column": null,
       "grid_gap": null,
       "grid_row": null,
       "grid_template_areas": null,
       "grid_template_columns": null,
       "grid_template_rows": null,
       "height": null,
       "justify_content": null,
       "justify_items": null,
       "left": null,
       "margin": null,
       "max_height": null,
       "max_width": null,
       "min_height": null,
       "min_width": null,
       "object_fit": null,
       "object_position": null,
       "order": null,
       "overflow": null,
       "overflow_x": null,
       "overflow_y": null,
       "padding": null,
       "right": null,
       "top": null,
       "visibility": null,
       "width": null
      }
     },
     "57173ba4fa6044888682d5fc1a788c61": {
      "model_module": "@jupyter-widgets/controls",
      "model_module_version": "1.5.0",
      "model_name": "ProgressStyleModel",
      "state": {
       "_model_module": "@jupyter-widgets/controls",
       "_model_module_version": "1.5.0",
       "_model_name": "ProgressStyleModel",
       "_view_count": null,
       "_view_module": "@jupyter-widgets/base",
       "_view_module_version": "1.2.0",
       "_view_name": "StyleView",
       "bar_color": null,
       "description_width": ""
      }
     },
     "644fd56c14844a7bb451113b5758608b": {
      "model_module": "@jupyter-widgets/controls",
      "model_module_version": "1.5.0",
      "model_name": "HTMLModel",
      "state": {
       "_dom_classes": [],
       "_model_module": "@jupyter-widgets/controls",
       "_model_module_version": "1.5.0",
       "_model_name": "HTMLModel",
       "_view_count": null,
       "_view_module": "@jupyter-widgets/controls",
       "_view_module_version": "1.5.0",
       "_view_name": "HTMLView",
       "description": "",
       "description_tooltip": null,
       "layout": "IPY_MODEL_454ca6b2eeaf41aeaea77a3a75b60b24",
       "placeholder": "​",
       "style": "IPY_MODEL_d83db903361b4a60b9f3181607db8cff",
       "value": "model.safetensors: 100%"
      }
     },
     "8401f59c8faf43f48a6a6f5f5dc8fddc": {
      "model_module": "@jupyter-widgets/base",
      "model_module_version": "1.2.0",
      "model_name": "LayoutModel",
      "state": {
       "_model_module": "@jupyter-widgets/base",
       "_model_module_version": "1.2.0",
       "_model_name": "LayoutModel",
       "_view_count": null,
       "_view_module": "@jupyter-widgets/base",
       "_view_module_version": "1.2.0",
       "_view_name": "LayoutView",
       "align_content": null,
       "align_items": null,
       "align_self": null,
       "border": null,
       "bottom": null,
       "display": null,
       "flex": null,
       "flex_flow": null,
       "grid_area": null,
       "grid_auto_columns": null,
       "grid_auto_flow": null,
       "grid_auto_rows": null,
       "grid_column": null,
       "grid_gap": null,
       "grid_row": null,
       "grid_template_areas": null,
       "grid_template_columns": null,
       "grid_template_rows": null,
       "height": null,
       "justify_content": null,
       "justify_items": null,
       "left": null,
       "margin": null,
       "max_height": null,
       "max_width": null,
       "min_height": null,
       "min_width": null,
       "object_fit": null,
       "object_position": null,
       "order": null,
       "overflow": null,
       "overflow_x": null,
       "overflow_y": null,
       "padding": null,
       "right": null,
       "top": null,
       "visibility": null,
       "width": null
      }
     },
     "a6ef350039964ff3ac3e448ae9ad8d8f": {
      "model_module": "@jupyter-widgets/controls",
      "model_module_version": "1.5.0",
      "model_name": "HBoxModel",
      "state": {
       "_dom_classes": [],
       "_model_module": "@jupyter-widgets/controls",
       "_model_module_version": "1.5.0",
       "_model_name": "HBoxModel",
       "_view_count": null,
       "_view_module": "@jupyter-widgets/controls",
       "_view_module_version": "1.5.0",
       "_view_name": "HBoxView",
       "box_style": "",
       "children": [
        "IPY_MODEL_644fd56c14844a7bb451113b5758608b",
        "IPY_MODEL_c26a17550c3e4d6b994d16d1071b3606",
        "IPY_MODEL_e961564855444b29ade67f9db96449bb"
       ],
       "layout": "IPY_MODEL_fd522240679546b08106d2470f9349a3"
      }
     },
     "c26a17550c3e4d6b994d16d1071b3606": {
      "model_module": "@jupyter-widgets/controls",
      "model_module_version": "1.5.0",
      "model_name": "FloatProgressModel",
      "state": {
       "_dom_classes": [],
       "_model_module": "@jupyter-widgets/controls",
       "_model_module_version": "1.5.0",
       "_model_name": "FloatProgressModel",
       "_view_count": null,
       "_view_module": "@jupyter-widgets/controls",
       "_view_module_version": "1.5.0",
       "_view_name": "ProgressView",
       "bar_style": "success",
       "description": "",
       "description_tooltip": null,
       "layout": "IPY_MODEL_8401f59c8faf43f48a6a6f5f5dc8fddc",
       "max": 13684888.0,
       "min": 0.0,
       "orientation": "horizontal",
       "style": "IPY_MODEL_57173ba4fa6044888682d5fc1a788c61",
       "value": 13684888.0
      }
     },
     "c481ecd8fcdd4e888645c1ce594728bb": {
      "model_module": "@jupyter-widgets/base",
      "model_module_version": "1.2.0",
      "model_name": "LayoutModel",
      "state": {
       "_model_module": "@jupyter-widgets/base",
       "_model_module_version": "1.2.0",
       "_model_name": "LayoutModel",
       "_view_count": null,
       "_view_module": "@jupyter-widgets/base",
       "_view_module_version": "1.2.0",
       "_view_name": "LayoutView",
       "align_content": null,
       "align_items": null,
       "align_self": null,
       "border": null,
       "bottom": null,
       "display": null,
       "flex": null,
       "flex_flow": null,
       "grid_area": null,
       "grid_auto_columns": null,
       "grid_auto_flow": null,
       "grid_auto_rows": null,
       "grid_column": null,
       "grid_gap": null,
       "grid_row": null,
       "grid_template_areas": null,
       "grid_template_columns": null,
       "grid_template_rows": null,
       "height": null,
       "justify_content": null,
       "justify_items": null,
       "left": null,
       "margin": null,
       "max_height": null,
       "max_width": null,
       "min_height": null,
       "min_width": null,
       "object_fit": null,
       "object_position": null,
       "order": null,
       "overflow": null,
       "overflow_x": null,
       "overflow_y": null,
       "padding": null,
       "right": null,
       "top": null,
       "visibility": null,
       "width": null
      }
     },
     "d83db903361b4a60b9f3181607db8cff": {
      "model_module": "@jupyter-widgets/controls",
      "model_module_version": "1.5.0",
      "model_name": "DescriptionStyleModel",
      "state": {
       "_model_module": "@jupyter-widgets/controls",
       "_model_module_version": "1.5.0",
       "_model_name": "DescriptionStyleModel",
       "_view_count": null,
       "_view_module": "@jupyter-widgets/base",
       "_view_module_version": "1.2.0",
       "_view_name": "StyleView",
       "description_width": ""
      }
     },
     "e961564855444b29ade67f9db96449bb": {
      "model_module": "@jupyter-widgets/controls",
      "model_module_version": "1.5.0",
      "model_name": "HTMLModel",
      "state": {
       "_dom_classes": [],
       "_model_module": "@jupyter-widgets/controls",
       "_model_module_version": "1.5.0",
       "_model_name": "HTMLModel",
       "_view_count": null,
       "_view_module": "@jupyter-widgets/controls",
       "_view_module_version": "1.5.0",
       "_view_name": "HTMLView",
       "description": "",
       "description_tooltip": null,
       "layout": "IPY_MODEL_c481ecd8fcdd4e888645c1ce594728bb",
       "placeholder": "​",
       "style": "IPY_MODEL_1697736de9564d36a8b5e0c4a6c41781",
       "value": " 13.7M/13.7M [00:00&lt;00:00, 43.3MB/s]"
      }
     },
     "fd522240679546b08106d2470f9349a3": {
      "model_module": "@jupyter-widgets/base",
      "model_module_version": "1.2.0",
      "model_name": "LayoutModel",
      "state": {
       "_model_module": "@jupyter-widgets/base",
       "_model_module_version": "1.2.0",
       "_model_name": "LayoutModel",
       "_view_count": null,
       "_view_module": "@jupyter-widgets/base",
       "_view_module_version": "1.2.0",
       "_view_name": "LayoutView",
       "align_content": null,
       "align_items": null,
       "align_self": null,
       "border": null,
       "bottom": null,
       "display": null,
       "flex": null,
       "flex_flow": null,
       "grid_area": null,
       "grid_auto_columns": null,
       "grid_auto_flow": null,
       "grid_auto_rows": null,
       "grid_column": null,
       "grid_gap": null,
       "grid_row": null,
       "grid_template_areas": null,
       "grid_template_columns": null,
       "grid_template_rows": null,
       "height": null,
       "justify_content": null,
       "justify_items": null,
       "left": null,
       "margin": null,
       "max_height": null,
       "max_width": null,
       "min_height": null,
       "min_width": null,
       "object_fit": null,
       "object_position": null,
       "order": null,
       "overflow": null,
       "overflow_x": null,
       "overflow_y": null,
       "padding": null,
       "right": null,
       "top": null,
       "visibility": null,
       "width": null
      }
     }
    },
    "version_major": 2,
    "version_minor": 0
   }
  }
 },
 "nbformat": 4,
 "nbformat_minor": 5
}
