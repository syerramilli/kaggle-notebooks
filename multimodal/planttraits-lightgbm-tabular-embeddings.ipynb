{
 "cells": [
  {
   "cell_type": "markdown",
   "id": "f486d646",
   "metadata": {
    "papermill": {
     "duration": 0.011506,
     "end_time": "2024-06-01T19:56:06.900654",
     "exception": false,
     "start_time": "2024-06-01T19:56:06.889148",
     "status": "completed"
    },
    "tags": []
   },
   "source": [
    "## Introduction\n",
    "\n",
    "In this notebook we will train a baseline lightgbm regression model using the ancillary data (satellite data, soil data, climate data etc.) for each image and embeddings from the images generated from an EfficientVIT model to predict the 6 plant properties. The EfficientVit model was trained on the ImageNet-1K dataset."
   ]
  },
  {
   "cell_type": "code",
   "execution_count": 1,
   "id": "dce9df68",
   "metadata": {
    "execution": {
     "iopub.execute_input": "2024-06-01T19:56:06.923805Z",
     "iopub.status.busy": "2024-06-01T19:56:06.923517Z",
     "iopub.status.idle": "2024-06-01T19:56:12.240305Z",
     "shell.execute_reply": "2024-06-01T19:56:12.239518Z"
    },
    "papermill": {
     "duration": 5.33079,
     "end_time": "2024-06-01T19:56:12.242583",
     "exception": false,
     "start_time": "2024-06-01T19:56:06.911793",
     "status": "completed"
    },
    "tags": []
   },
   "outputs": [
    {
     "name": "stderr",
     "output_type": "stream",
     "text": [
      "/opt/conda/lib/python3.10/site-packages/dask/dataframe/_pyarrow_compat.py:23: UserWarning: You are using pyarrow version 11.0.0 which is known to be insecure. See https://www.cve.org/CVERecord?id=CVE-2023-47248 for further details. Please upgrade to pyarrow>=14.0.1 or install pyarrow-hotfix to patch your current version.\n",
      "  warnings.warn(\n"
     ]
    }
   ],
   "source": [
    "import os\n",
    "import json\n",
    "import numpy as np\n",
    "import pandas as pd\n",
    "import matplotlib.pyplot as plt\n",
    "import seaborn as sns\n",
    "\n",
    "import optuna\n",
    "from lightgbm import LGBMRegressor\n",
    "from sklearn.metrics import r2_score, make_scorer\n",
    "from sklearn.model_selection import KFold, cross_val_score \n",
    "\n",
    "from scipy.cluster import hierarchy\n",
    "from scipy.spatial.distance import squareform\n",
    "\n",
    "import joblib\n",
    "from pathlib import Path\n",
    "\n",
    "plt.style.use('ggplot')\n",
    "plt.rcParams.update(**{'figure.dpi':150})"
   ]
  },
  {
   "cell_type": "markdown",
   "id": "2c3b841e",
   "metadata": {
    "papermill": {
     "duration": 0.011051,
     "end_time": "2024-06-01T19:56:12.265432",
     "exception": false,
     "start_time": "2024-06-01T19:56:12.254381",
     "status": "completed"
    },
    "tags": []
   },
   "source": [
    "## Loading the data"
   ]
  },
  {
   "cell_type": "code",
   "execution_count": 2,
   "id": "b96dfaef",
   "metadata": {
    "execution": {
     "iopub.execute_input": "2024-06-01T19:56:12.289813Z",
     "iopub.status.busy": "2024-06-01T19:56:12.289453Z",
     "iopub.status.idle": "2024-06-01T19:56:14.550719Z",
     "shell.execute_reply": "2024-06-01T19:56:14.549862Z"
    },
    "papermill": {
     "duration": 2.275625,
     "end_time": "2024-06-01T19:56:14.552964",
     "exception": false,
     "start_time": "2024-06-01T19:56:12.277339",
     "status": "completed"
    },
    "tags": []
   },
   "outputs": [
    {
     "data": {
      "text/html": [
       "<div>\n",
       "<style scoped>\n",
       "    .dataframe tbody tr th:only-of-type {\n",
       "        vertical-align: middle;\n",
       "    }\n",
       "\n",
       "    .dataframe tbody tr th {\n",
       "        vertical-align: top;\n",
       "    }\n",
       "\n",
       "    .dataframe thead th {\n",
       "        text-align: right;\n",
       "    }\n",
       "</style>\n",
       "<table border=\"1\" class=\"dataframe\">\n",
       "  <thead>\n",
       "    <tr style=\"text-align: right;\">\n",
       "      <th></th>\n",
       "      <th>WORLDCLIM_BIO1_annual_mean_temperature</th>\n",
       "      <th>WORLDCLIM_BIO12_annual_precipitation</th>\n",
       "      <th>WORLDCLIM_BIO13.BIO14_delta_precipitation_of_wettest_and_dryest_month</th>\n",
       "      <th>WORLDCLIM_BIO15_precipitation_seasonality</th>\n",
       "      <th>WORLDCLIM_BIO4_temperature_seasonality</th>\n",
       "      <th>WORLDCLIM_BIO7_temperature_annual_range</th>\n",
       "      <th>SOIL_bdod_0.5cm_mean_0.01_deg</th>\n",
       "      <th>SOIL_bdod_100.200cm_mean_0.01_deg</th>\n",
       "      <th>SOIL_bdod_15.30cm_mean_0.01_deg</th>\n",
       "      <th>SOIL_bdod_30.60cm_mean_0.01_deg</th>\n",
       "      <th>...</th>\n",
       "      <th>X18_mean</th>\n",
       "      <th>X26_mean</th>\n",
       "      <th>X50_mean</th>\n",
       "      <th>X3112_mean</th>\n",
       "      <th>X4_sd</th>\n",
       "      <th>X11_sd</th>\n",
       "      <th>X18_sd</th>\n",
       "      <th>X26_sd</th>\n",
       "      <th>X50_sd</th>\n",
       "      <th>X3112_sd</th>\n",
       "    </tr>\n",
       "    <tr>\n",
       "      <th>id</th>\n",
       "      <th></th>\n",
       "      <th></th>\n",
       "      <th></th>\n",
       "      <th></th>\n",
       "      <th></th>\n",
       "      <th></th>\n",
       "      <th></th>\n",
       "      <th></th>\n",
       "      <th></th>\n",
       "      <th></th>\n",
       "      <th></th>\n",
       "      <th></th>\n",
       "      <th></th>\n",
       "      <th></th>\n",
       "      <th></th>\n",
       "      <th></th>\n",
       "      <th></th>\n",
       "      <th></th>\n",
       "      <th></th>\n",
       "      <th></th>\n",
       "      <th></th>\n",
       "    </tr>\n",
       "  </thead>\n",
       "  <tbody>\n",
       "    <tr>\n",
       "      <th>192027691</th>\n",
       "      <td>12.235703</td>\n",
       "      <td>374.466675</td>\n",
       "      <td>62.524445</td>\n",
       "      <td>72.256844</td>\n",
       "      <td>773.592041</td>\n",
       "      <td>33.277779</td>\n",
       "      <td>125</td>\n",
       "      <td>149</td>\n",
       "      <td>136</td>\n",
       "      <td>145</td>\n",
       "      <td>...</td>\n",
       "      <td>0.117484</td>\n",
       "      <td>1.243779</td>\n",
       "      <td>1.849375</td>\n",
       "      <td>50.216034</td>\n",
       "      <td>0.008921</td>\n",
       "      <td>1.601473</td>\n",
       "      <td>0.025441</td>\n",
       "      <td>0.153608</td>\n",
       "      <td>0.279610</td>\n",
       "      <td>15.045054</td>\n",
       "    </tr>\n",
       "    <tr>\n",
       "      <th>195542235</th>\n",
       "      <td>17.270555</td>\n",
       "      <td>90.239998</td>\n",
       "      <td>10.351111</td>\n",
       "      <td>38.220940</td>\n",
       "      <td>859.193298</td>\n",
       "      <td>40.009777</td>\n",
       "      <td>124</td>\n",
       "      <td>144</td>\n",
       "      <td>138</td>\n",
       "      <td>143</td>\n",
       "      <td>...</td>\n",
       "      <td>0.389315</td>\n",
       "      <td>0.642940</td>\n",
       "      <td>1.353468</td>\n",
       "      <td>574.098472</td>\n",
       "      <td>0.003102</td>\n",
       "      <td>0.258078</td>\n",
       "      <td>0.000866</td>\n",
       "      <td>0.034630</td>\n",
       "      <td>0.010165</td>\n",
       "      <td>11.004477</td>\n",
       "    </tr>\n",
       "    <tr>\n",
       "      <th>196639184</th>\n",
       "      <td>14.254504</td>\n",
       "      <td>902.071411</td>\n",
       "      <td>49.642857</td>\n",
       "      <td>17.873655</td>\n",
       "      <td>387.977753</td>\n",
       "      <td>22.807142</td>\n",
       "      <td>107</td>\n",
       "      <td>133</td>\n",
       "      <td>119</td>\n",
       "      <td>126</td>\n",
       "      <td>...</td>\n",
       "      <td>8.552908</td>\n",
       "      <td>0.395241</td>\n",
       "      <td>2.343153</td>\n",
       "      <td>1130.096731</td>\n",
       "      <td>NaN</td>\n",
       "      <td>NaN</td>\n",
       "      <td>NaN</td>\n",
       "      <td>NaN</td>\n",
       "      <td>NaN</td>\n",
       "      <td>NaN</td>\n",
       "    </tr>\n",
       "    <tr>\n",
       "      <th>195728812</th>\n",
       "      <td>18.680834</td>\n",
       "      <td>1473.933350</td>\n",
       "      <td>163.100006</td>\n",
       "      <td>45.009758</td>\n",
       "      <td>381.053986</td>\n",
       "      <td>20.436666</td>\n",
       "      <td>120</td>\n",
       "      <td>131</td>\n",
       "      <td>125</td>\n",
       "      <td>131</td>\n",
       "      <td>...</td>\n",
       "      <td>1.083629</td>\n",
       "      <td>0.154200</td>\n",
       "      <td>1.155308</td>\n",
       "      <td>1042.686546</td>\n",
       "      <td>0.011692</td>\n",
       "      <td>2.818356</td>\n",
       "      <td>0.110673</td>\n",
       "      <td>0.011334</td>\n",
       "      <td>0.229224</td>\n",
       "      <td>141.857187</td>\n",
       "    </tr>\n",
       "    <tr>\n",
       "      <th>195251545</th>\n",
       "      <td>0.673204</td>\n",
       "      <td>530.088867</td>\n",
       "      <td>50.857777</td>\n",
       "      <td>38.230709</td>\n",
       "      <td>1323.526855</td>\n",
       "      <td>45.891998</td>\n",
       "      <td>91</td>\n",
       "      <td>146</td>\n",
       "      <td>120</td>\n",
       "      <td>138</td>\n",
       "      <td>...</td>\n",
       "      <td>0.657585</td>\n",
       "      <td>10.919966</td>\n",
       "      <td>2.246226</td>\n",
       "      <td>2386.467180</td>\n",
       "      <td>0.006157</td>\n",
       "      <td>1.128000</td>\n",
       "      <td>0.026996</td>\n",
       "      <td>0.553815</td>\n",
       "      <td>0.107092</td>\n",
       "      <td>87.146899</td>\n",
       "    </tr>\n",
       "  </tbody>\n",
       "</table>\n",
       "<p>5 rows × 175 columns</p>\n",
       "</div>"
      ],
      "text/plain": [
       "           WORLDCLIM_BIO1_annual_mean_temperature  \\\n",
       "id                                                  \n",
       "192027691                               12.235703   \n",
       "195542235                               17.270555   \n",
       "196639184                               14.254504   \n",
       "195728812                               18.680834   \n",
       "195251545                                0.673204   \n",
       "\n",
       "           WORLDCLIM_BIO12_annual_precipitation  \\\n",
       "id                                                \n",
       "192027691                            374.466675   \n",
       "195542235                             90.239998   \n",
       "196639184                            902.071411   \n",
       "195728812                           1473.933350   \n",
       "195251545                            530.088867   \n",
       "\n",
       "           WORLDCLIM_BIO13.BIO14_delta_precipitation_of_wettest_and_dryest_month  \\\n",
       "id                                                                                 \n",
       "192027691                                          62.524445                       \n",
       "195542235                                          10.351111                       \n",
       "196639184                                          49.642857                       \n",
       "195728812                                         163.100006                       \n",
       "195251545                                          50.857777                       \n",
       "\n",
       "           WORLDCLIM_BIO15_precipitation_seasonality  \\\n",
       "id                                                     \n",
       "192027691                                  72.256844   \n",
       "195542235                                  38.220940   \n",
       "196639184                                  17.873655   \n",
       "195728812                                  45.009758   \n",
       "195251545                                  38.230709   \n",
       "\n",
       "           WORLDCLIM_BIO4_temperature_seasonality  \\\n",
       "id                                                  \n",
       "192027691                              773.592041   \n",
       "195542235                              859.193298   \n",
       "196639184                              387.977753   \n",
       "195728812                              381.053986   \n",
       "195251545                             1323.526855   \n",
       "\n",
       "           WORLDCLIM_BIO7_temperature_annual_range  \\\n",
       "id                                                   \n",
       "192027691                                33.277779   \n",
       "195542235                                40.009777   \n",
       "196639184                                22.807142   \n",
       "195728812                                20.436666   \n",
       "195251545                                45.891998   \n",
       "\n",
       "           SOIL_bdod_0.5cm_mean_0.01_deg  SOIL_bdod_100.200cm_mean_0.01_deg  \\\n",
       "id                                                                            \n",
       "192027691                            125                                149   \n",
       "195542235                            124                                144   \n",
       "196639184                            107                                133   \n",
       "195728812                            120                                131   \n",
       "195251545                             91                                146   \n",
       "\n",
       "           SOIL_bdod_15.30cm_mean_0.01_deg  SOIL_bdod_30.60cm_mean_0.01_deg  \\\n",
       "id                                                                            \n",
       "192027691                              136                              145   \n",
       "195542235                              138                              143   \n",
       "196639184                              119                              126   \n",
       "195728812                              125                              131   \n",
       "195251545                              120                              138   \n",
       "\n",
       "           ...  X18_mean   X26_mean  X50_mean   X3112_mean     X4_sd  \\\n",
       "id         ...                                                         \n",
       "192027691  ...  0.117484   1.243779  1.849375    50.216034  0.008921   \n",
       "195542235  ...  0.389315   0.642940  1.353468   574.098472  0.003102   \n",
       "196639184  ...  8.552908   0.395241  2.343153  1130.096731       NaN   \n",
       "195728812  ...  1.083629   0.154200  1.155308  1042.686546  0.011692   \n",
       "195251545  ...  0.657585  10.919966  2.246226  2386.467180  0.006157   \n",
       "\n",
       "             X11_sd    X18_sd    X26_sd    X50_sd    X3112_sd  \n",
       "id                                                             \n",
       "192027691  1.601473  0.025441  0.153608  0.279610   15.045054  \n",
       "195542235  0.258078  0.000866  0.034630  0.010165   11.004477  \n",
       "196639184       NaN       NaN       NaN       NaN         NaN  \n",
       "195728812  2.818356  0.110673  0.011334  0.229224  141.857187  \n",
       "195251545  1.128000  0.026996  0.553815  0.107092   87.146899  \n",
       "\n",
       "[5 rows x 175 columns]"
      ]
     },
     "execution_count": 2,
     "metadata": {},
     "output_type": "execute_result"
    }
   ],
   "source": [
    "path = Path('/kaggle/input/planttraits2024/')\n",
    "train = pd.read_csv(path / 'train.csv', index_col=['id'])\n",
    "train.head()"
   ]
  },
  {
   "cell_type": "code",
   "execution_count": 3,
   "id": "e785cead",
   "metadata": {
    "execution": {
     "iopub.execute_input": "2024-06-01T19:56:14.577676Z",
     "iopub.status.busy": "2024-06-01T19:56:14.577392Z",
     "iopub.status.idle": "2024-06-01T19:56:14.581857Z",
     "shell.execute_reply": "2024-06-01T19:56:14.581003Z"
    },
    "papermill": {
     "duration": 0.018656,
     "end_time": "2024-06-01T19:56:14.583774",
     "exception": false,
     "start_time": "2024-06-01T19:56:14.565118",
     "status": "completed"
    },
    "tags": []
   },
   "outputs": [
    {
     "name": "stdout",
     "output_type": "stream",
     "text": [
      "Number of observations in training data: 55489\n"
     ]
    }
   ],
   "source": [
    "print(f'Number of observations in training data: {train.shape[0]}')"
   ]
  },
  {
   "cell_type": "code",
   "execution_count": 4,
   "id": "11529439",
   "metadata": {
    "execution": {
     "iopub.execute_input": "2024-06-01T19:56:14.607937Z",
     "iopub.status.busy": "2024-06-01T19:56:14.607664Z",
     "iopub.status.idle": "2024-06-01T19:56:14.611442Z",
     "shell.execute_reply": "2024-06-01T19:56:14.610752Z"
    },
    "papermill": {
     "duration": 0.017974,
     "end_time": "2024-06-01T19:56:14.613294",
     "exception": false,
     "start_time": "2024-06-01T19:56:14.595320",
     "status": "completed"
    },
    "tags": []
   },
   "outputs": [],
   "source": [
    "targets = ['X4', 'X11', 'X18', 'X50', 'X26', 'X3112']"
   ]
  },
  {
   "cell_type": "code",
   "execution_count": 5,
   "id": "313fd686",
   "metadata": {
    "execution": {
     "iopub.execute_input": "2024-06-01T19:56:14.637758Z",
     "iopub.status.busy": "2024-06-01T19:56:14.637452Z",
     "iopub.status.idle": "2024-06-01T19:56:14.643012Z",
     "shell.execute_reply": "2024-06-01T19:56:14.642206Z"
    },
    "papermill": {
     "duration": 0.020206,
     "end_time": "2024-06-01T19:56:14.645014",
     "exception": false,
     "start_time": "2024-06-01T19:56:14.624808",
     "status": "completed"
    },
    "tags": []
   },
   "outputs": [
    {
     "data": {
      "text/plain": [
       "Index(['X4_mean', 'X11_mean', 'X18_mean', 'X26_mean', 'X50_mean', 'X3112_mean',\n",
       "       'X4_sd', 'X11_sd', 'X18_sd', 'X26_sd', 'X50_sd', 'X3112_sd'],\n",
       "      dtype='object')"
      ]
     },
     "execution_count": 5,
     "metadata": {},
     "output_type": "execute_result"
    }
   ],
   "source": [
    "# last 12 columns correspond to the targets\n",
    "train.columns[-12:]"
   ]
  },
  {
   "cell_type": "markdown",
   "id": "eff85b53",
   "metadata": {
    "papermill": {
     "duration": 0.011543,
     "end_time": "2024-06-01T19:56:14.668118",
     "exception": false,
     "start_time": "2024-06-01T19:56:14.656575",
     "status": "completed"
    },
    "tags": []
   },
   "source": [
    "## Exploratory Data Analysis"
   ]
  },
  {
   "cell_type": "markdown",
   "id": "557192b1",
   "metadata": {
    "papermill": {
     "duration": 0.011345,
     "end_time": "2024-06-01T19:56:14.690907",
     "exception": false,
     "start_time": "2024-06-01T19:56:14.679562",
     "status": "completed"
    },
    "tags": []
   },
   "source": [
    "### Missing values\n",
    "\n",
    "We first check for missing entries. It turns out all the `sd` columns have about 30% of the entries missing. In this version, we will focus only finding the mean. "
   ]
  },
  {
   "cell_type": "code",
   "execution_count": 6,
   "id": "dd63689b",
   "metadata": {
    "execution": {
     "iopub.execute_input": "2024-06-01T19:56:14.715588Z",
     "iopub.status.busy": "2024-06-01T19:56:14.714921Z",
     "iopub.status.idle": "2024-06-01T19:56:14.734671Z",
     "shell.execute_reply": "2024-06-01T19:56:14.733890Z"
    },
    "papermill": {
     "duration": 0.034,
     "end_time": "2024-06-01T19:56:14.736526",
     "exception": false,
     "start_time": "2024-06-01T19:56:14.702526",
     "status": "completed"
    },
    "tags": []
   },
   "outputs": [
    {
     "data": {
      "text/plain": [
       "X4_sd       29.44908\n",
       "X11_sd      29.44908\n",
       "X18_sd      29.44908\n",
       "X26_sd      29.44908\n",
       "X50_sd      29.44908\n",
       "X3112_sd    29.44908\n",
       "dtype: float64"
      ]
     },
     "execution_count": 6,
     "metadata": {},
     "output_type": "execute_result"
    }
   ],
   "source": [
    "# check for missing values\n",
    "def filter_greater_than(s:pd.Series, threshold:float):\n",
    "    return s[s > threshold]\n",
    "\n",
    "\n",
    "missing_perc = (\n",
    "    (train.isna().sum() / train.shape[0] * 100) \n",
    "    .pipe(filter_greater_than, threshold=0.)\n",
    "    .sort_values(ascending=False)\n",
    ")\n",
    "missing_perc"
   ]
  },
  {
   "cell_type": "code",
   "execution_count": 7,
   "id": "3b7cf0b7",
   "metadata": {
    "execution": {
     "iopub.execute_input": "2024-06-01T19:56:14.761284Z",
     "iopub.status.busy": "2024-06-01T19:56:14.760574Z",
     "iopub.status.idle": "2024-06-01T19:56:14.784952Z",
     "shell.execute_reply": "2024-06-01T19:56:14.784087Z"
    },
    "papermill": {
     "duration": 0.038867,
     "end_time": "2024-06-01T19:56:14.787080",
     "exception": false,
     "start_time": "2024-06-01T19:56:14.748213",
     "status": "completed"
    },
    "tags": []
   },
   "outputs": [],
   "source": [
    "target_cols = [f'{col}_mean' for col in targets]\n",
    "tabular = train.iloc[:,:-12]\n",
    "Y = train[target_cols]"
   ]
  },
  {
   "cell_type": "markdown",
   "id": "811233d7",
   "metadata": {
    "papermill": {
     "duration": 0.0118,
     "end_time": "2024-06-01T19:56:14.810918",
     "exception": false,
     "start_time": "2024-06-01T19:56:14.799118",
     "status": "completed"
    },
    "tags": []
   },
   "source": [
    "### Target distributions\n",
    "\n",
    "There seem to be rather large outliers in the targets "
   ]
  },
  {
   "cell_type": "code",
   "execution_count": 8,
   "id": "dd29d59c",
   "metadata": {
    "execution": {
     "iopub.execute_input": "2024-06-01T19:56:14.835460Z",
     "iopub.status.busy": "2024-06-01T19:56:14.834943Z",
     "iopub.status.idle": "2024-06-01T19:56:14.878855Z",
     "shell.execute_reply": "2024-06-01T19:56:14.878085Z"
    },
    "papermill": {
     "duration": 0.058305,
     "end_time": "2024-06-01T19:56:14.880793",
     "exception": false,
     "start_time": "2024-06-01T19:56:14.822488",
     "status": "completed"
    },
    "tags": []
   },
   "outputs": [
    {
     "data": {
      "text/html": [
       "<div>\n",
       "<style scoped>\n",
       "    .dataframe tbody tr th:only-of-type {\n",
       "        vertical-align: middle;\n",
       "    }\n",
       "\n",
       "    .dataframe tbody tr th {\n",
       "        vertical-align: top;\n",
       "    }\n",
       "\n",
       "    .dataframe thead th {\n",
       "        text-align: right;\n",
       "    }\n",
       "</style>\n",
       "<table border=\"1\" class=\"dataframe\">\n",
       "  <thead>\n",
       "    <tr style=\"text-align: right;\">\n",
       "      <th></th>\n",
       "      <th>X4_mean</th>\n",
       "      <th>X11_mean</th>\n",
       "      <th>X18_mean</th>\n",
       "      <th>X50_mean</th>\n",
       "      <th>X26_mean</th>\n",
       "      <th>X3112_mean</th>\n",
       "    </tr>\n",
       "  </thead>\n",
       "  <tbody>\n",
       "    <tr>\n",
       "      <th>count</th>\n",
       "      <td>55489.000000</td>\n",
       "      <td>5.548900e+04</td>\n",
       "      <td>5.548900e+04</td>\n",
       "      <td>55489.000000</td>\n",
       "      <td>5.548900e+04</td>\n",
       "      <td>5.548900e+04</td>\n",
       "    </tr>\n",
       "    <tr>\n",
       "      <th>mean</th>\n",
       "      <td>0.522575</td>\n",
       "      <td>1.325267e+02</td>\n",
       "      <td>1.969902e+04</td>\n",
       "      <td>13.528574</td>\n",
       "      <td>3.459399e+03</td>\n",
       "      <td>3.975552e+05</td>\n",
       "    </tr>\n",
       "    <tr>\n",
       "      <th>std</th>\n",
       "      <td>0.174853</td>\n",
       "      <td>1.278220e+04</td>\n",
       "      <td>2.309747e+06</td>\n",
       "      <td>1356.480785</td>\n",
       "      <td>2.471919e+05</td>\n",
       "      <td>9.152463e+07</td>\n",
       "    </tr>\n",
       "    <tr>\n",
       "      <th>min</th>\n",
       "      <td>-2.431157</td>\n",
       "      <td>6.780000e-05</td>\n",
       "      <td>2.330000e-08</td>\n",
       "      <td>0.000097</td>\n",
       "      <td>5.500000e-07</td>\n",
       "      <td>7.690000e-08</td>\n",
       "    </tr>\n",
       "    <tr>\n",
       "      <th>2%</th>\n",
       "      <td>0.260990</td>\n",
       "      <td>3.626910e+00</td>\n",
       "      <td>5.492267e-02</td>\n",
       "      <td>0.595160</td>\n",
       "      <td>1.751672e-02</td>\n",
       "      <td>1.725723e+01</td>\n",
       "    </tr>\n",
       "    <tr>\n",
       "      <th>2.5%</th>\n",
       "      <td>0.272712</td>\n",
       "      <td>3.973504e+00</td>\n",
       "      <td>6.405945e-02</td>\n",
       "      <td>0.634611</td>\n",
       "      <td>2.091185e-02</td>\n",
       "      <td>2.107747e+01</td>\n",
       "    </tr>\n",
       "    <tr>\n",
       "      <th>5%</th>\n",
       "      <td>0.304198</td>\n",
       "      <td>4.914833e+00</td>\n",
       "      <td>1.020808e-01</td>\n",
       "      <td>0.774153</td>\n",
       "      <td>4.672269e-02</td>\n",
       "      <td>4.241935e+01</td>\n",
       "    </tr>\n",
       "    <tr>\n",
       "      <th>10%</th>\n",
       "      <td>0.338505</td>\n",
       "      <td>6.466692e+00</td>\n",
       "      <td>1.627364e-01</td>\n",
       "      <td>0.923581</td>\n",
       "      <td>1.185212e-01</td>\n",
       "      <td>8.977614e+01</td>\n",
       "    </tr>\n",
       "    <tr>\n",
       "      <th>25%</th>\n",
       "      <td>0.410995</td>\n",
       "      <td>1.063987e+01</td>\n",
       "      <td>3.102831e-01</td>\n",
       "      <td>1.173489</td>\n",
       "      <td>5.613414e-01</td>\n",
       "      <td>2.552815e+02</td>\n",
       "    </tr>\n",
       "    <tr>\n",
       "      <th>50%</th>\n",
       "      <td>0.509009</td>\n",
       "      <td>1.511232e+01</td>\n",
       "      <td>7.156651e-01</td>\n",
       "      <td>1.480060</td>\n",
       "      <td>2.519985e+00</td>\n",
       "      <td>7.244318e+02</td>\n",
       "    </tr>\n",
       "    <tr>\n",
       "      <th>75%</th>\n",
       "      <td>0.622383</td>\n",
       "      <td>1.968160e+01</td>\n",
       "      <td>3.586311e+00</td>\n",
       "      <td>1.926343</td>\n",
       "      <td>1.491886e+01</td>\n",
       "      <td>2.148630e+03</td>\n",
       "    </tr>\n",
       "    <tr>\n",
       "      <th>90%</th>\n",
       "      <td>0.724262</td>\n",
       "      <td>2.527123e+01</td>\n",
       "      <td>1.132305e+01</td>\n",
       "      <td>2.495492</td>\n",
       "      <td>7.901089e+01</td>\n",
       "      <td>4.844990e+03</td>\n",
       "    </tr>\n",
       "    <tr>\n",
       "      <th>95%</th>\n",
       "      <td>0.796216</td>\n",
       "      <td>3.095447e+01</td>\n",
       "      <td>1.700733e+01</td>\n",
       "      <td>3.038528</td>\n",
       "      <td>2.186521e+02</td>\n",
       "      <td>8.187446e+03</td>\n",
       "    </tr>\n",
       "    <tr>\n",
       "      <th>97.5%</th>\n",
       "      <td>0.840579</td>\n",
       "      <td>3.860718e+01</td>\n",
       "      <td>2.173227e+01</td>\n",
       "      <td>3.532440</td>\n",
       "      <td>5.347213e+02</td>\n",
       "      <td>1.365796e+04</td>\n",
       "    </tr>\n",
       "    <tr>\n",
       "      <th>98%</th>\n",
       "      <td>0.856640</td>\n",
       "      <td>4.116763e+01</td>\n",
       "      <td>2.357147e+01</td>\n",
       "      <td>3.652908</td>\n",
       "      <td>7.266227e+02</td>\n",
       "      <td>1.577923e+04</td>\n",
       "    </tr>\n",
       "    <tr>\n",
       "      <th>max</th>\n",
       "      <td>4.475172</td>\n",
       "      <td>1.504254e+06</td>\n",
       "      <td>2.720494e+08</td>\n",
       "      <td>159759.897700</td>\n",
       "      <td>3.106555e+07</td>\n",
       "      <td>2.155911e+10</td>\n",
       "    </tr>\n",
       "  </tbody>\n",
       "</table>\n",
       "</div>"
      ],
      "text/plain": [
       "            X4_mean      X11_mean      X18_mean       X50_mean      X26_mean  \\\n",
       "count  55489.000000  5.548900e+04  5.548900e+04   55489.000000  5.548900e+04   \n",
       "mean       0.522575  1.325267e+02  1.969902e+04      13.528574  3.459399e+03   \n",
       "std        0.174853  1.278220e+04  2.309747e+06    1356.480785  2.471919e+05   \n",
       "min       -2.431157  6.780000e-05  2.330000e-08       0.000097  5.500000e-07   \n",
       "2%         0.260990  3.626910e+00  5.492267e-02       0.595160  1.751672e-02   \n",
       "2.5%       0.272712  3.973504e+00  6.405945e-02       0.634611  2.091185e-02   \n",
       "5%         0.304198  4.914833e+00  1.020808e-01       0.774153  4.672269e-02   \n",
       "10%        0.338505  6.466692e+00  1.627364e-01       0.923581  1.185212e-01   \n",
       "25%        0.410995  1.063987e+01  3.102831e-01       1.173489  5.613414e-01   \n",
       "50%        0.509009  1.511232e+01  7.156651e-01       1.480060  2.519985e+00   \n",
       "75%        0.622383  1.968160e+01  3.586311e+00       1.926343  1.491886e+01   \n",
       "90%        0.724262  2.527123e+01  1.132305e+01       2.495492  7.901089e+01   \n",
       "95%        0.796216  3.095447e+01  1.700733e+01       3.038528  2.186521e+02   \n",
       "97.5%      0.840579  3.860718e+01  2.173227e+01       3.532440  5.347213e+02   \n",
       "98%        0.856640  4.116763e+01  2.357147e+01       3.652908  7.266227e+02   \n",
       "max        4.475172  1.504254e+06  2.720494e+08  159759.897700  3.106555e+07   \n",
       "\n",
       "         X3112_mean  \n",
       "count  5.548900e+04  \n",
       "mean   3.975552e+05  \n",
       "std    9.152463e+07  \n",
       "min    7.690000e-08  \n",
       "2%     1.725723e+01  \n",
       "2.5%   2.107747e+01  \n",
       "5%     4.241935e+01  \n",
       "10%    8.977614e+01  \n",
       "25%    2.552815e+02  \n",
       "50%    7.244318e+02  \n",
       "75%    2.148630e+03  \n",
       "90%    4.844990e+03  \n",
       "95%    8.187446e+03  \n",
       "97.5%  1.365796e+04  \n",
       "98%    1.577923e+04  \n",
       "max    2.155911e+10  "
      ]
     },
     "execution_count": 8,
     "metadata": {},
     "output_type": "execute_result"
    }
   ],
   "source": [
    "target_cols = [f'{col}_mean' for col in targets]\n",
    "train[target_cols].describe(percentiles=[0.02, 0.025, 0.05, 0.1, 0.25, 0.5, 0.75, 0.9, 0.95, 0.975, 0.98])"
   ]
  },
  {
   "cell_type": "markdown",
   "id": "ce22f2e5",
   "metadata": {
    "papermill": {
     "duration": 0.011778,
     "end_time": "2024-06-01T19:56:14.904592",
     "exception": false,
     "start_time": "2024-06-01T19:56:14.892814",
     "status": "completed"
    },
    "tags": []
   },
   "source": [
    "We will remove rows where any of the targets is less than 0 or greater than the 98th quantile."
   ]
  },
  {
   "cell_type": "code",
   "execution_count": 9,
   "id": "1595b4f6",
   "metadata": {
    "execution": {
     "iopub.execute_input": "2024-06-01T19:56:14.930128Z",
     "iopub.status.busy": "2024-06-01T19:56:14.929847Z",
     "iopub.status.idle": "2024-06-01T19:56:14.966550Z",
     "shell.execute_reply": "2024-06-01T19:56:14.965395Z"
    },
    "papermill": {
     "duration": 0.051604,
     "end_time": "2024-06-01T19:56:14.968594",
     "exception": false,
     "start_time": "2024-06-01T19:56:14.916990",
     "status": "completed"
    },
    "tags": []
   },
   "outputs": [
    {
     "name": "stdout",
     "output_type": "stream",
     "text": [
      "Number of observations removed: 5691\n"
     ]
    }
   ],
   "source": [
    "lower_quantiles = 0\n",
    "upper_quantiles = Y.quantile(0.98)\n",
    "\n",
    "retained_flag = ((Y >= lower_quantiles) & (Y < upper_quantiles)).all(axis=1)\n",
    "tabular = tabular[retained_flag]\n",
    "Y = Y[retained_flag]\n",
    "\n",
    "print(f'Number of observations removed: {retained_flag.shape[0] - retained_flag.sum()}')"
   ]
  },
  {
   "cell_type": "markdown",
   "id": "e0a25bd4",
   "metadata": {
    "papermill": {
     "duration": 0.011897,
     "end_time": "2024-06-01T19:56:14.993403",
     "exception": false,
     "start_time": "2024-06-01T19:56:14.981506",
     "status": "completed"
    },
    "tags": []
   },
   "source": [
    "Even after the outliers are removed, some of the targets still have large skew in their distribution. Since the metric is $R^2$ on the actual targets, we will not apply any transformation on the targets to correct for the skewness"
   ]
  },
  {
   "cell_type": "code",
   "execution_count": 10,
   "id": "b3c3afb5",
   "metadata": {
    "execution": {
     "iopub.execute_input": "2024-06-01T19:56:15.019678Z",
     "iopub.status.busy": "2024-06-01T19:56:15.019389Z",
     "iopub.status.idle": "2024-06-01T19:56:16.663668Z",
     "shell.execute_reply": "2024-06-01T19:56:16.662801Z"
    },
    "papermill": {
     "duration": 1.65971,
     "end_time": "2024-06-01T19:56:16.666243",
     "exception": false,
     "start_time": "2024-06-01T19:56:15.006533",
     "status": "completed"
    },
    "tags": []
   },
   "outputs": [
    {
     "name": "stderr",
     "output_type": "stream",
     "text": [
      "/opt/conda/lib/python3.10/site-packages/seaborn/_oldcore.py:1119: FutureWarning: use_inf_as_na option is deprecated and will be removed in a future version. Convert inf values to NaN before operating instead.\n",
      "  with pd.option_context('mode.use_inf_as_na', True):\n",
      "/opt/conda/lib/python3.10/site-packages/seaborn/_oldcore.py:1119: FutureWarning: use_inf_as_na option is deprecated and will be removed in a future version. Convert inf values to NaN before operating instead.\n",
      "  with pd.option_context('mode.use_inf_as_na', True):\n",
      "/opt/conda/lib/python3.10/site-packages/seaborn/_oldcore.py:1119: FutureWarning: use_inf_as_na option is deprecated and will be removed in a future version. Convert inf values to NaN before operating instead.\n",
      "  with pd.option_context('mode.use_inf_as_na', True):\n",
      "/opt/conda/lib/python3.10/site-packages/seaborn/_oldcore.py:1119: FutureWarning: use_inf_as_na option is deprecated and will be removed in a future version. Convert inf values to NaN before operating instead.\n",
      "  with pd.option_context('mode.use_inf_as_na', True):\n",
      "/opt/conda/lib/python3.10/site-packages/seaborn/_oldcore.py:1119: FutureWarning: use_inf_as_na option is deprecated and will be removed in a future version. Convert inf values to NaN before operating instead.\n",
      "  with pd.option_context('mode.use_inf_as_na', True):\n",
      "/opt/conda/lib/python3.10/site-packages/seaborn/_oldcore.py:1119: FutureWarning: use_inf_as_na option is deprecated and will be removed in a future version. Convert inf values to NaN before operating instead.\n",
      "  with pd.option_context('mode.use_inf_as_na', True):\n"
     ]
    },
    {
     "data": {
      "image/png": "[encoded data removed]",
      "text/plain": [
       "<Figure size 1800x900 with 6 Axes>"
      ]
     },
     "metadata": {},
     "output_type": "display_data"
    }
   ],
   "source": [
    "n_rows = 2\n",
    "n_cols = 3\n",
    "fig, axs = plt.subplots(n_rows, n_cols, figsize=(4 * n_cols, 3 * n_rows))\n",
    "for i, column in enumerate(Y.columns):\n",
    "    row_idx, col_idx = divmod(i, n_cols)\n",
    "    _ = sns.histplot(data=Y, x=column, ax=axs[row_idx, col_idx], bins=12)\n",
    "\n",
    "fig.tight_layout()"
   ]
  },
  {
   "cell_type": "markdown",
   "id": "04ddcc99",
   "metadata": {
    "papermill": {
     "duration": 0.013547,
     "end_time": "2024-06-01T19:56:16.694123",
     "exception": false,
     "start_time": "2024-06-01T19:56:16.680576",
     "status": "completed"
    },
    "tags": []
   },
   "source": [
    "From the correlation heatmap below, we can see that some of the outputs are correlated. There may be an advantage in jointly modeling the targets. Note that we compute the Spearman rank correlation, which measures the strength of a monotonic relationship between two variables."
   ]
  },
  {
   "cell_type": "code",
   "execution_count": 11,
   "id": "1aeec0a8",
   "metadata": {
    "execution": {
     "iopub.execute_input": "2024-06-01T19:56:16.722924Z",
     "iopub.status.busy": "2024-06-01T19:56:16.722623Z",
     "iopub.status.idle": "2024-06-01T19:56:17.157473Z",
     "shell.execute_reply": "2024-06-01T19:56:17.156559Z"
    },
    "papermill": {
     "duration": 0.451476,
     "end_time": "2024-06-01T19:56:17.159543",
     "exception": false,
     "start_time": "2024-06-01T19:56:16.708067",
     "status": "completed"
    },
    "tags": []
   },
   "outputs": [
    {
     "data": {
      "image/png": "[encoded data removed]",
      "text/plain": [
       "<Figure size 960x720 with 2 Axes>"
      ]
     },
     "metadata": {},
     "output_type": "display_data"
    }
   ],
   "source": [
    "spearman_corr = Y.corr(method='spearman')\n",
    "_ = sns.heatmap(spearman_corr, annot=True, fmt='.2f')"
   ]
  },
  {
   "cell_type": "markdown",
   "id": "f4a10b8b",
   "metadata": {
    "papermill": {
     "duration": 0.014704,
     "end_time": "2024-06-01T19:56:17.189490",
     "exception": false,
     "start_time": "2024-06-01T19:56:17.174786",
     "status": "completed"
    },
    "tags": []
   },
   "source": [
    "### Correlation analysis - hierarchical clustering\n",
    "\n",
    "We now compute the Spearman rank correlations between pairs of the features, and drop ones which are highly correlated with each other. Since there are many columns, we will perform hierarchical clustering to cluster the features.\n",
    "\n",
    "Hierarchical clustering arranges the data (in our case, features) using a dissimilarity (or distance) matrix. In our case, we compute the dissimilarity between two features $x_i$ and $x_j$  as\n",
    "$$\n",
    "    \\large\n",
    "    d(x_i,x_j) = 1 - |r(x_i, x_j)|,\n",
    "$$\n",
    "where $r(x_i, x_j)$ is the Spearman rank correlation between $x_1$ and $x_2$. The Spearman rank measures the degrees of monotonic dependence between two features. Values closer to +1 or -1 indicate a monotonically increasing or decreasing relationships respectively. So, the dissimilarity between two features will be close to 0 if they are nearly monotonic fuctions of each other. "
   ]
  },
  {
   "cell_type": "code",
   "execution_count": 12,
   "id": "d14d83d1",
   "metadata": {
    "execution": {
     "iopub.execute_input": "2024-06-01T19:56:17.220446Z",
     "iopub.status.busy": "2024-06-01T19:56:17.219892Z",
     "iopub.status.idle": "2024-06-01T19:56:22.912567Z",
     "shell.execute_reply": "2024-06-01T19:56:22.911759Z"
    },
    "papermill": {
     "duration": 5.710836,
     "end_time": "2024-06-01T19:56:22.915151",
     "exception": false,
     "start_time": "2024-06-01T19:56:17.204315",
     "status": "completed"
    },
    "tags": []
   },
   "outputs": [],
   "source": [
    "# construct correlation matrix\n",
    "corr_matrix = tabular.corr(method='spearman')\n",
    "\n",
    "# hierarchical cluster based on the correlations\n",
    "dissimilarity = 1 - abs(corr_matrix.values)"
   ]
  },
  {
   "cell_type": "markdown",
   "id": "e9cf50b9",
   "metadata": {
    "papermill": {
     "duration": 0.015547,
     "end_time": "2024-06-01T19:56:22.947508",
     "exception": false,
     "start_time": "2024-06-01T19:56:22.931961",
     "status": "completed"
    },
    "tags": []
   },
   "source": [
    "After computing the dissimilaity matrix, we then perform hierarchical clustering on the features. We can then visualize the hierarchy of relationships using a dendrogram plot, which displays a tree-like structure, with branches that represent the merging of similar features at different levels of dissimilarity. The leaves of the dendograms are the features."
   ]
  },
  {
   "cell_type": "code",
   "execution_count": 13,
   "id": "40427dec",
   "metadata": {
    "execution": {
     "iopub.execute_input": "2024-06-01T19:56:22.980402Z",
     "iopub.status.busy": "2024-06-01T19:56:22.979792Z",
     "iopub.status.idle": "2024-06-01T19:56:25.378753Z",
     "shell.execute_reply": "2024-06-01T19:56:25.377868Z"
    },
    "papermill": {
     "duration": 2.418418,
     "end_time": "2024-06-01T19:56:25.381211",
     "exception": false,
     "start_time": "2024-06-01T19:56:22.962793",
     "status": "completed"
    },
    "tags": []
   },
   "outputs": [
    {
     "data": {
      "image/png": "[encoded data removed]",
      "text/plain": [
       "<Figure size 1050x750 with 1 Axes>"
      ]
     },
     "metadata": {},
     "output_type": "display_data"
    }
   ],
   "source": [
    "linkage_matrix = hierarchy.linkage(squareform(dissimilarity), method='complete')\n",
    "\n",
    "# plot the dendogram\n",
    "fig,ax = plt.subplots(1,1,figsize=(7,5))\n",
    "dendogram = hierarchy.dendrogram(\n",
    "    linkage_matrix, ax=ax, \n",
    "#     labels=corr_matrix.columns.tolist(),\n",
    ")\n",
    "# _ = ax.set_xticklabels(ax.get_xticklabels(), rotation=90)\n",
    "_ = ax.set_ylabel('Distance')\n",
    "_ = ax.set_title('Hierarchical clustering dendogram (Spearman)')\n",
    "_ = ax.axhline(0.1, 0, 1, linestyle='dotted', color='k')\n",
    "#_ = ax.axhline(0.15, 0, 1, linestyle='dotted', color='k')\n",
    "_ = ax.grid(False, axis='x')\n",
    "fig.tight_layout()"
   ]
  },
  {
   "cell_type": "markdown",
   "id": "9b335ad7",
   "metadata": {
    "papermill": {
     "duration": 0.015781,
     "end_time": "2024-06-01T19:56:25.413114",
     "exception": false,
     "start_time": "2024-06-01T19:56:25.397333",
     "status": "completed"
    },
    "tags": []
   },
   "source": [
    "We will now generate the cluster labels for each feature. The number of clusters will depend on the distance we use as threshold. For smaller distance thresholds, more clusters will be formed. Here, we use a distance threshold of 0.15. "
   ]
  },
  {
   "cell_type": "code",
   "execution_count": 14,
   "id": "0f54f5f9",
   "metadata": {
    "execution": {
     "iopub.execute_input": "2024-06-01T19:56:25.446151Z",
     "iopub.status.busy": "2024-06-01T19:56:25.445444Z",
     "iopub.status.idle": "2024-06-01T19:56:25.451367Z",
     "shell.execute_reply": "2024-06-01T19:56:25.450540Z"
    },
    "papermill": {
     "duration": 0.024699,
     "end_time": "2024-06-01T19:56:25.453477",
     "exception": false,
     "start_time": "2024-06-01T19:56:25.428778",
     "status": "completed"
    },
    "tags": []
   },
   "outputs": [
    {
     "name": "stdout",
     "output_type": "stream",
     "text": [
      "Number of clusters: 42\n",
      "\n"
     ]
    }
   ],
   "source": [
    "# get the cluster labels\n",
    "threshold = 0.15\n",
    "cluster_labels = hierarchy.fcluster(linkage_matrix, threshold, criterion='distance')\n",
    "n_clusters = np.unique(cluster_labels).shape[0]\n",
    "print(f'Number of clusters: {n_clusters}\\n')"
   ]
  },
  {
   "cell_type": "code",
   "execution_count": 15,
   "id": "7449d8f0",
   "metadata": {
    "_kg_hide-output": true,
    "execution": {
     "iopub.execute_input": "2024-06-01T19:56:25.486665Z",
     "iopub.status.busy": "2024-06-01T19:56:25.486139Z",
     "iopub.status.idle": "2024-06-01T19:56:25.492543Z",
     "shell.execute_reply": "2024-06-01T19:56:25.491817Z"
    },
    "papermill": {
     "duration": 0.024864,
     "end_time": "2024-06-01T19:56:25.494287",
     "exception": false,
     "start_time": "2024-06-01T19:56:25.469423",
     "status": "completed"
    },
    "tags": []
   },
   "outputs": [],
   "source": [
    "cluster_features = {}\n",
    "\n",
    "# show features within each cluster\n",
    "for label in range(1, n_clusters + 1):\n",
    "    #print(f'Cluster {label}')\n",
    "    \n",
    "    leaves_in_cluster = cluster_labels == label\n",
    "    cluster_features[label] = corr_matrix.columns[leaves_in_cluster].tolist()\n",
    "    #print(cluster_features[label])\n",
    "    #print()\n",
    "    \n",
    "with open('feature_clusters.json', 'w') as f:\n",
    "    json.dump(cluster_features, f)"
   ]
  },
  {
   "cell_type": "markdown",
   "id": "9a4ba437",
   "metadata": {
    "papermill": {
     "duration": 0.015737,
     "end_time": "2024-06-01T19:56:25.525991",
     "exception": false,
     "start_time": "2024-06-01T19:56:25.510254",
     "status": "completed"
    },
    "tags": []
   },
   "source": [
    "Finally, we will select only one feature from each cluster. "
   ]
  },
  {
   "cell_type": "code",
   "execution_count": 16,
   "id": "e0f0611d",
   "metadata": {
    "execution": {
     "iopub.execute_input": "2024-06-01T19:56:25.596073Z",
     "iopub.status.busy": "2024-06-01T19:56:25.595767Z",
     "iopub.status.idle": "2024-06-01T19:56:25.604204Z",
     "shell.execute_reply": "2024-06-01T19:56:25.603420Z"
    },
    "papermill": {
     "duration": 0.027364,
     "end_time": "2024-06-01T19:56:25.605977",
     "exception": false,
     "start_time": "2024-06-01T19:56:25.578613",
     "status": "completed"
    },
    "tags": []
   },
   "outputs": [],
   "source": [
    "final_features = []\n",
    "for cols_in_cluster in cluster_features.values():\n",
    "    final_features.append(cols_in_cluster[0])\n",
    "    \n",
    "tabular = tabular[final_features]"
   ]
  },
  {
   "cell_type": "markdown",
   "id": "b2c9d996",
   "metadata": {
    "papermill": {
     "duration": 0.015888,
     "end_time": "2024-06-01T19:56:25.637887",
     "exception": false,
     "start_time": "2024-06-01T19:56:25.621999",
     "status": "completed"
    },
    "tags": []
   },
   "source": [
    "## Concatenating image embeddings"
   ]
  },
  {
   "cell_type": "code",
   "execution_count": 17,
   "id": "579e456c",
   "metadata": {
    "execution": {
     "iopub.execute_input": "2024-06-01T19:56:25.671620Z",
     "iopub.status.busy": "2024-06-01T19:56:25.670940Z",
     "iopub.status.idle": "2024-06-01T19:56:26.290951Z",
     "shell.execute_reply": "2024-06-01T19:56:26.289931Z"
    },
    "papermill": {
     "duration": 0.638856,
     "end_time": "2024-06-01T19:56:26.292989",
     "exception": false,
     "start_time": "2024-06-01T19:56:25.654133",
     "status": "completed"
    },
    "tags": []
   },
   "outputs": [
    {
     "name": "stdout",
     "output_type": "stream",
     "text": [
      "Shape of embeddings: (55489, 128)\n"
     ]
    }
   ],
   "source": [
    "emb_path = Path('/kaggle/input/planttraits-efficientvit-embeddings/')\n",
    "train_embds = pd.read_parquet(emb_path / 'train_embeddings.parquet').set_index('id')\n",
    "\n",
    "print(f'Shape of embeddings: {train_embds.shape}')"
   ]
  },
  {
   "cell_type": "code",
   "execution_count": 18,
   "id": "4e54e8c5",
   "metadata": {
    "execution": {
     "iopub.execute_input": "2024-06-01T19:56:26.327557Z",
     "iopub.status.busy": "2024-06-01T19:56:26.327266Z",
     "iopub.status.idle": "2024-06-01T19:56:26.376962Z",
     "shell.execute_reply": "2024-06-01T19:56:26.376015Z"
    },
    "papermill": {
     "duration": 0.06915,
     "end_time": "2024-06-01T19:56:26.378968",
     "exception": false,
     "start_time": "2024-06-01T19:56:26.309818",
     "status": "completed"
    },
    "tags": []
   },
   "outputs": [
    {
     "data": {
      "text/html": [
       "<div>\n",
       "<style scoped>\n",
       "    .dataframe tbody tr th:only-of-type {\n",
       "        vertical-align: middle;\n",
       "    }\n",
       "\n",
       "    .dataframe tbody tr th {\n",
       "        vertical-align: top;\n",
       "    }\n",
       "\n",
       "    .dataframe thead th {\n",
       "        text-align: right;\n",
       "    }\n",
       "</style>\n",
       "<table border=\"1\" class=\"dataframe\">\n",
       "  <thead>\n",
       "    <tr style=\"text-align: right;\">\n",
       "      <th></th>\n",
       "      <th>emb_0</th>\n",
       "      <th>emb_1</th>\n",
       "      <th>emb_2</th>\n",
       "      <th>emb_3</th>\n",
       "      <th>emb_4</th>\n",
       "      <th>emb_5</th>\n",
       "      <th>emb_6</th>\n",
       "      <th>emb_7</th>\n",
       "      <th>emb_8</th>\n",
       "      <th>emb_9</th>\n",
       "      <th>...</th>\n",
       "      <th>SOIL_soc_0.5cm_mean_0.01_deg</th>\n",
       "      <th>SOIL_ocd_0.5cm_mean_0.01_deg</th>\n",
       "      <th>SOIL_bdod_0.5cm_mean_0.01_deg</th>\n",
       "      <th>SOIL_soc_100.200cm_mean_0.01_deg</th>\n",
       "      <th>WORLDCLIM_BIO15_precipitation_seasonality</th>\n",
       "      <th>SOIL_ocd_100.200cm_mean_0.01_deg</th>\n",
       "      <th>SOIL_ocd_30.60cm_mean_0.01_deg</th>\n",
       "      <th>SOIL_cec_15.30cm_mean_0.01_deg</th>\n",
       "      <th>SOIL_cec_100.200cm_mean_0.01_deg</th>\n",
       "      <th>SOIL_cec_0.5cm_mean_0.01_deg</th>\n",
       "    </tr>\n",
       "    <tr>\n",
       "      <th>id</th>\n",
       "      <th></th>\n",
       "      <th></th>\n",
       "      <th></th>\n",
       "      <th></th>\n",
       "      <th></th>\n",
       "      <th></th>\n",
       "      <th></th>\n",
       "      <th></th>\n",
       "      <th></th>\n",
       "      <th></th>\n",
       "      <th></th>\n",
       "      <th></th>\n",
       "      <th></th>\n",
       "      <th></th>\n",
       "      <th></th>\n",
       "      <th></th>\n",
       "      <th></th>\n",
       "      <th></th>\n",
       "      <th></th>\n",
       "      <th></th>\n",
       "      <th></th>\n",
       "    </tr>\n",
       "  </thead>\n",
       "  <tbody>\n",
       "    <tr>\n",
       "      <th>192027691</th>\n",
       "      <td>-0.240760</td>\n",
       "      <td>0.369821</td>\n",
       "      <td>0.356010</td>\n",
       "      <td>1.513708</td>\n",
       "      <td>-0.566686</td>\n",
       "      <td>-0.376986</td>\n",
       "      <td>-0.429451</td>\n",
       "      <td>-1.219931</td>\n",
       "      <td>-0.259638</td>\n",
       "      <td>-0.324570</td>\n",
       "      <td>...</td>\n",
       "      <td>312</td>\n",
       "      <td>268</td>\n",
       "      <td>125</td>\n",
       "      <td>49</td>\n",
       "      <td>72.256844</td>\n",
       "      <td>38</td>\n",
       "      <td>91</td>\n",
       "      <td>221</td>\n",
       "      <td>210</td>\n",
       "      <td>228</td>\n",
       "    </tr>\n",
       "    <tr>\n",
       "      <th>195542235</th>\n",
       "      <td>0.386144</td>\n",
       "      <td>-0.022007</td>\n",
       "      <td>0.032580</td>\n",
       "      <td>-0.949619</td>\n",
       "      <td>0.659542</td>\n",
       "      <td>-0.708716</td>\n",
       "      <td>0.605830</td>\n",
       "      <td>-0.759013</td>\n",
       "      <td>1.756518</td>\n",
       "      <td>-0.470889</td>\n",
       "      <td>...</td>\n",
       "      <td>52</td>\n",
       "      <td>83</td>\n",
       "      <td>124</td>\n",
       "      <td>49</td>\n",
       "      <td>38.220940</td>\n",
       "      <td>108</td>\n",
       "      <td>59</td>\n",
       "      <td>149</td>\n",
       "      <td>139</td>\n",
       "      <td>145</td>\n",
       "    </tr>\n",
       "    <tr>\n",
       "      <th>196639184</th>\n",
       "      <td>0.441033</td>\n",
       "      <td>0.742968</td>\n",
       "      <td>-0.225605</td>\n",
       "      <td>1.801558</td>\n",
       "      <td>-1.797607</td>\n",
       "      <td>-0.734186</td>\n",
       "      <td>-0.957941</td>\n",
       "      <td>-0.446184</td>\n",
       "      <td>-0.223313</td>\n",
       "      <td>0.312134</td>\n",
       "      <td>...</td>\n",
       "      <td>783</td>\n",
       "      <td>577</td>\n",
       "      <td>107</td>\n",
       "      <td>288</td>\n",
       "      <td>17.873655</td>\n",
       "      <td>206</td>\n",
       "      <td>238</td>\n",
       "      <td>252</td>\n",
       "      <td>254</td>\n",
       "      <td>283</td>\n",
       "    </tr>\n",
       "    <tr>\n",
       "      <th>195728812</th>\n",
       "      <td>0.954137</td>\n",
       "      <td>0.526278</td>\n",
       "      <td>1.113327</td>\n",
       "      <td>1.362657</td>\n",
       "      <td>0.909216</td>\n",
       "      <td>-0.618112</td>\n",
       "      <td>-0.154356</td>\n",
       "      <td>0.309024</td>\n",
       "      <td>0.201940</td>\n",
       "      <td>0.064761</td>\n",
       "      <td>...</td>\n",
       "      <td>473</td>\n",
       "      <td>450</td>\n",
       "      <td>120</td>\n",
       "      <td>62</td>\n",
       "      <td>45.009758</td>\n",
       "      <td>68</td>\n",
       "      <td>127</td>\n",
       "      <td>223</td>\n",
       "      <td>220</td>\n",
       "      <td>234</td>\n",
       "    </tr>\n",
       "    <tr>\n",
       "      <th>195251545</th>\n",
       "      <td>0.147984</td>\n",
       "      <td>1.205214</td>\n",
       "      <td>-0.004871</td>\n",
       "      <td>1.414045</td>\n",
       "      <td>-0.294477</td>\n",
       "      <td>-0.915839</td>\n",
       "      <td>0.082562</td>\n",
       "      <td>-2.348808</td>\n",
       "      <td>-0.220496</td>\n",
       "      <td>-0.282386</td>\n",
       "      <td>...</td>\n",
       "      <td>737</td>\n",
       "      <td>577</td>\n",
       "      <td>91</td>\n",
       "      <td>178</td>\n",
       "      <td>38.230709</td>\n",
       "      <td>66</td>\n",
       "      <td>170</td>\n",
       "      <td>352</td>\n",
       "      <td>325</td>\n",
       "      <td>381</td>\n",
       "    </tr>\n",
       "  </tbody>\n",
       "</table>\n",
       "<p>5 rows × 170 columns</p>\n",
       "</div>"
      ],
      "text/plain": [
       "              emb_0     emb_1     emb_2     emb_3     emb_4     emb_5  \\\n",
       "id                                                                      \n",
       "192027691 -0.240760  0.369821  0.356010  1.513708 -0.566686 -0.376986   \n",
       "195542235  0.386144 -0.022007  0.032580 -0.949619  0.659542 -0.708716   \n",
       "196639184  0.441033  0.742968 -0.225605  1.801558 -1.797607 -0.734186   \n",
       "195728812  0.954137  0.526278  1.113327  1.362657  0.909216 -0.618112   \n",
       "195251545  0.147984  1.205214 -0.004871  1.414045 -0.294477 -0.915839   \n",
       "\n",
       "              emb_6     emb_7     emb_8     emb_9  ...  \\\n",
       "id                                                 ...   \n",
       "192027691 -0.429451 -1.219931 -0.259638 -0.324570  ...   \n",
       "195542235  0.605830 -0.759013  1.756518 -0.470889  ...   \n",
       "196639184 -0.957941 -0.446184 -0.223313  0.312134  ...   \n",
       "195728812 -0.154356  0.309024  0.201940  0.064761  ...   \n",
       "195251545  0.082562 -2.348808 -0.220496 -0.282386  ...   \n",
       "\n",
       "           SOIL_soc_0.5cm_mean_0.01_deg  SOIL_ocd_0.5cm_mean_0.01_deg  \\\n",
       "id                                                                      \n",
       "192027691                           312                           268   \n",
       "195542235                            52                            83   \n",
       "196639184                           783                           577   \n",
       "195728812                           473                           450   \n",
       "195251545                           737                           577   \n",
       "\n",
       "           SOIL_bdod_0.5cm_mean_0.01_deg  SOIL_soc_100.200cm_mean_0.01_deg  \\\n",
       "id                                                                           \n",
       "192027691                            125                                49   \n",
       "195542235                            124                                49   \n",
       "196639184                            107                               288   \n",
       "195728812                            120                                62   \n",
       "195251545                             91                               178   \n",
       "\n",
       "           WORLDCLIM_BIO15_precipitation_seasonality  \\\n",
       "id                                                     \n",
       "192027691                                  72.256844   \n",
       "195542235                                  38.220940   \n",
       "196639184                                  17.873655   \n",
       "195728812                                  45.009758   \n",
       "195251545                                  38.230709   \n",
       "\n",
       "           SOIL_ocd_100.200cm_mean_0.01_deg  SOIL_ocd_30.60cm_mean_0.01_deg  \\\n",
       "id                                                                            \n",
       "192027691                                38                              91   \n",
       "195542235                               108                              59   \n",
       "196639184                               206                             238   \n",
       "195728812                                68                             127   \n",
       "195251545                                66                             170   \n",
       "\n",
       "           SOIL_cec_15.30cm_mean_0.01_deg  SOIL_cec_100.200cm_mean_0.01_deg  \\\n",
       "id                                                                            \n",
       "192027691                             221                               210   \n",
       "195542235                             149                               139   \n",
       "196639184                             252                               254   \n",
       "195728812                             223                               220   \n",
       "195251545                             352                               325   \n",
       "\n",
       "           SOIL_cec_0.5cm_mean_0.01_deg  \n",
       "id                                       \n",
       "192027691                           228  \n",
       "195542235                           145  \n",
       "196639184                           283  \n",
       "195728812                           234  \n",
       "195251545                           381  \n",
       "\n",
       "[5 rows x 170 columns]"
      ]
     },
     "execution_count": 18,
     "metadata": {},
     "output_type": "execute_result"
    }
   ],
   "source": [
    "train_embds = train_embds[retained_flag]\n",
    "\n",
    "X = train_embds.join(tabular)\n",
    "X.head()"
   ]
  },
  {
   "cell_type": "markdown",
   "id": "3bfa4111",
   "metadata": {
    "papermill": {
     "duration": 0.016987,
     "end_time": "2024-06-01T19:56:26.412726",
     "exception": false,
     "start_time": "2024-06-01T19:56:26.395739",
     "status": "completed"
    },
    "tags": []
   },
   "source": [
    "## Tuning hyperparameters via Optuna\n",
    "\n",
    "We will tune hyperparameters separately for each output."
   ]
  },
  {
   "cell_type": "code",
   "execution_count": 19,
   "id": "09bd118d",
   "metadata": {
    "_kg_hide-output": true,
    "execution": {
     "iopub.execute_input": "2024-06-01T19:56:26.448112Z",
     "iopub.status.busy": "2024-06-01T19:56:26.447530Z",
     "iopub.status.idle": "2024-06-01T19:56:26.457678Z",
     "shell.execute_reply": "2024-06-01T19:56:26.456772Z"
    },
    "papermill": {
     "duration": 0.03005,
     "end_time": "2024-06-01T19:56:26.459548",
     "exception": false,
     "start_time": "2024-06-01T19:56:26.429498",
     "status": "completed"
    },
    "tags": []
   },
   "outputs": [],
   "source": [
    "def optuna_objective(trial, output_idx):\n",
    "    config = {\n",
    "        'n_estimators': trial.suggest_int('n_estimators', 50, 1000, log=True),\n",
    "        'learning_rate': trial.suggest_float('learning_rate', 5e-3, 0.5,log=True),\n",
    "        'num_leaves': trial.suggest_int('num_leaves', 4, 256, log=True),\n",
    "        'colsample_bytree': trial.suggest_float(\"colsample_bytree\", 0.1, 1),\n",
    "        'colsample_bynode': trial.suggest_float(\"colsample_bynode\", 0.1, 1),\n",
    "        'subsample': trial.suggest_float(\"subsample\", 0.25, 1),\n",
    "        'reg_alpha': trial.suggest_float('reg_alpha', 1e-8, 100,log=True), # l1 regularization\n",
    "        'reg_lambda': trial.suggest_float('reg_lambda',1e-8, 100, log=True), # l2 regularization\n",
    "        'min_split_gain': trial.suggest_float('min_split_gain',1e-8, 100, log=True), # gamma in xgboost,\n",
    "        #'min_child_weight': trial.suggest_float('min_child_weight', 1, 2000, log=True)\n",
    "    }\n",
    "    \n",
    "    cv = KFold(n_splits=5, random_state=1, shuffle=True)\n",
    "    cv_r2 = []\n",
    "    for i, (train_index, test_index) in enumerate(cv.split(tabular, Y)):\n",
    "        model = LGBMRegressor(\n",
    "            max_depth=12, \n",
    "            device=\"gpu\", \n",
    "            verbose=-1,\n",
    "            **config\n",
    "        ).fit(\n",
    "            X.iloc[train_index, :], \n",
    "            Y.iloc[train_index, output_idx].values,\n",
    "        )\n",
    "        \n",
    "        y_test_pred = model.predict(X.iloc[test_index, :])\n",
    "        \n",
    "        cv_r2.append(\n",
    "            r2_score(Y.iloc[test_index, output_idx].values, y_test_pred)\n",
    "        )\n",
    "        \n",
    "    return np.mean(cv_r2, axis=0)\n",
    "\n"
   ]
  },
  {
   "cell_type": "code",
   "execution_count": 20,
   "id": "009c1c27",
   "metadata": {
    "_kg_hide-output": true,
    "execution": {
     "iopub.execute_input": "2024-06-01T19:56:26.493517Z",
     "iopub.status.busy": "2024-06-01T19:56:26.493251Z",
     "iopub.status.idle": "2024-06-01T23:06:39.917867Z",
     "shell.execute_reply": "2024-06-01T23:06:39.916928Z"
    },
    "papermill": {
     "duration": 11413.45076,
     "end_time": "2024-06-01T23:06:39.926692",
     "exception": false,
     "start_time": "2024-06-01T19:56:26.475932",
     "status": "completed"
    },
    "tags": []
   },
   "outputs": [
    {
     "name": "stderr",
     "output_type": "stream",
     "text": [
      "[I 2024-06-01 19:56:26,500] A new study created in memory with name: lightgbm_X4\n"
     ]
    },
    {
     "name": "stdout",
     "output_type": "stream",
     "text": [
      "*********** Optimizing CV R^2 for X4 ***********\n"
     ]
    },
    {
     "name": "stderr",
     "output_type": "stream",
     "text": [
      "1 warning generated.\n",
      "1 warning generated.\n",
      "1 warning generated.\n",
      "1 warning generated.\n",
      "1 warning generated.\n",
      "1 warning generated.\n",
      "1 warning generated.\n",
      "1 warning generated.\n",
      "1 warning generated.\n",
      "1 warning generated.\n",
      "1 warning generated.\n",
      "1 warning generated.\n",
      "1 warning generated.\n",
      "1 warning generated.\n",
      "1 warning generated.\n",
      "1 warning generated.\n",
      "1 warning generated.\n",
      "1 warning generated.\n",
      "1 warning generated.\n",
      "1 warning generated.\n",
      "1 warning generated.\n",
      "1 warning generated.\n",
      "1 warning generated.\n",
      "1 warning generated.\n",
      "1 warning generated.\n",
      "1 warning generated.\n",
      "1 warning generated.\n",
      "1 warning generated.\n",
      "1 warning generated.\n",
      "1 warning generated.\n",
      "1 warning generated.\n",
      "1 warning generated.\n",
      "1 warning generated.\n",
      "[I 2024-06-01 19:56:37,656] Trial 0 finished with value: 0.04703802531190693 and parameters: {'n_estimators': 258, 'learning_rate': 0.1346941509642705, 'num_leaves': 47, 'colsample_bytree': 0.5903948646972071, 'colsample_bynode': 0.4812893194050143, 'subsample': 0.7344205847999921, 'reg_alpha': 0.00023761404778025518, 'reg_lambda': 8.274276086161453, 'min_split_gain': 43.31393146405955}. Best is trial 0 with value: 0.04703802531190693.\n",
      "[I 2024-06-01 19:56:43,855] Trial 1 finished with value: 0.16901724742950885 and parameters: {'n_estimators': 157, 'learning_rate': 0.1916108425246393, 'num_leaves': 34, 'colsample_bytree': 0.6112401049845391, 'colsample_bynode': 0.933036974463395, 'subsample': 0.30327704364841523, 'reg_alpha': 7.435205853060173e-08, 'reg_lambda': 1.5928833561691773e-08, 'min_split_gain': 2.1193293640885202}. Best is trial 1 with value: 0.16901724742950885.\n",
      "[I 2024-06-01 19:59:47,454] Trial 2 finished with value: 0.19124418800585402 and parameters: {'n_estimators': 514, 'learning_rate': 0.2747858093205808, 'num_leaves': 234, 'colsample_bytree': 0.8192427077950513, 'colsample_bynode': 0.5153314260276387, 'subsample': 0.8353968822148417, 'reg_alpha': 1.5231555549417795e-07, 'reg_lambda': 0.02507322588626923, 'min_split_gain': 2.7135190452611025e-07}. Best is trial 2 with value: 0.19124418800585402.\n",
      "[I 2024-06-01 20:00:18,467] Trial 3 finished with value: 0.2728639006021144 and parameters: {'n_estimators': 847, 'learning_rate': 0.05529255362848229, 'num_leaves': 21, 'colsample_bytree': 0.3381000508941643, 'colsample_bynode': 0.796810320490795, 'subsample': 0.5921127491624114, 'reg_alpha': 0.0048343655749956815, 'reg_lambda': 1.541338421512532e-08, 'min_split_gain': 0.0150091110454641}. Best is trial 3 with value: 0.2728639006021144.\n",
      "[I 2024-06-01 20:00:36,253] Trial 4 finished with value: 0.2690100327205438 and parameters: {'n_estimators': 312, 'learning_rate': 0.08567182098559827, 'num_leaves': 201, 'colsample_bytree': 0.7136382691931351, 'colsample_bynode': 0.42355711051640743, 'subsample': 0.5777739653495061, 'reg_alpha': 0.09469170997780146, 'reg_lambda': 4.001793885336983e-08, 'min_split_gain': 0.04652294026285371}. Best is trial 3 with value: 0.2728639006021144.\n",
      "[I 2024-06-01 20:00:46,779] Trial 5 finished with value: 0.1966198677649189 and parameters: {'n_estimators': 372, 'learning_rate': 0.013174529870578064, 'num_leaves': 6, 'colsample_bytree': 0.38388551583176544, 'colsample_bynode': 0.42733969384836035, 'subsample': 0.6776475778134097, 'reg_alpha': 0.00024322887698390846, 'reg_lambda': 76.51355496738442, 'min_split_gain': 1.0482095387452709e-07}. Best is trial 3 with value: 0.2728639006021144.\n",
      "[I 2024-06-01 20:01:01,184] Trial 6 finished with value: 0.16297032620791033 and parameters: {'n_estimators': 93, 'learning_rate': 0.010509669045577208, 'num_leaves': 58, 'colsample_bytree': 0.3279624422858039, 'colsample_bynode': 0.5196796955706757, 'subsample': 0.43331919400120206, 'reg_alpha': 3.8877276777818895e-07, 'reg_lambda': 1.2698470419737896e-07, 'min_split_gain': 0.03658439644870376}. Best is trial 3 with value: 0.2728639006021144.\n",
      "[I 2024-06-01 20:01:10,890] Trial 7 finished with value: 0.13559411796514387 and parameters: {'n_estimators': 75, 'learning_rate': 0.012363309109888218, 'num_leaves': 17, 'colsample_bytree': 0.8388939068631416, 'colsample_bynode': 0.18739114821375513, 'subsample': 0.8784586806241029, 'reg_alpha': 9.140797310621138e-08, 'reg_lambda': 58.156016371283684, 'min_split_gain': 0.00048586097401978113}. Best is trial 3 with value: 0.2728639006021144.\n",
      "[I 2024-06-01 20:02:20,825] Trial 8 finished with value: 0.2714600571398549 and parameters: {'n_estimators': 933, 'learning_rate': 0.08103283696018587, 'num_leaves': 84, 'colsample_bytree': 0.1352690130288886, 'colsample_bynode': 0.3545262663187686, 'subsample': 0.3401474209098767, 'reg_alpha': 9.149597200543702e-06, 'reg_lambda': 1.5391366847232682e-07, 'min_split_gain': 1.512975146404062e-05}. Best is trial 3 with value: 0.2728639006021144.\n",
      "[I 2024-06-01 20:02:27,110] Trial 9 finished with value: 0.0709996552132484 and parameters: {'n_estimators': 172, 'learning_rate': 0.006718386692055369, 'num_leaves': 68, 'colsample_bytree': 0.6099413087859177, 'colsample_bynode': 0.3388505418455009, 'subsample': 0.6424360401000248, 'reg_alpha': 8.697713691175405e-08, 'reg_lambda': 0.005747314402845941, 'min_split_gain': 19.631883842304806}. Best is trial 3 with value: 0.2728639006021144.\n",
      "[I 2024-06-01 20:02:49,099] Trial 10 finished with value: 0.2565990394220609 and parameters: {'n_estimators': 905, 'learning_rate': 0.02640056168005468, 'num_leaves': 13, 'colsample_bytree': 0.11804125885700018, 'colsample_bynode': 0.8113933295591295, 'subsample': 0.9817515271293407, 'reg_alpha': 3.4110495181349845, 'reg_lambda': 7.4144813810428455e-06, 'min_split_gain': 0.00015230498731390684}. Best is trial 3 with value: 0.2728639006021144.\n",
      "[I 2024-06-01 20:04:33,967] Trial 11 finished with value: 0.2851503997249737 and parameters: {'n_estimators': 982, 'learning_rate': 0.048420826611421115, 'num_leaves': 120, 'colsample_bytree': 0.16087951336819906, 'colsample_bynode': 0.6987263978834852, 'subsample': 0.4692870751531378, 'reg_alpha': 0.01057487600710706, 'reg_lambda': 1.262549048790577e-05, 'min_split_gain': 4.949165294219171e-06}. Best is trial 11 with value: 0.2851503997249737.\n",
      "[I 2024-06-01 20:04:52,911] Trial 12 finished with value: 0.25785700014334323 and parameters: {'n_estimators': 539, 'learning_rate': 0.036334384957499515, 'num_leaves': 14, 'colsample_bytree': 0.3297131745148111, 'colsample_bynode': 0.7346240874283828, 'subsample': 0.46296101540123985, 'reg_alpha': 0.027559344155721713, 'reg_lambda': 4.2586039720016815e-05, 'min_split_gain': 3.1562580709141335e-06}. Best is trial 11 with value: 0.2851503997249737.\n",
      "[I 2024-06-01 20:05:17,059] Trial 13 finished with value: 0.27340321263373185 and parameters: {'n_estimators': 682, 'learning_rate': 0.053693773009704605, 'num_leaves': 115, 'colsample_bytree': 0.23295085338881405, 'colsample_bynode': 0.7041405069819193, 'subsample': 0.5170174040659151, 'reg_alpha': 0.023138145725365343, 'reg_lambda': 9.477985201917473e-06, 'min_split_gain': 0.031117031908067676}. Best is trial 11 with value: 0.2851503997249737.\n",
      "[I 2024-06-01 20:05:24,924] Trial 14 finished with value: 0.21358472361803438 and parameters: {'n_estimators': 577, 'learning_rate': 0.4734812971365314, 'num_leaves': 95, 'colsample_bytree': 0.1989182435934457, 'colsample_bynode': 0.7053860754600633, 'subsample': 0.4822564545789098, 'reg_alpha': 35.10712866223053, 'reg_lambda': 4.0492457946859874e-05, 'min_split_gain': 1.1720033872993537e-08}. Best is trial 11 with value: 0.2851503997249737.\n",
      "[I 2024-06-01 20:07:46,287] Trial 15 finished with value: 0.2928880554898778 and parameters: {'n_estimators': 704, 'learning_rate': 0.02350081205780736, 'num_leaves': 138, 'colsample_bytree': 0.4437849185449298, 'colsample_bynode': 0.6643460180828493, 'subsample': 0.3916761961348123, 'reg_alpha': 0.723735264854168, 'reg_lambda': 4.8602232691329605e-06, 'min_split_gain': 0.0028725699479570485}. Best is trial 15 with value: 0.2928880554898778.\n",
      "[I 2024-06-01 20:09:39,695] Trial 16 finished with value: 0.28484412508373663 and parameters: {'n_estimators': 436, 'learning_rate': 0.019778883193268672, 'num_leaves': 155, 'colsample_bytree': 0.45144225417349637, 'colsample_bynode': 0.617834509269559, 'subsample': 0.3830996716112673, 'reg_alpha': 0.4065500169648924, 'reg_lambda': 0.001206932995098562, 'min_split_gain': 1.4002139272415726e-05}. Best is trial 15 with value: 0.2928880554898778.\n",
      "[I 2024-06-01 20:09:54,772] Trial 17 finished with value: 0.19897103798676669 and parameters: {'n_estimators': 680, 'learning_rate': 0.025115415580825116, 'num_leaves': 150, 'colsample_bytree': 0.46996769769053864, 'colsample_bynode': 0.9874013503994072, 'subsample': 0.2515939456000291, 'reg_alpha': 82.59110675830574, 'reg_lambda': 1.1381773891529225e-06, 'min_split_gain': 0.0006852194840052221}. Best is trial 15 with value: 0.2928880554898778.\n",
      "[I 2024-06-01 20:10:02,205] Trial 18 finished with value: 0.10742221288614433 and parameters: {'n_estimators': 200, 'learning_rate': 0.005648951986171734, 'num_leaves': 4, 'colsample_bytree': 0.24468716403396862, 'colsample_bynode': 0.6086778190979348, 'subsample': 0.39062306689399096, 'reg_alpha': 0.6275361538548715, 'reg_lambda': 0.15898687296648173, 'min_split_gain': 0.7989102997162015}. Best is trial 15 with value: 0.2928880554898778.\n",
      "[I 2024-06-01 20:10:42,403] Trial 19 finished with value: 0.2707699063903911 and parameters: {'n_estimators': 365, 'learning_rate': 0.040312825641484855, 'num_leaves': 42, 'colsample_bytree': 0.9370492747003469, 'colsample_bynode': 0.8637671066227054, 'subsample': 0.5425709994385742, 'reg_alpha': 5.807790023732087, 'reg_lambda': 0.00016747390867001885, 'min_split_gain': 0.004419177220506867}. Best is trial 15 with value: 0.2928880554898778.\n",
      "[I 2024-06-01 20:11:01,520] Trial 20 finished with value: 0.2602682376146902 and parameters: {'n_estimators': 57, 'learning_rate': 0.08189883700365608, 'num_leaves': 132, 'colsample_bytree': 0.4909755742882561, 'colsample_bynode': 0.6173180992033425, 'subsample': 0.2515932482494896, 'reg_alpha': 0.0008458863647136674, 'reg_lambda': 1.5108949785287692e-06, 'min_split_gain': 8.535408924501106e-05}. Best is trial 15 with value: 0.2928880554898778.\n",
      "[I 2024-06-01 20:13:37,196] Trial 21 finished with value: 0.2901524573204809 and parameters: {'n_estimators': 440, 'learning_rate': 0.020071161854525493, 'num_leaves': 255, 'colsample_bytree': 0.44771093998121203, 'colsample_bynode': 0.6224342788270197, 'subsample': 0.38787528951258976, 'reg_alpha': 0.3400631037559819, 'reg_lambda': 0.0006894583639972635, 'min_split_gain': 2.0649559308332794e-06}. Best is trial 15 with value: 0.2928880554898778.\n",
      "[I 2024-06-01 20:17:52,454] Trial 22 finished with value: 0.29725154016886457 and parameters: {'n_estimators': 732, 'learning_rate': 0.018946528247534143, 'num_leaves': 239, 'colsample_bytree': 0.5240978724074181, 'colsample_bynode': 0.6667554136169002, 'subsample': 0.4169827770737486, 'reg_alpha': 0.5624412233164827, 'reg_lambda': 0.0003610137807743432, 'min_split_gain': 1.057198393806282e-06}. Best is trial 22 with value: 0.29725154016886457.\n",
      "[I 2024-06-01 20:21:13,796] Trial 23 finished with value: 0.28762210270042365 and parameters: {'n_estimators': 685, 'learning_rate': 0.017425289600195543, 'num_leaves': 252, 'colsample_bytree': 0.5333620422546734, 'colsample_bynode': 0.5950468135831987, 'subsample': 0.35399614711805905, 'reg_alpha': 3.3686458264002574, 'reg_lambda': 0.0005220465684253051, 'min_split_gain': 5.991346287865642e-07}. Best is trial 22 with value: 0.29725154016886457.\n",
      "[I 2024-06-01 20:24:08,706] Trial 24 finished with value: 0.2737562102828714 and parameters: {'n_estimators': 444, 'learning_rate': 0.009530988346990217, 'num_leaves': 180, 'colsample_bytree': 0.6815217830362205, 'colsample_bynode': 0.7908716850645396, 'subsample': 0.4317370356648621, 'reg_alpha': 0.29074016080957715, 'reg_lambda': 0.2692018555943892, 'min_split_gain': 3.161632904655894e-08}. Best is trial 22 with value: 0.29725154016886457.\n",
      "[I 2024-06-01 20:24:37,630] Trial 25 finished with value: 0.2453865001807908 and parameters: {'n_estimators': 259, 'learning_rate': 0.02749305198194413, 'num_leaves': 251, 'colsample_bytree': 0.5153689708098571, 'colsample_bynode': 0.6639829168211177, 'subsample': 0.3143307978353586, 'reg_alpha': 16.07858203328571, 'reg_lambda': 0.003280453367771792, 'min_split_gain': 9.022753408183402e-07}. Best is trial 22 with value: 0.29725154016886457.\n",
      "[I 2024-06-01 20:26:21,318] Trial 26 finished with value: 0.28460577973588 and parameters: {'n_estimators': 707, 'learning_rate': 0.017403660121015102, 'num_leaves': 85, 'colsample_bytree': 0.41719759830906367, 'colsample_bynode': 0.8815831088422164, 'subsample': 0.41544699887941244, 'reg_alpha': 1.128848400340406, 'reg_lambda': 0.00020484867356016087, 'min_split_gain': 6.384677131688493e-05}. Best is trial 22 with value: 0.29725154016886457.\n",
      "[I 2024-06-01 20:29:28,546] Trial 27 finished with value: 0.26717250806498705 and parameters: {'n_estimators': 469, 'learning_rate': 0.00793092621064454, 'num_leaves': 186, 'colsample_bytree': 0.6500451346490833, 'colsample_bynode': 0.2299803574673145, 'subsample': 0.5106286976428542, 'reg_alpha': 0.07508610122020111, 'reg_lambda': 0.01417003084526767, 'min_split_gain': 0.002908677556250338}. Best is trial 22 with value: 0.29725154016886457.\n",
      "[I 2024-06-01 20:29:28,584] A new study created in memory with name: lightgbm_X11\n"
     ]
    },
    {
     "name": "stdout",
     "output_type": "stream",
     "text": [
      "\n",
      "*********** Optimizing CV R^2 for X11 ***********\n"
     ]
    },
    {
     "name": "stderr",
     "output_type": "stream",
     "text": [
      "[I 2024-06-01 20:29:50,723] Trial 0 finished with value: 0.27447113510627885 and parameters: {'n_estimators': 258, 'learning_rate': 0.1346941509642705, 'num_leaves': 47, 'colsample_bytree': 0.5903948646972071, 'colsample_bynode': 0.4812893194050143, 'subsample': 0.7344205847999921, 'reg_alpha': 0.00023761404778025518, 'reg_lambda': 8.274276086161453, 'min_split_gain': 43.31393146405955}. Best is trial 0 with value: 0.27447113510627885.\n",
      "[I 2024-06-01 20:30:07,215] Trial 1 finished with value: 0.25906009887335923 and parameters: {'n_estimators': 157, 'learning_rate': 0.1916108425246393, 'num_leaves': 34, 'colsample_bytree': 0.6112401049845391, 'colsample_bynode': 0.933036974463395, 'subsample': 0.30327704364841523, 'reg_alpha': 7.435205853060173e-08, 'reg_lambda': 1.5928833561691773e-08, 'min_split_gain': 2.1193293640885202}. Best is trial 0 with value: 0.27447113510627885.\n",
      "[I 2024-06-01 20:33:43,812] Trial 2 finished with value: 0.1992768379510706 and parameters: {'n_estimators': 514, 'learning_rate': 0.2747858093205808, 'num_leaves': 234, 'colsample_bytree': 0.8192427077950513, 'colsample_bynode': 0.5153314260276387, 'subsample': 0.8353968822148417, 'reg_alpha': 1.5231555549417795e-07, 'reg_lambda': 0.02507322588626923, 'min_split_gain': 2.7135190452611025e-07}. Best is trial 0 with value: 0.27447113510627885.\n",
      "[I 2024-06-01 20:34:15,954] Trial 3 finished with value: 0.2816522209993514 and parameters: {'n_estimators': 847, 'learning_rate': 0.05529255362848229, 'num_leaves': 21, 'colsample_bytree': 0.3381000508941643, 'colsample_bynode': 0.796810320490795, 'subsample': 0.5921127491624114, 'reg_alpha': 0.0048343655749956815, 'reg_lambda': 1.541338421512532e-08, 'min_split_gain': 0.0150091110454641}. Best is trial 3 with value: 0.2816522209993514.\n",
      "[I 2024-06-01 20:36:10,663] Trial 4 finished with value: 0.2831606322971044 and parameters: {'n_estimators': 312, 'learning_rate': 0.08567182098559827, 'num_leaves': 201, 'colsample_bytree': 0.7136382691931351, 'colsample_bynode': 0.42355711051640743, 'subsample': 0.5777739653495061, 'reg_alpha': 0.09469170997780146, 'reg_lambda': 4.001793885336983e-08, 'min_split_gain': 0.04652294026285371}. Best is trial 4 with value: 0.2831606322971044.\n",
      "[I 2024-06-01 20:36:21,419] Trial 5 finished with value: 0.2048069338741338 and parameters: {'n_estimators': 372, 'learning_rate': 0.013174529870578064, 'num_leaves': 6, 'colsample_bytree': 0.38388551583176544, 'colsample_bynode': 0.42733969384836035, 'subsample': 0.6776475778134097, 'reg_alpha': 0.00024322887698390846, 'reg_lambda': 76.51355496738442, 'min_split_gain': 1.0482095387452709e-07}. Best is trial 4 with value: 0.2831606322971044.\n",
      "[I 2024-06-01 20:36:36,099] Trial 6 finished with value: 0.16982643490955665 and parameters: {'n_estimators': 93, 'learning_rate': 0.010509669045577208, 'num_leaves': 58, 'colsample_bytree': 0.3279624422858039, 'colsample_bynode': 0.5196796955706757, 'subsample': 0.43331919400120206, 'reg_alpha': 3.8877276777818895e-07, 'reg_lambda': 1.2698470419737896e-07, 'min_split_gain': 0.03658439644870376}. Best is trial 4 with value: 0.2831606322971044.\n",
      "[I 2024-06-01 20:36:45,797] Trial 7 finished with value: 0.13935001669348812 and parameters: {'n_estimators': 75, 'learning_rate': 0.012363309109888218, 'num_leaves': 17, 'colsample_bytree': 0.8388939068631416, 'colsample_bynode': 0.18739114821375513, 'subsample': 0.8784586806241029, 'reg_alpha': 9.140797310621138e-08, 'reg_lambda': 58.156016371283684, 'min_split_gain': 0.00048586097401978113}. Best is trial 4 with value: 0.2831606322971044.\n",
      "[I 2024-06-01 20:37:55,401] Trial 8 finished with value: 0.27897722217474635 and parameters: {'n_estimators': 933, 'learning_rate': 0.08103283696018587, 'num_leaves': 84, 'colsample_bytree': 0.1352690130288886, 'colsample_bynode': 0.3545262663187686, 'subsample': 0.3401474209098767, 'reg_alpha': 9.149597200543702e-06, 'reg_lambda': 1.5391366847232682e-07, 'min_split_gain': 1.512975146404062e-05}. Best is trial 4 with value: 0.2831606322971044.\n",
      "[I 2024-06-01 20:38:30,032] Trial 9 finished with value: 0.19183752408482838 and parameters: {'n_estimators': 172, 'learning_rate': 0.006718386692055369, 'num_leaves': 68, 'colsample_bytree': 0.6099413087859177, 'colsample_bynode': 0.3388505418455009, 'subsample': 0.6424360401000248, 'reg_alpha': 8.697713691175405e-08, 'reg_lambda': 0.005747314402845941, 'min_split_gain': 19.631883842304806}. Best is trial 4 with value: 0.2831606322971044.\n",
      "[I 2024-06-01 20:39:05,983] Trial 10 finished with value: 0.242847895398687 and parameters: {'n_estimators': 53, 'learning_rate': 0.03127042800314243, 'num_leaves': 209, 'colsample_bytree': 0.9366763195250474, 'colsample_bynode': 0.7122486818501687, 'subsample': 0.5050396333279145, 'reg_alpha': 3.4110495181349845, 'reg_lambda': 6.487765286461964e-06, 'min_split_gain': 0.16343992843498692}. Best is trial 4 with value: 0.2831606322971044.\n",
      "[I 2024-06-01 20:39:34,326] Trial 11 finished with value: 0.27630006486562236 and parameters: {'n_estimators': 982, 'learning_rate': 0.0422857324523695, 'num_leaves': 13, 'colsample_bytree': 0.4007231528247682, 'colsample_bynode': 0.8023147283565235, 'subsample': 0.5335032587219884, 'reg_alpha': 0.13301029752911975, 'reg_lambda': 2.3806115934369014e-05, 'min_split_gain': 0.0029115870577805466}. Best is trial 4 with value: 0.2831606322971044.\n",
      "[I 2024-06-01 20:39:49,791] Trial 12 finished with value: 0.2725858760210991 and parameters: {'n_estimators': 556, 'learning_rate': 0.09831966306778, 'num_leaves': 14, 'colsample_bytree': 0.1888852501748666, 'colsample_bynode': 0.6797911105445957, 'subsample': 0.5507490360319272, 'reg_alpha': 0.03835750616530666, 'reg_lambda': 3.3354691469835016e-06, 'min_split_gain': 0.0005108173997088049}. Best is trial 4 with value: 0.2831606322971044.\n",
      "[I 2024-06-01 20:42:10,858] Trial 13 finished with value: 0.29627273308956886 and parameters: {'n_estimators': 575, 'learning_rate': 0.02826625969291468, 'num_leaves': 114, 'colsample_bytree': 0.7354000894826939, 'colsample_bynode': 0.986059228301836, 'subsample': 0.9829738929728645, 'reg_alpha': 54.65124914888526, 'reg_lambda': 0.00020708451740732742, 'min_split_gain': 0.22542067410676705}. Best is trial 13 with value: 0.29627273308956886.\n",
      "[I 2024-06-01 20:42:55,470] Trial 14 finished with value: 0.14120132730883056 and parameters: {'n_estimators': 312, 'learning_rate': 0.4734812971365314, 'num_leaves': 103, 'colsample_bytree': 0.7450941613658535, 'colsample_bynode': 0.9982378387431934, 'subsample': 0.764164120380329, 'reg_alpha': 55.04416554325157, 'reg_lambda': 0.0001505939801873882, 'min_split_gain': 0.49233272747775275}. Best is trial 13 with value: 0.29627273308956886.\n",
      "[I 2024-06-01 20:45:55,742] Trial 15 finished with value: 0.2944939672763816 and parameters: {'n_estimators': 489, 'learning_rate': 0.02350081205780736, 'num_leaves': 153, 'colsample_bytree': 0.9908665646249791, 'colsample_bynode': 0.2170358767494423, 'subsample': 0.9273379523406291, 'reg_alpha': 75.142257405491, 'reg_lambda': 0.5496326122869524, 'min_split_gain': 2.6567467246153276e-05}. Best is trial 13 with value: 0.29627273308956886.\n",
      "[I 2024-06-01 20:48:42,151] Trial 16 finished with value: 0.2924714062954198 and parameters: {'n_estimators': 549, 'learning_rate': 0.024565210839089923, 'num_leaves': 119, 'colsample_bytree': 0.9239109382127297, 'colsample_bynode': 0.11729101445455636, 'subsample': 0.9873565576299508, 'reg_alpha': 77.94983134525664, 'reg_lambda': 0.3163484539210448, 'min_split_gain': 1.1712922984071275e-05}. Best is trial 13 with value: 0.29627273308956886.\n",
      "[I 2024-06-01 20:51:36,383] Trial 17 finished with value: 0.2950298135421439 and parameters: {'n_estimators': 439, 'learning_rate': 0.025309754348438053, 'num_leaves': 150, 'colsample_bytree': 0.983833389892964, 'colsample_bynode': 0.295860010166328, 'subsample': 0.9752406337838443, 'reg_alpha': 1.683859441050134, 'reg_lambda': 0.4262872922265597, 'min_split_gain': 5.399168177238926e-06}. Best is trial 13 with value: 0.29627273308956886.\n",
      "[I 2024-06-01 20:51:50,803] Trial 18 finished with value: 0.22665312541932697 and parameters: {'n_estimators': 698, 'learning_rate': 0.018424902439728257, 'num_leaves': 4, 'colsample_bytree': 0.805454926823113, 'colsample_bynode': 0.6282582328037736, 'subsample': 0.8127321680079549, 'reg_alpha': 5.196467483631562, 'reg_lambda': 0.0010026226589009092, 'min_split_gain': 1.3299279360799932e-06}. Best is trial 13 with value: 0.29627273308956886.\n",
      "[I 2024-06-01 20:52:20,583] Trial 19 finished with value: 0.18949685579573977 and parameters: {'n_estimators': 203, 'learning_rate': 0.006300132867560664, 'num_leaves': 42, 'colsample_bytree': 0.6930142641835351, 'colsample_bynode': 0.2650527976389547, 'subsample': 0.9366365774019674, 'reg_alpha': 0.7040137414766195, 'reg_lambda': 0.06557962397991074, 'min_split_gain': 1.9126448964116587e-08}. Best is trial 13 with value: 0.29627273308956886.\n",
      "[I 2024-06-01 20:53:52,180] Trial 20 finished with value: 0.2920015460033625 and parameters: {'n_estimators': 409, 'learning_rate': 0.04776428648429829, 'num_leaves': 136, 'colsample_bytree': 0.4909755742882561, 'colsample_bynode': 0.8879676234756547, 'subsample': 0.984724781975493, 'reg_alpha': 4.526589592537454, 'reg_lambda': 0.0011255101699107276, 'min_split_gain': 0.00020252001106508708}. Best is trial 13 with value: 0.29627273308956886.\n",
      "[I 2024-06-01 20:57:39,914] Trial 21 finished with value: 0.29648734093277646 and parameters: {'n_estimators': 677, 'learning_rate': 0.022602015263856606, 'num_leaves': 141, 'colsample_bytree': 0.9911897559546625, 'colsample_bynode': 0.23157719568795526, 'subsample': 0.9049267300088708, 'reg_alpha': 99.93392585903727, 'reg_lambda': 0.8083980487639165, 'min_split_gain': 2.7308736431101315e-05}. Best is trial 21 with value: 0.29648734093277646.\n",
      "[I 2024-06-01 21:00:19,522] Trial 22 finished with value: 0.29350463738510413 and parameters: {'n_estimators': 708, 'learning_rate': 0.0347347398401379, 'num_leaves': 84, 'colsample_bytree': 0.8923092401842818, 'colsample_bynode': 0.10848274081051387, 'subsample': 0.8948115501184573, 'reg_alpha': 9.523044995011642, 'reg_lambda': 1.4569758802654709, 'min_split_gain': 2.511822862796385e-06}. Best is trial 21 with value: 0.29648734093277646.\n",
      "[I 2024-06-01 21:00:19,556] A new study created in memory with name: lightgbm_X18\n"
     ]
    },
    {
     "name": "stdout",
     "output_type": "stream",
     "text": [
      "\n",
      "*********** Optimizing CV R^2 for X18 ***********\n"
     ]
    },
    {
     "name": "stderr",
     "output_type": "stream",
     "text": [
      "[I 2024-06-01 21:00:31,303] Trial 0 finished with value: 0.41724098266757387 and parameters: {'n_estimators': 258, 'learning_rate': 0.1346941509642705, 'num_leaves': 47, 'colsample_bytree': 0.5903948646972071, 'colsample_bynode': 0.4812893194050143, 'subsample': 0.7344205847999921, 'reg_alpha': 0.00023761404778025518, 'reg_lambda': 8.274276086161453, 'min_split_gain': 43.31393146405955}. Best is trial 0 with value: 0.41724098266757387.\n",
      "[I 2024-06-01 21:00:46,884] Trial 1 finished with value: 0.4089392693204149 and parameters: {'n_estimators': 157, 'learning_rate': 0.1916108425246393, 'num_leaves': 34, 'colsample_bytree': 0.6112401049845391, 'colsample_bynode': 0.933036974463395, 'subsample': 0.30327704364841523, 'reg_alpha': 7.435205853060173e-08, 'reg_lambda': 1.5928833561691773e-08, 'min_split_gain': 2.1193293640885202}. Best is trial 0 with value: 0.41724098266757387.\n",
      "[I 2024-06-01 21:04:28,206] Trial 2 finished with value: 0.3681850212555646 and parameters: {'n_estimators': 514, 'learning_rate': 0.2747858093205808, 'num_leaves': 234, 'colsample_bytree': 0.8192427077950513, 'colsample_bynode': 0.5153314260276387, 'subsample': 0.8353968822148417, 'reg_alpha': 1.5231555549417795e-07, 'reg_lambda': 0.02507322588626923, 'min_split_gain': 2.7135190452611025e-07}. Best is trial 0 with value: 0.41724098266757387.\n",
      "[I 2024-06-01 21:04:59,170] Trial 3 finished with value: 0.437643479898764 and parameters: {'n_estimators': 847, 'learning_rate': 0.05529255362848229, 'num_leaves': 21, 'colsample_bytree': 0.3381000508941643, 'colsample_bynode': 0.796810320490795, 'subsample': 0.5921127491624114, 'reg_alpha': 0.0048343655749956815, 'reg_lambda': 1.541338421512532e-08, 'min_split_gain': 0.0150091110454641}. Best is trial 3 with value: 0.437643479898764.\n",
      "[I 2024-06-01 21:06:52,466] Trial 4 finished with value: 0.43954262509940695 and parameters: {'n_estimators': 312, 'learning_rate': 0.08567182098559827, 'num_leaves': 201, 'colsample_bytree': 0.7136382691931351, 'colsample_bynode': 0.42355711051640743, 'subsample': 0.5777739653495061, 'reg_alpha': 0.09469170997780146, 'reg_lambda': 4.001793885336983e-08, 'min_split_gain': 0.04652294026285371}. Best is trial 4 with value: 0.43954262509940695.\n",
      "[I 2024-06-01 21:07:03,061] Trial 5 finished with value: 0.3363303130784188 and parameters: {'n_estimators': 372, 'learning_rate': 0.013174529870578064, 'num_leaves': 6, 'colsample_bytree': 0.38388551583176544, 'colsample_bynode': 0.42733969384836035, 'subsample': 0.6776475778134097, 'reg_alpha': 0.00024322887698390846, 'reg_lambda': 76.51355496738442, 'min_split_gain': 1.0482095387452709e-07}. Best is trial 4 with value: 0.43954262509940695.\n",
      "[I 2024-06-01 21:07:16,995] Trial 6 finished with value: 0.26795891271028893 and parameters: {'n_estimators': 93, 'learning_rate': 0.010509669045577208, 'num_leaves': 58, 'colsample_bytree': 0.3279624422858039, 'colsample_bynode': 0.5196796955706757, 'subsample': 0.43331919400120206, 'reg_alpha': 3.8877276777818895e-07, 'reg_lambda': 1.2698470419737896e-07, 'min_split_gain': 0.03658439644870376}. Best is trial 4 with value: 0.43954262509940695.\n",
      "[I 2024-06-01 21:07:26,926] Trial 7 finished with value: 0.2231106678647669 and parameters: {'n_estimators': 75, 'learning_rate': 0.012363309109888218, 'num_leaves': 17, 'colsample_bytree': 0.8388939068631416, 'colsample_bynode': 0.18739114821375513, 'subsample': 0.8784586806241029, 'reg_alpha': 9.140797310621138e-08, 'reg_lambda': 58.156016371283684, 'min_split_gain': 0.00048586097401978113}. Best is trial 4 with value: 0.43954262509940695.\n",
      "[I 2024-06-01 21:08:35,508] Trial 8 finished with value: 0.4364983902803713 and parameters: {'n_estimators': 933, 'learning_rate': 0.08103283696018587, 'num_leaves': 84, 'colsample_bytree': 0.1352690130288886, 'colsample_bynode': 0.3545262663187686, 'subsample': 0.3401474209098767, 'reg_alpha': 9.149597200543702e-06, 'reg_lambda': 1.5391366847232682e-07, 'min_split_gain': 1.512975146404062e-05}. Best is trial 4 with value: 0.43954262509940695.\n",
      "[I 2024-06-01 21:09:07,258] Trial 9 finished with value: 0.30012206931697394 and parameters: {'n_estimators': 172, 'learning_rate': 0.006718386692055369, 'num_leaves': 68, 'colsample_bytree': 0.6099413087859177, 'colsample_bynode': 0.3388505418455009, 'subsample': 0.6424360401000248, 'reg_alpha': 8.697713691175405e-08, 'reg_lambda': 0.005747314402845941, 'min_split_gain': 19.631883842304806}. Best is trial 4 with value: 0.43954262509940695.\n",
      "[I 2024-06-01 21:09:38,103] Trial 10 finished with value: 0.3688556767344596 and parameters: {'n_estimators': 53, 'learning_rate': 0.03127042800314243, 'num_leaves': 209, 'colsample_bytree': 0.9366763195250474, 'colsample_bynode': 0.7122486818501687, 'subsample': 0.5050396333279145, 'reg_alpha': 3.4110495181349845, 'reg_lambda': 6.487765286461964e-06, 'min_split_gain': 0.16343992843498692}. Best is trial 4 with value: 0.43954262509940695.\n",
      "[I 2024-06-01 21:10:06,195] Trial 11 finished with value: 0.43099600397541354 and parameters: {'n_estimators': 982, 'learning_rate': 0.0422857324523695, 'num_leaves': 13, 'colsample_bytree': 0.4007231528247682, 'colsample_bynode': 0.8023147283565235, 'subsample': 0.5335032587219884, 'reg_alpha': 0.13301029752911975, 'reg_lambda': 2.3806115934369014e-05, 'min_split_gain': 0.0029115870577805466}. Best is trial 4 with value: 0.43954262509940695.\n",
      "[I 2024-06-01 21:10:21,388] Trial 12 finished with value: 0.4237885322547785 and parameters: {'n_estimators': 556, 'learning_rate': 0.09831966306778, 'num_leaves': 14, 'colsample_bytree': 0.1888852501748666, 'colsample_bynode': 0.6797911105445957, 'subsample': 0.5507490360319272, 'reg_alpha': 0.03835750616530666, 'reg_lambda': 3.3354691469835016e-06, 'min_split_gain': 0.0005108173997088049}. Best is trial 4 with value: 0.43954262509940695.\n",
      "[I 2024-06-01 21:12:23,704] Trial 13 finished with value: 0.45277716612565266 and parameters: {'n_estimators': 575, 'learning_rate': 0.02826625969291468, 'num_leaves': 114, 'colsample_bytree': 0.7354000894826939, 'colsample_bynode': 0.986059228301836, 'subsample': 0.9829738929728645, 'reg_alpha': 54.65124914888526, 'reg_lambda': 0.00020708451740732742, 'min_split_gain': 0.22542067410676705}. Best is trial 13 with value: 0.45277716612565266.\n",
      "[I 2024-06-01 21:12:47,924] Trial 14 finished with value: 0.33550283707936257 and parameters: {'n_estimators': 312, 'learning_rate': 0.4734812971365314, 'num_leaves': 103, 'colsample_bytree': 0.7450941613658535, 'colsample_bynode': 0.9982378387431934, 'subsample': 0.764164120380329, 'reg_alpha': 55.04416554325157, 'reg_lambda': 0.0001505939801873882, 'min_split_gain': 0.49233272747775275}. Best is trial 13 with value: 0.45277716612565266.\n",
      "[I 2024-06-01 21:15:25,257] Trial 15 finished with value: 0.4442796679210323 and parameters: {'n_estimators': 489, 'learning_rate': 0.02350081205780736, 'num_leaves': 153, 'colsample_bytree': 0.9908665646249791, 'colsample_bynode': 0.2170358767494423, 'subsample': 0.9273379523406291, 'reg_alpha': 75.142257405491, 'reg_lambda': 0.5496326122869524, 'min_split_gain': 2.6567467246153276e-05}. Best is trial 13 with value: 0.45277716612565266.\n",
      "[I 2024-06-01 21:17:50,537] Trial 16 finished with value: 0.44415600205657846 and parameters: {'n_estimators': 549, 'learning_rate': 0.024565210839089923, 'num_leaves': 119, 'colsample_bytree': 0.9239109382127297, 'colsample_bynode': 0.11729101445455636, 'subsample': 0.9873565576299508, 'reg_alpha': 77.94983134525664, 'reg_lambda': 0.3163484539210448, 'min_split_gain': 1.1712922984071275e-05}. Best is trial 13 with value: 0.45277716612565266.\n",
      "[I 2024-06-01 21:20:32,195] Trial 17 finished with value: 0.4477735644067636 and parameters: {'n_estimators': 439, 'learning_rate': 0.025309754348438053, 'num_leaves': 150, 'colsample_bytree': 0.983833389892964, 'colsample_bynode': 0.295860010166328, 'subsample': 0.9752406337838443, 'reg_alpha': 1.683859441050134, 'reg_lambda': 0.4262872922265597, 'min_split_gain': 5.399168177238926e-06}. Best is trial 13 with value: 0.45277716612565266.\n",
      "[I 2024-06-01 21:20:46,640] Trial 18 finished with value: 0.3626258636036114 and parameters: {'n_estimators': 698, 'learning_rate': 0.018424902439728257, 'num_leaves': 4, 'colsample_bytree': 0.805454926823113, 'colsample_bynode': 0.6282582328037736, 'subsample': 0.8127321680079549, 'reg_alpha': 5.196467483631562, 'reg_lambda': 0.0010026226589009092, 'min_split_gain': 1.3299279360799932e-06}. Best is trial 13 with value: 0.45277716612565266.\n",
      "[I 2024-06-01 21:21:15,362] Trial 19 finished with value: 0.29931695074198517 and parameters: {'n_estimators': 203, 'learning_rate': 0.006300132867560664, 'num_leaves': 42, 'colsample_bytree': 0.6930142641835351, 'colsample_bynode': 0.2650527976389547, 'subsample': 0.9366365774019674, 'reg_alpha': 0.7040137414766195, 'reg_lambda': 0.06557962397991074, 'min_split_gain': 1.9126448964116587e-08}. Best is trial 13 with value: 0.45277716612565266.\n",
      "[I 2024-06-01 21:22:43,280] Trial 20 finished with value: 0.45030531218787234 and parameters: {'n_estimators': 409, 'learning_rate': 0.04776428648429829, 'num_leaves': 136, 'colsample_bytree': 0.4909755742882561, 'colsample_bynode': 0.8879676234756547, 'subsample': 0.984724781975493, 'reg_alpha': 4.526589592537454, 'reg_lambda': 0.0011255101699107276, 'min_split_gain': 0.00020252001106508708}. Best is trial 13 with value: 0.45277716612565266.\n",
      "[I 2024-06-01 21:24:12,738] Trial 21 finished with value: 0.450501148028687 and parameters: {'n_estimators': 416, 'learning_rate': 0.04725411781485437, 'num_leaves': 134, 'colsample_bytree': 0.4971242507392255, 'colsample_bynode': 0.9030554874568569, 'subsample': 0.9770102388452104, 'reg_alpha': 5.776309658274144, 'reg_lambda': 0.0005587378081545966, 'min_split_gain': 0.0001419519204886318}. Best is trial 13 with value: 0.45277716612565266.\n",
      "[I 2024-06-01 21:25:50,920] Trial 22 finished with value: 0.4524290291673364 and parameters: {'n_estimators': 675, 'learning_rate': 0.04973389424462328, 'num_leaves': 88, 'colsample_bytree': 0.494564061709658, 'colsample_bynode': 0.8789470457257386, 'subsample': 0.8871655692138329, 'reg_alpha': 10.786545218351556, 'reg_lambda': 0.0005449079929814195, 'min_split_gain': 0.00222614985299069}. Best is trial 13 with value: 0.45277716612565266.\n",
      "[I 2024-06-01 21:27:26,988] Trial 23 finished with value: 0.4518650356446069 and parameters: {'n_estimators': 660, 'learning_rate': 0.06453703785523304, 'num_leaves': 85, 'colsample_bytree': 0.5265777316862748, 'colsample_bynode': 0.863902143376917, 'subsample': 0.8771873256396803, 'reg_alpha': 12.594150632451592, 'reg_lambda': 0.0001045517348026627, 'min_split_gain': 0.0017648339464623353}. Best is trial 13 with value: 0.45277716612565266.\n",
      "[I 2024-06-01 21:28:56,768] Trial 24 finished with value: 0.44618313825310796 and parameters: {'n_estimators': 688, 'learning_rate': 0.07544891407342036, 'num_leaves': 80, 'colsample_bytree': 0.5148572341663399, 'colsample_bynode': 0.9928074172830056, 'subsample': 0.8821506026791816, 'reg_alpha': 0.0072162184885918015, 'reg_lambda': 0.00010127620819580868, 'min_split_gain': 0.005117561873393801}. Best is trial 13 with value: 0.45277716612565266.\n",
      "[I 2024-06-01 21:29:31,581] Trial 25 finished with value: 0.4386689416118855 and parameters: {'n_estimators': 744, 'learning_rate': 0.03437131661284733, 'num_leaves': 30, 'colsample_bytree': 0.24558505723019813, 'colsample_bynode': 0.8093018079944312, 'subsample': 0.773775000751914, 'reg_alpha': 16.07858203328571, 'reg_lambda': 1.3165076784464799e-06, 'min_split_gain': 1.441797778836703}. Best is trial 13 with value: 0.45277716612565266.\n",
      "[I 2024-06-01 21:30:31,839] Trial 26 finished with value: 0.43297019196072 and parameters: {'n_estimators': 673, 'learning_rate': 0.12841763943950002, 'num_leaves': 56, 'colsample_bytree': 0.437035791978892, 'colsample_bynode': 0.8504947753839689, 'subsample': 0.8852065137154874, 'reg_alpha': 0.3699026688195052, 'reg_lambda': 4.887130644860141e-05, 'min_split_gain': 0.004662224201859399}. Best is trial 13 with value: 0.45277716612565266.\n",
      "[I 2024-06-01 21:30:31,879] A new study created in memory with name: lightgbm_X50\n"
     ]
    },
    {
     "name": "stdout",
     "output_type": "stream",
     "text": [
      "\n",
      "*********** Optimizing CV R^2 for X50 ***********\n"
     ]
    },
    {
     "name": "stderr",
     "output_type": "stream",
     "text": [
      "[I 2024-06-01 21:30:38,260] Trial 0 finished with value: 0.08939475847779513 and parameters: {'n_estimators': 258, 'learning_rate': 0.1346941509642705, 'num_leaves': 47, 'colsample_bytree': 0.5903948646972071, 'colsample_bynode': 0.4812893194050143, 'subsample': 0.7344205847999921, 'reg_alpha': 0.00023761404778025518, 'reg_lambda': 8.274276086161453, 'min_split_gain': 43.31393146405955}. Best is trial 0 with value: 0.08939475847779513.\n",
      "[I 2024-06-01 21:30:45,785] Trial 1 finished with value: 0.1577612572631265 and parameters: {'n_estimators': 157, 'learning_rate': 0.1916108425246393, 'num_leaves': 34, 'colsample_bytree': 0.6112401049845391, 'colsample_bynode': 0.933036974463395, 'subsample': 0.30327704364841523, 'reg_alpha': 7.435205853060173e-08, 'reg_lambda': 1.5928833561691773e-08, 'min_split_gain': 2.1193293640885202}. Best is trial 1 with value: 0.1577612572631265.\n",
      "[I 2024-06-01 21:34:25,868] Trial 2 finished with value: 0.09205754082840696 and parameters: {'n_estimators': 514, 'learning_rate': 0.2747858093205808, 'num_leaves': 234, 'colsample_bytree': 0.8192427077950513, 'colsample_bynode': 0.5153314260276387, 'subsample': 0.8353968822148417, 'reg_alpha': 1.5231555549417795e-07, 'reg_lambda': 0.02507322588626923, 'min_split_gain': 2.7135190452611025e-07}. Best is trial 1 with value: 0.1577612572631265.\n",
      "[I 2024-06-01 21:34:58,498] Trial 3 finished with value: 0.1824373671648341 and parameters: {'n_estimators': 847, 'learning_rate': 0.05529255362848229, 'num_leaves': 21, 'colsample_bytree': 0.3381000508941643, 'colsample_bynode': 0.796810320490795, 'subsample': 0.5921127491624114, 'reg_alpha': 0.0048343655749956815, 'reg_lambda': 1.541338421512532e-08, 'min_split_gain': 0.0150091110454641}. Best is trial 3 with value: 0.1824373671648341.\n",
      "[I 2024-06-01 21:36:34,413] Trial 4 finished with value: 0.18330600912604336 and parameters: {'n_estimators': 312, 'learning_rate': 0.08567182098559827, 'num_leaves': 201, 'colsample_bytree': 0.7136382691931351, 'colsample_bynode': 0.42355711051640743, 'subsample': 0.5777739653495061, 'reg_alpha': 0.09469170997780146, 'reg_lambda': 4.001793885336983e-08, 'min_split_gain': 0.04652294026285371}. Best is trial 4 with value: 0.18330600912604336.\n",
      "[I 2024-06-01 21:36:45,107] Trial 5 finished with value: 0.1197436281153055 and parameters: {'n_estimators': 372, 'learning_rate': 0.013174529870578064, 'num_leaves': 6, 'colsample_bytree': 0.38388551583176544, 'colsample_bynode': 0.42733969384836035, 'subsample': 0.6776475778134097, 'reg_alpha': 0.00024322887698390846, 'reg_lambda': 76.51355496738442, 'min_split_gain': 1.0482095387452709e-07}. Best is trial 4 with value: 0.18330600912604336.\n",
      "[I 2024-06-01 21:36:59,507] Trial 6 finished with value: 0.10323773539755225 and parameters: {'n_estimators': 93, 'learning_rate': 0.010509669045577208, 'num_leaves': 58, 'colsample_bytree': 0.3279624422858039, 'colsample_bynode': 0.5196796955706757, 'subsample': 0.43331919400120206, 'reg_alpha': 3.8877276777818895e-07, 'reg_lambda': 1.2698470419737896e-07, 'min_split_gain': 0.03658439644870376}. Best is trial 4 with value: 0.18330600912604336.\n",
      "[I 2024-06-01 21:37:09,617] Trial 7 finished with value: 0.08219021632536345 and parameters: {'n_estimators': 75, 'learning_rate': 0.012363309109888218, 'num_leaves': 17, 'colsample_bytree': 0.8388939068631416, 'colsample_bynode': 0.18739114821375513, 'subsample': 0.8784586806241029, 'reg_alpha': 9.140797310621138e-08, 'reg_lambda': 58.156016371283684, 'min_split_gain': 0.00048586097401978113}. Best is trial 4 with value: 0.18330600912604336.\n",
      "[I 2024-06-01 21:38:18,842] Trial 8 finished with value: 0.1798467989266037 and parameters: {'n_estimators': 933, 'learning_rate': 0.08103283696018587, 'num_leaves': 84, 'colsample_bytree': 0.1352690130288886, 'colsample_bynode': 0.3545262663187686, 'subsample': 0.3401474209098767, 'reg_alpha': 9.149597200543702e-06, 'reg_lambda': 1.5391366847232682e-07, 'min_split_gain': 1.512975146404062e-05}. Best is trial 4 with value: 0.18330600912604336.\n",
      "[I 2024-06-01 21:38:27,249] Trial 9 finished with value: 0.0836635268838037 and parameters: {'n_estimators': 172, 'learning_rate': 0.006718386692055369, 'num_leaves': 68, 'colsample_bytree': 0.6099413087859177, 'colsample_bynode': 0.3388505418455009, 'subsample': 0.6424360401000248, 'reg_alpha': 8.697713691175405e-08, 'reg_lambda': 0.005747314402845941, 'min_split_gain': 19.631883842304806}. Best is trial 4 with value: 0.18330600912604336.\n",
      "[I 2024-06-01 21:38:55,892] Trial 10 finished with value: 0.1540594258010614 and parameters: {'n_estimators': 53, 'learning_rate': 0.03127042800314243, 'num_leaves': 209, 'colsample_bytree': 0.9366763195250474, 'colsample_bynode': 0.7122486818501687, 'subsample': 0.5050396333279145, 'reg_alpha': 3.4110495181349845, 'reg_lambda': 6.487765286461964e-06, 'min_split_gain': 0.16343992843498692}. Best is trial 4 with value: 0.18330600912604336.\n",
      "[I 2024-06-01 21:39:25,049] Trial 11 finished with value: 0.1782571436556282 and parameters: {'n_estimators': 982, 'learning_rate': 0.0422857324523695, 'num_leaves': 13, 'colsample_bytree': 0.4007231528247682, 'colsample_bynode': 0.8023147283565235, 'subsample': 0.5335032587219884, 'reg_alpha': 0.13301029752911975, 'reg_lambda': 2.3806115934369014e-05, 'min_split_gain': 0.0029115870577805466}. Best is trial 4 with value: 0.18330600912604336.\n",
      "[I 2024-06-01 21:39:40,490] Trial 12 finished with value: 0.17326584299332246 and parameters: {'n_estimators': 556, 'learning_rate': 0.09831966306778, 'num_leaves': 14, 'colsample_bytree': 0.1888852501748666, 'colsample_bynode': 0.6797911105445957, 'subsample': 0.5507490360319272, 'reg_alpha': 0.03835750616530666, 'reg_lambda': 3.3354691469835016e-06, 'min_split_gain': 0.0005108173997088049}. Best is trial 4 with value: 0.18330600912604336.\n",
      "[I 2024-06-01 21:40:08,560] Trial 13 finished with value: 0.1662532212344487 and parameters: {'n_estimators': 575, 'learning_rate': 0.02826625969291468, 'num_leaves': 114, 'colsample_bytree': 0.7354000894826939, 'colsample_bynode': 0.986059228301836, 'subsample': 0.9829738929728645, 'reg_alpha': 54.65124914888526, 'reg_lambda': 0.00020708451740732742, 'min_split_gain': 0.22542067410676705}. Best is trial 4 with value: 0.18330600912604336.\n",
      "[I 2024-06-01 21:40:17,843] Trial 14 finished with value: 0.12799000884149042 and parameters: {'n_estimators': 270, 'learning_rate': 0.4734812971365314, 'num_leaves': 6, 'colsample_bytree': 0.4852356776555163, 'colsample_bynode': 0.19397335274869365, 'subsample': 0.7539189528482415, 'reg_alpha': 0.012986255941761584, 'reg_lambda': 2.962400703751458e-08, 'min_split_gain': 1.5142640844834825e-05}. Best is trial 4 with value: 0.18330600912604336.\n",
      "[I 2024-06-01 21:40:35,461] Trial 15 finished with value: 0.1755777638517772 and parameters: {'n_estimators': 391, 'learning_rate': 0.05400393994190301, 'num_leaves': 22, 'colsample_bytree': 0.23437236559244318, 'colsample_bynode': 0.6707812092494371, 'subsample': 0.41807404219055017, 'reg_alpha': 0.847544366580755, 'reg_lambda': 9.72028793607312e-07, 'min_split_gain': 0.00701926905660351}. Best is trial 4 with value: 0.18330600912604336.\n",
      "[I 2024-06-01 21:43:49,682] Trial 16 finished with value: 0.2005800745763533 and parameters: {'n_estimators': 739, 'learning_rate': 0.022056722361559283, 'num_leaves': 138, 'colsample_bytree': 0.704893775679171, 'colsample_bynode': 0.8329810114035011, 'subsample': 0.607044376022352, 'reg_alpha': 0.002714444602832778, 'reg_lambda': 0.1309136691282158, 'min_split_gain': 3.709627550851387e-05}. Best is trial 16 with value: 0.2005800745763533.\n",
      "[I 2024-06-01 21:44:45,792] Trial 17 finished with value: 0.17365445966484722 and parameters: {'n_estimators': 169, 'learning_rate': 0.025309754348438053, 'num_leaves': 136, 'colsample_bytree': 0.7186978041024814, 'colsample_bynode': 0.10902934675887604, 'subsample': 0.44419860087807816, 'reg_alpha': 3.775876298074709e-05, 'reg_lambda': 0.2292663839806962, 'min_split_gain': 6.88447586620373e-06}. Best is trial 16 with value: 0.2005800745763533.\n",
      "[I 2024-06-01 21:46:58,733] Trial 18 finished with value: 0.1927804661921772 and parameters: {'n_estimators': 337, 'learning_rate': 0.01960231363852142, 'num_leaves': 147, 'colsample_bytree': 0.9717149975810724, 'colsample_bynode': 0.6078087195239189, 'subsample': 0.6998603805173973, 'reg_alpha': 0.0018516575566433372, 'reg_lambda': 1.021227230572338, 'min_split_gain': 0.00010954030684956348}. Best is trial 16 with value: 0.2005800745763533.\n",
      "[I 2024-06-01 21:50:41,207] Trial 19 finished with value: 0.19684957116362284 and parameters: {'n_estimators': 719, 'learning_rate': 0.017687634712816747, 'num_leaves': 122, 'colsample_bytree': 0.9858866210883678, 'colsample_bynode': 0.8629231083072444, 'subsample': 0.7757807653572053, 'reg_alpha': 0.0016339548716821854, 'reg_lambda': 0.8479374704143557, 'min_split_gain': 1.1497352216033406e-08}. Best is trial 16 with value: 0.2005800745763533.\n",
      "[I 2024-06-01 21:53:40,202] Trial 20 finished with value: 0.17219536824294765 and parameters: {'n_estimators': 697, 'learning_rate': 0.005132889663052294, 'num_leaves': 90, 'colsample_bytree': 0.902393499869022, 'colsample_bynode': 0.8643255663282575, 'subsample': 0.8580165661801328, 'reg_alpha': 4.25441893276219e-06, 'reg_lambda': 0.12130280307506842, 'min_split_gain': 1.3273404020826862e-08}. Best is trial 16 with value: 0.2005800745763533.\n",
      "[I 2024-06-01 21:56:18,270] Trial 21 finished with value: 0.19336896354571065 and parameters: {'n_estimators': 416, 'learning_rate': 0.01764832997631024, 'num_leaves': 139, 'colsample_bytree': 0.9863626500931726, 'colsample_bynode': 0.6112228505545063, 'subsample': 0.7378188328138962, 'reg_alpha': 0.0013979983109414435, 'reg_lambda': 1.676492551712351, 'min_split_gain': 9.831690799904165e-05}. Best is trial 16 with value: 0.2005800745763533.\n",
      "[I 2024-06-01 21:58:57,336] Trial 22 finished with value: 0.19410549727241605 and parameters: {'n_estimators': 457, 'learning_rate': 0.018015571028405637, 'num_leaves': 144, 'colsample_bytree': 0.8543340815049408, 'colsample_bynode': 0.7934043660667428, 'subsample': 0.7676777766548412, 'reg_alpha': 0.0001473834418869557, 'reg_lambda': 1.4569758802654709, 'min_split_gain': 1.4236733315048674e-06}. Best is trial 16 with value: 0.2005800745763533.\n",
      "[I 2024-06-01 22:00:21,454] Trial 23 finished with value: 0.17300963448457105 and parameters: {'n_estimators': 643, 'learning_rate': 0.009234590003034565, 'num_leaves': 45, 'colsample_bytree': 0.8305659204442406, 'colsample_bynode': 0.8672864650515658, 'subsample': 0.8006166351968793, 'reg_alpha': 0.00013629914769917387, 'reg_lambda': 0.0017689737883113236, 'min_split_gain': 8.039681828255975e-07}. Best is trial 16 with value: 0.2005800745763533.\n",
      "[I 2024-06-01 22:03:09,228] Trial 24 finished with value: 0.19612992661064627 and parameters: {'n_estimators': 712, 'learning_rate': 0.01854695949606934, 'num_leaves': 91, 'colsample_bytree': 0.8845440059142055, 'colsample_bynode': 0.7711593324740295, 'subsample': 0.9015937589204422, 'reg_alpha': 5.80394648449449e-06, 'reg_lambda': 3.7580267057019556, 'min_split_gain': 1.5293668861368746e-08}. Best is trial 16 with value: 0.2005800745763533.\n",
      "[I 2024-06-01 22:03:09,259] A new study created in memory with name: lightgbm_X26\n"
     ]
    },
    {
     "name": "stdout",
     "output_type": "stream",
     "text": [
      "\n",
      "*********** Optimizing CV R^2 for X26 ***********\n"
     ]
    },
    {
     "name": "stderr",
     "output_type": "stream",
     "text": [
      "[I 2024-06-01 22:03:36,136] Trial 0 finished with value: 0.17965170086282642 and parameters: {'n_estimators': 258, 'learning_rate': 0.1346941509642705, 'num_leaves': 47, 'colsample_bytree': 0.5903948646972071, 'colsample_bynode': 0.4812893194050143, 'subsample': 0.7344205847999921, 'reg_alpha': 0.00023761404778025518, 'reg_lambda': 8.274276086161453, 'min_split_gain': 43.31393146405955}. Best is trial 0 with value: 0.17965170086282642.\n",
      "[I 2024-06-01 22:03:51,321] Trial 1 finished with value: 0.14367032299760116 and parameters: {'n_estimators': 157, 'learning_rate': 0.1916108425246393, 'num_leaves': 34, 'colsample_bytree': 0.6112401049845391, 'colsample_bynode': 0.933036974463395, 'subsample': 0.30327704364841523, 'reg_alpha': 7.435205853060173e-08, 'reg_lambda': 1.5928833561691773e-08, 'min_split_gain': 2.1193293640885202}. Best is trial 0 with value: 0.17965170086282642.\n",
      "[I 2024-06-01 22:07:29,638] Trial 2 finished with value: 0.09470381669878052 and parameters: {'n_estimators': 514, 'learning_rate': 0.2747858093205808, 'num_leaves': 234, 'colsample_bytree': 0.8192427077950513, 'colsample_bynode': 0.5153314260276387, 'subsample': 0.8353968822148417, 'reg_alpha': 1.5231555549417795e-07, 'reg_lambda': 0.02507322588626923, 'min_split_gain': 2.7135190452611025e-07}. Best is trial 0 with value: 0.17965170086282642.\n",
      "[I 2024-06-01 22:07:59,580] Trial 3 finished with value: 0.194553434586217 and parameters: {'n_estimators': 847, 'learning_rate': 0.05529255362848229, 'num_leaves': 21, 'colsample_bytree': 0.3381000508941643, 'colsample_bynode': 0.796810320490795, 'subsample': 0.5921127491624114, 'reg_alpha': 0.0048343655749956815, 'reg_lambda': 1.541338421512532e-08, 'min_split_gain': 0.0150091110454641}. Best is trial 3 with value: 0.194553434586217.\n",
      "[I 2024-06-01 22:09:47,471] Trial 4 finished with value: 0.18143175893666744 and parameters: {'n_estimators': 312, 'learning_rate': 0.08567182098559827, 'num_leaves': 201, 'colsample_bytree': 0.7136382691931351, 'colsample_bynode': 0.42355711051640743, 'subsample': 0.5777739653495061, 'reg_alpha': 0.09469170997780146, 'reg_lambda': 4.001793885336983e-08, 'min_split_gain': 0.04652294026285371}. Best is trial 3 with value: 0.194553434586217.\n",
      "[I 2024-06-01 22:09:58,077] Trial 5 finished with value: 0.15731653690754013 and parameters: {'n_estimators': 372, 'learning_rate': 0.013174529870578064, 'num_leaves': 6, 'colsample_bytree': 0.38388551583176544, 'colsample_bynode': 0.42733969384836035, 'subsample': 0.6776475778134097, 'reg_alpha': 0.00024322887698390846, 'reg_lambda': 76.51355496738442, 'min_split_gain': 1.0482095387452709e-07}. Best is trial 3 with value: 0.194553434586217.\n",
      "[I 2024-06-01 22:10:10,719] Trial 6 finished with value: 0.1261145913182746 and parameters: {'n_estimators': 93, 'learning_rate': 0.010509669045577208, 'num_leaves': 58, 'colsample_bytree': 0.3279624422858039, 'colsample_bynode': 0.5196796955706757, 'subsample': 0.43331919400120206, 'reg_alpha': 3.8877276777818895e-07, 'reg_lambda': 1.2698470419737896e-07, 'min_split_gain': 0.03658439644870376}. Best is trial 3 with value: 0.194553434586217.\n",
      "[I 2024-06-01 22:10:20,141] Trial 7 finished with value: 0.1083501472016543 and parameters: {'n_estimators': 75, 'learning_rate': 0.012363309109888218, 'num_leaves': 17, 'colsample_bytree': 0.8388939068631416, 'colsample_bynode': 0.18739114821375513, 'subsample': 0.8784586806241029, 'reg_alpha': 9.140797310621138e-08, 'reg_lambda': 58.156016371283684, 'min_split_gain': 0.00048586097401978113}. Best is trial 3 with value: 0.194553434586217.\n",
      "[I 2024-06-01 22:11:28,517] Trial 8 finished with value: 0.18459762751255337 and parameters: {'n_estimators': 933, 'learning_rate': 0.08103283696018587, 'num_leaves': 84, 'colsample_bytree': 0.1352690130288886, 'colsample_bynode': 0.3545262663187686, 'subsample': 0.3401474209098767, 'reg_alpha': 9.149597200543702e-06, 'reg_lambda': 1.5391366847232682e-07, 'min_split_gain': 1.512975146404062e-05}. Best is trial 3 with value: 0.194553434586217.\n",
      "[I 2024-06-01 22:11:55,548] Trial 9 finished with value: 0.14362088066937245 and parameters: {'n_estimators': 172, 'learning_rate': 0.006718386692055369, 'num_leaves': 68, 'colsample_bytree': 0.6099413087859177, 'colsample_bynode': 0.3388505418455009, 'subsample': 0.6424360401000248, 'reg_alpha': 8.697713691175405e-08, 'reg_lambda': 0.005747314402845941, 'min_split_gain': 19.631883842304806}. Best is trial 3 with value: 0.194553434586217.\n",
      "[I 2024-06-01 22:12:14,920] Trial 10 finished with value: 0.19033860314287945 and parameters: {'n_estimators': 905, 'learning_rate': 0.02640056168005468, 'num_leaves': 13, 'colsample_bytree': 0.11804125885700018, 'colsample_bynode': 0.8113933295591295, 'subsample': 0.9817515271293407, 'reg_alpha': 3.4110495181349845, 'reg_lambda': 7.4144813810428455e-06, 'min_split_gain': 0.00015230498731390684}. Best is trial 3 with value: 0.194553434586217.\n",
      "[I 2024-06-01 22:12:35,224] Trial 11 finished with value: 0.1936174388371223 and parameters: {'n_estimators': 982, 'learning_rate': 0.03164667206540414, 'num_leaves': 12, 'colsample_bytree': 0.16087951336819906, 'colsample_bynode': 0.8023147283565235, 'subsample': 0.4862256035328061, 'reg_alpha': 69.25614514299266, 'reg_lambda': 2.0840155861547322e-05, 'min_split_gain': 0.000159146236655261}. Best is trial 3 with value: 0.194553434586217.\n",
      "[I 2024-06-01 22:12:45,480] Trial 12 finished with value: 0.17111880987740352 and parameters: {'n_estimators': 539, 'learning_rate': 0.03525364307033657, 'num_leaves': 4, 'colsample_bytree': 0.3297131745148111, 'colsample_bynode': 0.7457646824214226, 'subsample': 0.46296101540123985, 'reg_alpha': 34.08520170768585, 'reg_lambda': 4.2586039720016815e-05, 'min_split_gain': 0.021023952186964543}. Best is trial 3 with value: 0.194553434586217.\n",
      "[I 2024-06-01 22:13:03,465] Trial 13 finished with value: 0.1924931040620203 and parameters: {'n_estimators': 682, 'learning_rate': 0.050531759068038674, 'num_leaves': 14, 'colsample_bytree': 0.23295085338881405, 'colsample_bynode': 0.7023888591079581, 'subsample': 0.529976380544783, 'reg_alpha': 0.037119298975779993, 'reg_lambda': 1.4665891350881525e-05, 'min_split_gain': 8.599828925131467e-06}. Best is trial 3 with value: 0.194553434586217.\n",
      "[I 2024-06-01 22:13:17,618] Trial 14 finished with value: 0.023831856527971217 and parameters: {'n_estimators': 608, 'learning_rate': 0.4734812971365314, 'num_leaves': 8, 'colsample_bytree': 0.4380441183872177, 'colsample_bynode': 0.9982378387431934, 'subsample': 0.4105737239707718, 'reg_alpha': 0.03815651080413638, 'reg_lambda': 0.0002707466936859991, 'min_split_gain': 0.006135352643070939}. Best is trial 3 with value: 0.194553434586217.\n",
      "[I 2024-06-01 22:13:50,359] Trial 15 finished with value: 0.19759302107067195 and parameters: {'n_estimators': 964, 'learning_rate': 0.02350081205780736, 'num_leaves': 22, 'colsample_bytree': 0.23437236559244318, 'colsample_bynode': 0.6707812092494371, 'subsample': 0.5558583278858522, 'reg_alpha': 66.75687907598122, 'reg_lambda': 9.72028793607312e-07, 'min_split_gain': 0.8751167942018093}. Best is trial 15 with value: 0.19759302107067195.\n",
      "[I 2024-06-01 22:14:14,690] Trial 16 finished with value: 0.19050635264004276 and parameters: {'n_estimators': 436, 'learning_rate': 0.01949067023412158, 'num_leaves': 26, 'colsample_bytree': 0.45252214090185405, 'colsample_bynode': 0.657613238499618, 'subsample': 0.7408506835616624, 'reg_alpha': 0.4065500169648924, 'reg_lambda': 1.2603703459060855e-06, 'min_split_gain': 2.7615555841090766}. Best is trial 15 with value: 0.19759302107067195.\n",
      "[I 2024-06-01 22:14:44,346] Trial 17 finished with value: 0.19070114031218893 and parameters: {'n_estimators': 749, 'learning_rate': 0.06316280613318524, 'num_leaves': 27, 'colsample_bytree': 0.2662623220746382, 'colsample_bynode': 0.8711861931788317, 'subsample': 0.5707148205693704, 'reg_alpha': 0.002828827483289958, 'reg_lambda': 6.734457812686698e-07, 'min_split_gain': 0.4800533969963555}. Best is trial 15 with value: 0.19759302107067195.\n",
      "[I 2024-06-01 22:15:28,534] Trial 18 finished with value: 0.15280834863455822 and parameters: {'n_estimators': 200, 'learning_rate': 0.005648951986171734, 'num_leaves': 130, 'colsample_bytree': 0.50407858810047, 'colsample_bynode': 0.6103562340513581, 'subsample': 0.258386674683873, 'reg_alpha': 6.795919703587102e-06, 'reg_lambda': 0.09470947613685825, 'min_split_gain': 0.3197552502781963}. Best is trial 15 with value: 0.19759302107067195.\n",
      "[I 2024-06-01 22:15:41,075] Trial 19 finished with value: 0.1625601275495833 and parameters: {'n_estimators': 123, 'learning_rate': 0.019718626145630577, 'num_leaves': 20, 'colsample_bytree': 0.9370492747003469, 'colsample_bynode': 0.5970926000826593, 'subsample': 0.708258055176838, 'reg_alpha': 1.071765549262696, 'reg_lambda': 1.3065537147677427e-08, 'min_split_gain': 0.0019369852251531863}. Best is trial 15 with value: 0.19759302107067195.\n",
      "[I 2024-06-01 22:15:49,341] Trial 20 finished with value: 0.15769966694681656 and parameters: {'n_estimators': 57, 'learning_rate': 0.04038670271300434, 'num_leaves': 39, 'colsample_bytree': 0.19986768581858314, 'colsample_bynode': 0.7524087341997017, 'subsample': 0.8225363362722563, 'reg_alpha': 0.0032374584150179084, 'reg_lambda': 8.285120931788346e-07, 'min_split_gain': 0.11046481349198688}. Best is trial 15 with value: 0.19759302107067195.\n",
      "[I 2024-06-01 22:16:07,830] Trial 21 finished with value: 0.19042019572279784 and parameters: {'n_estimators': 989, 'learning_rate': 0.026116794050760898, 'num_leaves': 9, 'colsample_bytree': 0.19836622688972785, 'colsample_bynode': 0.8360588333642807, 'subsample': 0.5381501341241972, 'reg_alpha': 99.94728977236761, 'reg_lambda': 0.00021274471588241932, 'min_split_gain': 3.800264815726941e-05}. Best is trial 15 with value: 0.19759302107067195.\n",
      "[I 2024-06-01 22:16:25,132] Trial 22 finished with value: 0.17788480761504522 and parameters: {'n_estimators': 755, 'learning_rate': 0.1217976125244529, 'num_leaves': 10, 'colsample_bytree': 0.30472091442351745, 'colsample_bynode': 0.915573707943384, 'subsample': 0.488775615890959, 'reg_alpha': 6.329897614124976, 'reg_lambda': 2.970909840797082e-06, 'min_split_gain': 1.4236733315048674e-06}. Best is trial 15 with value: 0.19759302107067195.\n",
      "[I 2024-06-01 22:16:41,005] Trial 23 finished with value: 0.18973929847297383 and parameters: {'n_estimators': 471, 'learning_rate': 0.0359155051153565, 'num_leaves': 20, 'colsample_bytree': 0.1529045293385315, 'colsample_bynode': 0.8056102128625396, 'subsample': 0.37343967521950094, 'reg_alpha': 31.839423724509462, 'reg_lambda': 4.03271779170113e-05, 'min_split_gain': 0.002638170700287507}. Best is trial 15 with value: 0.19759302107067195.\n",
      "[I 2024-06-01 22:16:55,394] Trial 24 finished with value: 0.18608574974288866 and parameters: {'n_estimators': 751, 'learning_rate': 0.058170057490954746, 'num_leaves': 6, 'colsample_bytree': 0.3680143320220436, 'colsample_bynode': 0.6805409162578578, 'subsample': 0.6117853387299179, 'reg_alpha': 7.7116723284052995, 'reg_lambda': 1.5699990997060495e-07, 'min_split_gain': 0.0004525737736925624}. Best is trial 15 with value: 0.19759302107067195.\n",
      "[I 2024-06-01 22:17:12,139] Trial 25 finished with value: 0.1858648509365692 and parameters: {'n_estimators': 353, 'learning_rate': 0.01982187622801396, 'num_leaves': 25, 'colsample_bytree': 0.2663987271364429, 'colsample_bynode': 0.7542733109203066, 'subsample': 0.48120297892415714, 'reg_alpha': 0.24880926999417333, 'reg_lambda': 0.0009289698692328721, 'min_split_gain': 1.107659806322921e-08}. Best is trial 15 with value: 0.19759302107067195.\n",
      "[I 2024-06-01 22:17:27,966] Trial 26 finished with value: 0.18542730430219692 and parameters: {'n_estimators': 631, 'learning_rate': 0.02650900505447838, 'num_leaves': 12, 'colsample_bytree': 0.18813801080984183, 'colsample_bynode': 0.6223477635090799, 'subsample': 0.6366959644426525, 'reg_alpha': 0.007820322638184711, 'reg_lambda': 2.4925842852819557e-07, 'min_split_gain': 2.914980357758195}. Best is trial 15 with value: 0.19759302107067195.\n",
      "[I 2024-06-01 22:17:50,978] Trial 27 finished with value: 0.17571249089003788 and parameters: {'n_estimators': 989, 'learning_rate': 0.008579764931549848, 'num_leaves': 16, 'colsample_bytree': 0.1076844815669713, 'colsample_bynode': 0.9023285945571331, 'subsample': 0.5090330015185133, 'reg_alpha': 2.2927395612929016, 'reg_lambda': 6.0548797513504e-06, 'min_split_gain': 0.007707516203243879}. Best is trial 15 with value: 0.19759302107067195.\n",
      "[I 2024-06-01 22:18:00,379] Trial 28 finished with value: 0.17935218159458974 and parameters: {'n_estimators': 269, 'learning_rate': 0.08450231157096959, 'num_leaves': 7, 'colsample_bytree': 0.4157026535663243, 'colsample_bynode': 0.7320959138231158, 'subsample': 0.5749643097613492, 'reg_alpha': 2.1735268666285052e-05, 'reg_lambda': 5.282114926444036e-05, 'min_split_gain': 0.29160562363088094}. Best is trial 15 with value: 0.19759302107067195.\n",
      "[I 2024-06-01 22:18:13,505] Trial 29 finished with value: 0.17809527849265153 and parameters: {'n_estimators': 806, 'learning_rate': 0.13708682274495682, 'num_leaves': 4, 'colsample_bytree': 0.5383426441405614, 'colsample_bynode': 0.9827280054049679, 'subsample': 0.7482281751030541, 'reg_alpha': 1.0872269053019342e-08, 'reg_lambda': 0.4715422358536043, 'min_split_gain': 81.61233856623853}. Best is trial 15 with value: 0.19759302107067195.\n",
      "[I 2024-06-01 22:18:50,226] Trial 30 finished with value: 0.19838917501104467 and parameters: {'n_estimators': 579, 'learning_rate': 0.01643790919360634, 'num_leaves': 46, 'colsample_bytree': 0.275004287077592, 'colsample_bynode': 0.5633266762112286, 'subsample': 0.40414849472788966, 'reg_alpha': 0.0003490319653980448, 'reg_lambda': 7.212024582797334e-08, 'min_split_gain': 0.00012829581285317933}. Best is trial 30 with value: 0.19838917501104467.\n",
      "[I 2024-06-01 22:19:28,259] Trial 31 finished with value: 0.2001319196017958 and parameters: {'n_estimators': 653, 'learning_rate': 0.01509089911133123, 'num_leaves': 43, 'colsample_bytree': 0.26305078551754085, 'colsample_bynode': 0.5934285353200797, 'subsample': 0.4041220708756801, 'reg_alpha': 0.00019355875839570358, 'reg_lambda': 3.671460478628008e-08, 'min_split_gain': 0.00010223342766161376}. Best is trial 31 with value: 0.2001319196017958.\n",
      "[I 2024-06-01 22:20:02,102] Trial 32 finished with value: 0.19745738361346662 and parameters: {'n_estimators': 570, 'learning_rate': 0.016714734811834126, 'num_leaves': 43, 'colsample_bytree': 0.2647744891084491, 'colsample_bynode': 0.5640779510045922, 'subsample': 0.3836932972105567, 'reg_alpha': 0.0002806379391329986, 'reg_lambda': 2.901364719199324e-08, 'min_split_gain': 3.220426999531738e-06}. Best is trial 31 with value: 0.2001319196017958.\n",
      "[I 2024-06-01 22:20:37,399] Trial 33 finished with value: 0.19741145324767936 and parameters: {'n_estimators': 562, 'learning_rate': 0.016631521938798955, 'num_leaves': 46, 'colsample_bytree': 0.27735499661376817, 'colsample_bynode': 0.562246912063282, 'subsample': 0.33180212311819257, 'reg_alpha': 7.320604474618716e-05, 'reg_lambda': 5.045385521114194e-08, 'min_split_gain': 2.79839169780822e-06}. Best is trial 31 with value: 0.2001319196017958.\n",
      "[I 2024-06-01 22:21:22,108] Trial 34 finished with value: 0.1904189912610717 and parameters: {'n_estimators': 424, 'learning_rate': 0.009159845293309252, 'num_leaves': 92, 'colsample_bytree': 0.23758146375577638, 'colsample_bynode': 0.4675588959523907, 'subsample': 0.2501114108120627, 'reg_alpha': 0.0005139769792279412, 'reg_lambda': 5.0117180145402565e-08, 'min_split_gain': 5.924612931370077e-05}. Best is trial 31 with value: 0.2001319196017958.\n",
      "[I 2024-06-01 22:21:46,929] Trial 35 finished with value: 0.18305438347517147 and parameters: {'n_estimators': 262, 'learning_rate': 0.01526582939671202, 'num_leaves': 37, 'colsample_bytree': 0.6777462054547767, 'colsample_bynode': 0.5658835461998191, 'subsample': 0.39202137496108935, 'reg_alpha': 1.8716367669375873e-06, 'reg_lambda': 1.337463705712383e-08, 'min_split_gain': 3.441186427422203e-06}. Best is trial 31 with value: 0.2001319196017958.\n",
      "[I 2024-06-01 22:22:36,180] Trial 36 finished with value: 0.18715410932683008 and parameters: {'n_estimators': 525, 'learning_rate': 0.007251880800668107, 'num_leaves': 54, 'colsample_bytree': 0.492498233033772, 'colsample_bynode': 0.48377457271955004, 'subsample': 0.35496699933492537, 'reg_alpha': 7.313952846971599e-05, 'reg_lambda': 4.81855611951932e-07, 'min_split_gain': 6.354494176231542e-07}. Best is trial 31 with value: 0.2001319196017958.\n",
      "[I 2024-06-01 22:22:58,236] Trial 37 finished with value: 0.18080527216300704 and parameters: {'n_estimators': 354, 'learning_rate': 0.011720439975425623, 'num_leaves': 32, 'colsample_bytree': 0.37612305464752943, 'colsample_bynode': 0.37567643071764534, 'subsample': 0.4232521455257979, 'reg_alpha': 0.001368485073227399, 'reg_lambda': 3.7263785613398506e-08, 'min_split_gain': 7.369589665906766e-08}. Best is trial 31 with value: 0.2001319196017958.\n",
      "[I 2024-06-01 22:24:16,767] Trial 38 finished with value: 0.20585110637811935 and parameters: {'n_estimators': 638, 'learning_rate': 0.014694023727601011, 'num_leaves': 120, 'colsample_bytree': 0.21953664667113465, 'colsample_bynode': 0.2819070511474867, 'subsample': 0.2993430704893322, 'reg_alpha': 0.00015283836116146106, 'reg_lambda': 2.470452585147459e-06, 'min_split_gain': 1.7271363867638363e-05}. Best is trial 38 with value: 0.20585110637811935.\n",
      "[I 2024-06-01 22:26:07,830] Trial 39 finished with value: 0.20941805184235088 and parameters: {'n_estimators': 638, 'learning_rate': 0.0234139274490925, 'num_leaves': 159, 'colsample_bytree': 0.3083139999290976, 'colsample_bynode': 0.13317911000199847, 'subsample': 0.295579874608357, 'reg_alpha': 7.286646023719772e-05, 'reg_lambda': 2.7648085375219067e-06, 'min_split_gain': 2.3630950933823054e-05}. Best is trial 39 with value: 0.20941805184235088.\n",
      "[I 2024-06-01 22:27:09,334] Trial 40 finished with value: 0.19259171333933595 and parameters: {'n_estimators': 306, 'learning_rate': 0.01339695018113088, 'num_leaves': 175, 'colsample_bytree': 0.31409665856105706, 'colsample_bynode': 0.13043171232781067, 'subsample': 0.3011720287595182, 'reg_alpha': 6.988531074803666e-05, 'reg_lambda': 2.192536849696425e-06, 'min_split_gain': 4.844961289553785e-05}. Best is trial 39 with value: 0.20941805184235088.\n",
      "[I 2024-06-01 22:28:39,805] Trial 41 finished with value: 0.2065201393619117 and parameters: {'n_estimators': 674, 'learning_rate': 0.023899723590350863, 'num_leaves': 133, 'colsample_bytree': 0.23141839657715338, 'colsample_bynode': 0.256081264262545, 'subsample': 0.30178008235340914, 'reg_alpha': 1.6269458908380689e-06, 'reg_lambda': 2.655827401801117e-07, 'min_split_gain': 1.3070745740842148e-05}. Best is trial 39 with value: 0.20941805184235088.\n",
      "[I 2024-06-01 22:30:20,835] Trial 42 finished with value: 0.20425982856430416 and parameters: {'n_estimators': 662, 'learning_rate': 0.009817951137385693, 'num_leaves': 120, 'colsample_bytree': 0.3682812057176995, 'colsample_bynode': 0.25578822252317146, 'subsample': 0.2931442235610426, 'reg_alpha': 6.279168898048182e-06, 'reg_lambda': 2.4013817169812753e-07, 'min_split_gain': 1.60540719035013e-05}. Best is trial 39 with value: 0.20941805184235088.\n",
      "[I 2024-06-01 22:32:15,932] Trial 43 finished with value: 0.2055784964442937 and parameters: {'n_estimators': 688, 'learning_rate': 0.010430888328482745, 'num_leaves': 136, 'colsample_bytree': 0.3611076548135578, 'colsample_bynode': 0.2666373364131586, 'subsample': 0.2970758291855326, 'reg_alpha': 4.993233571371123e-07, 'reg_lambda': 4.414003216122611e-06, 'min_split_gain': 1.1710697573225674e-05}. Best is trial 39 with value: 0.20941805184235088.\n",
      "[I 2024-06-01 22:34:39,964] Trial 44 finished with value: 0.20729816158919823 and parameters: {'n_estimators': 815, 'learning_rate': 0.009824143229709715, 'num_leaves': 138, 'colsample_bytree': 0.4005715569801305, 'colsample_bynode': 0.2637282480030543, 'subsample': 0.29387179720108997, 'reg_alpha': 5.852034314296368e-07, 'reg_lambda': 5.209144947445065e-06, 'min_split_gain': 6.957103099102206e-07}. Best is trial 39 with value: 0.20941805184235088.\n",
      "[I 2024-06-01 22:34:40,011] A new study created in memory with name: lightgbm_X3112\n"
     ]
    },
    {
     "name": "stdout",
     "output_type": "stream",
     "text": [
      "\n",
      "*********** Optimizing CV R^2 for X3112 ***********\n"
     ]
    },
    {
     "name": "stderr",
     "output_type": "stream",
     "text": [
      "[I 2024-06-01 22:35:07,670] Trial 0 finished with value: 0.30663734903684303 and parameters: {'n_estimators': 258, 'learning_rate': 0.1346941509642705, 'num_leaves': 47, 'colsample_bytree': 0.5903948646972071, 'colsample_bynode': 0.4812893194050143, 'subsample': 0.7344205847999921, 'reg_alpha': 0.00023761404778025518, 'reg_lambda': 8.274276086161453, 'min_split_gain': 43.31393146405955}. Best is trial 0 with value: 0.30663734903684303.\n",
      "[I 2024-06-01 22:35:22,624] Trial 1 finished with value: 0.2897026292237393 and parameters: {'n_estimators': 157, 'learning_rate': 0.1916108425246393, 'num_leaves': 34, 'colsample_bytree': 0.6112401049845391, 'colsample_bynode': 0.933036974463395, 'subsample': 0.30327704364841523, 'reg_alpha': 7.435205853060173e-08, 'reg_lambda': 1.5928833561691773e-08, 'min_split_gain': 2.1193293640885202}. Best is trial 0 with value: 0.30663734903684303.\n",
      "[I 2024-06-01 22:39:00,308] Trial 2 finished with value: 0.23207577839683963 and parameters: {'n_estimators': 514, 'learning_rate': 0.2747858093205808, 'num_leaves': 234, 'colsample_bytree': 0.8192427077950513, 'colsample_bynode': 0.5153314260276387, 'subsample': 0.8353968822148417, 'reg_alpha': 1.5231555549417795e-07, 'reg_lambda': 0.02507322588626923, 'min_split_gain': 2.7135190452611025e-07}. Best is trial 0 with value: 0.30663734903684303.\n",
      "[I 2024-06-01 22:39:30,404] Trial 3 finished with value: 0.31555290481131637 and parameters: {'n_estimators': 847, 'learning_rate': 0.05529255362848229, 'num_leaves': 21, 'colsample_bytree': 0.3381000508941643, 'colsample_bynode': 0.796810320490795, 'subsample': 0.5921127491624114, 'reg_alpha': 0.0048343655749956815, 'reg_lambda': 1.541338421512532e-08, 'min_split_gain': 0.0150091110454641}. Best is trial 3 with value: 0.31555290481131637.\n",
      "[I 2024-06-01 22:41:18,603] Trial 4 finished with value: 0.3131509195356001 and parameters: {'n_estimators': 312, 'learning_rate': 0.08567182098559827, 'num_leaves': 201, 'colsample_bytree': 0.7136382691931351, 'colsample_bynode': 0.42355711051640743, 'subsample': 0.5777739653495061, 'reg_alpha': 0.09469170997780146, 'reg_lambda': 4.001793885336983e-08, 'min_split_gain': 0.04652294026285371}. Best is trial 3 with value: 0.31555290481131637.\n",
      "[I 2024-06-01 22:41:29,321] Trial 5 finished with value: 0.26448564611227543 and parameters: {'n_estimators': 372, 'learning_rate': 0.013174529870578064, 'num_leaves': 6, 'colsample_bytree': 0.38388551583176544, 'colsample_bynode': 0.42733969384836035, 'subsample': 0.6776475778134097, 'reg_alpha': 0.00024322887698390846, 'reg_lambda': 76.51355496738442, 'min_split_gain': 1.0482095387452709e-07}. Best is trial 3 with value: 0.31555290481131637.\n",
      "[I 2024-06-01 22:41:42,958] Trial 6 finished with value: 0.21053082526854333 and parameters: {'n_estimators': 93, 'learning_rate': 0.010509669045577208, 'num_leaves': 58, 'colsample_bytree': 0.3279624422858039, 'colsample_bynode': 0.5196796955706757, 'subsample': 0.43331919400120206, 'reg_alpha': 3.8877276777818895e-07, 'reg_lambda': 1.2698470419737896e-07, 'min_split_gain': 0.03658439644870376}. Best is trial 3 with value: 0.31555290481131637.\n",
      "[I 2024-06-01 22:41:52,733] Trial 7 finished with value: 0.18570236001206092 and parameters: {'n_estimators': 75, 'learning_rate': 0.012363309109888218, 'num_leaves': 17, 'colsample_bytree': 0.8388939068631416, 'colsample_bynode': 0.18739114821375513, 'subsample': 0.8784586806241029, 'reg_alpha': 9.140797310621138e-08, 'reg_lambda': 58.156016371283684, 'min_split_gain': 0.00048586097401978113}. Best is trial 3 with value: 0.31555290481131637.\n",
      "[I 2024-06-01 22:43:00,464] Trial 8 finished with value: 0.3069944116366736 and parameters: {'n_estimators': 933, 'learning_rate': 0.08103283696018587, 'num_leaves': 84, 'colsample_bytree': 0.1352690130288886, 'colsample_bynode': 0.3545262663187686, 'subsample': 0.3401474209098767, 'reg_alpha': 9.149597200543702e-06, 'reg_lambda': 1.5391366847232682e-07, 'min_split_gain': 1.512975146404062e-05}. Best is trial 3 with value: 0.31555290481131637.\n",
      "[I 2024-06-01 22:43:30,753] Trial 9 finished with value: 0.23447938450360617 and parameters: {'n_estimators': 172, 'learning_rate': 0.006718386692055369, 'num_leaves': 68, 'colsample_bytree': 0.6099413087859177, 'colsample_bynode': 0.3388505418455009, 'subsample': 0.6424360401000248, 'reg_alpha': 8.697713691175405e-08, 'reg_lambda': 0.005747314402845941, 'min_split_gain': 19.631883842304806}. Best is trial 3 with value: 0.31555290481131637.\n",
      "[I 2024-06-01 22:43:50,490] Trial 10 finished with value: 0.3010915269985387 and parameters: {'n_estimators': 905, 'learning_rate': 0.02640056168005468, 'num_leaves': 13, 'colsample_bytree': 0.11804125885700018, 'colsample_bynode': 0.8113933295591295, 'subsample': 0.9817515271293407, 'reg_alpha': 3.4110495181349845, 'reg_lambda': 7.4144813810428455e-06, 'min_split_gain': 0.00015230498731390684}. Best is trial 3 with value: 0.31555290481131637.\n",
      "[I 2024-06-01 22:47:32,262] Trial 11 finished with value: 0.32661892949812865 and parameters: {'n_estimators': 479, 'learning_rate': 0.0422857324523695, 'num_leaves': 234, 'colsample_bytree': 0.9992933757507363, 'colsample_bynode': 0.6987263978834852, 'subsample': 0.5162241616672578, 'reg_alpha': 0.13301029752911975, 'reg_lambda': 1.262549048790577e-05, 'min_split_gain': 0.14325922509128916}. Best is trial 11 with value: 0.32661892949812865.\n",
      "[I 2024-06-01 22:47:59,989] Trial 12 finished with value: 0.3041722243759578 and parameters: {'n_estimators': 562, 'learning_rate': 0.03525364307033657, 'num_leaves': 14, 'colsample_bytree': 0.9701001517023972, 'colsample_bynode': 0.7346240874283828, 'subsample': 0.46812117289394556, 'reg_alpha': 0.03835750616530666, 'reg_lambda': 4.2586039720016815e-05, 'min_split_gain': 0.05925391005829816}. Best is trial 11 with value: 0.32661892949812865.\n",
      "[I 2024-06-01 22:48:12,869] Trial 13 finished with value: 0.297861088476241 and parameters: {'n_estimators': 584, 'learning_rate': 0.050531759068038674, 'num_leaves': 6, 'colsample_bytree': 0.3950140169574463, 'colsample_bynode': 0.7041405069819193, 'subsample': 0.5094347907374994, 'reg_alpha': 54.65124914888526, 'reg_lambda': 9.477985201917473e-06, 'min_split_gain': 0.7866381316154673}. Best is trial 11 with value: 0.32661892949812865.\n",
      "[I 2024-06-01 22:49:25,355] Trial 14 finished with value: 0.11686948872864886 and parameters: {'n_estimators': 699, 'learning_rate': 0.4734812971365314, 'num_leaves': 98, 'colsample_bytree': 0.26600580483391906, 'colsample_bynode': 0.9982378387431934, 'subsample': 0.5633361833897161, 'reg_alpha': 0.016874804613061224, 'reg_lambda': 0.0001505939801873882, 'min_split_gain': 0.0050359347501050325}. Best is trial 11 with value: 0.32661892949812865.\n",
      "[I 2024-06-01 22:49:47,552] Trial 15 finished with value: 0.3033810069986741 and parameters: {'n_estimators': 412, 'learning_rate': 0.02350081205780736, 'num_leaves': 22, 'colsample_bytree': 0.4567315540643011, 'colsample_bynode': 0.6600901004580484, 'subsample': 0.3916761961348123, 'reg_alpha': 0.847544366580755, 'reg_lambda': 9.72028793607312e-07, 'min_split_gain': 1.027576089577196e-05}. Best is trial 11 with value: 0.32661892949812865.\n",
      "[I 2024-06-01 22:51:57,910] Trial 16 finished with value: 0.3239794947695261 and parameters: {'n_estimators': 987, 'learning_rate': 0.05251638300105769, 'num_leaves': 137, 'colsample_bytree': 0.2358757930323637, 'colsample_bynode': 0.838343656220687, 'subsample': 0.7408506835616624, 'reg_alpha': 0.002714444602832778, 'reg_lambda': 0.09244938048419385, 'min_split_gain': 2.103754149833391}. Best is trial 11 with value: 0.32661892949812865.\n",
      "[I 2024-06-01 22:53:07,166] Trial 17 finished with value: 0.32298108428713557 and parameters: {'n_estimators': 439, 'learning_rate': 0.022453010124624508, 'num_leaves': 143, 'colsample_bytree': 0.24678833139411088, 'colsample_bynode': 0.6309333181471963, 'subsample': 0.7619876350749197, 'reg_alpha': 5.0168386208339084e-05, 'reg_lambda': 0.2292663839806962, 'min_split_gain': 1.9644449893088447}. Best is trial 11 with value: 0.32661892949812865.\n",
      "[I 2024-06-01 22:54:14,594] Trial 18 finished with value: 0.31355708925836606 and parameters: {'n_estimators': 200, 'learning_rate': 0.07898189918656397, 'num_leaves': 134, 'colsample_bytree': 0.9854889873095304, 'colsample_bynode': 0.8884768351177039, 'subsample': 0.8241811085422532, 'reg_alpha': 0.48070228912147484, 'reg_lambda': 0.8346049260876292, 'min_split_gain': 0.35458057011858957}. Best is trial 11 with value: 0.32661892949812865.\n",
      "[I 2024-06-01 22:59:01,122] Trial 19 finished with value: 0.32953224326241715 and parameters: {'n_estimators': 703, 'learning_rate': 0.03847062248723937, 'num_leaves': 249, 'colsample_bytree': 0.7561830521366903, 'colsample_bynode': 0.8202492939971712, 'subsample': 0.714255350084141, 'reg_alpha': 0.0022710909815943157, 'reg_lambda': 0.00092433362609994, 'min_split_gain': 90.31113465339592}. Best is trial 19 with value: 0.32953224326241715.\n",
      "[I 2024-06-01 23:00:01,989] Trial 20 finished with value: 0.19573524468378117 and parameters: {'n_estimators': 117, 'learning_rate': 0.005336492952697558, 'num_leaves': 227, 'colsample_bytree': 0.8443546392667275, 'colsample_bynode': 0.5918389597173798, 'subsample': 0.25229674483176956, 'reg_alpha': 4.71158890782405e-06, 'reg_lambda': 0.0004626832127963649, 'min_split_gain': 30.69046610421311}. Best is trial 19 with value: 0.32953224326241715.\n",
      "[I 2024-06-01 23:00:23,066] Trial 21 finished with value: 0.28038228735893045 and parameters: {'n_estimators': 52, 'learning_rate': 0.03391971210834741, 'num_leaves': 148, 'colsample_bytree': 0.7420915137647266, 'colsample_bynode': 0.8274889823792839, 'subsample': 0.7015870675366, 'reg_alpha': 0.0019680343377570238, 'reg_lambda': 0.003877845102544175, 'min_split_gain': 3.7407315275268496}. Best is trial 19 with value: 0.32953224326241715.\n",
      "[I 2024-06-01 23:02:15,854] Trial 22 finished with value: 0.32545156111451906 and parameters: {'n_estimators': 683, 'learning_rate': 0.043094342449196896, 'num_leaves': 107, 'colsample_bytree': 0.51198470380952, 'colsample_bynode': 0.7432863935420246, 'subsample': 0.9341925760257849, 'reg_alpha': 0.0015199154731030933, 'reg_lambda': 0.07569112033769593, 'min_split_gain': 72.90241650666017}. Best is trial 19 with value: 0.32953224326241715.\n",
      "[I 2024-06-01 23:06:39,887] Trial 23 finished with value: 0.32999531336875654 and parameters: {'n_estimators': 643, 'learning_rate': 0.01657069987942435, 'num_leaves': 255, 'colsample_bytree': 0.7058397853330423, 'colsample_bynode': 0.7348774151348276, 'subsample': 0.9051926984715615, 'reg_alpha': 8.083695733653874, 'reg_lambda': 0.0007701810945882614, 'min_split_gain': 36.57468749589719}. Best is trial 23 with value: 0.32999531336875654.\n"
     ]
    },
    {
     "name": "stdout",
     "output_type": "stream",
     "text": [
      "\n"
     ]
    }
   ],
   "source": [
    "from functools import partial\n",
    "\n",
    "OPTUNA_RES_DIR = Path('optuna_res')\n",
    "if not os.path.exists(OPTUNA_RES_DIR):\n",
    "    os.makedirs(OPTUNA_RES_DIR)\n",
    "    \n",
    "BEST_PARAMS = {}\n",
    "BEST_CV_R2 = {}\n",
    "\n",
    "\n",
    "for output_idx in range(6):\n",
    "    print(f'*********** Optimizing CV R^2 for {targets[output_idx]} ***********')\n",
    "    study = optuna.create_study(\n",
    "        directions=['maximize'], \n",
    "        sampler=optuna.samplers.TPESampler(n_startup_trials=10, seed=0),\n",
    "        study_name=f'lightgbm_{targets[output_idx]}'\n",
    "    )\n",
    "\n",
    "    # run optuna for a maxmimum of 50 trials or 30 min wall clock time\n",
    "    study.optimize(partial(optuna_objective, output_idx=output_idx), n_trials=50, timeout= 1800) \n",
    "    \n",
    "    # store the best parameters and value\n",
    "    BEST_PARAMS[targets[output_idx]] = study.best_params\n",
    "    BEST_CV_R2[targets[output_idx]] = study.best_value\n",
    "    \n",
    "    # save the runs as csv\n",
    "    results = study.trials_dataframe(attrs=('number','value', 'duration', 'params', 'user_attrs'))\n",
    "    results = results.rename(columns={'value':'R2'})\n",
    "    results['duration'] = results['duration']/np.timedelta64(1, 's')\n",
    "    results = results.sort_values(by='R2',ascending=False)\n",
    "    results.to_csv(OPTUNA_RES_DIR / f'cv_r2_{targets[output_idx]}.csv',index=False)\n",
    "    \n",
    "    # save the study object\n",
    "    _ = joblib.dump(study, OPTUNA_RES_DIR / f'lightgbm_{targets[output_idx]}.pkl')\n",
    "    print()\n"
   ]
  },
  {
   "cell_type": "markdown",
   "id": "19631aec",
   "metadata": {
    "papermill": {
     "duration": 0.031951,
     "end_time": "2024-06-01T23:06:39.990958",
     "exception": false,
     "start_time": "2024-06-01T23:06:39.959007",
     "status": "completed"
    },
    "tags": []
   },
   "source": [
    "The best hyperparameters found so far are as follows:"
   ]
  },
  {
   "cell_type": "code",
   "execution_count": 21,
   "id": "5786e32e",
   "metadata": {
    "_kg_hide-input": true,
    "execution": {
     "iopub.execute_input": "2024-06-01T23:06:40.056562Z",
     "iopub.status.busy": "2024-06-01T23:06:40.056277Z",
     "iopub.status.idle": "2024-06-01T23:06:40.063863Z",
     "shell.execute_reply": "2024-06-01T23:06:40.063016Z"
    },
    "papermill": {
     "duration": 0.04301,
     "end_time": "2024-06-01T23:06:40.065831",
     "exception": false,
     "start_time": "2024-06-01T23:06:40.022821",
     "status": "completed"
    },
    "tags": []
   },
   "outputs": [
    {
     "data": {
      "text/plain": [
       "{'X4': {'n_estimators': 732,\n",
       "  'learning_rate': 0.018946528247534143,\n",
       "  'num_leaves': 239,\n",
       "  'colsample_bytree': 0.5240978724074181,\n",
       "  'colsample_bynode': 0.6667554136169002,\n",
       "  'subsample': 0.4169827770737486,\n",
       "  'reg_alpha': 0.5624412233164827,\n",
       "  'reg_lambda': 0.0003610137807743432,\n",
       "  'min_split_gain': 1.057198393806282e-06},\n",
       " 'X11': {'n_estimators': 677,\n",
       "  'learning_rate': 0.022602015263856606,\n",
       "  'num_leaves': 141,\n",
       "  'colsample_bytree': 0.9911897559546625,\n",
       "  'colsample_bynode': 0.23157719568795526,\n",
       "  'subsample': 0.9049267300088708,\n",
       "  'reg_alpha': 99.93392585903727,\n",
       "  'reg_lambda': 0.8083980487639165,\n",
       "  'min_split_gain': 2.7308736431101315e-05},\n",
       " 'X18': {'n_estimators': 575,\n",
       "  'learning_rate': 0.02826625969291468,\n",
       "  'num_leaves': 114,\n",
       "  'colsample_bytree': 0.7354000894826939,\n",
       "  'colsample_bynode': 0.986059228301836,\n",
       "  'subsample': 0.9829738929728645,\n",
       "  'reg_alpha': 54.65124914888526,\n",
       "  'reg_lambda': 0.00020708451740732742,\n",
       "  'min_split_gain': 0.22542067410676705},\n",
       " 'X50': {'n_estimators': 739,\n",
       "  'learning_rate': 0.022056722361559283,\n",
       "  'num_leaves': 138,\n",
       "  'colsample_bytree': 0.704893775679171,\n",
       "  'colsample_bynode': 0.8329810114035011,\n",
       "  'subsample': 0.607044376022352,\n",
       "  'reg_alpha': 0.002714444602832778,\n",
       "  'reg_lambda': 0.1309136691282158,\n",
       "  'min_split_gain': 3.709627550851387e-05},\n",
       " 'X26': {'n_estimators': 638,\n",
       "  'learning_rate': 0.0234139274490925,\n",
       "  'num_leaves': 159,\n",
       "  'colsample_bytree': 0.3083139999290976,\n",
       "  'colsample_bynode': 0.13317911000199847,\n",
       "  'subsample': 0.295579874608357,\n",
       "  'reg_alpha': 7.286646023719772e-05,\n",
       "  'reg_lambda': 2.7648085375219067e-06,\n",
       "  'min_split_gain': 2.3630950933823054e-05},\n",
       " 'X3112': {'n_estimators': 643,\n",
       "  'learning_rate': 0.01657069987942435,\n",
       "  'num_leaves': 255,\n",
       "  'colsample_bytree': 0.7058397853330423,\n",
       "  'colsample_bynode': 0.7348774151348276,\n",
       "  'subsample': 0.9051926984715615,\n",
       "  'reg_alpha': 8.083695733653874,\n",
       "  'reg_lambda': 0.0007701810945882614,\n",
       "  'min_split_gain': 36.57468749589719}}"
      ]
     },
     "execution_count": 21,
     "metadata": {},
     "output_type": "execute_result"
    }
   ],
   "source": [
    "BEST_PARAMS"
   ]
  },
  {
   "cell_type": "code",
   "execution_count": 22,
   "id": "051b7f90",
   "metadata": {
    "execution": {
     "iopub.execute_input": "2024-06-01T23:06:40.132032Z",
     "iopub.status.busy": "2024-06-01T23:06:40.131779Z",
     "iopub.status.idle": "2024-06-01T23:06:40.136185Z",
     "shell.execute_reply": "2024-06-01T23:06:40.135357Z"
    },
    "papermill": {
     "duration": 0.039767,
     "end_time": "2024-06-01T23:06:40.138175",
     "exception": false,
     "start_time": "2024-06-01T23:06:40.098408",
     "status": "completed"
    },
    "tags": []
   },
   "outputs": [
    {
     "name": "stdout",
     "output_type": "stream",
     "text": [
      "Best 5-fold CV R^2: 0.2978\n"
     ]
    }
   ],
   "source": [
    "print(f'Best 5-fold CV R^2: {np.mean([r2 for r2 in BEST_CV_R2.values()]):.4f}')"
   ]
  },
  {
   "cell_type": "markdown",
   "id": "6d0a5e23",
   "metadata": {
    "papermill": {
     "duration": 0.032025,
     "end_time": "2024-06-01T23:06:40.204038",
     "exception": false,
     "start_time": "2024-06-01T23:06:40.172013",
     "status": "completed"
    },
    "tags": []
   },
   "source": [
    "## Individual output $R^2$"
   ]
  },
  {
   "cell_type": "code",
   "execution_count": 23,
   "id": "a08e6100",
   "metadata": {
    "execution": {
     "iopub.execute_input": "2024-06-01T23:06:40.270673Z",
     "iopub.status.busy": "2024-06-01T23:06:40.269967Z",
     "iopub.status.idle": "2024-06-01T23:06:40.276803Z",
     "shell.execute_reply": "2024-06-01T23:06:40.275944Z"
    },
    "papermill": {
     "duration": 0.042607,
     "end_time": "2024-06-01T23:06:40.278778",
     "exception": false,
     "start_time": "2024-06-01T23:06:40.236171",
     "status": "completed"
    },
    "tags": []
   },
   "outputs": [
    {
     "data": {
      "text/plain": [
       "X4       0.297252\n",
       "X11      0.296487\n",
       "X18      0.452777\n",
       "X50      0.200580\n",
       "X26      0.209418\n",
       "X3112    0.329995\n",
       "dtype: float64"
      ]
     },
     "execution_count": 23,
     "metadata": {},
     "output_type": "execute_result"
    }
   ],
   "source": [
    "pd.Series(BEST_CV_R2)"
   ]
  },
  {
   "cell_type": "markdown",
   "id": "9ba931d2",
   "metadata": {
    "papermill": {
     "duration": 0.032631,
     "end_time": "2024-06-01T23:06:40.344863",
     "exception": false,
     "start_time": "2024-06-01T23:06:40.312232",
     "status": "completed"
    },
    "tags": []
   },
   "source": [
    "## Final models"
   ]
  },
  {
   "cell_type": "code",
   "execution_count": 24,
   "id": "1d93c383",
   "metadata": {
    "execution": {
     "iopub.execute_input": "2024-06-01T23:06:40.411637Z",
     "iopub.status.busy": "2024-06-01T23:06:40.411391Z",
     "iopub.status.idle": "2024-06-01T23:11:07.811606Z",
     "shell.execute_reply": "2024-06-01T23:11:07.810761Z"
    },
    "papermill": {
     "duration": 267.436575,
     "end_time": "2024-06-01T23:11:07.814126",
     "exception": false,
     "start_time": "2024-06-01T23:06:40.377551",
     "status": "completed"
    },
    "tags": []
   },
   "outputs": [],
   "source": [
    "models_dict = {}\n",
    "Y_train_pred = Y.copy()\n",
    "\n",
    "for i in range(6):\n",
    "    models_dict[targets[i]] = LGBMRegressor(\n",
    "        max_depth=12, device='gpu', verbose=-1,\n",
    "        **BEST_PARAMS[targets[i]]\n",
    "    ).fit(\n",
    "        X, Y.iloc[:, i].values\n",
    "    )\n",
    "    \n",
    "    Y_train_pred.iloc[:, i] = models_dict[targets[i]].predict(X)"
   ]
  },
  {
   "cell_type": "code",
   "execution_count": 25,
   "id": "a39514ac",
   "metadata": {
    "execution": {
     "iopub.execute_input": "2024-06-01T23:11:07.882853Z",
     "iopub.status.busy": "2024-06-01T23:11:07.882465Z",
     "iopub.status.idle": "2024-06-01T23:11:07.892288Z",
     "shell.execute_reply": "2024-06-01T23:11:07.891275Z"
    },
    "papermill": {
     "duration": 0.045468,
     "end_time": "2024-06-01T23:11:07.894123",
     "exception": false,
     "start_time": "2024-06-01T23:11:07.848655",
     "status": "completed"
    },
    "tags": []
   },
   "outputs": [
    {
     "name": "stdout",
     "output_type": "stream",
     "text": [
      "Training R^2: 0.7733\n"
     ]
    }
   ],
   "source": [
    "training_r2 = r2_score(Y, Y_train_pred)\n",
    "print(f'Training R^2: {training_r2:.4f}')"
   ]
  },
  {
   "cell_type": "markdown",
   "id": "0a316ce3",
   "metadata": {
    "papermill": {
     "duration": 0.032517,
     "end_time": "2024-06-01T23:11:07.959368",
     "exception": false,
     "start_time": "2024-06-01T23:11:07.926851",
     "status": "completed"
    },
    "tags": []
   },
   "source": [
    "## Predictions on Test Data"
   ]
  },
  {
   "cell_type": "code",
   "execution_count": 26,
   "id": "074a6056",
   "metadata": {
    "execution": {
     "iopub.execute_input": "2024-06-01T23:11:08.026081Z",
     "iopub.status.busy": "2024-06-01T23:11:08.025800Z",
     "iopub.status.idle": "2024-06-01T23:11:08.376869Z",
     "shell.execute_reply": "2024-06-01T23:11:08.376103Z"
    },
    "papermill": {
     "duration": 0.38703,
     "end_time": "2024-06-01T23:11:08.379386",
     "exception": false,
     "start_time": "2024-06-01T23:11:07.992356",
     "status": "completed"
    },
    "tags": []
   },
   "outputs": [],
   "source": [
    "tabular_test = pd.read_csv(path / 'test.csv', index_col=['id'])[final_features]\n",
    "test_embds = pd.read_parquet(emb_path / 'test_embeddings.parquet').set_index('id')\n",
    "test = test_embds.join(tabular_test)"
   ]
  },
  {
   "cell_type": "code",
   "execution_count": 27,
   "id": "099c0391",
   "metadata": {
    "execution": {
     "iopub.execute_input": "2024-06-01T23:11:08.447262Z",
     "iopub.status.busy": "2024-06-01T23:11:08.446968Z",
     "iopub.status.idle": "2024-06-01T23:11:11.744995Z",
     "shell.execute_reply": "2024-06-01T23:11:11.744106Z"
    },
    "papermill": {
     "duration": 3.333975,
     "end_time": "2024-06-01T23:11:11.747451",
     "exception": false,
     "start_time": "2024-06-01T23:11:08.413476",
     "status": "completed"
    },
    "tags": []
   },
   "outputs": [],
   "source": [
    "test_preds = []\n",
    "for i in range(6):\n",
    "    test_preds.append(\n",
    "        np.maximum(models_dict[targets[i]].predict(test), 0)\n",
    "    )\n",
    "\n",
    "test_preds = np.column_stack(test_preds)"
   ]
  },
  {
   "cell_type": "code",
   "execution_count": 28,
   "id": "dd08068c",
   "metadata": {
    "execution": {
     "iopub.execute_input": "2024-06-01T23:11:11.815114Z",
     "iopub.status.busy": "2024-06-01T23:11:11.814806Z",
     "iopub.status.idle": "2024-06-01T23:11:11.899896Z",
     "shell.execute_reply": "2024-06-01T23:11:11.899219Z"
    },
    "papermill": {
     "duration": 0.120783,
     "end_time": "2024-06-01T23:11:11.901979",
     "exception": false,
     "start_time": "2024-06-01T23:11:11.781196",
     "status": "completed"
    },
    "tags": []
   },
   "outputs": [],
   "source": [
    "submission = pd.DataFrame(\n",
    "    test_preds,\n",
    "    columns=targets,\n",
    "    index=test.index\n",
    ").reset_index()\n",
    "\n",
    "\n",
    "submission.to_csv('submission.csv', index=False)"
   ]
  },
  {
   "cell_type": "code",
   "execution_count": 29,
   "id": "4fe2d916",
   "metadata": {
    "execution": {
     "iopub.execute_input": "2024-06-01T23:11:11.968756Z",
     "iopub.status.busy": "2024-06-01T23:11:11.968492Z",
     "iopub.status.idle": "2024-06-01T23:11:11.980292Z",
     "shell.execute_reply": "2024-06-01T23:11:11.979487Z"
    },
    "papermill": {
     "duration": 0.047569,
     "end_time": "2024-06-01T23:11:11.982322",
     "exception": false,
     "start_time": "2024-06-01T23:11:11.934753",
     "status": "completed"
    },
    "tags": []
   },
   "outputs": [
    {
     "data": {
      "text/html": [
       "<div>\n",
       "<style scoped>\n",
       "    .dataframe tbody tr th:only-of-type {\n",
       "        vertical-align: middle;\n",
       "    }\n",
       "\n",
       "    .dataframe tbody tr th {\n",
       "        vertical-align: top;\n",
       "    }\n",
       "\n",
       "    .dataframe thead th {\n",
       "        text-align: right;\n",
       "    }\n",
       "</style>\n",
       "<table border=\"1\" class=\"dataframe\">\n",
       "  <thead>\n",
       "    <tr style=\"text-align: right;\">\n",
       "      <th></th>\n",
       "      <th>id</th>\n",
       "      <th>X4</th>\n",
       "      <th>X11</th>\n",
       "      <th>X18</th>\n",
       "      <th>X50</th>\n",
       "      <th>X26</th>\n",
       "      <th>X3112</th>\n",
       "    </tr>\n",
       "  </thead>\n",
       "  <tbody>\n",
       "    <tr>\n",
       "      <th>0</th>\n",
       "      <td>201238668</td>\n",
       "      <td>0.633491</td>\n",
       "      <td>10.536669</td>\n",
       "      <td>1.953159</td>\n",
       "      <td>1.509969</td>\n",
       "      <td>11.293972</td>\n",
       "      <td>548.763584</td>\n",
       "    </tr>\n",
       "    <tr>\n",
       "      <th>1</th>\n",
       "      <td>202310319</td>\n",
       "      <td>0.445514</td>\n",
       "      <td>17.887620</td>\n",
       "      <td>0.648696</td>\n",
       "      <td>1.445659</td>\n",
       "      <td>6.392381</td>\n",
       "      <td>789.250338</td>\n",
       "    </tr>\n",
       "    <tr>\n",
       "      <th>2</th>\n",
       "      <td>202604412</td>\n",
       "      <td>0.519351</td>\n",
       "      <td>14.462702</td>\n",
       "      <td>1.273922</td>\n",
       "      <td>1.750834</td>\n",
       "      <td>20.596059</td>\n",
       "      <td>901.745989</td>\n",
       "    </tr>\n",
       "    <tr>\n",
       "      <th>3</th>\n",
       "      <td>201353439</td>\n",
       "      <td>0.482648</td>\n",
       "      <td>19.641907</td>\n",
       "      <td>0.353283</td>\n",
       "      <td>1.326921</td>\n",
       "      <td>5.758508</td>\n",
       "      <td>990.776195</td>\n",
       "    </tr>\n",
       "    <tr>\n",
       "      <th>4</th>\n",
       "      <td>195351745</td>\n",
       "      <td>0.502092</td>\n",
       "      <td>11.753428</td>\n",
       "      <td>0.079809</td>\n",
       "      <td>1.448307</td>\n",
       "      <td>0.000000</td>\n",
       "      <td>246.919885</td>\n",
       "    </tr>\n",
       "  </tbody>\n",
       "</table>\n",
       "</div>"
      ],
      "text/plain": [
       "          id        X4        X11       X18       X50        X26       X3112\n",
       "0  201238668  0.633491  10.536669  1.953159  1.509969  11.293972  548.763584\n",
       "1  202310319  0.445514  17.887620  0.648696  1.445659   6.392381  789.250338\n",
       "2  202604412  0.519351  14.462702  1.273922  1.750834  20.596059  901.745989\n",
       "3  201353439  0.482648  19.641907  0.353283  1.326921   5.758508  990.776195\n",
       "4  195351745  0.502092  11.753428  0.079809  1.448307   0.000000  246.919885"
      ]
     },
     "execution_count": 29,
     "metadata": {},
     "output_type": "execute_result"
    }
   ],
   "source": [
    "submission.head()"
   ]
  }
 ],
 "metadata": {
  "kaggle": {
   "accelerator": "gpu",
   "dataSources": [
    {
     "databundleVersionId": 8046133,
     "sourceId": 65626,
     "sourceType": "competition"
    },
    {
     "sourceId": 179166290,
     "sourceType": "kernelVersion"
    }
   ],
   "dockerImageVersionId": 30674,
   "isGpuEnabled": true,
   "isInternetEnabled": true,
   "language": "python",
   "sourceType": "notebook"
  },
  "kernelspec": {
   "display_name": "Python 3",
   "language": "python",
   "name": "python3"
  },
  "language_info": {
   "codemirror_mode": {
    "name": "ipython",
    "version": 3
   },
   "file_extension": ".py",
   "mimetype": "text/x-python",
   "name": "python",
   "nbconvert_exporter": "python",
   "pygments_lexer": "ipython3",
   "version": "3.10.13"
  },
  "papermill": {
   "default_parameters": {},
   "duration": 11708.623391,
   "end_time": "2024-06-01T23:11:12.760411",
   "environment_variables": {},
   "exception": null,
   "input_path": "__notebook__.ipynb",
   "output_path": "__notebook__.ipynb",
   "parameters": {},
   "start_time": "2024-06-01T19:56:04.137020",
   "version": "2.5.0"
  }
 },
 "nbformat": 4,
 "nbformat_minor": 5
}
