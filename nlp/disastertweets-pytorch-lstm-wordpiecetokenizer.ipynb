{
 "cells": [
  {
   "cell_type": "code",
   "execution_count": 1,
   "id": "300a8432",
   "metadata": {
    "_cell_guid": "b1076dfc-b9ad-4769-8c92-a6c4dae69d19",
    "_uuid": "8f2839f25d086af736a60e9eeb907d3b93b6e0e5",
    "execution": {
     "iopub.execute_input": "2024-06-01T00:39:08.004244Z",
     "iopub.status.busy": "2024-06-01T00:39:08.003973Z",
     "iopub.status.idle": "2024-06-01T00:39:15.512918Z",
     "shell.execute_reply": "2024-06-01T00:39:15.512080Z"
    },
    "papermill": {
     "duration": 7.519242,
     "end_time": "2024-06-01T00:39:15.515245",
     "exception": false,
     "start_time": "2024-06-01T00:39:07.996003",
     "status": "completed"
    },
    "tags": []
   },
   "outputs": [],
   "source": [
    "import numpy as np\n",
    "import pandas as pd\n",
    "import matplotlib.pyplot as plt\n",
    "import re\n",
    "\n",
    "import torch\n",
    "import torch.nn as nn\n",
    "import torch.optim as optim\n",
    "from torch.utils.data import Dataset, DataLoader\n",
    "from sklearn.model_selection import train_test_split\n",
    "from sklearn.metrics import accuracy_score, f1_score, roc_auc_score\n",
    "from tokenizers import decoders, models, normalizers, pre_tokenizers, processors, trainers, Tokenizer\n",
    "from transformers import BertTokenizerFast\n",
    "\n",
    "from pathlib import Path\n",
    "plt.style.use('ggplot')"
   ]
  },
  {
   "cell_type": "code",
   "execution_count": 2,
   "id": "e4e5859e",
   "metadata": {
    "execution": {
     "iopub.execute_input": "2024-06-01T00:39:15.530393Z",
     "iopub.status.busy": "2024-06-01T00:39:15.529446Z",
     "iopub.status.idle": "2024-06-01T00:39:15.534443Z",
     "shell.execute_reply": "2024-06-01T00:39:15.533602Z"
    },
    "papermill": {
     "duration": 0.014311,
     "end_time": "2024-06-01T00:39:15.536413",
     "exception": false,
     "start_time": "2024-06-01T00:39:15.522102",
     "status": "completed"
    },
    "tags": []
   },
   "outputs": [],
   "source": [
    "## CONFIG\n",
    "MAX_VOCAB_SIZE = 5000\n",
    "MIN_FREQUENCY = 10\n",
    "MAX_SEQ_LEN = 50\n",
    "BATCH_SIZE = 128\n",
    "MAX_LR = 1e-4\n",
    "NUM_EPOCHS = 20\n",
    "\n",
    "NUM_LSTM_LAYERS = 2\n",
    "EMBEDDING_DIM = 256\n",
    "HIDDEN_DIM = EMBEDDING_DIM // 2"
   ]
  },
  {
   "cell_type": "markdown",
   "id": "99ce97cf",
   "metadata": {
    "papermill": {
     "duration": 0.006188,
     "end_time": "2024-06-01T00:39:15.549007",
     "exception": false,
     "start_time": "2024-06-01T00:39:15.542819",
     "status": "completed"
    },
    "tags": []
   },
   "source": [
    "## Load the data and preprocessing"
   ]
  },
  {
   "cell_type": "code",
   "execution_count": 3,
   "id": "8a7b06ea",
   "metadata": {
    "execution": {
     "iopub.execute_input": "2024-06-01T00:39:15.562786Z",
     "iopub.status.busy": "2024-06-01T00:39:15.562495Z",
     "iopub.status.idle": "2024-06-01T00:39:15.627131Z",
     "shell.execute_reply": "2024-06-01T00:39:15.626230Z"
    },
    "papermill": {
     "duration": 0.073868,
     "end_time": "2024-06-01T00:39:15.629219",
     "exception": false,
     "start_time": "2024-06-01T00:39:15.555351",
     "status": "completed"
    },
    "tags": []
   },
   "outputs": [
    {
     "data": {
      "text/html": [
       "<div>\n",
       "<style scoped>\n",
       "    .dataframe tbody tr th:only-of-type {\n",
       "        vertical-align: middle;\n",
       "    }\n",
       "\n",
       "    .dataframe tbody tr th {\n",
       "        vertical-align: top;\n",
       "    }\n",
       "\n",
       "    .dataframe thead th {\n",
       "        text-align: right;\n",
       "    }\n",
       "</style>\n",
       "<table border=\"1\" class=\"dataframe\">\n",
       "  <thead>\n",
       "    <tr style=\"text-align: right;\">\n",
       "      <th></th>\n",
       "      <th>id</th>\n",
       "      <th>keyword</th>\n",
       "      <th>location</th>\n",
       "      <th>text</th>\n",
       "      <th>target</th>\n",
       "    </tr>\n",
       "  </thead>\n",
       "  <tbody>\n",
       "    <tr>\n",
       "      <th>0</th>\n",
       "      <td>1</td>\n",
       "      <td>NaN</td>\n",
       "      <td>NaN</td>\n",
       "      <td>Our Deeds are the Reason of this #earthquake M...</td>\n",
       "      <td>1</td>\n",
       "    </tr>\n",
       "    <tr>\n",
       "      <th>1</th>\n",
       "      <td>4</td>\n",
       "      <td>NaN</td>\n",
       "      <td>NaN</td>\n",
       "      <td>Forest fire near La Ronge Sask. Canada</td>\n",
       "      <td>1</td>\n",
       "    </tr>\n",
       "    <tr>\n",
       "      <th>2</th>\n",
       "      <td>5</td>\n",
       "      <td>NaN</td>\n",
       "      <td>NaN</td>\n",
       "      <td>All residents asked to 'shelter in place' are ...</td>\n",
       "      <td>1</td>\n",
       "    </tr>\n",
       "    <tr>\n",
       "      <th>3</th>\n",
       "      <td>6</td>\n",
       "      <td>NaN</td>\n",
       "      <td>NaN</td>\n",
       "      <td>13,000 people receive #wildfires evacuation or...</td>\n",
       "      <td>1</td>\n",
       "    </tr>\n",
       "    <tr>\n",
       "      <th>4</th>\n",
       "      <td>7</td>\n",
       "      <td>NaN</td>\n",
       "      <td>NaN</td>\n",
       "      <td>Just got sent this photo from Ruby #Alaska as ...</td>\n",
       "      <td>1</td>\n",
       "    </tr>\n",
       "  </tbody>\n",
       "</table>\n",
       "</div>"
      ],
      "text/plain": [
       "   id keyword location                                               text  \\\n",
       "0   1     NaN      NaN  Our Deeds are the Reason of this #earthquake M...   \n",
       "1   4     NaN      NaN             Forest fire near La Ronge Sask. Canada   \n",
       "2   5     NaN      NaN  All residents asked to 'shelter in place' are ...   \n",
       "3   6     NaN      NaN  13,000 people receive #wildfires evacuation or...   \n",
       "4   7     NaN      NaN  Just got sent this photo from Ruby #Alaska as ...   \n",
       "\n",
       "   target  \n",
       "0       1  \n",
       "1       1  \n",
       "2       1  \n",
       "3       1  \n",
       "4       1  "
      ]
     },
     "execution_count": 3,
     "metadata": {},
     "output_type": "execute_result"
    }
   ],
   "source": [
    "data_path = Path('/kaggle/input/nlp-getting-started')\n",
    "train = pd.read_csv(data_path / 'train.csv')\n",
    "train.head(5)"
   ]
  },
  {
   "cell_type": "code",
   "execution_count": 4,
   "id": "832d616e",
   "metadata": {
    "execution": {
     "iopub.execute_input": "2024-06-01T00:39:15.644582Z",
     "iopub.status.busy": "2024-06-01T00:39:15.643859Z",
     "iopub.status.idle": "2024-06-01T00:39:15.768481Z",
     "shell.execute_reply": "2024-06-01T00:39:15.767602Z"
    },
    "papermill": {
     "duration": 0.134234,
     "end_time": "2024-06-01T00:39:15.770418",
     "exception": false,
     "start_time": "2024-06-01T00:39:15.636184",
     "status": "completed"
    },
    "tags": []
   },
   "outputs": [],
   "source": [
    "# remove emoticons\n",
    "# source: https://gist.github.com/slowkow/7a7f61f495e3dbb7e3d767f97bd7304b\n",
    "def remove_emoji(string):\n",
    "    emoji_pattern = re.compile(\"[\"\n",
    "                           u\"\\U0001F600-\\U0001F64F\"  # emoticons\n",
    "                           u\"\\U0001F300-\\U0001F5FF\"  # symbols & pictographs\n",
    "                           u\"\\U0001F680-\\U0001F6FF\"  # transport & map symbols\n",
    "                           u\"\\U0001F1E0-\\U0001F1FF\"  # flags (iOS)\n",
    "                           u\"\\U00002702-\\U000027B0\"\n",
    "                           u\"\\U000024C2-\\U0001F251\"\n",
    "                           \"]+\", flags=re.UNICODE)\n",
    "    return emoji_pattern.sub(r'', string)\n",
    "\n",
    "# Preprocess the data\n",
    "def preprocess_tweet(tweet):\n",
    "    tweet = tweet.lower()\n",
    "    # remove urls\n",
    "    tweet = re.sub(r'http\\S+', '', tweet)\n",
    "    tweet = re.sub(r'www\\S+', '', tweet)\n",
    "    \n",
    "    # remove numbers\n",
    "    tweet = re.sub(r'[0-9]+(,[0-9])*(\\.[0-9]+)*', '', tweet)\n",
    "    \n",
    "    # remove emojis\n",
    "    tweet = remove_emoji(tweet)\n",
    "    \n",
    "    return tweet\n",
    "\n",
    "train['text'] = train['text'].apply(preprocess_tweet)"
   ]
  },
  {
   "cell_type": "markdown",
   "id": "51336c3c",
   "metadata": {
    "papermill": {
     "duration": 0.006361,
     "end_time": "2024-06-01T00:39:15.783541",
     "exception": false,
     "start_time": "2024-06-01T00:39:15.777180",
     "status": "completed"
    },
    "tags": []
   },
   "source": [
    "## WordPiece Tokenizer"
   ]
  },
  {
   "cell_type": "code",
   "execution_count": 5,
   "id": "e2aa1e26",
   "metadata": {
    "execution": {
     "iopub.execute_input": "2024-06-01T00:39:15.797707Z",
     "iopub.status.busy": "2024-06-01T00:39:15.797431Z",
     "iopub.status.idle": "2024-06-01T00:39:15.808952Z",
     "shell.execute_reply": "2024-06-01T00:39:15.808096Z"
    },
    "papermill": {
     "duration": 0.020802,
     "end_time": "2024-06-01T00:39:15.810957",
     "exception": false,
     "start_time": "2024-06-01T00:39:15.790155",
     "status": "completed"
    },
    "tags": []
   },
   "outputs": [],
   "source": [
    "# tokenizer with empty WordPiece model\n",
    "# unk_token - token for unknown words; using BERT convention\n",
    "tokenizer = Tokenizer(models.WordPiece(unk_token=\"[UNK]\"))"
   ]
  },
  {
   "cell_type": "code",
   "execution_count": 6,
   "id": "a8a97613",
   "metadata": {
    "execution": {
     "iopub.execute_input": "2024-06-01T00:39:15.826306Z",
     "iopub.status.busy": "2024-06-01T00:39:15.826060Z",
     "iopub.status.idle": "2024-06-01T00:39:15.830349Z",
     "shell.execute_reply": "2024-06-01T00:39:15.829525Z"
    },
    "papermill": {
     "duration": 0.014066,
     "end_time": "2024-06-01T00:39:15.832197",
     "exception": false,
     "start_time": "2024-06-01T00:39:15.818131",
     "status": "completed"
    },
    "tags": []
   },
   "outputs": [],
   "source": [
    "# preprocessing steps\n",
    "# normalizer: NFD normalization, lower case, strip accents\n",
    "tokenizer.normalizer = normalizers.BertNormalizer(lowercase=True)\n",
    "\n",
    "# pre-tokenizer: split text using whitespace and punctuation\n",
    "tokenizer.pre_tokenizer = pre_tokenizers.BertPreTokenizer()"
   ]
  },
  {
   "cell_type": "code",
   "execution_count": 7,
   "id": "d77d5209",
   "metadata": {
    "execution": {
     "iopub.execute_input": "2024-06-01T00:39:15.846213Z",
     "iopub.status.busy": "2024-06-01T00:39:15.845969Z",
     "iopub.status.idle": "2024-06-01T00:39:16.290417Z",
     "shell.execute_reply": "2024-06-01T00:39:16.289463Z"
    },
    "papermill": {
     "duration": 0.453839,
     "end_time": "2024-06-01T00:39:16.292481",
     "exception": false,
     "start_time": "2024-06-01T00:39:15.838642",
     "status": "completed"
    },
    "tags": []
   },
   "outputs": [
    {
     "name": "stdout",
     "output_type": "stream",
     "text": [
      "\n",
      "\n",
      "\n"
     ]
    }
   ],
   "source": [
    "special_tokens = [\"[UNK]\", \"[PAD]\"]\n",
    "trainer = trainers.WordPieceTrainer(\n",
    "    vocab_size=MAX_VOCAB_SIZE,\n",
    "    min_frequency=MIN_FREQUENCY,\n",
    "    special_tokens=special_tokens,\n",
    "    show_progress=True\n",
    ")\n",
    "\n",
    "tokenizer.train_from_iterator(train['text'].tolist(), trainer=trainer)\n",
    "\n",
    "# Optional: specifiy decoder\n",
    "tokenizer.decoder = decoders.WordPiece(prefix=\"##\")"
   ]
  },
  {
   "cell_type": "code",
   "execution_count": 8,
   "id": "21b6eb69",
   "metadata": {
    "execution": {
     "iopub.execute_input": "2024-06-01T00:39:16.307466Z",
     "iopub.status.busy": "2024-06-01T00:39:16.307166Z",
     "iopub.status.idle": "2024-06-01T00:39:16.311626Z",
     "shell.execute_reply": "2024-06-01T00:39:16.310807Z"
    },
    "papermill": {
     "duration": 0.013966,
     "end_time": "2024-06-01T00:39:16.313445",
     "exception": false,
     "start_time": "2024-06-01T00:39:16.299479",
     "status": "completed"
    },
    "tags": []
   },
   "outputs": [],
   "source": [
    "# Save the tokenizer\n",
    "tokenizer.save(\"wordpiece_tokenizer\")"
   ]
  },
  {
   "cell_type": "markdown",
   "id": "18f9811f",
   "metadata": {
    "papermill": {
     "duration": 0.007433,
     "end_time": "2024-06-01T00:39:16.327523",
     "exception": false,
     "start_time": "2024-06-01T00:39:16.320090",
     "status": "completed"
    },
    "tags": []
   },
   "source": [
    "## Training and Validation Datasets"
   ]
  },
  {
   "cell_type": "code",
   "execution_count": 9,
   "id": "4fc7dd0c",
   "metadata": {
    "execution": {
     "iopub.execute_input": "2024-06-01T00:39:16.342025Z",
     "iopub.status.busy": "2024-06-01T00:39:16.341718Z",
     "iopub.status.idle": "2024-06-01T00:39:16.351000Z",
     "shell.execute_reply": "2024-06-01T00:39:16.350301Z"
    },
    "papermill": {
     "duration": 0.018626,
     "end_time": "2024-06-01T00:39:16.352894",
     "exception": false,
     "start_time": "2024-06-01T00:39:16.334268",
     "status": "completed"
    },
    "tags": []
   },
   "outputs": [],
   "source": [
    "# pad_to\n",
    "pad_token_id = tokenizer.token_to_id(\"[PAD]\")\n",
    "\n",
    "\n",
    "# Function to pad and truncate sequences\n",
    "def pad_and_truncate(sequence, max_length, pad_token_id):\n",
    "    if len(sequence) > max_length:\n",
    "        return sequence[:max_length]\n",
    "    return sequence + [pad_token_id] * (max_length - len(sequence))\n",
    "\n",
    "\n",
    "class TweetDataset(Dataset):\n",
    "    def __init__(self, texts, labels, tokenizer, pad_token_id):\n",
    "        self.texts = texts\n",
    "        self.labels = labels\n",
    "        self.tokenizer = tokenizer\n",
    "        self.pad_token_id = pad_token_id\n",
    "\n",
    "    def __len__(self):\n",
    "        return len(self.texts)\n",
    "\n",
    "    def __getitem__(self, idx):\n",
    "        text = self.texts[idx]\n",
    "        label = self.labels[idx]\n",
    "        tokenized_text = self.tokenizer.encode(text).ids\n",
    "        return torch.tensor(tokenized_text), torch.tensor(label)\n",
    "\n",
    "# Custom collate function for dynamic padding\n",
    "def collate_fn(batch):\n",
    "    texts, labels = zip(*batch)\n",
    "    \n",
    "    # Compute max length in the batch\n",
    "    max_length = max(MAX_SEQ_LEN, max(len(text) for text in texts))\n",
    "    \n",
    "    # Pad sequences to the max length\n",
    "    padded_texts = [pad_and_truncate(text.tolist(), max_length, pad_token_id) for text in texts]\n",
    "    \n",
    "    # Convert to tensors\n",
    "    padded_texts = torch.tensor(padded_texts)\n",
    "    labels = torch.tensor(labels)\n",
    "    \n",
    "    return padded_texts, labels"
   ]
  },
  {
   "cell_type": "code",
   "execution_count": 10,
   "id": "678f346a",
   "metadata": {
    "execution": {
     "iopub.execute_input": "2024-06-01T00:39:16.367190Z",
     "iopub.status.busy": "2024-06-01T00:39:16.366927Z",
     "iopub.status.idle": "2024-06-01T00:39:16.378841Z",
     "shell.execute_reply": "2024-06-01T00:39:16.377939Z"
    },
    "papermill": {
     "duration": 0.021201,
     "end_time": "2024-06-01T00:39:16.380734",
     "exception": false,
     "start_time": "2024-06-01T00:39:16.359533",
     "status": "completed"
    },
    "tags": []
   },
   "outputs": [],
   "source": [
    "# split into trainining and validation datasets\n",
    "train_tweets, val_tweets, train_labels, val_labels = train_test_split(\n",
    "    train['text'].tolist(), train['target'].tolist(), test_size=0.2, random_state=42\n",
    ")\n",
    "\n",
    "# Create datasets\n",
    "train_dataset = TweetDataset(train_tweets, train_labels, tokenizer, pad_token_id)\n",
    "val_dataset = TweetDataset(val_tweets, val_labels, tokenizer, pad_token_id)\n",
    "\n",
    "# Create dataloaders with custom collate function\n",
    "train_loader = DataLoader(train_dataset, batch_size=BATCH_SIZE, shuffle=True, collate_fn=collate_fn)\n",
    "val_loader = DataLoader(val_dataset, batch_size=BATCH_SIZE, shuffle=False, collate_fn=collate_fn)"
   ]
  },
  {
   "cell_type": "markdown",
   "id": "d34b372f",
   "metadata": {
    "papermill": {
     "duration": 0.006543,
     "end_time": "2024-06-01T00:39:16.393985",
     "exception": false,
     "start_time": "2024-06-01T00:39:16.387442",
     "status": "completed"
    },
    "tags": []
   },
   "source": [
    "## LSTM classifier"
   ]
  },
  {
   "cell_type": "code",
   "execution_count": 11,
   "id": "65ded9eb",
   "metadata": {
    "execution": {
     "iopub.execute_input": "2024-06-01T00:39:16.408313Z",
     "iopub.status.busy": "2024-06-01T00:39:16.408048Z",
     "iopub.status.idle": "2024-06-01T00:39:16.417340Z",
     "shell.execute_reply": "2024-06-01T00:39:16.416680Z"
    },
    "papermill": {
     "duration": 0.018513,
     "end_time": "2024-06-01T00:39:16.419103",
     "exception": false,
     "start_time": "2024-06-01T00:39:16.400590",
     "status": "completed"
    },
    "tags": []
   },
   "outputs": [],
   "source": [
    "class BiLSTMClassifier(nn.Module):\n",
    "    def __init__(self, vocab_size, embedding_dim, hidden_dim, num_lstm_layers, output_dim, pad_token_id):\n",
    "        super(BiLSTMClassifier, self).__init__()\n",
    "        self.embedding = nn.Embedding(vocab_size, embedding_dim, padding_idx=pad_token_id)\n",
    "        self.lstm_layers = nn.ModuleList([\n",
    "            nn.LSTM(\n",
    "                embedding_dim if i == 0 else hidden_dim * 2,\n",
    "                hidden_dim,\n",
    "                num_layers=1,\n",
    "                bidirectional=True,\n",
    "                batch_first=True\n",
    "            ) for i in range(num_lstm_layers)\n",
    "        ])\n",
    "        \n",
    "        \n",
    "        self.lstm_dropout = nn.Dropout(0.2)\n",
    "        \n",
    "        self.fc = nn.Sequential(\n",
    "            nn.Linear(hidden_dim * 2, 128),\n",
    "            nn.BatchNorm1d(128),\n",
    "            nn.ReLU(),\n",
    "            nn.Dropout(0.1),\n",
    "            nn.Linear(128, output_dim)\n",
    "        )\n",
    "        self.pad_token_id = pad_token_id\n",
    "\n",
    "    def forward(self, text):\n",
    "        embedded = self.embedding(text)\n",
    "        x = embedded\n",
    "        \n",
    "        for lstm in self.lstm_layers:\n",
    "            lstm_out, _ = lstm(x)\n",
    "            x = x + lstm_out\n",
    "        \n",
    "        # Create mask for padding tokens\n",
    "        mask = (text != self.pad_token_id).unsqueeze(2).type(torch.float32)\n",
    "        \n",
    "        # Apply mask to LSTM outputs\n",
    "        masked_lstm_out = lstm_out * mask\n",
    "        \n",
    "        # Sum the outputs and divide by the number of valid (non-pad) tokens\n",
    "        pooled = masked_lstm_out.sum(dim=1) / mask.sum(dim=1)\n",
    "        \n",
    "        output = self.lstm_dropout(pooled)\n",
    "        return self.fc(output)\n"
   ]
  },
  {
   "cell_type": "markdown",
   "id": "83fee924",
   "metadata": {
    "papermill": {
     "duration": 0.00674,
     "end_time": "2024-06-01T00:39:16.432457",
     "exception": false,
     "start_time": "2024-06-01T00:39:16.425717",
     "status": "completed"
    },
    "tags": []
   },
   "source": [
    "## Training the model"
   ]
  },
  {
   "cell_type": "code",
   "execution_count": 12,
   "id": "4cc4c3ab",
   "metadata": {
    "execution": {
     "iopub.execute_input": "2024-06-01T00:39:16.447321Z",
     "iopub.status.busy": "2024-06-01T00:39:16.447060Z",
     "iopub.status.idle": "2024-06-01T00:39:16.458196Z",
     "shell.execute_reply": "2024-06-01T00:39:16.457392Z"
    },
    "papermill": {
     "duration": 0.020566,
     "end_time": "2024-06-01T00:39:16.460107",
     "exception": false,
     "start_time": "2024-06-01T00:39:16.439541",
     "status": "completed"
    },
    "tags": []
   },
   "outputs": [],
   "source": [
    "from tqdm import tqdm\n",
    "\n",
    "def train_model(model, train_loader, val_loader, criterion, optimizer, scheduler, epochs=5, checkpoint_path='best_model.pth'):\n",
    "    best_val_loss = float('inf')\n",
    "    \n",
    "    for epoch in range(epochs):\n",
    "        model.train()\n",
    "        epoch_loss = 0\n",
    "        \n",
    "        # Create a progress bar for the entire epoch\n",
    "        pbar = tqdm(total=len(train_loader), desc=f'Epoch {epoch + 1}/{epochs}', unit='batch')\n",
    "\n",
    "        for texts, labels in train_loader:\n",
    "            texts, labels = texts.to(device), labels.to(device).float()\n",
    "            optimizer.zero_grad()\n",
    "            predictions = model(texts).squeeze(1)\n",
    "            loss = criterion(predictions, labels)\n",
    "            loss.backward()\n",
    "            optimizer.step()\n",
    "            scheduler.step()  # Update the learning rate\n",
    "\n",
    "            epoch_loss += loss.item()\n",
    "            pbar.set_postfix({'Train Loss': epoch_loss / (pbar.n + 1)})\n",
    "            pbar.update()\n",
    "\n",
    "        pbar.close()\n",
    "\n",
    "        # Validation\n",
    "        model.eval()\n",
    "        val_loss = 0\n",
    "        with torch.no_grad():\n",
    "            for texts, labels in val_loader:\n",
    "                texts, labels = texts.to(device), labels.to(device).float()\n",
    "                predictions = model(texts).squeeze(1)\n",
    "                loss = criterion(predictions, labels)\n",
    "                val_loss += loss.item()\n",
    "\n",
    "        val_loss /= len(val_loader)\n",
    "        print(f'Epoch {epoch + 1}, Train Loss: {epoch_loss / len(train_loader):.4f}, Validation Loss: {val_loss:.4f}')\n",
    "\n",
    "        # Reopen progress bar for next epoch\n",
    "        tqdm.write(f'Epoch {epoch + 1} completed. Train Loss: {epoch_loss / len(train_loader):.4f}, Validation Loss: {val_loss:.4f}')\n",
    "        \n",
    "        # Checkpoint the model if validation loss decreases\n",
    "        if val_loss < best_val_loss:\n",
    "            best_val_loss = val_loss\n",
    "            torch.save(model.state_dict(), checkpoint_path)\n",
    "            print(f'Saved Best Model at Epoch {epoch + 1} with Validation Loss: {val_loss:.4f}')\n",
    "            \n",
    "        \n",
    "    # set to best checkpoint\n",
    "    model.load_state_dict(torch.load(checkpoint_path))\n",
    "    print(f'Best validation loss: {best_val_loss:.4f}')\n"
   ]
  },
  {
   "cell_type": "code",
   "execution_count": 13,
   "id": "b0d71dc8",
   "metadata": {
    "_kg_hide-output": true,
    "execution": {
     "iopub.execute_input": "2024-06-01T00:39:16.474424Z",
     "iopub.status.busy": "2024-06-01T00:39:16.474167Z",
     "iopub.status.idle": "2024-06-01T00:39:56.823633Z",
     "shell.execute_reply": "2024-06-01T00:39:56.822600Z"
    },
    "papermill": {
     "duration": 40.358894,
     "end_time": "2024-06-01T00:39:56.825647",
     "exception": false,
     "start_time": "2024-06-01T00:39:16.466753",
     "status": "completed"
    },
    "tags": []
   },
   "outputs": [
    {
     "name": "stderr",
     "output_type": "stream",
     "text": [
      "Epoch 1/20: 100%|██████████| 48/48 [00:02<00:00, 18.39batch/s, Train Loss=0.705]\n"
     ]
    },
    {
     "name": "stdout",
     "output_type": "stream",
     "text": [
      "Epoch 1, Train Loss: 0.7052, Validation Loss: 0.6874\n",
      "Epoch 1 completed. Train Loss: 0.7052, Validation Loss: 0.6874\n",
      "Saved Best Model at Epoch 1 with Validation Loss: 0.6874\n"
     ]
    },
    {
     "name": "stderr",
     "output_type": "stream",
     "text": [
      "Epoch 2/20: 100%|██████████| 48/48 [00:01<00:00, 29.31batch/s, Train Loss=0.686]\n"
     ]
    },
    {
     "name": "stdout",
     "output_type": "stream",
     "text": [
      "Epoch 2, Train Loss: 0.6864, Validation Loss: 0.6641\n",
      "Epoch 2 completed. Train Loss: 0.6864, Validation Loss: 0.6641\n",
      "Saved Best Model at Epoch 2 with Validation Loss: 0.6641\n"
     ]
    },
    {
     "name": "stderr",
     "output_type": "stream",
     "text": [
      "Epoch 3/20: 100%|██████████| 48/48 [00:01<00:00, 28.59batch/s, Train Loss=0.657]\n"
     ]
    },
    {
     "name": "stdout",
     "output_type": "stream",
     "text": [
      "Epoch 3, Train Loss: 0.6572, Validation Loss: 0.6308\n",
      "Epoch 3 completed. Train Loss: 0.6572, Validation Loss: 0.6308\n",
      "Saved Best Model at Epoch 3 with Validation Loss: 0.6308\n"
     ]
    },
    {
     "name": "stderr",
     "output_type": "stream",
     "text": [
      "Epoch 4/20: 100%|██████████| 48/48 [00:01<00:00, 28.90batch/s, Train Loss=0.619]\n"
     ]
    },
    {
     "name": "stdout",
     "output_type": "stream",
     "text": [
      "Epoch 4, Train Loss: 0.6194, Validation Loss: 0.5957\n",
      "Epoch 4 completed. Train Loss: 0.6194, Validation Loss: 0.5957\n",
      "Saved Best Model at Epoch 4 with Validation Loss: 0.5957\n"
     ]
    },
    {
     "name": "stderr",
     "output_type": "stream",
     "text": [
      "Epoch 5/20: 100%|██████████| 48/48 [00:01<00:00, 29.24batch/s, Train Loss=0.585]\n"
     ]
    },
    {
     "name": "stdout",
     "output_type": "stream",
     "text": [
      "Epoch 5, Train Loss: 0.5847, Validation Loss: 0.5682\n",
      "Epoch 5 completed. Train Loss: 0.5847, Validation Loss: 0.5682\n",
      "Saved Best Model at Epoch 5 with Validation Loss: 0.5682\n"
     ]
    },
    {
     "name": "stderr",
     "output_type": "stream",
     "text": [
      "Epoch 6/20: 100%|██████████| 48/48 [00:01<00:00, 28.02batch/s, Train Loss=0.546]\n"
     ]
    },
    {
     "name": "stdout",
     "output_type": "stream",
     "text": [
      "Epoch 6, Train Loss: 0.5462, Validation Loss: 0.5470\n",
      "Epoch 6 completed. Train Loss: 0.5462, Validation Loss: 0.5470\n",
      "Saved Best Model at Epoch 6 with Validation Loss: 0.5470\n"
     ]
    },
    {
     "name": "stderr",
     "output_type": "stream",
     "text": [
      "Epoch 7/20: 100%|██████████| 48/48 [00:01<00:00, 28.90batch/s, Train Loss=0.519]\n"
     ]
    },
    {
     "name": "stdout",
     "output_type": "stream",
     "text": [
      "Epoch 7, Train Loss: 0.5192, Validation Loss: 0.5327\n",
      "Epoch 7 completed. Train Loss: 0.5192, Validation Loss: 0.5327\n",
      "Saved Best Model at Epoch 7 with Validation Loss: 0.5327\n"
     ]
    },
    {
     "name": "stderr",
     "output_type": "stream",
     "text": [
      "Epoch 8/20: 100%|██████████| 48/48 [00:01<00:00, 29.57batch/s, Train Loss=0.488]\n"
     ]
    },
    {
     "name": "stdout",
     "output_type": "stream",
     "text": [
      "Epoch 8, Train Loss: 0.4882, Validation Loss: 0.5219\n",
      "Epoch 8 completed. Train Loss: 0.4882, Validation Loss: 0.5219\n",
      "Saved Best Model at Epoch 8 with Validation Loss: 0.5219\n"
     ]
    },
    {
     "name": "stderr",
     "output_type": "stream",
     "text": [
      "Epoch 9/20: 100%|██████████| 48/48 [00:01<00:00, 30.25batch/s, Train Loss=0.462]\n"
     ]
    },
    {
     "name": "stdout",
     "output_type": "stream",
     "text": [
      "Epoch 9, Train Loss: 0.4618, Validation Loss: 0.5122\n",
      "Epoch 9 completed. Train Loss: 0.4618, Validation Loss: 0.5122\n",
      "Saved Best Model at Epoch 9 with Validation Loss: 0.5122\n"
     ]
    },
    {
     "name": "stderr",
     "output_type": "stream",
     "text": [
      "Epoch 10/20: 100%|██████████| 48/48 [00:01<00:00, 29.70batch/s, Train Loss=0.435]\n"
     ]
    },
    {
     "name": "stdout",
     "output_type": "stream",
     "text": [
      "Epoch 10, Train Loss: 0.4354, Validation Loss: 0.5087\n",
      "Epoch 10 completed. Train Loss: 0.4354, Validation Loss: 0.5087\n",
      "Saved Best Model at Epoch 10 with Validation Loss: 0.5087\n"
     ]
    },
    {
     "name": "stderr",
     "output_type": "stream",
     "text": [
      "Epoch 11/20: 100%|██████████| 48/48 [00:01<00:00, 29.16batch/s, Train Loss=0.416]\n"
     ]
    },
    {
     "name": "stdout",
     "output_type": "stream",
     "text": [
      "Epoch 11, Train Loss: 0.4156, Validation Loss: 0.5025\n",
      "Epoch 11 completed. Train Loss: 0.4156, Validation Loss: 0.5025\n",
      "Saved Best Model at Epoch 11 with Validation Loss: 0.5025\n"
     ]
    },
    {
     "name": "stderr",
     "output_type": "stream",
     "text": [
      "Epoch 12/20: 100%|██████████| 48/48 [00:01<00:00, 29.35batch/s, Train Loss=0.393]\n"
     ]
    },
    {
     "name": "stdout",
     "output_type": "stream",
     "text": [
      "Epoch 12, Train Loss: 0.3934, Validation Loss: 0.4986\n",
      "Epoch 12 completed. Train Loss: 0.3934, Validation Loss: 0.4986\n",
      "Saved Best Model at Epoch 12 with Validation Loss: 0.4986\n"
     ]
    },
    {
     "name": "stderr",
     "output_type": "stream",
     "text": [
      "Epoch 13/20: 100%|██████████| 48/48 [00:01<00:00, 29.20batch/s, Train Loss=0.377]\n"
     ]
    },
    {
     "name": "stdout",
     "output_type": "stream",
     "text": [
      "Epoch 13, Train Loss: 0.3769, Validation Loss: 0.4963\n",
      "Epoch 13 completed. Train Loss: 0.3769, Validation Loss: 0.4963\n",
      "Saved Best Model at Epoch 13 with Validation Loss: 0.4963\n"
     ]
    },
    {
     "name": "stderr",
     "output_type": "stream",
     "text": [
      "Epoch 14/20: 100%|██████████| 48/48 [00:01<00:00, 29.31batch/s, Train Loss=0.36]\n"
     ]
    },
    {
     "name": "stdout",
     "output_type": "stream",
     "text": [
      "Epoch 14, Train Loss: 0.3597, Validation Loss: 0.4933\n",
      "Epoch 14 completed. Train Loss: 0.3597, Validation Loss: 0.4933\n",
      "Saved Best Model at Epoch 14 with Validation Loss: 0.4933\n"
     ]
    },
    {
     "name": "stderr",
     "output_type": "stream",
     "text": [
      "Epoch 15/20: 100%|██████████| 48/48 [00:01<00:00, 29.38batch/s, Train Loss=0.346]\n"
     ]
    },
    {
     "name": "stdout",
     "output_type": "stream",
     "text": [
      "Epoch 15, Train Loss: 0.3457, Validation Loss: 0.4938\n",
      "Epoch 15 completed. Train Loss: 0.3457, Validation Loss: 0.4938\n"
     ]
    },
    {
     "name": "stderr",
     "output_type": "stream",
     "text": [
      "Epoch 16/20: 100%|██████████| 48/48 [00:01<00:00, 29.14batch/s, Train Loss=0.332]\n"
     ]
    },
    {
     "name": "stdout",
     "output_type": "stream",
     "text": [
      "Epoch 16, Train Loss: 0.3321, Validation Loss: 0.4940\n",
      "Epoch 16 completed. Train Loss: 0.3321, Validation Loss: 0.4940\n"
     ]
    },
    {
     "name": "stderr",
     "output_type": "stream",
     "text": [
      "Epoch 17/20: 100%|██████████| 48/48 [00:01<00:00, 30.05batch/s, Train Loss=0.329]\n"
     ]
    },
    {
     "name": "stdout",
     "output_type": "stream",
     "text": [
      "Epoch 17, Train Loss: 0.3286, Validation Loss: 0.4941\n",
      "Epoch 17 completed. Train Loss: 0.3286, Validation Loss: 0.4941\n"
     ]
    },
    {
     "name": "stderr",
     "output_type": "stream",
     "text": [
      "Epoch 18/20: 100%|██████████| 48/48 [00:01<00:00, 28.78batch/s, Train Loss=0.325]\n"
     ]
    },
    {
     "name": "stdout",
     "output_type": "stream",
     "text": [
      "Epoch 18, Train Loss: 0.3255, Validation Loss: 0.4956\n",
      "Epoch 18 completed. Train Loss: 0.3255, Validation Loss: 0.4956\n"
     ]
    },
    {
     "name": "stderr",
     "output_type": "stream",
     "text": [
      "Epoch 19/20: 100%|██████████| 48/48 [00:01<00:00, 29.40batch/s, Train Loss=0.319]\n"
     ]
    },
    {
     "name": "stdout",
     "output_type": "stream",
     "text": [
      "Epoch 19, Train Loss: 0.3190, Validation Loss: 0.4940\n",
      "Epoch 19 completed. Train Loss: 0.3190, Validation Loss: 0.4940\n"
     ]
    },
    {
     "name": "stderr",
     "output_type": "stream",
     "text": [
      "Epoch 20/20: 100%|██████████| 48/48 [00:01<00:00, 29.57batch/s, Train Loss=0.32]\n"
     ]
    },
    {
     "name": "stdout",
     "output_type": "stream",
     "text": [
      "Epoch 20, Train Loss: 0.3198, Validation Loss: 0.4959\n",
      "Epoch 20 completed. Train Loss: 0.3198, Validation Loss: 0.4959\n",
      "Best validation loss: 0.4933\n"
     ]
    }
   ],
   "source": [
    "# Model parameters\n",
    "device = torch.device('cuda' if torch.cuda.is_available() else 'cpu')\n",
    "vocab_size = tokenizer.get_vocab_size()\n",
    "\n",
    "# Set up the model, optimizer, and criterion\n",
    "model = BiLSTMClassifier(vocab_size, EMBEDDING_DIM, HIDDEN_DIM, NUM_LSTM_LAYERS, 1,  pad_token_id).to(device)\n",
    "optimizer = optim.Adam(model.parameters(), lr=1e-5)  # Set initial LR for the optimizer\n",
    "criterion = nn.BCEWithLogitsLoss()\n",
    "\n",
    "# Setup OneCycleLR\n",
    "total_steps = len(train_loader) * NUM_EPOCHS # total training steps = num_epochs * batches_per_epoch\n",
    "scheduler = optim.lr_scheduler.OneCycleLR(optimizer, max_lr=MAX_LR, total_steps=total_steps)\n",
    "\n",
    "# Train the model\n",
    "train_model(model, train_loader, val_loader, criterion, optimizer, scheduler, epochs=NUM_EPOCHS)"
   ]
  },
  {
   "cell_type": "code",
   "execution_count": 14,
   "id": "d1b36ae3",
   "metadata": {
    "execution": {
     "iopub.execute_input": "2024-06-01T00:39:57.040620Z",
     "iopub.status.busy": "2024-06-01T00:39:57.040119Z",
     "iopub.status.idle": "2024-06-01T00:39:57.327065Z",
     "shell.execute_reply": "2024-06-01T00:39:57.326032Z"
    },
    "papermill": {
     "duration": 0.397071,
     "end_time": "2024-06-01T00:39:57.329071",
     "exception": false,
     "start_time": "2024-06-01T00:39:56.932000",
     "status": "completed"
    },
    "tags": []
   },
   "outputs": [
    {
     "name": "stdout",
     "output_type": "stream",
     "text": [
      "Accuracy: 0.7663, F1: 0.7082, ROC AUC: 0.8253\n"
     ]
    }
   ],
   "source": [
    "def evaluate_model(model, val_loader):\n",
    "    model.eval()\n",
    "    all_preds = []\n",
    "    all_labels = []\n",
    "    all_probs = []\n",
    "    with torch.no_grad():\n",
    "        for texts, labels in val_loader:\n",
    "            texts, labels = texts.to(device), labels.to(device).float()\n",
    "            predictions = model(texts).squeeze(1)\n",
    "            probs = torch.sigmoid(predictions)\n",
    "            preds = torch.round(probs)\n",
    "            all_probs.extend(probs.cpu().numpy())\n",
    "            all_preds.extend(preds.cpu().numpy())\n",
    "            all_labels.extend(labels.cpu().numpy())\n",
    "            \n",
    "    accuracy = accuracy_score(all_labels, all_preds)\n",
    "    f1 = f1_score(all_labels, all_preds)\n",
    "    roc_auc = roc_auc_score(all_labels, all_probs)\n",
    "    return accuracy, f1, roc_auc\n",
    "\n",
    "# Example of evaluating the model\n",
    "accuracy, f1, roc_auc = evaluate_model(model, val_loader)\n",
    "print(f'Accuracy: {accuracy:.4f}, F1: {f1:.4f}, ROC AUC: {roc_auc:.4f}')"
   ]
  },
  {
   "cell_type": "markdown",
   "id": "28bfdb7f",
   "metadata": {
    "papermill": {
     "duration": 0.151059,
     "end_time": "2024-06-01T00:39:57.592764",
     "exception": false,
     "start_time": "2024-06-01T00:39:57.441705",
     "status": "completed"
    },
    "tags": []
   },
   "source": [
    "## Test predictions and submission"
   ]
  },
  {
   "cell_type": "code",
   "execution_count": 15,
   "id": "9db42a96",
   "metadata": {
    "execution": {
     "iopub.execute_input": "2024-06-01T00:39:57.805375Z",
     "iopub.status.busy": "2024-06-01T00:39:57.805006Z",
     "iopub.status.idle": "2024-06-01T00:39:57.883535Z",
     "shell.execute_reply": "2024-06-01T00:39:57.882834Z"
    },
    "papermill": {
     "duration": 0.187284,
     "end_time": "2024-06-01T00:39:57.885509",
     "exception": false,
     "start_time": "2024-06-01T00:39:57.698225",
     "status": "completed"
    },
    "tags": []
   },
   "outputs": [],
   "source": [
    "class TestDataset(Dataset):\n",
    "    def __init__(self, texts, tokenizer, max_length, pad_token_id):\n",
    "        self.texts = texts\n",
    "        self.tokenizer = tokenizer\n",
    "        self.max_length = max_length\n",
    "        self.pad_token_id = pad_token_id\n",
    "\n",
    "    def __len__(self):\n",
    "        return len(self.texts)\n",
    "\n",
    "    def __getitem__(self, idx):\n",
    "        text = self.texts[idx]\n",
    "        tokenized_text = self.tokenizer.encode(text).ids\n",
    "        padded_text = pad_and_truncate(tokenized_text, self.max_length, self.pad_token_id)\n",
    "        return torch.tensor(padded_text)\n",
    "\n",
    "test = pd.read_csv(data_path / 'test.csv')\n",
    "test['text'] = test['text'].apply(preprocess_tweet)\n",
    "\n",
    "# Create the test dataset\n",
    "test_dataset = TestDataset(test['text'].tolist(), tokenizer, MAX_SEQ_LEN, pad_token_id)\n",
    "\n",
    "# Create the test DataLoader\n",
    "test_loader = DataLoader(test_dataset, batch_size=1024, shuffle=False)"
   ]
  },
  {
   "cell_type": "code",
   "execution_count": 16,
   "id": "002dc893",
   "metadata": {
    "execution": {
     "iopub.execute_input": "2024-06-01T00:39:58.098519Z",
     "iopub.status.busy": "2024-06-01T00:39:58.098210Z",
     "iopub.status.idle": "2024-06-01T00:39:58.635479Z",
     "shell.execute_reply": "2024-06-01T00:39:58.634408Z"
    },
    "papermill": {
     "duration": 0.645111,
     "end_time": "2024-06-01T00:39:58.637416",
     "exception": false,
     "start_time": "2024-06-01T00:39:57.992305",
     "status": "completed"
    },
    "tags": []
   },
   "outputs": [
    {
     "name": "stderr",
     "output_type": "stream",
     "text": [
      "100%|██████████| 4/4 [00:00<00:00,  7.57it/s]\n"
     ]
    }
   ],
   "source": [
    "def generate_predictions(model, test_loader):\n",
    "    model.eval()\n",
    "    all_probs = []\n",
    "    with torch.no_grad():\n",
    "        for texts in tqdm(test_loader):\n",
    "            texts = texts.to(device)\n",
    "            predictions = model(texts).squeeze(1)\n",
    "            probs = torch.sigmoid(predictions)\n",
    "            all_probs.extend(probs.cpu().numpy())\n",
    "    return all_probs\n",
    "\n",
    "# Generate predictions on the test set\n",
    "test_predictions = generate_predictions(model, test_loader)\n"
   ]
  },
  {
   "cell_type": "code",
   "execution_count": 17,
   "id": "17beee83",
   "metadata": {
    "execution": {
     "iopub.execute_input": "2024-06-01T00:39:58.852487Z",
     "iopub.status.busy": "2024-06-01T00:39:58.852176Z",
     "iopub.status.idle": "2024-06-01T00:39:58.870156Z",
     "shell.execute_reply": "2024-06-01T00:39:58.869311Z"
    },
    "papermill": {
     "duration": 0.126941,
     "end_time": "2024-06-01T00:39:58.871989",
     "exception": false,
     "start_time": "2024-06-01T00:39:58.745048",
     "status": "completed"
    },
    "tags": []
   },
   "outputs": [
    {
     "data": {
      "text/html": [
       "<div>\n",
       "<style scoped>\n",
       "    .dataframe tbody tr th:only-of-type {\n",
       "        vertical-align: middle;\n",
       "    }\n",
       "\n",
       "    .dataframe tbody tr th {\n",
       "        vertical-align: top;\n",
       "    }\n",
       "\n",
       "    .dataframe thead th {\n",
       "        text-align: right;\n",
       "    }\n",
       "</style>\n",
       "<table border=\"1\" class=\"dataframe\">\n",
       "  <thead>\n",
       "    <tr style=\"text-align: right;\">\n",
       "      <th></th>\n",
       "      <th>id</th>\n",
       "      <th>target</th>\n",
       "    </tr>\n",
       "  </thead>\n",
       "  <tbody>\n",
       "    <tr>\n",
       "      <th>0</th>\n",
       "      <td>0</td>\n",
       "      <td>1</td>\n",
       "    </tr>\n",
       "    <tr>\n",
       "      <th>1</th>\n",
       "      <td>2</td>\n",
       "      <td>1</td>\n",
       "    </tr>\n",
       "    <tr>\n",
       "      <th>2</th>\n",
       "      <td>3</td>\n",
       "      <td>1</td>\n",
       "    </tr>\n",
       "    <tr>\n",
       "      <th>3</th>\n",
       "      <td>9</td>\n",
       "      <td>0</td>\n",
       "    </tr>\n",
       "    <tr>\n",
       "      <th>4</th>\n",
       "      <td>11</td>\n",
       "      <td>1</td>\n",
       "    </tr>\n",
       "  </tbody>\n",
       "</table>\n",
       "</div>"
      ],
      "text/plain": [
       "   id  target\n",
       "0   0       1\n",
       "1   2       1\n",
       "2   3       1\n",
       "3   9       0\n",
       "4  11       1"
      ]
     },
     "execution_count": 17,
     "metadata": {},
     "output_type": "execute_result"
    }
   ],
   "source": [
    "submission = pd.DataFrame({'id':test['id'],'target':test_predictions})\n",
    "submission['target'] = submission['target'].round().astype(int)\n",
    "submission.to_csv('submission.csv',index=False)\n",
    "submission.head(5)"
   ]
  },
  {
   "cell_type": "code",
   "execution_count": null,
   "id": "2cd4322e",
   "metadata": {
    "papermill": {
     "duration": 0.107337,
     "end_time": "2024-06-01T00:39:59.085210",
     "exception": false,
     "start_time": "2024-06-01T00:39:58.977873",
     "status": "completed"
    },
    "tags": []
   },
   "outputs": [],
   "source": []
  }
 ],
 "metadata": {
  "kaggle": {
   "accelerator": "gpu",
   "dataSources": [
    {
     "databundleVersionId": 869809,
     "sourceId": 17777,
     "sourceType": "competition"
    }
   ],
   "dockerImageVersionId": 30698,
   "isGpuEnabled": true,
   "isInternetEnabled": true,
   "language": "python",
   "sourceType": "notebook"
  },
  "kernelspec": {
   "display_name": "Python 3",
   "language": "python",
   "name": "python3"
  },
  "language_info": {
   "codemirror_mode": {
    "name": "ipython",
    "version": 3
   },
   "file_extension": ".py",
   "mimetype": "text/x-python",
   "name": "python",
   "nbconvert_exporter": "python",
   "pygments_lexer": "ipython3",
   "version": "3.10.13"
  },
  "papermill": {
   "default_parameters": {},
   "duration": 56.189059,
   "end_time": "2024-06-01T00:40:01.472824",
   "environment_variables": {},
   "exception": null,
   "input_path": "__notebook__.ipynb",
   "output_path": "__notebook__.ipynb",
   "parameters": {},
   "start_time": "2024-06-01T00:39:05.283765",
   "version": "2.5.0"
  }
 },
 "nbformat": 4,
 "nbformat_minor": 5
}
