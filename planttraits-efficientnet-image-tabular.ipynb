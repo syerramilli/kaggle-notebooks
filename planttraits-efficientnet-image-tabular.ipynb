{
 "cells": [
  {
   "cell_type": "markdown",
   "id": "b4491da4",
   "metadata": {
    "papermill": {
     "duration": 0.008402,
     "end_time": "2024-05-15T16:17:08.208450",
     "exception": false,
     "start_time": "2024-05-15T16:17:08.200048",
     "status": "completed"
    },
    "tags": []
   },
   "source": [
    "## Introduction\n",
    "\n",
    "In this notebook we will train a baseline multi-output regression model in Keras on the images and the ancillary data (satellite data, soil data, climate data etc.) to predict the 6 plant properties.\n",
    "\n",
    "**CHANGELOG**:\n",
    "\n",
    "v1 -> v2: \n",
    "1. Replaced EfficientNet V1 with V2\n",
    "2. Removed the rescaling layer prior to EfficientNet. This layer was erroneously included."
   ]
  },
  {
   "cell_type": "code",
   "execution_count": 1,
   "id": "1436e00c",
   "metadata": {
    "execution": {
     "iopub.execute_input": "2024-05-15T16:17:08.224917Z",
     "iopub.status.busy": "2024-05-15T16:17:08.224639Z",
     "iopub.status.idle": "2024-05-15T16:17:21.947131Z",
     "shell.execute_reply": "2024-05-15T16:17:21.946156Z"
    },
    "papermill": {
     "duration": 13.733363,
     "end_time": "2024-05-15T16:17:21.949539",
     "exception": false,
     "start_time": "2024-05-15T16:17:08.216176",
     "status": "completed"
    },
    "tags": []
   },
   "outputs": [
    {
     "name": "stderr",
     "output_type": "stream",
     "text": [
      "2024-05-15 16:17:11.926176: E external/local_xla/xla/stream_executor/cuda/cuda_dnn.cc:9261] Unable to register cuDNN factory: Attempting to register factory for plugin cuDNN when one has already been registered\n",
      "2024-05-15 16:17:11.926270: E external/local_xla/xla/stream_executor/cuda/cuda_fft.cc:607] Unable to register cuFFT factory: Attempting to register factory for plugin cuFFT when one has already been registered\n",
      "2024-05-15 16:17:12.069150: E external/local_xla/xla/stream_executor/cuda/cuda_blas.cc:1515] Unable to register cuBLAS factory: Attempting to register factory for plugin cuBLAS when one has already been registered\n"
     ]
    }
   ],
   "source": [
    "import numpy as np\n",
    "import pandas as pd\n",
    "import matplotlib.pyplot as plt\n",
    "import seaborn as sns\n",
    "\n",
    "import tensorflow as tf\n",
    "import keras\n",
    "from keras.applications.efficientnet_v2 import EfficientNetV2B0, preprocess_input\n",
    "\n",
    "from sklearn.preprocessing import StandardScaler, MinMaxScaler\n",
    "from sklearn.metrics import r2_score\n",
    "from sklearn.model_selection import train_test_split\n",
    "\n",
    "from pathlib import Path\n",
    "\n",
    "plt.style.use('ggplot')\n",
    "plt.rcParams.update(**{'figure.dpi':150})"
   ]
  },
  {
   "cell_type": "code",
   "execution_count": 2,
   "id": "38978bcb",
   "metadata": {
    "execution": {
     "iopub.execute_input": "2024-05-15T16:17:21.966835Z",
     "iopub.status.busy": "2024-05-15T16:17:21.966358Z",
     "iopub.status.idle": "2024-05-15T16:17:21.971367Z",
     "shell.execute_reply": "2024-05-15T16:17:21.970606Z"
    },
    "papermill": {
     "duration": 0.015581,
     "end_time": "2024-05-15T16:17:21.973158",
     "exception": false,
     "start_time": "2024-05-15T16:17:21.957577",
     "status": "completed"
    },
    "tags": []
   },
   "outputs": [],
   "source": [
    "## global configuration\n",
    "CFG = {\n",
    "    'BATCH_SIZE': 128,\n",
    "    'NUM_EPOCHS': 10,\n",
    "    'MAX_LR': 5e-4,\n",
    "    'n_tabular_layers': 2,\n",
    "    'img_backbone_final_dim': 128,\n",
    "    'tabular_hsizes': [256, 128],\n",
    "    'n_ff_layers': 2,\n",
    "    'ff_hsizes': [128, 64]\n",
    "}"
   ]
  },
  {
   "cell_type": "markdown",
   "id": "f73e2e92",
   "metadata": {
    "papermill": {
     "duration": 0.007698,
     "end_time": "2024-05-15T16:17:21.988442",
     "exception": false,
     "start_time": "2024-05-15T16:17:21.980744",
     "status": "completed"
    },
    "tags": []
   },
   "source": [
    "## Loading the data"
   ]
  },
  {
   "cell_type": "code",
   "execution_count": 3,
   "id": "3fb488b7",
   "metadata": {
    "execution": {
     "iopub.execute_input": "2024-05-15T16:17:22.004968Z",
     "iopub.status.busy": "2024-05-15T16:17:22.004688Z",
     "iopub.status.idle": "2024-05-15T16:17:25.500340Z",
     "shell.execute_reply": "2024-05-15T16:17:25.499498Z"
    },
    "papermill": {
     "duration": 3.506581,
     "end_time": "2024-05-15T16:17:25.502628",
     "exception": false,
     "start_time": "2024-05-15T16:17:21.996047",
     "status": "completed"
    },
    "tags": []
   },
   "outputs": [],
   "source": [
    "path = Path('/kaggle/input/planttraits2024/')\n",
    "imgs_train = path / 'train_images'\n",
    "imgs_test = path / 'test_images'\n",
    "\n",
    "train = pd.read_csv(path / 'train.csv')\n",
    "train['img_path'] = train['id'].apply(lambda x: imgs_train / f'{x}.jpeg')\n",
    "\n",
    "test = pd.read_csv(path / 'test.csv')\n",
    "test['img_path'] = test['id'].apply(lambda x: imgs_test / f'{x}.jpeg')"
   ]
  },
  {
   "cell_type": "code",
   "execution_count": 4,
   "id": "06d0bfda",
   "metadata": {
    "execution": {
     "iopub.execute_input": "2024-05-15T16:17:25.520976Z",
     "iopub.status.busy": "2024-05-15T16:17:25.520661Z",
     "iopub.status.idle": "2024-05-15T16:17:25.527901Z",
     "shell.execute_reply": "2024-05-15T16:17:25.527075Z"
    },
    "papermill": {
     "duration": 0.019106,
     "end_time": "2024-05-15T16:17:25.529855",
     "exception": false,
     "start_time": "2024-05-15T16:17:25.510749",
     "status": "completed"
    },
    "tags": []
   },
   "outputs": [
    {
     "data": {
      "text/plain": [
       "['X4_mean', 'X11_mean', 'X18_mean', 'X50_mean', 'X26_mean', 'X3112_mean']"
      ]
     },
     "execution_count": 4,
     "metadata": {},
     "output_type": "execute_result"
    }
   ],
   "source": [
    "targets = ['X4', 'X11', 'X18', 'X50', 'X26', 'X3112']\n",
    "target_cols = [f'{col}_mean' for col in targets]\n",
    "target_cols"
   ]
  },
  {
   "cell_type": "code",
   "execution_count": 5,
   "id": "b39fbdf0",
   "metadata": {
    "execution": {
     "iopub.execute_input": "2024-05-15T16:17:25.547510Z",
     "iopub.status.busy": "2024-05-15T16:17:25.547247Z",
     "iopub.status.idle": "2024-05-15T16:17:25.583529Z",
     "shell.execute_reply": "2024-05-15T16:17:25.582674Z"
    },
    "papermill": {
     "duration": 0.047621,
     "end_time": "2024-05-15T16:17:25.585757",
     "exception": false,
     "start_time": "2024-05-15T16:17:25.538136",
     "status": "completed"
    },
    "tags": []
   },
   "outputs": [],
   "source": [
    "# remove sd columns\n",
    "sd_cols = [f'{col}_sd' for col in targets]\n",
    "train = train.drop(columns = sd_cols)"
   ]
  },
  {
   "cell_type": "markdown",
   "id": "9a4965d4",
   "metadata": {
    "papermill": {
     "duration": 0.007702,
     "end_time": "2024-05-15T16:17:25.602056",
     "exception": false,
     "start_time": "2024-05-15T16:17:25.594354",
     "status": "completed"
    },
    "tags": []
   },
   "source": [
    "## Preprocessing"
   ]
  },
  {
   "cell_type": "code",
   "execution_count": 6,
   "id": "9edd4b06",
   "metadata": {
    "execution": {
     "iopub.execute_input": "2024-05-15T16:17:25.618997Z",
     "iopub.status.busy": "2024-05-15T16:17:25.618679Z",
     "iopub.status.idle": "2024-05-15T16:17:25.818106Z",
     "shell.execute_reply": "2024-05-15T16:17:25.817260Z"
    },
    "papermill": {
     "duration": 0.21055,
     "end_time": "2024-05-15T16:17:25.820503",
     "exception": false,
     "start_time": "2024-05-15T16:17:25.609953",
     "status": "completed"
    },
    "tags": []
   },
   "outputs": [],
   "source": [
    "img_paths = train['img_path'].astype(str).values\n",
    "tabular = train.drop(columns = ['id', 'img_path'] + target_cols).values\n",
    "Y = train[target_cols]"
   ]
  },
  {
   "cell_type": "code",
   "execution_count": 7,
   "id": "d7e232c2",
   "metadata": {
    "execution": {
     "iopub.execute_input": "2024-05-15T16:17:25.837812Z",
     "iopub.status.busy": "2024-05-15T16:17:25.837514Z",
     "iopub.status.idle": "2024-05-15T16:17:25.894214Z",
     "shell.execute_reply": "2024-05-15T16:17:25.893304Z"
    },
    "papermill": {
     "duration": 0.067585,
     "end_time": "2024-05-15T16:17:25.896289",
     "exception": false,
     "start_time": "2024-05-15T16:17:25.828704",
     "status": "completed"
    },
    "tags": []
   },
   "outputs": [
    {
     "name": "stdout",
     "output_type": "stream",
     "text": [
      "Number of observations removed: 5691\n"
     ]
    }
   ],
   "source": [
    "# remove bad observations\n",
    "upper_quantiles = Y.quantile(0.98)\n",
    "retained_flag = (Y < upper_quantiles).all(axis= 1) & (Y > 0).all(axis=1)\n",
    "img_paths = img_paths[retained_flag]\n",
    "tabular = tabular[retained_flag]\n",
    "Y = Y[retained_flag]\n",
    "\n",
    "print(f'Number of observations removed: {retained_flag.shape[0] - retained_flag.sum()}')"
   ]
  },
  {
   "cell_type": "code",
   "execution_count": 8,
   "id": "66ca40df",
   "metadata": {
    "execution": {
     "iopub.execute_input": "2024-05-15T16:17:25.913680Z",
     "iopub.status.busy": "2024-05-15T16:17:25.913402Z",
     "iopub.status.idle": "2024-05-15T16:17:27.538789Z",
     "shell.execute_reply": "2024-05-15T16:17:27.537860Z"
    },
    "papermill": {
     "duration": 1.637776,
     "end_time": "2024-05-15T16:17:27.542263",
     "exception": false,
     "start_time": "2024-05-15T16:17:25.904487",
     "status": "completed"
    },
    "tags": []
   },
   "outputs": [
    {
     "name": "stderr",
     "output_type": "stream",
     "text": [
      "/opt/conda/lib/python3.10/site-packages/seaborn/_oldcore.py:1119: FutureWarning: use_inf_as_na option is deprecated and will be removed in a future version. Convert inf values to NaN before operating instead.\n",
      "  with pd.option_context('mode.use_inf_as_na', True):\n",
      "/opt/conda/lib/python3.10/site-packages/seaborn/_oldcore.py:1119: FutureWarning: use_inf_as_na option is deprecated and will be removed in a future version. Convert inf values to NaN before operating instead.\n",
      "  with pd.option_context('mode.use_inf_as_na', True):\n",
      "/opt/conda/lib/python3.10/site-packages/seaborn/_oldcore.py:1119: FutureWarning: use_inf_as_na option is deprecated and will be removed in a future version. Convert inf values to NaN before operating instead.\n",
      "  with pd.option_context('mode.use_inf_as_na', True):\n",
      "/opt/conda/lib/python3.10/site-packages/seaborn/_oldcore.py:1119: FutureWarning: use_inf_as_na option is deprecated and will be removed in a future version. Convert inf values to NaN before operating instead.\n",
      "  with pd.option_context('mode.use_inf_as_na', True):\n",
      "/opt/conda/lib/python3.10/site-packages/seaborn/_oldcore.py:1119: FutureWarning: use_inf_as_na option is deprecated and will be removed in a future version. Convert inf values to NaN before operating instead.\n",
      "  with pd.option_context('mode.use_inf_as_na', True):\n",
      "/opt/conda/lib/python3.10/site-packages/seaborn/_oldcore.py:1119: FutureWarning: use_inf_as_na option is deprecated and will be removed in a future version. Convert inf values to NaN before operating instead.\n",
      "  with pd.option_context('mode.use_inf_as_na', True):\n"
     ]
    },
    {
     "data": {
      "image/png": "[encoded data removed]",
      "text/plain": [
       "<Figure size 1800x900 with 6 Axes>"
      ]
     },
     "metadata": {},
     "output_type": "display_data"
    }
   ],
   "source": [
    "# histograms after filtering out bad observations\n",
    "n_rows = 2\n",
    "n_cols = 3\n",
    "fig, axs = plt.subplots(n_rows, n_cols, figsize=(4 * n_cols, 3 * n_rows))\n",
    "for i, column in enumerate(Y.columns):\n",
    "    row_idx, col_idx = divmod(i, n_cols)\n",
    "    _ = sns.histplot(data=Y, x=column, ax=axs[row_idx, col_idx], bins=20)\n",
    "\n",
    "fig.tight_layout()\n"
   ]
  },
  {
   "cell_type": "code",
   "execution_count": 9,
   "id": "0ac2e094",
   "metadata": {
    "execution": {
     "iopub.execute_input": "2024-05-15T16:17:27.564226Z",
     "iopub.status.busy": "2024-05-15T16:17:27.563665Z",
     "iopub.status.idle": "2024-05-15T16:17:27.573742Z",
     "shell.execute_reply": "2024-05-15T16:17:27.573034Z"
    },
    "papermill": {
     "duration": 0.02317,
     "end_time": "2024-05-15T16:17:27.575658",
     "exception": false,
     "start_time": "2024-05-15T16:17:27.552488",
     "status": "completed"
    },
    "tags": []
   },
   "outputs": [],
   "source": [
    "# standardize response\n",
    "output_sc = StandardScaler()\n",
    "Y_sc = output_sc.fit_transform(Y)"
   ]
  },
  {
   "cell_type": "code",
   "execution_count": 10,
   "id": "eee2f3d0",
   "metadata": {
    "execution": {
     "iopub.execute_input": "2024-05-15T16:17:27.595747Z",
     "iopub.status.busy": "2024-05-15T16:17:27.595473Z",
     "iopub.status.idle": "2024-05-15T16:17:27.666612Z",
     "shell.execute_reply": "2024-05-15T16:17:27.665605Z"
    },
    "papermill": {
     "duration": 0.084094,
     "end_time": "2024-05-15T16:17:27.669124",
     "exception": false,
     "start_time": "2024-05-15T16:17:27.585030",
     "status": "completed"
    },
    "tags": []
   },
   "outputs": [],
   "source": [
    "# normalize tabular inputs\n",
    "tabular_input_sc = MinMaxScaler()\n",
    "tabular_sc = tabular_input_sc.fit_transform(tabular)"
   ]
  },
  {
   "cell_type": "markdown",
   "id": "c39d0da8",
   "metadata": {
    "papermill": {
     "duration": 0.009405,
     "end_time": "2024-05-15T16:17:27.688312",
     "exception": false,
     "start_time": "2024-05-15T16:17:27.678907",
     "status": "completed"
    },
    "tags": []
   },
   "source": [
    "## Image preprocessing functions"
   ]
  },
  {
   "cell_type": "code",
   "execution_count": 11,
   "id": "07b11045",
   "metadata": {
    "execution": {
     "iopub.execute_input": "2024-05-15T16:17:27.708821Z",
     "iopub.status.busy": "2024-05-15T16:17:27.708208Z",
     "iopub.status.idle": "2024-05-15T16:17:27.714285Z",
     "shell.execute_reply": "2024-05-15T16:17:27.713332Z"
    },
    "papermill": {
     "duration": 0.018582,
     "end_time": "2024-05-15T16:17:27.716363",
     "exception": false,
     "start_time": "2024-05-15T16:17:27.697781",
     "status": "completed"
    },
    "tags": []
   },
   "outputs": [],
   "source": [
    "def process_image_from_file(file_path:str) -> tf.Tensor:\n",
    "    # load the image\n",
    "    img = tf.io.read_file(file_path)\n",
    "    # decode the jpeg file \n",
    "    img = tf.image.decode_jpeg(img, channels=3)\n",
    "    # resize the image to 224 x 224 \n",
    "    img = tf.image.resize(img, [224, 224])\n",
    "    # preprocessing for efficient net \n",
    "    # per documentation, does nothing; including it\n",
    "    # here for consistency\n",
    "    img = preprocess_input(img)\n",
    "    return img\n",
    "\n",
    "# Define your dataset processing function\n",
    "def process_path(file_path, tabular, targets):\n",
    "    return (process_image_from_file(file_path), tabular), targets\n"
   ]
  },
  {
   "cell_type": "markdown",
   "id": "eed61878",
   "metadata": {
    "papermill": {
     "duration": 0.009275,
     "end_time": "2024-05-15T16:17:27.734994",
     "exception": false,
     "start_time": "2024-05-15T16:17:27.725719",
     "status": "completed"
    },
    "tags": []
   },
   "source": [
    "## Create training and validation sets"
   ]
  },
  {
   "cell_type": "code",
   "execution_count": 12,
   "id": "b646a54f",
   "metadata": {
    "execution": {
     "iopub.execute_input": "2024-05-15T16:17:27.755365Z",
     "iopub.status.busy": "2024-05-15T16:17:27.754641Z",
     "iopub.status.idle": "2024-05-15T16:17:28.697585Z",
     "shell.execute_reply": "2024-05-15T16:17:28.696597Z"
    },
    "papermill": {
     "duration": 0.956173,
     "end_time": "2024-05-15T16:17:28.700512",
     "exception": false,
     "start_time": "2024-05-15T16:17:27.744339",
     "status": "completed"
    },
    "tags": []
   },
   "outputs": [],
   "source": [
    "paths_train, paths_val, tabular_train, tabular_val, Y_train, Y_val = train_test_split(\n",
    "    img_paths, tabular_sc, Y_sc, random_state=2, test_size=0.2\n",
    ")\n",
    "\n",
    "train_ds = tf.data.Dataset.from_tensor_slices((paths_train, tabular_train.astype(np.float32), Y_train.astype(np.float32)))\n",
    "val_ds = tf.data.Dataset.from_tensor_slices((paths_val, tabular_val.astype(np.float32), Y_val.astype(np.float32)))\n",
    "\n",
    "\n",
    "# preprocess and batch\n",
    "train_ds = train_ds.map(process_path).batch(CFG['BATCH_SIZE'])\n",
    "val_ds = val_ds.map(process_path).batch(CFG['BATCH_SIZE'])"
   ]
  },
  {
   "cell_type": "markdown",
   "id": "86d04356",
   "metadata": {
    "papermill": {
     "duration": 0.009568,
     "end_time": "2024-05-15T16:17:28.724196",
     "exception": false,
     "start_time": "2024-05-15T16:17:28.714628",
     "status": "completed"
    },
    "tags": []
   },
   "source": [
    "## Model architecture"
   ]
  },
  {
   "cell_type": "code",
   "execution_count": 13,
   "id": "d529966c",
   "metadata": {
    "execution": {
     "iopub.execute_input": "2024-05-15T16:17:28.745488Z",
     "iopub.status.busy": "2024-05-15T16:17:28.745038Z",
     "iopub.status.idle": "2024-05-15T16:17:30.895273Z",
     "shell.execute_reply": "2024-05-15T16:17:30.894319Z"
    },
    "papermill": {
     "duration": 2.163905,
     "end_time": "2024-05-15T16:17:30.897712",
     "exception": false,
     "start_time": "2024-05-15T16:17:28.733807",
     "status": "completed"
    },
    "tags": []
   },
   "outputs": [
    {
     "name": "stdout",
     "output_type": "stream",
     "text": [
      "Downloading data from https://storage.googleapis.com/tensorflow/keras-applications/efficientnet_v2/efficientnetv2-b0_notop.h5\n",
      "\u001b[1m24274472/24274472\u001b[0m \u001b[32m━━━━━━━━━━━━━━━━━━━━\u001b[0m\u001b[37m\u001b[0m \u001b[1m0s\u001b[0m 0us/step\n"
     ]
    },
    {
     "data": {
      "text/html": [
       "<pre style=\"white-space:pre;overflow-x:auto;line-height:normal;font-family:Menlo,'DejaVu Sans Mono',consolas,'Courier New',monospace\"><span style=\"font-weight: bold\">Model: \"functional_4\"</span>\n",
       "</pre>\n"
      ],
      "text/plain": [
       "\u001b[1mModel: \"functional_4\"\u001b[0m\n"
      ]
     },
     "metadata": {},
     "output_type": "display_data"
    },
    {
     "data": {
      "text/html": [
       "<pre style=\"white-space:pre;overflow-x:auto;line-height:normal;font-family:Menlo,'DejaVu Sans Mono',consolas,'Courier New',monospace\">┏━━━━━━━━━━━━━━━━━━━━━┳━━━━━━━━━━━━━━━━━━━┳━━━━━━━━━━━━┳━━━━━━━━━━━━━━━━━━━┓\n",
       "┃<span style=\"font-weight: bold\"> Layer (type)        </span>┃<span style=\"font-weight: bold\"> Output Shape      </span>┃<span style=\"font-weight: bold\">    Param # </span>┃<span style=\"font-weight: bold\"> Connected to      </span>┃\n",
       "┡━━━━━━━━━━━━━━━━━━━━━╇━━━━━━━━━━━━━━━━━━━╇━━━━━━━━━━━━╇━━━━━━━━━━━━━━━━━━━┩\n",
       "│ img_input           │ (<span style=\"color: #00d7ff; text-decoration-color: #00d7ff\">None</span>, <span style=\"color: #00af00; text-decoration-color: #00af00\">224</span>, <span style=\"color: #00af00; text-decoration-color: #00af00\">224</span>,  │          <span style=\"color: #00af00; text-decoration-color: #00af00\">0</span> │ -                 │\n",
       "│ (<span style=\"color: #0087ff; text-decoration-color: #0087ff\">InputLayer</span>)        │ <span style=\"color: #00af00; text-decoration-color: #00af00\">3</span>)                │            │                   │\n",
       "├─────────────────────┼───────────────────┼────────────┼───────────────────┤\n",
       "│ tabular_input       │ (<span style=\"color: #00d7ff; text-decoration-color: #00d7ff\">None</span>, <span style=\"color: #00af00; text-decoration-color: #00af00\">163</span>)       │          <span style=\"color: #00af00; text-decoration-color: #00af00\">0</span> │ -                 │\n",
       "│ (<span style=\"color: #0087ff; text-decoration-color: #0087ff\">InputLayer</span>)        │                   │            │                   │\n",
       "├─────────────────────┼───────────────────┼────────────┼───────────────────┤\n",
       "│ img_backbone        │ (<span style=\"color: #00d7ff; text-decoration-color: #00d7ff\">None</span>, <span style=\"color: #00af00; text-decoration-color: #00af00\">128</span>)       │  <span style=\"color: #00af00; text-decoration-color: #00af00\">6,083,280</span> │ img_input[<span style=\"color: #00af00; text-decoration-color: #00af00\">0</span>][<span style=\"color: #00af00; text-decoration-color: #00af00\">0</span>]   │\n",
       "│ (<span style=\"color: #0087ff; text-decoration-color: #0087ff\">Sequential</span>)        │                   │            │                   │\n",
       "├─────────────────────┼───────────────────┼────────────┼───────────────────┤\n",
       "│ tabular_backbone    │ (<span style=\"color: #00d7ff; text-decoration-color: #00d7ff\">None</span>, <span style=\"color: #00af00; text-decoration-color: #00af00\">128</span>)       │     <span style=\"color: #00af00; text-decoration-color: #00af00\">76,416</span> │ tabular_input[<span style=\"color: #00af00; text-decoration-color: #00af00\">0</span>]… │\n",
       "│ (<span style=\"color: #0087ff; text-decoration-color: #0087ff\">Sequential</span>)        │                   │            │                   │\n",
       "├─────────────────────┼───────────────────┼────────────┼───────────────────┤\n",
       "│ concatenate         │ (<span style=\"color: #00d7ff; text-decoration-color: #00d7ff\">None</span>, <span style=\"color: #00af00; text-decoration-color: #00af00\">256</span>)       │          <span style=\"color: #00af00; text-decoration-color: #00af00\">0</span> │ img_backbone[<span style=\"color: #00af00; text-decoration-color: #00af00\">0</span>][<span style=\"color: #00af00; text-decoration-color: #00af00\">…</span> │\n",
       "│ (<span style=\"color: #0087ff; text-decoration-color: #0087ff\">Concatenate</span>)       │                   │            │ tabular_backbone… │\n",
       "├─────────────────────┼───────────────────┼────────────┼───────────────────┤\n",
       "│ ff_block_0_dense    │ (<span style=\"color: #00d7ff; text-decoration-color: #00d7ff\">None</span>, <span style=\"color: #00af00; text-decoration-color: #00af00\">256</span>)       │     <span style=\"color: #00af00; text-decoration-color: #00af00\">65,792</span> │ concatenate[<span style=\"color: #00af00; text-decoration-color: #00af00\">0</span>][<span style=\"color: #00af00; text-decoration-color: #00af00\">0</span>] │\n",
       "│ (<span style=\"color: #0087ff; text-decoration-color: #0087ff\">Dense</span>)             │                   │            │                   │\n",
       "├─────────────────────┼───────────────────┼────────────┼───────────────────┤\n",
       "│ batch_normalizatio… │ (<span style=\"color: #00d7ff; text-decoration-color: #00d7ff\">None</span>, <span style=\"color: #00af00; text-decoration-color: #00af00\">256</span>)       │      <span style=\"color: #00af00; text-decoration-color: #00af00\">1,024</span> │ ff_block_0_dense… │\n",
       "│ (<span style=\"color: #0087ff; text-decoration-color: #0087ff\">BatchNormalizatio…</span> │                   │            │                   │\n",
       "├─────────────────────┼───────────────────┼────────────┼───────────────────┤\n",
       "│ re_lu_2 (<span style=\"color: #0087ff; text-decoration-color: #0087ff\">ReLU</span>)      │ (<span style=\"color: #00d7ff; text-decoration-color: #00d7ff\">None</span>, <span style=\"color: #00af00; text-decoration-color: #00af00\">256</span>)       │          <span style=\"color: #00af00; text-decoration-color: #00af00\">0</span> │ batch_normalizat… │\n",
       "├─────────────────────┼───────────────────┼────────────┼───────────────────┤\n",
       "│ dropout_2 (<span style=\"color: #0087ff; text-decoration-color: #0087ff\">Dropout</span>) │ (<span style=\"color: #00d7ff; text-decoration-color: #00d7ff\">None</span>, <span style=\"color: #00af00; text-decoration-color: #00af00\">256</span>)       │          <span style=\"color: #00af00; text-decoration-color: #00af00\">0</span> │ re_lu_2[<span style=\"color: #00af00; text-decoration-color: #00af00\">0</span>][<span style=\"color: #00af00; text-decoration-color: #00af00\">0</span>]     │\n",
       "├─────────────────────┼───────────────────┼────────────┼───────────────────┤\n",
       "│ ff_block_1_dense    │ (<span style=\"color: #00d7ff; text-decoration-color: #00d7ff\">None</span>, <span style=\"color: #00af00; text-decoration-color: #00af00\">128</span>)       │     <span style=\"color: #00af00; text-decoration-color: #00af00\">32,896</span> │ dropout_2[<span style=\"color: #00af00; text-decoration-color: #00af00\">0</span>][<span style=\"color: #00af00; text-decoration-color: #00af00\">0</span>]   │\n",
       "│ (<span style=\"color: #0087ff; text-decoration-color: #0087ff\">Dense</span>)             │                   │            │                   │\n",
       "├─────────────────────┼───────────────────┼────────────┼───────────────────┤\n",
       "│ batch_normalizatio… │ (<span style=\"color: #00d7ff; text-decoration-color: #00d7ff\">None</span>, <span style=\"color: #00af00; text-decoration-color: #00af00\">128</span>)       │        <span style=\"color: #00af00; text-decoration-color: #00af00\">512</span> │ ff_block_1_dense… │\n",
       "│ (<span style=\"color: #0087ff; text-decoration-color: #0087ff\">BatchNormalizatio…</span> │                   │            │                   │\n",
       "├─────────────────────┼───────────────────┼────────────┼───────────────────┤\n",
       "│ re_lu_3 (<span style=\"color: #0087ff; text-decoration-color: #0087ff\">ReLU</span>)      │ (<span style=\"color: #00d7ff; text-decoration-color: #00d7ff\">None</span>, <span style=\"color: #00af00; text-decoration-color: #00af00\">128</span>)       │          <span style=\"color: #00af00; text-decoration-color: #00af00\">0</span> │ batch_normalizat… │\n",
       "├─────────────────────┼───────────────────┼────────────┼───────────────────┤\n",
       "│ dropout_3 (<span style=\"color: #0087ff; text-decoration-color: #0087ff\">Dropout</span>) │ (<span style=\"color: #00d7ff; text-decoration-color: #00d7ff\">None</span>, <span style=\"color: #00af00; text-decoration-color: #00af00\">128</span>)       │          <span style=\"color: #00af00; text-decoration-color: #00af00\">0</span> │ re_lu_3[<span style=\"color: #00af00; text-decoration-color: #00af00\">0</span>][<span style=\"color: #00af00; text-decoration-color: #00af00\">0</span>]     │\n",
       "├─────────────────────┼───────────────────┼────────────┼───────────────────┤\n",
       "│ output (<span style=\"color: #0087ff; text-decoration-color: #0087ff\">Dense</span>)      │ (<span style=\"color: #00d7ff; text-decoration-color: #00d7ff\">None</span>, <span style=\"color: #00af00; text-decoration-color: #00af00\">6</span>)         │        <span style=\"color: #00af00; text-decoration-color: #00af00\">774</span> │ dropout_3[<span style=\"color: #00af00; text-decoration-color: #00af00\">0</span>][<span style=\"color: #00af00; text-decoration-color: #00af00\">0</span>]   │\n",
       "└─────────────────────┴───────────────────┴────────────┴───────────────────┘\n",
       "</pre>\n"
      ],
      "text/plain": [
       "┏━━━━━━━━━━━━━━━━━━━━━┳━━━━━━━━━━━━━━━━━━━┳━━━━━━━━━━━━┳━━━━━━━━━━━━━━━━━━━┓\n",
       "┃\u001b[1m \u001b[0m\u001b[1mLayer (type)       \u001b[0m\u001b[1m \u001b[0m┃\u001b[1m \u001b[0m\u001b[1mOutput Shape     \u001b[0m\u001b[1m \u001b[0m┃\u001b[1m \u001b[0m\u001b[1m   Param #\u001b[0m\u001b[1m \u001b[0m┃\u001b[1m \u001b[0m\u001b[1mConnected to     \u001b[0m\u001b[1m \u001b[0m┃\n",
       "┡━━━━━━━━━━━━━━━━━━━━━╇━━━━━━━━━━━━━━━━━━━╇━━━━━━━━━━━━╇━━━━━━━━━━━━━━━━━━━┩\n",
       "│ img_input           │ (\u001b[38;5;45mNone\u001b[0m, \u001b[38;5;34m224\u001b[0m, \u001b[38;5;34m224\u001b[0m,  │          \u001b[38;5;34m0\u001b[0m │ -                 │\n",
       "│ (\u001b[38;5;33mInputLayer\u001b[0m)        │ \u001b[38;5;34m3\u001b[0m)                │            │                   │\n",
       "├─────────────────────┼───────────────────┼────────────┼───────────────────┤\n",
       "│ tabular_input       │ (\u001b[38;5;45mNone\u001b[0m, \u001b[38;5;34m163\u001b[0m)       │          \u001b[38;5;34m0\u001b[0m │ -                 │\n",
       "│ (\u001b[38;5;33mInputLayer\u001b[0m)        │                   │            │                   │\n",
       "├─────────────────────┼───────────────────┼────────────┼───────────────────┤\n",
       "│ img_backbone        │ (\u001b[38;5;45mNone\u001b[0m, \u001b[38;5;34m128\u001b[0m)       │  \u001b[38;5;34m6,083,280\u001b[0m │ img_input[\u001b[38;5;34m0\u001b[0m][\u001b[38;5;34m0\u001b[0m]   │\n",
       "│ (\u001b[38;5;33mSequential\u001b[0m)        │                   │            │                   │\n",
       "├─────────────────────┼───────────────────┼────────────┼───────────────────┤\n",
       "│ tabular_backbone    │ (\u001b[38;5;45mNone\u001b[0m, \u001b[38;5;34m128\u001b[0m)       │     \u001b[38;5;34m76,416\u001b[0m │ tabular_input[\u001b[38;5;34m0\u001b[0m]… │\n",
       "│ (\u001b[38;5;33mSequential\u001b[0m)        │                   │            │                   │\n",
       "├─────────────────────┼───────────────────┼────────────┼───────────────────┤\n",
       "│ concatenate         │ (\u001b[38;5;45mNone\u001b[0m, \u001b[38;5;34m256\u001b[0m)       │          \u001b[38;5;34m0\u001b[0m │ img_backbone[\u001b[38;5;34m0\u001b[0m][\u001b[38;5;34m…\u001b[0m │\n",
       "│ (\u001b[38;5;33mConcatenate\u001b[0m)       │                   │            │ tabular_backbone… │\n",
       "├─────────────────────┼───────────────────┼────────────┼───────────────────┤\n",
       "│ ff_block_0_dense    │ (\u001b[38;5;45mNone\u001b[0m, \u001b[38;5;34m256\u001b[0m)       │     \u001b[38;5;34m65,792\u001b[0m │ concatenate[\u001b[38;5;34m0\u001b[0m][\u001b[38;5;34m0\u001b[0m] │\n",
       "│ (\u001b[38;5;33mDense\u001b[0m)             │                   │            │                   │\n",
       "├─────────────────────┼───────────────────┼────────────┼───────────────────┤\n",
       "│ batch_normalizatio… │ (\u001b[38;5;45mNone\u001b[0m, \u001b[38;5;34m256\u001b[0m)       │      \u001b[38;5;34m1,024\u001b[0m │ ff_block_0_dense… │\n",
       "│ (\u001b[38;5;33mBatchNormalizatio…\u001b[0m │                   │            │                   │\n",
       "├─────────────────────┼───────────────────┼────────────┼───────────────────┤\n",
       "│ re_lu_2 (\u001b[38;5;33mReLU\u001b[0m)      │ (\u001b[38;5;45mNone\u001b[0m, \u001b[38;5;34m256\u001b[0m)       │          \u001b[38;5;34m0\u001b[0m │ batch_normalizat… │\n",
       "├─────────────────────┼───────────────────┼────────────┼───────────────────┤\n",
       "│ dropout_2 (\u001b[38;5;33mDropout\u001b[0m) │ (\u001b[38;5;45mNone\u001b[0m, \u001b[38;5;34m256\u001b[0m)       │          \u001b[38;5;34m0\u001b[0m │ re_lu_2[\u001b[38;5;34m0\u001b[0m][\u001b[38;5;34m0\u001b[0m]     │\n",
       "├─────────────────────┼───────────────────┼────────────┼───────────────────┤\n",
       "│ ff_block_1_dense    │ (\u001b[38;5;45mNone\u001b[0m, \u001b[38;5;34m128\u001b[0m)       │     \u001b[38;5;34m32,896\u001b[0m │ dropout_2[\u001b[38;5;34m0\u001b[0m][\u001b[38;5;34m0\u001b[0m]   │\n",
       "│ (\u001b[38;5;33mDense\u001b[0m)             │                   │            │                   │\n",
       "├─────────────────────┼───────────────────┼────────────┼───────────────────┤\n",
       "│ batch_normalizatio… │ (\u001b[38;5;45mNone\u001b[0m, \u001b[38;5;34m128\u001b[0m)       │        \u001b[38;5;34m512\u001b[0m │ ff_block_1_dense… │\n",
       "│ (\u001b[38;5;33mBatchNormalizatio…\u001b[0m │                   │            │                   │\n",
       "├─────────────────────┼───────────────────┼────────────┼───────────────────┤\n",
       "│ re_lu_3 (\u001b[38;5;33mReLU\u001b[0m)      │ (\u001b[38;5;45mNone\u001b[0m, \u001b[38;5;34m128\u001b[0m)       │          \u001b[38;5;34m0\u001b[0m │ batch_normalizat… │\n",
       "├─────────────────────┼───────────────────┼────────────┼───────────────────┤\n",
       "│ dropout_3 (\u001b[38;5;33mDropout\u001b[0m) │ (\u001b[38;5;45mNone\u001b[0m, \u001b[38;5;34m128\u001b[0m)       │          \u001b[38;5;34m0\u001b[0m │ re_lu_3[\u001b[38;5;34m0\u001b[0m][\u001b[38;5;34m0\u001b[0m]     │\n",
       "├─────────────────────┼───────────────────┼────────────┼───────────────────┤\n",
       "│ output (\u001b[38;5;33mDense\u001b[0m)      │ (\u001b[38;5;45mNone\u001b[0m, \u001b[38;5;34m6\u001b[0m)         │        \u001b[38;5;34m774\u001b[0m │ dropout_3[\u001b[38;5;34m0\u001b[0m][\u001b[38;5;34m0\u001b[0m]   │\n",
       "└─────────────────────┴───────────────────┴────────────┴───────────────────┘\n"
      ]
     },
     "metadata": {},
     "output_type": "display_data"
    },
    {
     "data": {
      "text/html": [
       "<pre style=\"white-space:pre;overflow-x:auto;line-height:normal;font-family:Menlo,'DejaVu Sans Mono',consolas,'Courier New',monospace\"><span style=\"font-weight: bold\"> Total params: </span><span style=\"color: #00af00; text-decoration-color: #00af00\">6,260,694</span> (23.88 MB)\n",
       "</pre>\n"
      ],
      "text/plain": [
       "\u001b[1m Total params: \u001b[0m\u001b[38;5;34m6,260,694\u001b[0m (23.88 MB)\n"
      ]
     },
     "metadata": {},
     "output_type": "display_data"
    },
    {
     "data": {
      "text/html": [
       "<pre style=\"white-space:pre;overflow-x:auto;line-height:normal;font-family:Menlo,'DejaVu Sans Mono',consolas,'Courier New',monospace\"><span style=\"font-weight: bold\"> Trainable params: </span><span style=\"color: #00af00; text-decoration-color: #00af00\">339,846</span> (1.30 MB)\n",
       "</pre>\n"
      ],
      "text/plain": [
       "\u001b[1m Trainable params: \u001b[0m\u001b[38;5;34m339,846\u001b[0m (1.30 MB)\n"
      ]
     },
     "metadata": {},
     "output_type": "display_data"
    },
    {
     "data": {
      "text/html": [
       "<pre style=\"white-space:pre;overflow-x:auto;line-height:normal;font-family:Menlo,'DejaVu Sans Mono',consolas,'Courier New',monospace\"><span style=\"font-weight: bold\"> Non-trainable params: </span><span style=\"color: #00af00; text-decoration-color: #00af00\">5,920,848</span> (22.59 MB)\n",
       "</pre>\n"
      ],
      "text/plain": [
       "\u001b[1m Non-trainable params: \u001b[0m\u001b[38;5;34m5,920,848\u001b[0m (22.59 MB)\n"
      ]
     },
     "metadata": {},
     "output_type": "display_data"
    },
    {
     "name": "stdout",
     "output_type": "stream",
     "text": [
      "None\n"
     ]
    }
   ],
   "source": [
    "keras.backend.clear_session()\n",
    "\n",
    "\n",
    "############################## \n",
    "# IMG Processing\n",
    "############################## \n",
    "img_input = keras.layers.Input(shape = (224, 224, 3), name=\"img_input\")\n",
    "\n",
    "img_backbone = keras.Sequential([\n",
    "    # augmentation layers\n",
    "    keras.Sequential([\n",
    "        keras.layers.RandomRotation(factor=0.1, interpolation='nearest'),\n",
    "        keras.layers.RandomTranslation(\n",
    "            height_factor=0.1, width_factor=0.1, interpolation='nearest'\n",
    "        ),\n",
    "        keras.layers.RandomZoom(height_factor=(0.05, 0.15)),\n",
    "        keras.layers.RandomFlip(mode=\"horizontal_and_vertical\")\n",
    "    ], name='augmentation'),\n",
    "    EfficientNetV2B0(include_top=False, weights='imagenet'),\n",
    "    keras.layers.GlobalAveragePooling2D(),\n",
    "    keras.layers.Dense(CFG['img_backbone_final_dim'])\n",
    "], name='img_backbone')\n",
    "\n",
    "# fix efficientnet weights \n",
    "img_backbone.get_layer('efficientnetv2-b0').trainable = False\n",
    "\n",
    "img_output = img_backbone(img_input)\n",
    "\n",
    "############################## \n",
    "# Tabular Processing\n",
    "##############################\n",
    "tabular_input = keras.layers.Input(shape = (tabular_sc.shape[1],) , name=\"tabular_input\")\n",
    "\n",
    "backbone_blocks = []\n",
    "for i in range(CFG['n_tabular_layers']):\n",
    "    backbone_blocks.extend([\n",
    "        keras.layers.Dense(CFG['tabular_hsizes'][i], name=f'tabular_block_{i}_dense'),\n",
    "        keras.layers.BatchNormalization(),\n",
    "        keras.layers.ReLU(),\n",
    "        keras.layers.Dropout(0.1)\n",
    "    ])\n",
    "    \n",
    "tabular_backbone = keras.Sequential(backbone_blocks, name='tabular_backbone')\n",
    "tabular_output = tabular_backbone(tabular_input)\n",
    "\n",
    "##############################\n",
    "# Concat and outputs\n",
    "##############################\n",
    "output = keras.layers.Concatenate()([img_output, tabular_output])\n",
    "for i in range(CFG['n_ff_layers']):\n",
    "    output = keras.layers.Dense(CFG['tabular_hsizes'][i], name=f'ff_block_{i}_dense')(output)\n",
    "    output = keras.layers.BatchNormalization()(output)\n",
    "    output = keras.layers.ReLU()(output)\n",
    "    output = keras.layers.Dropout(0.1)(output)\n",
    "\n",
    "\n",
    "output = keras.layers.Dense(6, name='output')(output)\n",
    "\n",
    "model = keras.Model(inputs=[img_input, tabular_input], outputs=output)\n",
    "\n",
    "lr_scheduler = keras.optimizers.schedules.CosineDecay(\n",
    "    initial_learning_rate = 1e-5,\n",
    "    decay_steps = CFG['NUM_EPOCHS'] * len(train_ds) - 500,\n",
    "    warmup_target=CFG['MAX_LR'],\n",
    "    warmup_steps = 500\n",
    ")\n",
    "\n",
    "# lr_scheduler = keras.optimizers.schedules.CosineDecayRestarts(\n",
    "#     initial_learning_rate = CFG['MAX_LR'],\n",
    "#     first_decay_steps = 3 * len(train_ds)\n",
    "# )\n",
    "\n",
    "model.compile(\n",
    "    optimizer=keras.optimizers.Adam(learning_rate=lr_scheduler),\n",
    "    loss= keras.losses.MeanSquaredError(),\n",
    "    metrics=[keras.metrics.R2Score()]\n",
    ")\n",
    "\n",
    "print(model.summary())"
   ]
  },
  {
   "cell_type": "markdown",
   "id": "693f8715",
   "metadata": {
    "papermill": {
     "duration": 0.011045,
     "end_time": "2024-05-15T16:17:30.920231",
     "exception": false,
     "start_time": "2024-05-15T16:17:30.909186",
     "status": "completed"
    },
    "tags": []
   },
   "source": [
    "## Training"
   ]
  },
  {
   "cell_type": "code",
   "execution_count": 14,
   "id": "84041f79",
   "metadata": {
    "execution": {
     "iopub.execute_input": "2024-05-15T16:17:30.943921Z",
     "iopub.status.busy": "2024-05-15T16:17:30.943381Z",
     "iopub.status.idle": "2024-05-15T16:28:59.801845Z",
     "shell.execute_reply": "2024-05-15T16:28:59.801000Z"
    },
    "papermill": {
     "duration": 688.872699,
     "end_time": "2024-05-15T16:28:59.803982",
     "exception": false,
     "start_time": "2024-05-15T16:17:30.931283",
     "status": "completed"
    },
    "tags": []
   },
   "outputs": [
    {
     "name": "stdout",
     "output_type": "stream",
     "text": [
      "Epoch 1/10\n"
     ]
    },
    {
     "name": "stderr",
     "output_type": "stream",
     "text": [
      "2024-05-15 16:17:44.647665: E tensorflow/core/grappler/optimizers/meta_optimizer.cc:961] layout failed: INVALID_ARGUMENT: Size of values 0 does not match size of permutation 4 @ fanin shape inStatefulPartitionedCall/functional_4_1/img_backbone_1/efficientnetv2-b0_1/block2b_drop_1/stateless_dropout/SelectV2-2-TransposeNHWCToNCHW-LayoutOptimizer\n"
     ]
    },
    {
     "name": "stdout",
     "output_type": "stream",
     "text": [
      "\u001b[1m312/312\u001b[0m \u001b[32m━━━━━━━━━━━━━━━━━━━━\u001b[0m\u001b[37m\u001b[0m \u001b[1m115s\u001b[0m 307ms/step - loss: 1.6694 - r2_score: -0.6897 - val_loss: 0.8437 - val_r2_score: 0.1586\n",
      "Epoch 2/10\n",
      "\u001b[1m312/312\u001b[0m \u001b[32m━━━━━━━━━━━━━━━━━━━━\u001b[0m\u001b[37m\u001b[0m \u001b[1m49s\u001b[0m 157ms/step - loss: 0.9102 - r2_score: 0.0785 - val_loss: 0.7639 - val_r2_score: 0.2380\n",
      "Epoch 3/10\n",
      "\u001b[1m312/312\u001b[0m \u001b[32m━━━━━━━━━━━━━━━━━━━━\u001b[0m\u001b[37m\u001b[0m \u001b[1m49s\u001b[0m 155ms/step - loss: 0.8069 - r2_score: 0.1834 - val_loss: 0.7532 - val_r2_score: 0.2487\n",
      "Epoch 4/10\n",
      "\u001b[1m312/312\u001b[0m \u001b[32m━━━━━━━━━━━━━━━━━━━━\u001b[0m\u001b[37m\u001b[0m \u001b[1m82s\u001b[0m 156ms/step - loss: 0.7740 - r2_score: 0.2167 - val_loss: 0.7394 - val_r2_score: 0.2627\n",
      "Epoch 5/10\n",
      "\u001b[1m312/312\u001b[0m \u001b[32m━━━━━━━━━━━━━━━━━━━━\u001b[0m\u001b[37m\u001b[0m \u001b[1m49s\u001b[0m 157ms/step - loss: 0.7573 - r2_score: 0.2336 - val_loss: 0.7349 - val_r2_score: 0.2673\n",
      "Epoch 6/10\n",
      "\u001b[1m312/312\u001b[0m \u001b[32m━━━━━━━━━━━━━━━━━━━━\u001b[0m\u001b[37m\u001b[0m \u001b[1m84s\u001b[0m 162ms/step - loss: 0.7425 - r2_score: 0.2485 - val_loss: 0.7273 - val_r2_score: 0.2748\n",
      "Epoch 7/10\n",
      "\u001b[1m312/312\u001b[0m \u001b[32m━━━━━━━━━━━━━━━━━━━━\u001b[0m\u001b[37m\u001b[0m \u001b[1m49s\u001b[0m 157ms/step - loss: 0.7330 - r2_score: 0.2581 - val_loss: 0.7245 - val_r2_score: 0.2774\n",
      "Epoch 8/10\n",
      "\u001b[1m312/312\u001b[0m \u001b[32m━━━━━━━━━━━━━━━━━━━━\u001b[0m\u001b[37m\u001b[0m \u001b[1m82s\u001b[0m 156ms/step - loss: 0.7260 - r2_score: 0.2652 - val_loss: 0.7220 - val_r2_score: 0.2801\n",
      "Epoch 9/10\n",
      "\u001b[1m312/312\u001b[0m \u001b[32m━━━━━━━━━━━━━━━━━━━━\u001b[0m\u001b[37m\u001b[0m \u001b[1m49s\u001b[0m 157ms/step - loss: 0.7211 - r2_score: 0.2701 - val_loss: 0.7211 - val_r2_score: 0.2809\n",
      "Epoch 10/10\n",
      "\u001b[1m312/312\u001b[0m \u001b[32m━━━━━━━━━━━━━━━━━━━━\u001b[0m\u001b[37m\u001b[0m \u001b[1m81s\u001b[0m 156ms/step - loss: 0.7165 - r2_score: 0.2748 - val_loss: 0.7199 - val_r2_score: 0.2821\n"
     ]
    }
   ],
   "source": [
    "history = model.fit(train_ds, validation_data=val_ds, epochs=CFG['NUM_EPOCHS'])"
   ]
  },
  {
   "cell_type": "code",
   "execution_count": 15,
   "id": "2c88079d",
   "metadata": {
    "execution": {
     "iopub.execute_input": "2024-05-15T16:29:00.365901Z",
     "iopub.status.busy": "2024-05-15T16:29:00.364879Z",
     "iopub.status.idle": "2024-05-15T16:29:01.811963Z",
     "shell.execute_reply": "2024-05-15T16:29:01.811030Z"
    },
    "papermill": {
     "duration": 1.70747,
     "end_time": "2024-05-15T16:29:01.813960",
     "exception": false,
     "start_time": "2024-05-15T16:29:00.106490",
     "status": "completed"
    },
    "tags": []
   },
   "outputs": [
    {
     "data": {
      "image/png": "[encoded data removed]",
      "text/plain": [
       "<Figure size 1500x525 with 2 Axes>"
      ]
     },
     "metadata": {},
     "output_type": "display_data"
    }
   ],
   "source": [
    "# plot training history\n",
    "metrics = ['loss','r2_score']\n",
    "\n",
    "fig,axs = plt.subplots(1, len(metrics), figsize=(5*len(metrics),3.5),dpi=150)\n",
    "\n",
    "for i,metric in enumerate(metrics):\n",
    "    \n",
    "    _ = axs[i].plot(1 + np.arange(CFG['NUM_EPOCHS']), history.history[f'{metric}'],label='Training')\n",
    "    _ = axs[i].plot(1 + np.arange(CFG['NUM_EPOCHS']), history.history[f'val_{metric}'],label='Validation')\n",
    "    _ = axs[i].legend()\n",
    "    _ = axs[i].set_ylabel(metric.capitalize())\n",
    "    _ = axs[i].set_xlabel('Epochs')\n",
    "\n",
    "fig.tight_layout()\n",
    "fig.savefig('training_history.png',bbox_inches='tight')\n",
    "fig.savefig('training_history.pdf',bbox_inches='tight')"
   ]
  },
  {
   "cell_type": "code",
   "execution_count": 16,
   "id": "e888b507",
   "metadata": {
    "execution": {
     "iopub.execute_input": "2024-05-15T16:29:02.355224Z",
     "iopub.status.busy": "2024-05-15T16:29:02.354189Z",
     "iopub.status.idle": "2024-05-15T16:29:02.859940Z",
     "shell.execute_reply": "2024-05-15T16:29:02.858981Z"
    },
    "papermill": {
     "duration": 0.786758,
     "end_time": "2024-05-15T16:29:02.862236",
     "exception": false,
     "start_time": "2024-05-15T16:29:02.075478",
     "status": "completed"
    },
    "tags": []
   },
   "outputs": [],
   "source": [
    "# save weights\n",
    "model.save_weights(\"model.weights.h5\")"
   ]
  },
  {
   "cell_type": "markdown",
   "id": "d6e9f6a9",
   "metadata": {
    "papermill": {
     "duration": 0.258345,
     "end_time": "2024-05-15T16:29:03.382948",
     "exception": false,
     "start_time": "2024-05-15T16:29:03.124603",
     "status": "completed"
    },
    "tags": []
   },
   "source": [
    "## Checking individual output R2"
   ]
  },
  {
   "cell_type": "code",
   "execution_count": 17,
   "id": "39fb9f10",
   "metadata": {
    "execution": {
     "iopub.execute_input": "2024-05-15T16:29:03.901956Z",
     "iopub.status.busy": "2024-05-15T16:29:03.901157Z",
     "iopub.status.idle": "2024-05-15T16:29:24.914544Z",
     "shell.execute_reply": "2024-05-15T16:29:24.913732Z"
    },
    "papermill": {
     "duration": 21.274297,
     "end_time": "2024-05-15T16:29:24.916597",
     "exception": false,
     "start_time": "2024-05-15T16:29:03.642300",
     "status": "completed"
    },
    "tags": []
   },
   "outputs": [
    {
     "name": "stdout",
     "output_type": "stream",
     "text": [
      "\u001b[1m39/39\u001b[0m \u001b[32m━━━━━━━━━━━━━━━━━━━━\u001b[0m\u001b[37m\u001b[0m \u001b[1m21s\u001b[0m 374ms/step\n"
     ]
    }
   ],
   "source": [
    "def process_paths_wo_targets(file_path, tabular):\n",
    "    return ((process_image_from_file(file_path), tabular),)\n",
    "\n",
    "# recreate the validation dataset without the targets\n",
    "val_ds = tf.data.Dataset.from_tensor_slices((paths_val, tabular_val.astype(np.float32)))\n",
    "val_ds = val_ds.map(process_paths_wo_targets).batch(256)\n",
    "\n",
    "y_val_pred = model.predict(val_ds)"
   ]
  },
  {
   "cell_type": "code",
   "execution_count": 18,
   "id": "5e579a42",
   "metadata": {
    "execution": {
     "iopub.execute_input": "2024-05-15T16:29:25.449061Z",
     "iopub.status.busy": "2024-05-15T16:29:25.448719Z",
     "iopub.status.idle": "2024-05-15T16:29:25.457601Z",
     "shell.execute_reply": "2024-05-15T16:29:25.456445Z"
    },
    "papermill": {
     "duration": 0.278021,
     "end_time": "2024-05-15T16:29:25.459677",
     "exception": false,
     "start_time": "2024-05-15T16:29:25.181656",
     "status": "completed"
    },
    "tags": []
   },
   "outputs": [
    {
     "name": "stdout",
     "output_type": "stream",
     "text": [
      "X4_mean       0.256294\n",
      "X11_mean      0.273003\n",
      "X18_mean      0.438452\n",
      "X50_mean      0.171986\n",
      "X26_mean      0.227365\n",
      "X3112_mean    0.325781\n",
      "dtype: float64\n"
     ]
    }
   ],
   "source": [
    "val_r2_scores = pd.Series(\n",
    "    r2_score(Y_val, y_val_pred, multioutput='raw_values'),\n",
    "    index=target_cols,\n",
    ")\n",
    "print(val_r2_scores)"
   ]
  },
  {
   "cell_type": "markdown",
   "id": "af531cae",
   "metadata": {
    "papermill": {
     "duration": 0.305405,
     "end_time": "2024-05-15T16:29:26.030439",
     "exception": false,
     "start_time": "2024-05-15T16:29:25.725034",
     "status": "completed"
    },
    "tags": []
   },
   "source": [
    "## Predictions on Test Data"
   ]
  },
  {
   "cell_type": "code",
   "execution_count": 19,
   "id": "e34d75f5",
   "metadata": {
    "execution": {
     "iopub.execute_input": "2024-05-15T16:29:26.550893Z",
     "iopub.status.busy": "2024-05-15T16:29:26.550504Z",
     "iopub.status.idle": "2024-05-15T16:29:40.760068Z",
     "shell.execute_reply": "2024-05-15T16:29:40.759315Z"
    },
    "papermill": {
     "duration": 14.472235,
     "end_time": "2024-05-15T16:29:40.761986",
     "exception": false,
     "start_time": "2024-05-15T16:29:26.289751",
     "status": "completed"
    },
    "tags": []
   },
   "outputs": [
    {
     "name": "stdout",
     "output_type": "stream",
     "text": [
      "\u001b[1m26/26\u001b[0m \u001b[32m━━━━━━━━━━━━━━━━━━━━\u001b[0m\u001b[37m\u001b[0m \u001b[1m14s\u001b[0m 544ms/step\n"
     ]
    }
   ],
   "source": [
    "paths_test = test['img_path'].astype(str).values\n",
    "tabular_test = tabular_input_sc.transform(\n",
    "    test.drop(columns = ['id', 'img_path']).values\n",
    ").astype(np.float32)\n",
    "test_ds = tf.data.Dataset.from_tensor_slices((paths_test, tabular_test))\n",
    "test_ds = test_ds.map(process_paths_wo_targets).batch(256)\n",
    "predictions = model.predict(test_ds)"
   ]
  },
  {
   "cell_type": "code",
   "execution_count": 20,
   "id": "ae197064",
   "metadata": {
    "execution": {
     "iopub.execute_input": "2024-05-15T16:29:41.298858Z",
     "iopub.status.busy": "2024-05-15T16:29:41.298483Z",
     "iopub.status.idle": "2024-05-15T16:29:41.363827Z",
     "shell.execute_reply": "2024-05-15T16:29:41.363059Z"
    },
    "papermill": {
     "duration": 0.339583,
     "end_time": "2024-05-15T16:29:41.365866",
     "exception": false,
     "start_time": "2024-05-15T16:29:41.026283",
     "status": "completed"
    },
    "tags": []
   },
   "outputs": [],
   "source": [
    "submission = pd.DataFrame(\n",
    "    output_sc.inverse_transform(predictions),\n",
    "    columns=targets,\n",
    "    index=test['id']\n",
    ").reset_index()\n",
    "\n",
    "\n",
    "submission.to_csv('submission.csv', index=False)"
   ]
  },
  {
   "cell_type": "code",
   "execution_count": 21,
   "id": "dffa1173",
   "metadata": {
    "execution": {
     "iopub.execute_input": "2024-05-15T16:29:41.892879Z",
     "iopub.status.busy": "2024-05-15T16:29:41.892530Z",
     "iopub.status.idle": "2024-05-15T16:29:41.907312Z",
     "shell.execute_reply": "2024-05-15T16:29:41.906467Z"
    },
    "papermill": {
     "duration": 0.277758,
     "end_time": "2024-05-15T16:29:41.909078",
     "exception": false,
     "start_time": "2024-05-15T16:29:41.631320",
     "status": "completed"
    },
    "tags": []
   },
   "outputs": [
    {
     "data": {
      "text/html": [
       "<div>\n",
       "<style scoped>\n",
       "    .dataframe tbody tr th:only-of-type {\n",
       "        vertical-align: middle;\n",
       "    }\n",
       "\n",
       "    .dataframe tbody tr th {\n",
       "        vertical-align: top;\n",
       "    }\n",
       "\n",
       "    .dataframe thead th {\n",
       "        text-align: right;\n",
       "    }\n",
       "</style>\n",
       "<table border=\"1\" class=\"dataframe\">\n",
       "  <thead>\n",
       "    <tr style=\"text-align: right;\">\n",
       "      <th></th>\n",
       "      <th>id</th>\n",
       "      <th>X4</th>\n",
       "      <th>X11</th>\n",
       "      <th>X18</th>\n",
       "      <th>X50</th>\n",
       "      <th>X26</th>\n",
       "      <th>X3112</th>\n",
       "    </tr>\n",
       "  </thead>\n",
       "  <tbody>\n",
       "    <tr>\n",
       "      <th>0</th>\n",
       "      <td>201238668</td>\n",
       "      <td>0.629366</td>\n",
       "      <td>12.492510</td>\n",
       "      <td>3.748738</td>\n",
       "      <td>1.558504</td>\n",
       "      <td>23.919550</td>\n",
       "      <td>170.627426</td>\n",
       "    </tr>\n",
       "    <tr>\n",
       "      <th>1</th>\n",
       "      <td>202310319</td>\n",
       "      <td>0.395440</td>\n",
       "      <td>20.154686</td>\n",
       "      <td>0.015608</td>\n",
       "      <td>1.328861</td>\n",
       "      <td>-2.999188</td>\n",
       "      <td>708.017456</td>\n",
       "    </tr>\n",
       "    <tr>\n",
       "      <th>2</th>\n",
       "      <td>202604412</td>\n",
       "      <td>0.581757</td>\n",
       "      <td>14.190838</td>\n",
       "      <td>3.658803</td>\n",
       "      <td>1.773371</td>\n",
       "      <td>49.175476</td>\n",
       "      <td>1593.184082</td>\n",
       "    </tr>\n",
       "    <tr>\n",
       "      <th>3</th>\n",
       "      <td>201353439</td>\n",
       "      <td>0.421465</td>\n",
       "      <td>22.958126</td>\n",
       "      <td>0.881310</td>\n",
       "      <td>1.224377</td>\n",
       "      <td>5.813294</td>\n",
       "      <td>1275.027466</td>\n",
       "    </tr>\n",
       "    <tr>\n",
       "      <th>4</th>\n",
       "      <td>195351745</td>\n",
       "      <td>0.490228</td>\n",
       "      <td>10.461578</td>\n",
       "      <td>0.302945</td>\n",
       "      <td>1.607603</td>\n",
       "      <td>-1.994328</td>\n",
       "      <td>-44.609512</td>\n",
       "    </tr>\n",
       "  </tbody>\n",
       "</table>\n",
       "</div>"
      ],
      "text/plain": [
       "          id        X4        X11       X18       X50        X26        X3112\n",
       "0  201238668  0.629366  12.492510  3.748738  1.558504  23.919550   170.627426\n",
       "1  202310319  0.395440  20.154686  0.015608  1.328861  -2.999188   708.017456\n",
       "2  202604412  0.581757  14.190838  3.658803  1.773371  49.175476  1593.184082\n",
       "3  201353439  0.421465  22.958126  0.881310  1.224377   5.813294  1275.027466\n",
       "4  195351745  0.490228  10.461578  0.302945  1.607603  -1.994328   -44.609512"
      ]
     },
     "execution_count": 21,
     "metadata": {},
     "output_type": "execute_result"
    }
   ],
   "source": [
    "submission.head()"
   ]
  },
  {
   "cell_type": "code",
   "execution_count": null,
   "id": "b78d1b4e",
   "metadata": {
    "papermill": {
     "duration": 0.275915,
     "end_time": "2024-05-15T16:29:42.447481",
     "exception": false,
     "start_time": "2024-05-15T16:29:42.171566",
     "status": "completed"
    },
    "tags": []
   },
   "outputs": [],
   "source": []
  }
 ],
 "metadata": {
  "kaggle": {
   "accelerator": "gpu",
   "dataSources": [
    {
     "databundleVersionId": 8046133,
     "sourceId": 65626,
     "sourceType": "competition"
    }
   ],
   "dockerImageVersionId": 30674,
   "isGpuEnabled": true,
   "isInternetEnabled": true,
   "language": "python",
   "sourceType": "notebook"
  },
  "kernelspec": {
   "display_name": "Python 3",
   "language": "python",
   "name": "python3"
  },
  "language_info": {
   "codemirror_mode": {
    "name": "ipython",
    "version": 3
   },
   "file_extension": ".py",
   "mimetype": "text/x-python",
   "name": "python",
   "nbconvert_exporter": "python",
   "pygments_lexer": "ipython3",
   "version": "3.10.13"
  },
  "papermill": {
   "default_parameters": {},
   "duration": 760.630535,
   "end_time": "2024-05-15T16:29:46.043484",
   "environment_variables": {},
   "exception": null,
   "input_path": "__notebook__.ipynb",
   "output_path": "__notebook__.ipynb",
   "parameters": {},
   "start_time": "2024-05-15T16:17:05.412949",
   "version": "2.5.0"
  }
 },
 "nbformat": 4,
 "nbformat_minor": 5
}
