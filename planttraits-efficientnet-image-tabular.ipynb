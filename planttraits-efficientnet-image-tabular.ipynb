{
 "cells": [
  {
   "cell_type": "markdown",
   "id": "66be18e5",
   "metadata": {
    "papermill": {
     "duration": 0.008242,
     "end_time": "2024-05-15T15:50:36.580164",
     "exception": false,
     "start_time": "2024-05-15T15:50:36.571922",
     "status": "completed"
    },
    "tags": []
   },
   "source": [
    "## Introduction\n",
    "\n",
    "In this notebook we will train a baseline multi-output regression model in Keras on the images and the ancillary data (satellite data, soil data, climate data etc.) to predict the 6 plant properties."
   ]
  },
  {
   "cell_type": "code",
   "execution_count": 1,
   "id": "b85fe41d",
   "metadata": {
    "execution": {
     "iopub.execute_input": "2024-05-15T15:50:36.597821Z",
     "iopub.status.busy": "2024-05-15T15:50:36.597087Z",
     "iopub.status.idle": "2024-05-15T15:50:50.333368Z",
     "shell.execute_reply": "2024-05-15T15:50:50.332577Z"
    },
    "papermill": {
     "duration": 13.747903,
     "end_time": "2024-05-15T15:50:50.335816",
     "exception": false,
     "start_time": "2024-05-15T15:50:36.587913",
     "status": "completed"
    },
    "tags": []
   },
   "outputs": [
    {
     "name": "stderr",
     "output_type": "stream",
     "text": [
      "2024-05-15 15:50:40.327212: E external/local_xla/xla/stream_executor/cuda/cuda_dnn.cc:9261] Unable to register cuDNN factory: Attempting to register factory for plugin cuDNN when one has already been registered\n",
      "2024-05-15 15:50:40.327316: E external/local_xla/xla/stream_executor/cuda/cuda_fft.cc:607] Unable to register cuFFT factory: Attempting to register factory for plugin cuFFT when one has already been registered\n",
      "2024-05-15 15:50:40.468760: E external/local_xla/xla/stream_executor/cuda/cuda_blas.cc:1515] Unable to register cuBLAS factory: Attempting to register factory for plugin cuBLAS when one has already been registered\n"
     ]
    }
   ],
   "source": [
    "import numpy as np\n",
    "import pandas as pd\n",
    "import matplotlib.pyplot as plt\n",
    "import seaborn as sns\n",
    "\n",
    "import tensorflow as tf\n",
    "import keras\n",
    "from keras.applications.efficientnet import EfficientNetB0, preprocess_input\n",
    "\n",
    "from sklearn.preprocessing import StandardScaler, MinMaxScaler\n",
    "from sklearn.metrics import r2_score\n",
    "from sklearn.model_selection import train_test_split\n",
    "\n",
    "from pathlib import Path\n",
    "\n",
    "plt.style.use('ggplot')\n",
    "plt.rcParams.update(**{'figure.dpi':150})"
   ]
  },
  {
   "cell_type": "code",
   "execution_count": 2,
   "id": "8affded3",
   "metadata": {
    "execution": {
     "iopub.execute_input": "2024-05-15T15:50:50.353103Z",
     "iopub.status.busy": "2024-05-15T15:50:50.352620Z",
     "iopub.status.idle": "2024-05-15T15:50:50.357718Z",
     "shell.execute_reply": "2024-05-15T15:50:50.356873Z"
    },
    "papermill": {
     "duration": 0.015642,
     "end_time": "2024-05-15T15:50:50.359578",
     "exception": false,
     "start_time": "2024-05-15T15:50:50.343936",
     "status": "completed"
    },
    "tags": []
   },
   "outputs": [],
   "source": [
    "## global configuration\n",
    "CFG = {\n",
    "    'BATCH_SIZE': 128,\n",
    "    'NUM_EPOCHS': 10,\n",
    "    'MAX_LR': 5e-4,\n",
    "    'n_tabular_layers': 2,\n",
    "    'img_backbone_final_dim': 128,\n",
    "    'tabular_hsizes': [256, 128],\n",
    "    'n_ff_layers': 2,\n",
    "    'ff_hsizes': [128, 64]\n",
    "}"
   ]
  },
  {
   "cell_type": "markdown",
   "id": "3913b66e",
   "metadata": {
    "papermill": {
     "duration": 0.007627,
     "end_time": "2024-05-15T15:50:50.374862",
     "exception": false,
     "start_time": "2024-05-15T15:50:50.367235",
     "status": "completed"
    },
    "tags": []
   },
   "source": [
    "## Loading the data"
   ]
  },
  {
   "cell_type": "code",
   "execution_count": 3,
   "id": "2c77c0be",
   "metadata": {
    "execution": {
     "iopub.execute_input": "2024-05-15T15:50:50.391191Z",
     "iopub.status.busy": "2024-05-15T15:50:50.390928Z",
     "iopub.status.idle": "2024-05-15T15:50:53.490214Z",
     "shell.execute_reply": "2024-05-15T15:50:53.489428Z"
    },
    "papermill": {
     "duration": 3.110153,
     "end_time": "2024-05-15T15:50:53.492576",
     "exception": false,
     "start_time": "2024-05-15T15:50:50.382423",
     "status": "completed"
    },
    "tags": []
   },
   "outputs": [],
   "source": [
    "path = Path('/kaggle/input/planttraits2024/')\n",
    "imgs_train = path / 'train_images'\n",
    "imgs_test = path / 'test_images'\n",
    "\n",
    "train = pd.read_csv(path / 'train.csv')\n",
    "train['img_path'] = train['id'].apply(lambda x: imgs_train / f'{x}.jpeg')\n",
    "\n",
    "test = pd.read_csv(path / 'test.csv')\n",
    "test['img_path'] = test['id'].apply(lambda x: imgs_test / f'{x}.jpeg')"
   ]
  },
  {
   "cell_type": "code",
   "execution_count": 4,
   "id": "51ff6122",
   "metadata": {
    "execution": {
     "iopub.execute_input": "2024-05-15T15:50:53.511114Z",
     "iopub.status.busy": "2024-05-15T15:50:53.510807Z",
     "iopub.status.idle": "2024-05-15T15:50:53.517982Z",
     "shell.execute_reply": "2024-05-15T15:50:53.517118Z"
    },
    "papermill": {
     "duration": 0.019414,
     "end_time": "2024-05-15T15:50:53.520180",
     "exception": false,
     "start_time": "2024-05-15T15:50:53.500766",
     "status": "completed"
    },
    "tags": []
   },
   "outputs": [
    {
     "data": {
      "text/plain": [
       "['X4_mean', 'X11_mean', 'X18_mean', 'X50_mean', 'X26_mean', 'X3112_mean']"
      ]
     },
     "execution_count": 4,
     "metadata": {},
     "output_type": "execute_result"
    }
   ],
   "source": [
    "targets = ['X4', 'X11', 'X18', 'X50', 'X26', 'X3112']\n",
    "target_cols = [f'{col}_mean' for col in targets]\n",
    "target_cols"
   ]
  },
  {
   "cell_type": "code",
   "execution_count": 5,
   "id": "ed4e4391",
   "metadata": {
    "execution": {
     "iopub.execute_input": "2024-05-15T15:50:53.537541Z",
     "iopub.status.busy": "2024-05-15T15:50:53.537270Z",
     "iopub.status.idle": "2024-05-15T15:50:53.571529Z",
     "shell.execute_reply": "2024-05-15T15:50:53.570534Z"
    },
    "papermill": {
     "duration": 0.045887,
     "end_time": "2024-05-15T15:50:53.574069",
     "exception": false,
     "start_time": "2024-05-15T15:50:53.528182",
     "status": "completed"
    },
    "tags": []
   },
   "outputs": [],
   "source": [
    "# remove sd columns\n",
    "sd_cols = [f'{col}_sd' for col in targets]\n",
    "train = train.drop(columns = sd_cols)"
   ]
  },
  {
   "cell_type": "markdown",
   "id": "dd8d9b7b",
   "metadata": {
    "papermill": {
     "duration": 0.007691,
     "end_time": "2024-05-15T15:50:53.589909",
     "exception": false,
     "start_time": "2024-05-15T15:50:53.582218",
     "status": "completed"
    },
    "tags": []
   },
   "source": [
    "## Preprocessing"
   ]
  },
  {
   "cell_type": "code",
   "execution_count": 6,
   "id": "5e4c6f86",
   "metadata": {
    "execution": {
     "iopub.execute_input": "2024-05-15T15:50:53.606874Z",
     "iopub.status.busy": "2024-05-15T15:50:53.606547Z",
     "iopub.status.idle": "2024-05-15T15:50:53.803397Z",
     "shell.execute_reply": "2024-05-15T15:50:53.802568Z"
    },
    "papermill": {
     "duration": 0.207809,
     "end_time": "2024-05-15T15:50:53.805733",
     "exception": false,
     "start_time": "2024-05-15T15:50:53.597924",
     "status": "completed"
    },
    "tags": []
   },
   "outputs": [],
   "source": [
    "img_paths = train['img_path'].astype(str).values\n",
    "tabular = train.drop(columns = ['id', 'img_path'] + target_cols).values\n",
    "Y = train[target_cols]"
   ]
  },
  {
   "cell_type": "code",
   "execution_count": 7,
   "id": "cb8eb0e1",
   "metadata": {
    "execution": {
     "iopub.execute_input": "2024-05-15T15:50:53.823383Z",
     "iopub.status.busy": "2024-05-15T15:50:53.822880Z",
     "iopub.status.idle": "2024-05-15T15:50:53.882360Z",
     "shell.execute_reply": "2024-05-15T15:50:53.881464Z"
    },
    "papermill": {
     "duration": 0.070489,
     "end_time": "2024-05-15T15:50:53.884509",
     "exception": false,
     "start_time": "2024-05-15T15:50:53.814020",
     "status": "completed"
    },
    "tags": []
   },
   "outputs": [
    {
     "name": "stdout",
     "output_type": "stream",
     "text": [
      "Number of observations removed: 5691\n"
     ]
    }
   ],
   "source": [
    "# remove bad observations\n",
    "upper_quantiles = Y.quantile(0.98)\n",
    "retained_flag = (Y < upper_quantiles).all(axis= 1) & (Y > 0).all(axis=1)\n",
    "img_paths = img_paths[retained_flag]\n",
    "tabular = tabular[retained_flag]\n",
    "Y = Y[retained_flag]\n",
    "\n",
    "print(f'Number of observations removed: {retained_flag.shape[0] - retained_flag.sum()}')"
   ]
  },
  {
   "cell_type": "code",
   "execution_count": 8,
   "id": "853ff44f",
   "metadata": {
    "execution": {
     "iopub.execute_input": "2024-05-15T15:50:53.901926Z",
     "iopub.status.busy": "2024-05-15T15:50:53.901632Z",
     "iopub.status.idle": "2024-05-15T15:50:55.484732Z",
     "shell.execute_reply": "2024-05-15T15:50:55.483789Z"
    },
    "papermill": {
     "duration": 1.595097,
     "end_time": "2024-05-15T15:50:55.487758",
     "exception": false,
     "start_time": "2024-05-15T15:50:53.892661",
     "status": "completed"
    },
    "tags": []
   },
   "outputs": [
    {
     "name": "stderr",
     "output_type": "stream",
     "text": [
      "/opt/conda/lib/python3.10/site-packages/seaborn/_oldcore.py:1119: FutureWarning: use_inf_as_na option is deprecated and will be removed in a future version. Convert inf values to NaN before operating instead.\n",
      "  with pd.option_context('mode.use_inf_as_na', True):\n",
      "/opt/conda/lib/python3.10/site-packages/seaborn/_oldcore.py:1119: FutureWarning: use_inf_as_na option is deprecated and will be removed in a future version. Convert inf values to NaN before operating instead.\n",
      "  with pd.option_context('mode.use_inf_as_na', True):\n",
      "/opt/conda/lib/python3.10/site-packages/seaborn/_oldcore.py:1119: FutureWarning: use_inf_as_na option is deprecated and will be removed in a future version. Convert inf values to NaN before operating instead.\n",
      "  with pd.option_context('mode.use_inf_as_na', True):\n",
      "/opt/conda/lib/python3.10/site-packages/seaborn/_oldcore.py:1119: FutureWarning: use_inf_as_na option is deprecated and will be removed in a future version. Convert inf values to NaN before operating instead.\n",
      "  with pd.option_context('mode.use_inf_as_na', True):\n",
      "/opt/conda/lib/python3.10/site-packages/seaborn/_oldcore.py:1119: FutureWarning: use_inf_as_na option is deprecated and will be removed in a future version. Convert inf values to NaN before operating instead.\n",
      "  with pd.option_context('mode.use_inf_as_na', True):\n",
      "/opt/conda/lib/python3.10/site-packages/seaborn/_oldcore.py:1119: FutureWarning: use_inf_as_na option is deprecated and will be removed in a future version. Convert inf values to NaN before operating instead.\n",
      "  with pd.option_context('mode.use_inf_as_na', True):\n"
     ]
    },
    {
     "data": {
      "image/png": "[encoded data removed]",
      "text/plain": [
       "<Figure size 1800x900 with 6 Axes>"
      ]
     },
     "metadata": {},
     "output_type": "display_data"
    }
   ],
   "source": [
    "# histograms after filtering out bad observations\n",
    "n_rows = 2\n",
    "n_cols = 3\n",
    "fig, axs = plt.subplots(n_rows, n_cols, figsize=(4 * n_cols, 3 * n_rows))\n",
    "for i, column in enumerate(Y.columns):\n",
    "    row_idx, col_idx = divmod(i, n_cols)\n",
    "    _ = sns.histplot(data=Y, x=column, ax=axs[row_idx, col_idx], bins=20)\n",
    "\n",
    "fig.tight_layout()\n"
   ]
  },
  {
   "cell_type": "code",
   "execution_count": 9,
   "id": "a7281f4d",
   "metadata": {
    "execution": {
     "iopub.execute_input": "2024-05-15T15:50:55.509468Z",
     "iopub.status.busy": "2024-05-15T15:50:55.509171Z",
     "iopub.status.idle": "2024-05-15T15:50:55.519274Z",
     "shell.execute_reply": "2024-05-15T15:50:55.518552Z"
    },
    "papermill": {
     "duration": 0.023197,
     "end_time": "2024-05-15T15:50:55.521167",
     "exception": false,
     "start_time": "2024-05-15T15:50:55.497970",
     "status": "completed"
    },
    "tags": []
   },
   "outputs": [],
   "source": [
    "# standardize response\n",
    "output_sc = StandardScaler()\n",
    "Y_sc = output_sc.fit_transform(Y)"
   ]
  },
  {
   "cell_type": "code",
   "execution_count": 10,
   "id": "dc7a21aa",
   "metadata": {
    "execution": {
     "iopub.execute_input": "2024-05-15T15:50:55.541929Z",
     "iopub.status.busy": "2024-05-15T15:50:55.541651Z",
     "iopub.status.idle": "2024-05-15T15:50:55.611058Z",
     "shell.execute_reply": "2024-05-15T15:50:55.610311Z"
    },
    "papermill": {
     "duration": 0.082207,
     "end_time": "2024-05-15T15:50:55.613171",
     "exception": false,
     "start_time": "2024-05-15T15:50:55.530964",
     "status": "completed"
    },
    "tags": []
   },
   "outputs": [],
   "source": [
    "# normalize tabular inputs\n",
    "tabular_input_sc = MinMaxScaler()\n",
    "tabular_sc = tabular_input_sc.fit_transform(tabular)"
   ]
  },
  {
   "cell_type": "markdown",
   "id": "559fb4de",
   "metadata": {
    "papermill": {
     "duration": 0.009519,
     "end_time": "2024-05-15T15:50:55.632450",
     "exception": false,
     "start_time": "2024-05-15T15:50:55.622931",
     "status": "completed"
    },
    "tags": []
   },
   "source": [
    "## Image preprocessing functions"
   ]
  },
  {
   "cell_type": "code",
   "execution_count": 11,
   "id": "9c425435",
   "metadata": {
    "execution": {
     "iopub.execute_input": "2024-05-15T15:50:55.652875Z",
     "iopub.status.busy": "2024-05-15T15:50:55.652573Z",
     "iopub.status.idle": "2024-05-15T15:50:55.658447Z",
     "shell.execute_reply": "2024-05-15T15:50:55.657634Z"
    },
    "papermill": {
     "duration": 0.018051,
     "end_time": "2024-05-15T15:50:55.660285",
     "exception": false,
     "start_time": "2024-05-15T15:50:55.642234",
     "status": "completed"
    },
    "tags": []
   },
   "outputs": [],
   "source": [
    "def process_image_from_file(file_path:str) -> tf.Tensor:\n",
    "    # load the image\n",
    "    img = tf.io.read_file(file_path)\n",
    "    # decode the jpeg file \n",
    "    img = tf.image.decode_jpeg(img, channels=3)\n",
    "    # resize the image to 224 x 224 \n",
    "    img = tf.image.resize(img, [224, 224])\n",
    "    # preprocessing for efficient net \n",
    "    # per documentation, does nothing; including it\n",
    "    # here for consistency\n",
    "    img = preprocess_input(img)\n",
    "    return img\n",
    "\n",
    "# Define your dataset processing function\n",
    "def process_path(file_path, tabular, targets):\n",
    "    return (process_image_from_file(file_path), tabular), targets\n"
   ]
  },
  {
   "cell_type": "markdown",
   "id": "5bda6c04",
   "metadata": {
    "papermill": {
     "duration": 0.009432,
     "end_time": "2024-05-15T15:50:55.679173",
     "exception": false,
     "start_time": "2024-05-15T15:50:55.669741",
     "status": "completed"
    },
    "tags": []
   },
   "source": [
    "## Create training and validation sets"
   ]
  },
  {
   "cell_type": "code",
   "execution_count": 12,
   "id": "8229cf65",
   "metadata": {
    "execution": {
     "iopub.execute_input": "2024-05-15T15:50:55.699256Z",
     "iopub.status.busy": "2024-05-15T15:50:55.698985Z",
     "iopub.status.idle": "2024-05-15T15:50:56.590710Z",
     "shell.execute_reply": "2024-05-15T15:50:56.589847Z"
    },
    "papermill": {
     "duration": 0.904677,
     "end_time": "2024-05-15T15:50:56.593173",
     "exception": false,
     "start_time": "2024-05-15T15:50:55.688496",
     "status": "completed"
    },
    "tags": []
   },
   "outputs": [],
   "source": [
    "paths_train, paths_val, tabular_train, tabular_val, Y_train, Y_val = train_test_split(\n",
    "    img_paths, tabular_sc, Y_sc, random_state=2, test_size=0.2\n",
    ")\n",
    "\n",
    "train_ds = tf.data.Dataset.from_tensor_slices((paths_train, tabular_train.astype(np.float32), Y_train.astype(np.float32)))\n",
    "val_ds = tf.data.Dataset.from_tensor_slices((paths_val, tabular_val.astype(np.float32), Y_val.astype(np.float32)))\n",
    "\n",
    "\n",
    "# preprocess and batch\n",
    "train_ds = train_ds.map(process_path).batch(CFG['BATCH_SIZE'])\n",
    "val_ds = val_ds.map(process_path).batch(CFG['BATCH_SIZE'])"
   ]
  },
  {
   "cell_type": "markdown",
   "id": "dc33de45",
   "metadata": {
    "papermill": {
     "duration": 0.00928,
     "end_time": "2024-05-15T15:50:56.612946",
     "exception": false,
     "start_time": "2024-05-15T15:50:56.603666",
     "status": "completed"
    },
    "tags": []
   },
   "source": [
    "## Model architecture"
   ]
  },
  {
   "cell_type": "code",
   "execution_count": 13,
   "id": "6b234db8",
   "metadata": {
    "execution": {
     "iopub.execute_input": "2024-05-15T15:50:56.633119Z",
     "iopub.status.busy": "2024-05-15T15:50:56.632817Z",
     "iopub.status.idle": "2024-05-15T15:50:58.449580Z",
     "shell.execute_reply": "2024-05-15T15:50:58.448629Z"
    },
    "papermill": {
     "duration": 1.829501,
     "end_time": "2024-05-15T15:50:58.451830",
     "exception": false,
     "start_time": "2024-05-15T15:50:56.622329",
     "status": "completed"
    },
    "tags": []
   },
   "outputs": [
    {
     "name": "stdout",
     "output_type": "stream",
     "text": [
      "Downloading data from https://storage.googleapis.com/keras-applications/efficientnetb0_notop.h5\n",
      "\u001b[1m16705208/16705208\u001b[0m \u001b[32m━━━━━━━━━━━━━━━━━━━━\u001b[0m\u001b[37m\u001b[0m \u001b[1m0s\u001b[0m 0us/step\n"
     ]
    },
    {
     "data": {
      "text/html": [
       "<pre style=\"white-space:pre;overflow-x:auto;line-height:normal;font-family:Menlo,'DejaVu Sans Mono',consolas,'Courier New',monospace\"><span style=\"font-weight: bold\">Model: \"functional_4\"</span>\n",
       "</pre>\n"
      ],
      "text/plain": [
       "\u001b[1mModel: \"functional_4\"\u001b[0m\n"
      ]
     },
     "metadata": {},
     "output_type": "display_data"
    },
    {
     "data": {
      "text/html": [
       "<pre style=\"white-space:pre;overflow-x:auto;line-height:normal;font-family:Menlo,'DejaVu Sans Mono',consolas,'Courier New',monospace\">┏━━━━━━━━━━━━━━━━━━━━━┳━━━━━━━━━━━━━━━━━━━┳━━━━━━━━━━━━┳━━━━━━━━━━━━━━━━━━━┓\n",
       "┃<span style=\"font-weight: bold\"> Layer (type)        </span>┃<span style=\"font-weight: bold\"> Output Shape      </span>┃<span style=\"font-weight: bold\">    Param # </span>┃<span style=\"font-weight: bold\"> Connected to      </span>┃\n",
       "┡━━━━━━━━━━━━━━━━━━━━━╇━━━━━━━━━━━━━━━━━━━╇━━━━━━━━━━━━╇━━━━━━━━━━━━━━━━━━━┩\n",
       "│ img_input           │ (<span style=\"color: #00d7ff; text-decoration-color: #00d7ff\">None</span>, <span style=\"color: #00af00; text-decoration-color: #00af00\">224</span>, <span style=\"color: #00af00; text-decoration-color: #00af00\">224</span>,  │          <span style=\"color: #00af00; text-decoration-color: #00af00\">0</span> │ -                 │\n",
       "│ (<span style=\"color: #0087ff; text-decoration-color: #0087ff\">InputLayer</span>)        │ <span style=\"color: #00af00; text-decoration-color: #00af00\">3</span>)                │            │                   │\n",
       "├─────────────────────┼───────────────────┼────────────┼───────────────────┤\n",
       "│ tabular_input       │ (<span style=\"color: #00d7ff; text-decoration-color: #00d7ff\">None</span>, <span style=\"color: #00af00; text-decoration-color: #00af00\">163</span>)       │          <span style=\"color: #00af00; text-decoration-color: #00af00\">0</span> │ -                 │\n",
       "│ (<span style=\"color: #0087ff; text-decoration-color: #0087ff\">InputLayer</span>)        │                   │            │                   │\n",
       "├─────────────────────┼───────────────────┼────────────┼───────────────────┤\n",
       "│ img_backbone        │ (<span style=\"color: #00d7ff; text-decoration-color: #00d7ff\">None</span>, <span style=\"color: #00af00; text-decoration-color: #00af00\">128</span>)       │  <span style=\"color: #00af00; text-decoration-color: #00af00\">4,213,539</span> │ img_input[<span style=\"color: #00af00; text-decoration-color: #00af00\">0</span>][<span style=\"color: #00af00; text-decoration-color: #00af00\">0</span>]   │\n",
       "│ (<span style=\"color: #0087ff; text-decoration-color: #0087ff\">Sequential</span>)        │                   │            │                   │\n",
       "├─────────────────────┼───────────────────┼────────────┼───────────────────┤\n",
       "│ tabular_backbone    │ (<span style=\"color: #00d7ff; text-decoration-color: #00d7ff\">None</span>, <span style=\"color: #00af00; text-decoration-color: #00af00\">128</span>)       │     <span style=\"color: #00af00; text-decoration-color: #00af00\">76,416</span> │ tabular_input[<span style=\"color: #00af00; text-decoration-color: #00af00\">0</span>]… │\n",
       "│ (<span style=\"color: #0087ff; text-decoration-color: #0087ff\">Sequential</span>)        │                   │            │                   │\n",
       "├─────────────────────┼───────────────────┼────────────┼───────────────────┤\n",
       "│ concatenate         │ (<span style=\"color: #00d7ff; text-decoration-color: #00d7ff\">None</span>, <span style=\"color: #00af00; text-decoration-color: #00af00\">256</span>)       │          <span style=\"color: #00af00; text-decoration-color: #00af00\">0</span> │ img_backbone[<span style=\"color: #00af00; text-decoration-color: #00af00\">0</span>][<span style=\"color: #00af00; text-decoration-color: #00af00\">…</span> │\n",
       "│ (<span style=\"color: #0087ff; text-decoration-color: #0087ff\">Concatenate</span>)       │                   │            │ tabular_backbone… │\n",
       "├─────────────────────┼───────────────────┼────────────┼───────────────────┤\n",
       "│ ff_block_0_dense    │ (<span style=\"color: #00d7ff; text-decoration-color: #00d7ff\">None</span>, <span style=\"color: #00af00; text-decoration-color: #00af00\">256</span>)       │     <span style=\"color: #00af00; text-decoration-color: #00af00\">65,792</span> │ concatenate[<span style=\"color: #00af00; text-decoration-color: #00af00\">0</span>][<span style=\"color: #00af00; text-decoration-color: #00af00\">0</span>] │\n",
       "│ (<span style=\"color: #0087ff; text-decoration-color: #0087ff\">Dense</span>)             │                   │            │                   │\n",
       "├─────────────────────┼───────────────────┼────────────┼───────────────────┤\n",
       "│ batch_normalizatio… │ (<span style=\"color: #00d7ff; text-decoration-color: #00d7ff\">None</span>, <span style=\"color: #00af00; text-decoration-color: #00af00\">256</span>)       │      <span style=\"color: #00af00; text-decoration-color: #00af00\">1,024</span> │ ff_block_0_dense… │\n",
       "│ (<span style=\"color: #0087ff; text-decoration-color: #0087ff\">BatchNormalizatio…</span> │                   │            │                   │\n",
       "├─────────────────────┼───────────────────┼────────────┼───────────────────┤\n",
       "│ re_lu_2 (<span style=\"color: #0087ff; text-decoration-color: #0087ff\">ReLU</span>)      │ (<span style=\"color: #00d7ff; text-decoration-color: #00d7ff\">None</span>, <span style=\"color: #00af00; text-decoration-color: #00af00\">256</span>)       │          <span style=\"color: #00af00; text-decoration-color: #00af00\">0</span> │ batch_normalizat… │\n",
       "├─────────────────────┼───────────────────┼────────────┼───────────────────┤\n",
       "│ dropout_2 (<span style=\"color: #0087ff; text-decoration-color: #0087ff\">Dropout</span>) │ (<span style=\"color: #00d7ff; text-decoration-color: #00d7ff\">None</span>, <span style=\"color: #00af00; text-decoration-color: #00af00\">256</span>)       │          <span style=\"color: #00af00; text-decoration-color: #00af00\">0</span> │ re_lu_2[<span style=\"color: #00af00; text-decoration-color: #00af00\">0</span>][<span style=\"color: #00af00; text-decoration-color: #00af00\">0</span>]     │\n",
       "├─────────────────────┼───────────────────┼────────────┼───────────────────┤\n",
       "│ ff_block_1_dense    │ (<span style=\"color: #00d7ff; text-decoration-color: #00d7ff\">None</span>, <span style=\"color: #00af00; text-decoration-color: #00af00\">128</span>)       │     <span style=\"color: #00af00; text-decoration-color: #00af00\">32,896</span> │ dropout_2[<span style=\"color: #00af00; text-decoration-color: #00af00\">0</span>][<span style=\"color: #00af00; text-decoration-color: #00af00\">0</span>]   │\n",
       "│ (<span style=\"color: #0087ff; text-decoration-color: #0087ff\">Dense</span>)             │                   │            │                   │\n",
       "├─────────────────────┼───────────────────┼────────────┼───────────────────┤\n",
       "│ batch_normalizatio… │ (<span style=\"color: #00d7ff; text-decoration-color: #00d7ff\">None</span>, <span style=\"color: #00af00; text-decoration-color: #00af00\">128</span>)       │        <span style=\"color: #00af00; text-decoration-color: #00af00\">512</span> │ ff_block_1_dense… │\n",
       "│ (<span style=\"color: #0087ff; text-decoration-color: #0087ff\">BatchNormalizatio…</span> │                   │            │                   │\n",
       "├─────────────────────┼───────────────────┼────────────┼───────────────────┤\n",
       "│ re_lu_3 (<span style=\"color: #0087ff; text-decoration-color: #0087ff\">ReLU</span>)      │ (<span style=\"color: #00d7ff; text-decoration-color: #00d7ff\">None</span>, <span style=\"color: #00af00; text-decoration-color: #00af00\">128</span>)       │          <span style=\"color: #00af00; text-decoration-color: #00af00\">0</span> │ batch_normalizat… │\n",
       "├─────────────────────┼───────────────────┼────────────┼───────────────────┤\n",
       "│ dropout_3 (<span style=\"color: #0087ff; text-decoration-color: #0087ff\">Dropout</span>) │ (<span style=\"color: #00d7ff; text-decoration-color: #00d7ff\">None</span>, <span style=\"color: #00af00; text-decoration-color: #00af00\">128</span>)       │          <span style=\"color: #00af00; text-decoration-color: #00af00\">0</span> │ re_lu_3[<span style=\"color: #00af00; text-decoration-color: #00af00\">0</span>][<span style=\"color: #00af00; text-decoration-color: #00af00\">0</span>]     │\n",
       "├─────────────────────┼───────────────────┼────────────┼───────────────────┤\n",
       "│ output (<span style=\"color: #0087ff; text-decoration-color: #0087ff\">Dense</span>)      │ (<span style=\"color: #00d7ff; text-decoration-color: #00d7ff\">None</span>, <span style=\"color: #00af00; text-decoration-color: #00af00\">6</span>)         │        <span style=\"color: #00af00; text-decoration-color: #00af00\">774</span> │ dropout_3[<span style=\"color: #00af00; text-decoration-color: #00af00\">0</span>][<span style=\"color: #00af00; text-decoration-color: #00af00\">0</span>]   │\n",
       "└─────────────────────┴───────────────────┴────────────┴───────────────────┘\n",
       "</pre>\n"
      ],
      "text/plain": [
       "┏━━━━━━━━━━━━━━━━━━━━━┳━━━━━━━━━━━━━━━━━━━┳━━━━━━━━━━━━┳━━━━━━━━━━━━━━━━━━━┓\n",
       "┃\u001b[1m \u001b[0m\u001b[1mLayer (type)       \u001b[0m\u001b[1m \u001b[0m┃\u001b[1m \u001b[0m\u001b[1mOutput Shape     \u001b[0m\u001b[1m \u001b[0m┃\u001b[1m \u001b[0m\u001b[1m   Param #\u001b[0m\u001b[1m \u001b[0m┃\u001b[1m \u001b[0m\u001b[1mConnected to     \u001b[0m\u001b[1m \u001b[0m┃\n",
       "┡━━━━━━━━━━━━━━━━━━━━━╇━━━━━━━━━━━━━━━━━━━╇━━━━━━━━━━━━╇━━━━━━━━━━━━━━━━━━━┩\n",
       "│ img_input           │ (\u001b[38;5;45mNone\u001b[0m, \u001b[38;5;34m224\u001b[0m, \u001b[38;5;34m224\u001b[0m,  │          \u001b[38;5;34m0\u001b[0m │ -                 │\n",
       "│ (\u001b[38;5;33mInputLayer\u001b[0m)        │ \u001b[38;5;34m3\u001b[0m)                │            │                   │\n",
       "├─────────────────────┼───────────────────┼────────────┼───────────────────┤\n",
       "│ tabular_input       │ (\u001b[38;5;45mNone\u001b[0m, \u001b[38;5;34m163\u001b[0m)       │          \u001b[38;5;34m0\u001b[0m │ -                 │\n",
       "│ (\u001b[38;5;33mInputLayer\u001b[0m)        │                   │            │                   │\n",
       "├─────────────────────┼───────────────────┼────────────┼───────────────────┤\n",
       "│ img_backbone        │ (\u001b[38;5;45mNone\u001b[0m, \u001b[38;5;34m128\u001b[0m)       │  \u001b[38;5;34m4,213,539\u001b[0m │ img_input[\u001b[38;5;34m0\u001b[0m][\u001b[38;5;34m0\u001b[0m]   │\n",
       "│ (\u001b[38;5;33mSequential\u001b[0m)        │                   │            │                   │\n",
       "├─────────────────────┼───────────────────┼────────────┼───────────────────┤\n",
       "│ tabular_backbone    │ (\u001b[38;5;45mNone\u001b[0m, \u001b[38;5;34m128\u001b[0m)       │     \u001b[38;5;34m76,416\u001b[0m │ tabular_input[\u001b[38;5;34m0\u001b[0m]… │\n",
       "│ (\u001b[38;5;33mSequential\u001b[0m)        │                   │            │                   │\n",
       "├─────────────────────┼───────────────────┼────────────┼───────────────────┤\n",
       "│ concatenate         │ (\u001b[38;5;45mNone\u001b[0m, \u001b[38;5;34m256\u001b[0m)       │          \u001b[38;5;34m0\u001b[0m │ img_backbone[\u001b[38;5;34m0\u001b[0m][\u001b[38;5;34m…\u001b[0m │\n",
       "│ (\u001b[38;5;33mConcatenate\u001b[0m)       │                   │            │ tabular_backbone… │\n",
       "├─────────────────────┼───────────────────┼────────────┼───────────────────┤\n",
       "│ ff_block_0_dense    │ (\u001b[38;5;45mNone\u001b[0m, \u001b[38;5;34m256\u001b[0m)       │     \u001b[38;5;34m65,792\u001b[0m │ concatenate[\u001b[38;5;34m0\u001b[0m][\u001b[38;5;34m0\u001b[0m] │\n",
       "│ (\u001b[38;5;33mDense\u001b[0m)             │                   │            │                   │\n",
       "├─────────────────────┼───────────────────┼────────────┼───────────────────┤\n",
       "│ batch_normalizatio… │ (\u001b[38;5;45mNone\u001b[0m, \u001b[38;5;34m256\u001b[0m)       │      \u001b[38;5;34m1,024\u001b[0m │ ff_block_0_dense… │\n",
       "│ (\u001b[38;5;33mBatchNormalizatio…\u001b[0m │                   │            │                   │\n",
       "├─────────────────────┼───────────────────┼────────────┼───────────────────┤\n",
       "│ re_lu_2 (\u001b[38;5;33mReLU\u001b[0m)      │ (\u001b[38;5;45mNone\u001b[0m, \u001b[38;5;34m256\u001b[0m)       │          \u001b[38;5;34m0\u001b[0m │ batch_normalizat… │\n",
       "├─────────────────────┼───────────────────┼────────────┼───────────────────┤\n",
       "│ dropout_2 (\u001b[38;5;33mDropout\u001b[0m) │ (\u001b[38;5;45mNone\u001b[0m, \u001b[38;5;34m256\u001b[0m)       │          \u001b[38;5;34m0\u001b[0m │ re_lu_2[\u001b[38;5;34m0\u001b[0m][\u001b[38;5;34m0\u001b[0m]     │\n",
       "├─────────────────────┼───────────────────┼────────────┼───────────────────┤\n",
       "│ ff_block_1_dense    │ (\u001b[38;5;45mNone\u001b[0m, \u001b[38;5;34m128\u001b[0m)       │     \u001b[38;5;34m32,896\u001b[0m │ dropout_2[\u001b[38;5;34m0\u001b[0m][\u001b[38;5;34m0\u001b[0m]   │\n",
       "│ (\u001b[38;5;33mDense\u001b[0m)             │                   │            │                   │\n",
       "├─────────────────────┼───────────────────┼────────────┼───────────────────┤\n",
       "│ batch_normalizatio… │ (\u001b[38;5;45mNone\u001b[0m, \u001b[38;5;34m128\u001b[0m)       │        \u001b[38;5;34m512\u001b[0m │ ff_block_1_dense… │\n",
       "│ (\u001b[38;5;33mBatchNormalizatio…\u001b[0m │                   │            │                   │\n",
       "├─────────────────────┼───────────────────┼────────────┼───────────────────┤\n",
       "│ re_lu_3 (\u001b[38;5;33mReLU\u001b[0m)      │ (\u001b[38;5;45mNone\u001b[0m, \u001b[38;5;34m128\u001b[0m)       │          \u001b[38;5;34m0\u001b[0m │ batch_normalizat… │\n",
       "├─────────────────────┼───────────────────┼────────────┼───────────────────┤\n",
       "│ dropout_3 (\u001b[38;5;33mDropout\u001b[0m) │ (\u001b[38;5;45mNone\u001b[0m, \u001b[38;5;34m128\u001b[0m)       │          \u001b[38;5;34m0\u001b[0m │ re_lu_3[\u001b[38;5;34m0\u001b[0m][\u001b[38;5;34m0\u001b[0m]     │\n",
       "├─────────────────────┼───────────────────┼────────────┼───────────────────┤\n",
       "│ output (\u001b[38;5;33mDense\u001b[0m)      │ (\u001b[38;5;45mNone\u001b[0m, \u001b[38;5;34m6\u001b[0m)         │        \u001b[38;5;34m774\u001b[0m │ dropout_3[\u001b[38;5;34m0\u001b[0m][\u001b[38;5;34m0\u001b[0m]   │\n",
       "└─────────────────────┴───────────────────┴────────────┴───────────────────┘\n"
      ]
     },
     "metadata": {},
     "output_type": "display_data"
    },
    {
     "data": {
      "text/html": [
       "<pre style=\"white-space:pre;overflow-x:auto;line-height:normal;font-family:Menlo,'DejaVu Sans Mono',consolas,'Courier New',monospace\"><span style=\"font-weight: bold\"> Total params: </span><span style=\"color: #00af00; text-decoration-color: #00af00\">4,390,953</span> (16.75 MB)\n",
       "</pre>\n"
      ],
      "text/plain": [
       "\u001b[1m Total params: \u001b[0m\u001b[38;5;34m4,390,953\u001b[0m (16.75 MB)\n"
      ]
     },
     "metadata": {},
     "output_type": "display_data"
    },
    {
     "data": {
      "text/html": [
       "<pre style=\"white-space:pre;overflow-x:auto;line-height:normal;font-family:Menlo,'DejaVu Sans Mono',consolas,'Courier New',monospace\"><span style=\"font-weight: bold\"> Trainable params: </span><span style=\"color: #00af00; text-decoration-color: #00af00\">339,846</span> (1.30 MB)\n",
       "</pre>\n"
      ],
      "text/plain": [
       "\u001b[1m Trainable params: \u001b[0m\u001b[38;5;34m339,846\u001b[0m (1.30 MB)\n"
      ]
     },
     "metadata": {},
     "output_type": "display_data"
    },
    {
     "data": {
      "text/html": [
       "<pre style=\"white-space:pre;overflow-x:auto;line-height:normal;font-family:Menlo,'DejaVu Sans Mono',consolas,'Courier New',monospace\"><span style=\"font-weight: bold\"> Non-trainable params: </span><span style=\"color: #00af00; text-decoration-color: #00af00\">4,051,107</span> (15.45 MB)\n",
       "</pre>\n"
      ],
      "text/plain": [
       "\u001b[1m Non-trainable params: \u001b[0m\u001b[38;5;34m4,051,107\u001b[0m (15.45 MB)\n"
      ]
     },
     "metadata": {},
     "output_type": "display_data"
    },
    {
     "name": "stdout",
     "output_type": "stream",
     "text": [
      "None\n"
     ]
    }
   ],
   "source": [
    "keras.backend.clear_session()\n",
    "\n",
    "\n",
    "############################## \n",
    "# IMG Processing\n",
    "############################## \n",
    "img_input = keras.layers.Input(shape = (224, 224, 3), name=\"img_input\")\n",
    "\n",
    "img_backbone = keras.Sequential([\n",
    "    keras.layers.Rescaling(scale=1./255),\n",
    "    # augmentation layers\n",
    "    keras.Sequential([\n",
    "        keras.layers.RandomRotation(factor=0.1, interpolation='nearest'),\n",
    "        keras.layers.RandomTranslation(\n",
    "            height_factor=0.1, width_factor=0.1, interpolation='nearest'\n",
    "        ),\n",
    "        keras.layers.RandomZoom(height_factor=(0.05, 0.15)),\n",
    "        keras.layers.RandomFlip(mode=\"horizontal_and_vertical\")\n",
    "    ], name='augmentation'),\n",
    "    EfficientNetB0(include_top=False, weights='imagenet'),\n",
    "    keras.layers.GlobalAveragePooling2D(),\n",
    "    keras.layers.Dense(CFG['img_backbone_final_dim'])\n",
    "], name='img_backbone')\n",
    "\n",
    "# fix efficientnet weights \n",
    "img_backbone.get_layer('efficientnetb0').trainable = False\n",
    "\n",
    "img_output = img_backbone(img_input)\n",
    "\n",
    "############################## \n",
    "# Tabular Processing\n",
    "##############################\n",
    "tabular_input = keras.layers.Input(shape = (tabular_sc.shape[1],) , name=\"tabular_input\")\n",
    "\n",
    "backbone_blocks = []\n",
    "for i in range(CFG['n_tabular_layers']):\n",
    "    backbone_blocks.extend([\n",
    "        keras.layers.Dense(CFG['tabular_hsizes'][i], name=f'tabular_block_{i}_dense'),\n",
    "        keras.layers.BatchNormalization(),\n",
    "        keras.layers.ReLU(),\n",
    "        keras.layers.Dropout(0.1)\n",
    "    ])\n",
    "    \n",
    "tabular_backbone = keras.Sequential(backbone_blocks, name='tabular_backbone')\n",
    "tabular_output = tabular_backbone(tabular_input)\n",
    "\n",
    "##############################\n",
    "# Concat and outputs\n",
    "##############################\n",
    "output = keras.layers.Concatenate()([img_output, tabular_output])\n",
    "for i in range(CFG['n_ff_layers']):\n",
    "    output = keras.layers.Dense(CFG['tabular_hsizes'][i], name=f'ff_block_{i}_dense')(output)\n",
    "    output = keras.layers.BatchNormalization()(output)\n",
    "    output = keras.layers.ReLU()(output)\n",
    "    output = keras.layers.Dropout(0.1)(output)\n",
    "\n",
    "\n",
    "output = keras.layers.Dense(6, name='output')(output)\n",
    "\n",
    "model = keras.Model(inputs=[img_input, tabular_input], outputs=output)\n",
    "\n",
    "lr_scheduler = keras.optimizers.schedules.CosineDecay(\n",
    "    initial_learning_rate = 1e-5,\n",
    "    decay_steps = CFG['NUM_EPOCHS'] * len(train_ds) - 500,\n",
    "    warmup_target=CFG['MAX_LR'],\n",
    "    warmup_steps = 500\n",
    ")\n",
    "\n",
    "# lr_scheduler = keras.optimizers.schedules.CosineDecayRestarts(\n",
    "#     initial_learning_rate = CFG['MAX_LR'],\n",
    "#     first_decay_steps = 3 * len(train_ds)\n",
    "# )\n",
    "\n",
    "model.compile(\n",
    "    optimizer=keras.optimizers.Adam(learning_rate=lr_scheduler),\n",
    "    loss= keras.losses.MeanSquaredError(),\n",
    "    metrics=[keras.metrics.R2Score()]\n",
    ")\n",
    "\n",
    "print(model.summary())"
   ]
  },
  {
   "cell_type": "markdown",
   "id": "5ab71d9a",
   "metadata": {
    "papermill": {
     "duration": 0.010994,
     "end_time": "2024-05-15T15:50:58.474000",
     "exception": false,
     "start_time": "2024-05-15T15:50:58.463006",
     "status": "completed"
    },
    "tags": []
   },
   "source": [
    "## Training"
   ]
  },
  {
   "cell_type": "code",
   "execution_count": 14,
   "id": "620eb7fd",
   "metadata": {
    "execution": {
     "iopub.execute_input": "2024-05-15T15:50:58.497659Z",
     "iopub.status.busy": "2024-05-15T15:50:58.497011Z",
     "iopub.status.idle": "2024-05-15T16:03:44.003801Z",
     "shell.execute_reply": "2024-05-15T16:03:44.002641Z"
    },
    "papermill": {
     "duration": 765.523503,
     "end_time": "2024-05-15T16:03:44.008370",
     "exception": false,
     "start_time": "2024-05-15T15:50:58.484867",
     "status": "completed"
    },
    "tags": []
   },
   "outputs": [
    {
     "name": "stdout",
     "output_type": "stream",
     "text": [
      "Epoch 1/10\n"
     ]
    },
    {
     "name": "stderr",
     "output_type": "stream",
     "text": [
      "2024-05-15 15:51:10.873535: E tensorflow/core/grappler/optimizers/meta_optimizer.cc:961] layout failed: INVALID_ARGUMENT: Size of values 0 does not match size of permutation 4 @ fanin shape inStatefulPartitionedCall/functional_4_1/img_backbone_1/efficientnetb0_1/block2b_drop_1/stateless_dropout/SelectV2-2-TransposeNHWCToNCHW-LayoutOptimizer\n"
     ]
    },
    {
     "name": "stdout",
     "output_type": "stream",
     "text": [
      "\u001b[1m312/312\u001b[0m \u001b[32m━━━━━━━━━━━━━━━━━━━━\u001b[0m\u001b[37m\u001b[0m \u001b[1m111s\u001b[0m 299ms/step - loss: 1.7116 - r2_score: -0.7364 - val_loss: 0.9103 - val_r2_score: 0.0908\n",
      "Epoch 2/10\n",
      "\u001b[1m312/312\u001b[0m \u001b[32m━━━━━━━━━━━━━━━━━━━━\u001b[0m\u001b[37m\u001b[0m \u001b[1m108s\u001b[0m 204ms/step - loss: 0.9872 - r2_score: 9.7129e-04 - val_loss: 0.8365 - val_r2_score: 0.1648\n",
      "Epoch 3/10\n",
      "\u001b[1m312/312\u001b[0m \u001b[32m━━━━━━━━━━━━━━━━━━━━\u001b[0m\u001b[37m\u001b[0m \u001b[1m82s\u001b[0m 204ms/step - loss: 0.8865 - r2_score: 0.1031 - val_loss: 0.8521 - val_r2_score: 0.1489\n",
      "Epoch 4/10\n",
      "\u001b[1m312/312\u001b[0m \u001b[32m━━━━━━━━━━━━━━━━━━━━\u001b[0m\u001b[37m\u001b[0m \u001b[1m64s\u001b[0m 204ms/step - loss: 0.8605 - r2_score: 0.1294 - val_loss: 0.8358 - val_r2_score: 0.1652\n",
      "Epoch 5/10\n",
      "\u001b[1m312/312\u001b[0m \u001b[32m━━━━━━━━━━━━━━━━━━━━\u001b[0m\u001b[37m\u001b[0m \u001b[1m64s\u001b[0m 204ms/step - loss: 0.8467 - r2_score: 0.1434 - val_loss: 0.8441 - val_r2_score: 0.1569\n",
      "Epoch 6/10\n",
      "\u001b[1m312/312\u001b[0m \u001b[32m━━━━━━━━━━━━━━━━━━━━\u001b[0m\u001b[37m\u001b[0m \u001b[1m64s\u001b[0m 204ms/step - loss: 0.8381 - r2_score: 0.1521 - val_loss: 0.8257 - val_r2_score: 0.1756\n",
      "Epoch 7/10\n",
      "\u001b[1m312/312\u001b[0m \u001b[32m━━━━━━━━━━━━━━━━━━━━\u001b[0m\u001b[37m\u001b[0m \u001b[1m82s\u001b[0m 204ms/step - loss: 0.8302 - r2_score: 0.1601 - val_loss: 0.8171 - val_r2_score: 0.1842\n",
      "Epoch 8/10\n",
      "\u001b[1m312/312\u001b[0m \u001b[32m━━━━━━━━━━━━━━━━━━━━\u001b[0m\u001b[37m\u001b[0m \u001b[1m64s\u001b[0m 204ms/step - loss: 0.8250 - r2_score: 0.1654 - val_loss: 0.8108 - val_r2_score: 0.1905\n",
      "Epoch 9/10\n",
      "\u001b[1m312/312\u001b[0m \u001b[32m━━━━━━━━━━━━━━━━━━━━\u001b[0m\u001b[37m\u001b[0m \u001b[1m64s\u001b[0m 204ms/step - loss: 0.8225 - r2_score: 0.1679 - val_loss: 0.8091 - val_r2_score: 0.1923\n",
      "Epoch 10/10\n",
      "\u001b[1m312/312\u001b[0m \u001b[32m━━━━━━━━━━━━━━━━━━━━\u001b[0m\u001b[37m\u001b[0m \u001b[1m64s\u001b[0m 204ms/step - loss: 0.8216 - r2_score: 0.1688 - val_loss: 0.8090 - val_r2_score: 0.1924\n"
     ]
    }
   ],
   "source": [
    "history = model.fit(train_ds, validation_data=val_ds, epochs=CFG['NUM_EPOCHS'])"
   ]
  },
  {
   "cell_type": "code",
   "execution_count": 15,
   "id": "410debce",
   "metadata": {
    "execution": {
     "iopub.execute_input": "2024-05-15T16:03:44.586424Z",
     "iopub.status.busy": "2024-05-15T16:03:44.585565Z",
     "iopub.status.idle": "2024-05-15T16:03:46.250410Z",
     "shell.execute_reply": "2024-05-15T16:03:46.249634Z"
    },
    "papermill": {
     "duration": 1.981836,
     "end_time": "2024-05-15T16:03:46.252799",
     "exception": false,
     "start_time": "2024-05-15T16:03:44.270963",
     "status": "completed"
    },
    "tags": []
   },
   "outputs": [
    {
     "data": {
      "image/png": "[encoded data removed]",
      "text/plain": [
       "<Figure size 1500x525 with 2 Axes>"
      ]
     },
     "metadata": {},
     "output_type": "display_data"
    }
   ],
   "source": [
    "# plot training history\n",
    "metrics = ['loss','r2_score']\n",
    "\n",
    "fig,axs = plt.subplots(1, len(metrics), figsize=(5*len(metrics),3.5),dpi=150)\n",
    "\n",
    "for i,metric in enumerate(metrics):\n",
    "    \n",
    "    _ = axs[i].plot(1 + np.arange(CFG['NUM_EPOCHS']), history.history[f'{metric}'],label='Training')\n",
    "    _ = axs[i].plot(1 + np.arange(CFG['NUM_EPOCHS']), history.history[f'val_{metric}'],label='Validation')\n",
    "    _ = axs[i].legend()\n",
    "    _ = axs[i].set_ylabel(metric.capitalize())\n",
    "    _ = axs[i].set_xlabel('Epochs')\n",
    "\n",
    "fig.tight_layout()\n",
    "fig.savefig('training_history.png',bbox_inches='tight')\n",
    "fig.savefig('training_history.pdf',bbox_inches='tight')"
   ]
  },
  {
   "cell_type": "code",
   "execution_count": 16,
   "id": "1a441cc2",
   "metadata": {
    "execution": {
     "iopub.execute_input": "2024-05-15T16:03:46.807838Z",
     "iopub.status.busy": "2024-05-15T16:03:46.806598Z",
     "iopub.status.idle": "2024-05-15T16:03:47.251528Z",
     "shell.execute_reply": "2024-05-15T16:03:47.250720Z"
    },
    "papermill": {
     "duration": 0.714017,
     "end_time": "2024-05-15T16:03:47.254039",
     "exception": false,
     "start_time": "2024-05-15T16:03:46.540022",
     "status": "completed"
    },
    "tags": []
   },
   "outputs": [],
   "source": [
    "# save weights\n",
    "model.save_weights(\"model.weights.h5\")"
   ]
  },
  {
   "cell_type": "markdown",
   "id": "2b0ec7de",
   "metadata": {
    "papermill": {
     "duration": 0.265805,
     "end_time": "2024-05-15T16:03:47.786178",
     "exception": false,
     "start_time": "2024-05-15T16:03:47.520373",
     "status": "completed"
    },
    "tags": []
   },
   "source": [
    "## Checking individual output R2"
   ]
  },
  {
   "cell_type": "code",
   "execution_count": 17,
   "id": "0d7a50e4",
   "metadata": {
    "execution": {
     "iopub.execute_input": "2024-05-15T16:03:48.318411Z",
     "iopub.status.busy": "2024-05-15T16:03:48.317750Z",
     "iopub.status.idle": "2024-05-15T16:04:10.400915Z",
     "shell.execute_reply": "2024-05-15T16:04:10.400077Z"
    },
    "papermill": {
     "duration": 22.352332,
     "end_time": "2024-05-15T16:04:10.403067",
     "exception": false,
     "start_time": "2024-05-15T16:03:48.050735",
     "status": "completed"
    },
    "tags": []
   },
   "outputs": [
    {
     "name": "stdout",
     "output_type": "stream",
     "text": [
      "\u001b[1m39/39\u001b[0m \u001b[32m━━━━━━━━━━━━━━━━━━━━\u001b[0m\u001b[37m\u001b[0m \u001b[1m22s\u001b[0m 429ms/step\n"
     ]
    }
   ],
   "source": [
    "def process_paths_wo_targets(file_path, tabular):\n",
    "    return ((process_image_from_file(file_path), tabular),)\n",
    "\n",
    "# recreate the validation dataset without the targets\n",
    "val_ds = tf.data.Dataset.from_tensor_slices((paths_val, tabular_val.astype(np.float32)))\n",
    "val_ds = val_ds.map(process_paths_wo_targets).batch(256)\n",
    "\n",
    "y_val_pred = model.predict(val_ds)"
   ]
  },
  {
   "cell_type": "code",
   "execution_count": 18,
   "id": "ff1d2a4b",
   "metadata": {
    "execution": {
     "iopub.execute_input": "2024-05-15T16:04:10.968637Z",
     "iopub.status.busy": "2024-05-15T16:04:10.968253Z",
     "iopub.status.idle": "2024-05-15T16:04:10.978213Z",
     "shell.execute_reply": "2024-05-15T16:04:10.977082Z"
    },
    "papermill": {
     "duration": 0.30277,
     "end_time": "2024-05-15T16:04:10.980216",
     "exception": false,
     "start_time": "2024-05-15T16:04:10.677446",
     "status": "completed"
    },
    "tags": []
   },
   "outputs": [
    {
     "name": "stdout",
     "output_type": "stream",
     "text": [
      "X4_mean       0.184531\n",
      "X11_mean      0.193116\n",
      "X18_mean      0.256592\n",
      "X50_mean      0.113704\n",
      "X26_mean      0.143860\n",
      "X3112_mean    0.262691\n",
      "dtype: float64\n"
     ]
    }
   ],
   "source": [
    "val_r2_scores = pd.Series(\n",
    "    r2_score(Y_val, y_val_pred, multioutput='raw_values'),\n",
    "    index=target_cols,\n",
    ")\n",
    "print(val_r2_scores)"
   ]
  },
  {
   "cell_type": "markdown",
   "id": "a689e5be",
   "metadata": {
    "papermill": {
     "duration": 0.270787,
     "end_time": "2024-05-15T16:04:11.521765",
     "exception": false,
     "start_time": "2024-05-15T16:04:11.250978",
     "status": "completed"
    },
    "tags": []
   },
   "source": [
    "## Predictions on Test Data"
   ]
  },
  {
   "cell_type": "code",
   "execution_count": 19,
   "id": "9b56ebbf",
   "metadata": {
    "execution": {
     "iopub.execute_input": "2024-05-15T16:04:12.058840Z",
     "iopub.status.busy": "2024-05-15T16:04:12.058131Z",
     "iopub.status.idle": "2024-05-15T16:04:26.914509Z",
     "shell.execute_reply": "2024-05-15T16:04:26.913540Z"
    },
    "papermill": {
     "duration": 15.12356,
     "end_time": "2024-05-15T16:04:26.916658",
     "exception": false,
     "start_time": "2024-05-15T16:04:11.793098",
     "status": "completed"
    },
    "tags": []
   },
   "outputs": [
    {
     "name": "stdout",
     "output_type": "stream",
     "text": [
      "\u001b[1m26/26\u001b[0m \u001b[32m━━━━━━━━━━━━━━━━━━━━\u001b[0m\u001b[37m\u001b[0m \u001b[1m15s\u001b[0m 571ms/step\n"
     ]
    }
   ],
   "source": [
    "paths_test = test['img_path'].astype(str).values\n",
    "tabular_test = tabular_input_sc.transform(\n",
    "    test.drop(columns = ['id', 'img_path']).values\n",
    ").astype(np.float32)\n",
    "test_ds = tf.data.Dataset.from_tensor_slices((paths_test, tabular_test))\n",
    "test_ds = test_ds.map(process_paths_wo_targets).batch(256)\n",
    "predictions = model.predict(test_ds)"
   ]
  },
  {
   "cell_type": "code",
   "execution_count": 20,
   "id": "6c765704",
   "metadata": {
    "execution": {
     "iopub.execute_input": "2024-05-15T16:04:27.458675Z",
     "iopub.status.busy": "2024-05-15T16:04:27.458283Z",
     "iopub.status.idle": "2024-05-15T16:04:27.521658Z",
     "shell.execute_reply": "2024-05-15T16:04:27.520858Z"
    },
    "papermill": {
     "duration": 0.340308,
     "end_time": "2024-05-15T16:04:27.523803",
     "exception": false,
     "start_time": "2024-05-15T16:04:27.183495",
     "status": "completed"
    },
    "tags": []
   },
   "outputs": [],
   "source": [
    "submission = pd.DataFrame(\n",
    "    output_sc.inverse_transform(predictions),\n",
    "    columns=targets,\n",
    "    index=test['id']\n",
    ").reset_index()\n",
    "\n",
    "\n",
    "submission.to_csv('submission.csv', index=False)"
   ]
  },
  {
   "cell_type": "code",
   "execution_count": 21,
   "id": "2d24730a",
   "metadata": {
    "execution": {
     "iopub.execute_input": "2024-05-15T16:04:28.102672Z",
     "iopub.status.busy": "2024-05-15T16:04:28.101809Z",
     "iopub.status.idle": "2024-05-15T16:04:28.117853Z",
     "shell.execute_reply": "2024-05-15T16:04:28.116930Z"
    },
    "papermill": {
     "duration": 0.28562,
     "end_time": "2024-05-15T16:04:28.120039",
     "exception": false,
     "start_time": "2024-05-15T16:04:27.834419",
     "status": "completed"
    },
    "tags": []
   },
   "outputs": [
    {
     "data": {
      "text/html": [
       "<div>\n",
       "<style scoped>\n",
       "    .dataframe tbody tr th:only-of-type {\n",
       "        vertical-align: middle;\n",
       "    }\n",
       "\n",
       "    .dataframe tbody tr th {\n",
       "        vertical-align: top;\n",
       "    }\n",
       "\n",
       "    .dataframe thead th {\n",
       "        text-align: right;\n",
       "    }\n",
       "</style>\n",
       "<table border=\"1\" class=\"dataframe\">\n",
       "  <thead>\n",
       "    <tr style=\"text-align: right;\">\n",
       "      <th></th>\n",
       "      <th>id</th>\n",
       "      <th>X4</th>\n",
       "      <th>X11</th>\n",
       "      <th>X18</th>\n",
       "      <th>X50</th>\n",
       "      <th>X26</th>\n",
       "      <th>X3112</th>\n",
       "    </tr>\n",
       "  </thead>\n",
       "  <tbody>\n",
       "    <tr>\n",
       "      <th>0</th>\n",
       "      <td>201238668</td>\n",
       "      <td>0.562174</td>\n",
       "      <td>11.838103</td>\n",
       "      <td>2.675759</td>\n",
       "      <td>1.475054</td>\n",
       "      <td>13.635580</td>\n",
       "      <td>477.470703</td>\n",
       "    </tr>\n",
       "    <tr>\n",
       "      <th>1</th>\n",
       "      <td>202310319</td>\n",
       "      <td>0.429394</td>\n",
       "      <td>19.282227</td>\n",
       "      <td>0.212307</td>\n",
       "      <td>1.464622</td>\n",
       "      <td>0.650178</td>\n",
       "      <td>913.434753</td>\n",
       "    </tr>\n",
       "    <tr>\n",
       "      <th>2</th>\n",
       "      <td>202604412</td>\n",
       "      <td>0.466957</td>\n",
       "      <td>16.134760</td>\n",
       "      <td>1.007948</td>\n",
       "      <td>1.602618</td>\n",
       "      <td>7.412675</td>\n",
       "      <td>819.070984</td>\n",
       "    </tr>\n",
       "    <tr>\n",
       "      <th>3</th>\n",
       "      <td>201353439</td>\n",
       "      <td>0.414535</td>\n",
       "      <td>20.581869</td>\n",
       "      <td>0.478273</td>\n",
       "      <td>1.295173</td>\n",
       "      <td>-0.362613</td>\n",
       "      <td>1144.075684</td>\n",
       "    </tr>\n",
       "    <tr>\n",
       "      <th>4</th>\n",
       "      <td>195351745</td>\n",
       "      <td>0.496956</td>\n",
       "      <td>11.246184</td>\n",
       "      <td>0.381117</td>\n",
       "      <td>1.628929</td>\n",
       "      <td>-0.259942</td>\n",
       "      <td>400.651489</td>\n",
       "    </tr>\n",
       "  </tbody>\n",
       "</table>\n",
       "</div>"
      ],
      "text/plain": [
       "          id        X4        X11       X18       X50        X26        X3112\n",
       "0  201238668  0.562174  11.838103  2.675759  1.475054  13.635580   477.470703\n",
       "1  202310319  0.429394  19.282227  0.212307  1.464622   0.650178   913.434753\n",
       "2  202604412  0.466957  16.134760  1.007948  1.602618   7.412675   819.070984\n",
       "3  201353439  0.414535  20.581869  0.478273  1.295173  -0.362613  1144.075684\n",
       "4  195351745  0.496956  11.246184  0.381117  1.628929  -0.259942   400.651489"
      ]
     },
     "execution_count": 21,
     "metadata": {},
     "output_type": "execute_result"
    }
   ],
   "source": [
    "submission.head()"
   ]
  },
  {
   "cell_type": "code",
   "execution_count": null,
   "id": "3b80629a",
   "metadata": {
    "papermill": {
     "duration": 0.267445,
     "end_time": "2024-05-15T16:04:28.674221",
     "exception": false,
     "start_time": "2024-05-15T16:04:28.406776",
     "status": "completed"
    },
    "tags": []
   },
   "outputs": [],
   "source": []
  }
 ],
 "metadata": {
  "kaggle": {
   "accelerator": "gpu",
   "dataSources": [
    {
     "databundleVersionId": 8046133,
     "sourceId": 65626,
     "sourceType": "competition"
    }
   ],
   "dockerImageVersionId": 30674,
   "isGpuEnabled": true,
   "isInternetEnabled": true,
   "language": "python",
   "sourceType": "notebook"
  },
  "kernelspec": {
   "display_name": "Python 3",
   "language": "python",
   "name": "python3"
  },
  "language_info": {
   "codemirror_mode": {
    "name": "ipython",
    "version": 3
   },
   "file_extension": ".py",
   "mimetype": "text/x-python",
   "name": "python",
   "nbconvert_exporter": "python",
   "pygments_lexer": "ipython3",
   "version": "3.10.13"
  },
  "papermill": {
   "default_parameters": {},
   "duration": 838.654283,
   "end_time": "2024-05-15T16:04:32.437889",
   "environment_variables": {},
   "exception": null,
   "input_path": "__notebook__.ipynb",
   "output_path": "__notebook__.ipynb",
   "parameters": {},
   "start_time": "2024-05-15T15:50:33.783606",
   "version": "2.5.0"
  }
 },
 "nbformat": 4,
 "nbformat_minor": 5
}
