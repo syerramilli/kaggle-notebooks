{
 "cells": [
  {
   "cell_type": "markdown",
   "id": "ad90523f",
   "metadata": {
    "papermill": {
     "duration": 0.007319,
     "end_time": "2024-04-28T01:49:33.896100",
     "exception": false,
     "start_time": "2024-04-28T01:49:33.888781",
     "status": "completed"
    },
    "tags": []
   },
   "source": [
    "## Introduction\n",
    "\n",
    "In this notebook we will train a baseline multi-output regression model in Keras on the images to predict the 6 plant properties. The images are processed using the EfficientNet-B0 architectures, whose weights were pretrained on the ImageNet-1K dataset"
   ]
  },
  {
   "cell_type": "code",
   "execution_count": 1,
   "id": "11cbd9ec",
   "metadata": {
    "execution": {
     "iopub.execute_input": "2024-04-28T01:49:33.911471Z",
     "iopub.status.busy": "2024-04-28T01:49:33.911113Z",
     "iopub.status.idle": "2024-04-28T01:49:47.844925Z",
     "shell.execute_reply": "2024-04-28T01:49:47.844120Z"
    },
    "papermill": {
     "duration": 13.944327,
     "end_time": "2024-04-28T01:49:47.847402",
     "exception": false,
     "start_time": "2024-04-28T01:49:33.903075",
     "status": "completed"
    },
    "tags": []
   },
   "outputs": [
    {
     "name": "stderr",
     "output_type": "stream",
     "text": [
      "2024-04-28 01:49:37.618665: E external/local_xla/xla/stream_executor/cuda/cuda_dnn.cc:9261] Unable to register cuDNN factory: Attempting to register factory for plugin cuDNN when one has already been registered\n",
      "2024-04-28 01:49:37.618782: E external/local_xla/xla/stream_executor/cuda/cuda_fft.cc:607] Unable to register cuFFT factory: Attempting to register factory for plugin cuFFT when one has already been registered\n",
      "2024-04-28 01:49:37.748844: E external/local_xla/xla/stream_executor/cuda/cuda_blas.cc:1515] Unable to register cuBLAS factory: Attempting to register factory for plugin cuBLAS when one has already been registered\n"
     ]
    }
   ],
   "source": [
    "import numpy as np\n",
    "import pandas as pd\n",
    "import matplotlib.pyplot as plt\n",
    "import seaborn as sns\n",
    "\n",
    "import tensorflow as tf\n",
    "import keras\n",
    "from keras.applications.efficientnet import EfficientNetB0, preprocess_input\n",
    "from keras.preprocessing.image import load_img, img_to_array\n",
    "\n",
    "from sklearn.preprocessing import StandardScaler\n",
    "from sklearn.metrics import r2_score\n",
    "from sklearn.model_selection import train_test_split\n",
    "\n",
    "from pathlib import Path\n",
    "\n",
    "plt.style.use('ggplot')\n",
    "plt.rcParams.update(**{'figure.dpi':150})"
   ]
  },
  {
   "cell_type": "markdown",
   "id": "3620cddb",
   "metadata": {
    "papermill": {
     "duration": 0.006243,
     "end_time": "2024-04-28T01:49:47.860648",
     "exception": false,
     "start_time": "2024-04-28T01:49:47.854405",
     "status": "completed"
    },
    "tags": []
   },
   "source": [
    "## Loading the data"
   ]
  },
  {
   "cell_type": "code",
   "execution_count": 2,
   "id": "1f16b2fe",
   "metadata": {
    "execution": {
     "iopub.execute_input": "2024-04-28T01:49:47.875398Z",
     "iopub.status.busy": "2024-04-28T01:49:47.874803Z",
     "iopub.status.idle": "2024-04-28T01:49:51.007620Z",
     "shell.execute_reply": "2024-04-28T01:49:51.006767Z"
    },
    "papermill": {
     "duration": 3.142959,
     "end_time": "2024-04-28T01:49:51.010043",
     "exception": false,
     "start_time": "2024-04-28T01:49:47.867084",
     "status": "completed"
    },
    "tags": []
   },
   "outputs": [],
   "source": [
    "path = Path('/kaggle/input/planttraits2024/')\n",
    "imgs_train = path / 'train_images'\n",
    "imgs_test = path / 'test_images'\n",
    "\n",
    "train = pd.read_csv(path / 'train.csv')\n",
    "train['img_path'] = train['id'].apply(lambda x: imgs_train / f'{x}.jpeg')\n",
    "\n",
    "test = pd.read_csv(path / 'test.csv')\n",
    "test['img_path'] = test['id'].apply(lambda x: imgs_test / f'{x}.jpeg')"
   ]
  },
  {
   "cell_type": "code",
   "execution_count": 3,
   "id": "6ec8c669",
   "metadata": {
    "execution": {
     "iopub.execute_input": "2024-04-28T01:49:51.026608Z",
     "iopub.status.busy": "2024-04-28T01:49:51.025811Z",
     "iopub.status.idle": "2024-04-28T01:49:51.036553Z",
     "shell.execute_reply": "2024-04-28T01:49:51.035453Z"
    },
    "papermill": {
     "duration": 0.02069,
     "end_time": "2024-04-28T01:49:51.038738",
     "exception": false,
     "start_time": "2024-04-28T01:49:51.018048",
     "status": "completed"
    },
    "tags": []
   },
   "outputs": [
    {
     "name": "stdout",
     "output_type": "stream",
     "text": [
      "['X4', 'Stem specific density (SSD) or wood density (stem dry mass per stem fresh volume) ']\n",
      "['X11', 'Leaf area per leaf dry mass (specific leaf area, SLA or 1/LMA) ']\n",
      "['X18', 'Plant height ']\n",
      "['X26', 'Seed dry mass ']\n",
      "['X50', 'Leaf nitrogen (N) content per leaf area ']\n",
      "['X3112', 'Leaf area (in case of compound leaves: leaf, undefined if petiole in- or excluded) ']\n"
     ]
    }
   ],
   "source": [
    "# targets\n",
    "target_desc = pd.read_table(path / 'target_name_meta.tsv', sep='\\t')\n",
    "targets = target_desc['trait_ID'].tolist()\n",
    "for row in target_desc.iterrows():\n",
    "    print(row[1].tolist())"
   ]
  },
  {
   "cell_type": "code",
   "execution_count": 4,
   "id": "b10cff73",
   "metadata": {
    "execution": {
     "iopub.execute_input": "2024-04-28T01:49:51.053219Z",
     "iopub.status.busy": "2024-04-28T01:49:51.052911Z",
     "iopub.status.idle": "2024-04-28T01:49:51.059599Z",
     "shell.execute_reply": "2024-04-28T01:49:51.058760Z"
    },
    "papermill": {
     "duration": 0.016213,
     "end_time": "2024-04-28T01:49:51.061597",
     "exception": false,
     "start_time": "2024-04-28T01:49:51.045384",
     "status": "completed"
    },
    "tags": []
   },
   "outputs": [
    {
     "data": {
      "text/plain": [
       "['X4_mean', 'X11_mean', 'X18_mean', 'X26_mean', 'X50_mean', 'X3112_mean']"
      ]
     },
     "execution_count": 4,
     "metadata": {},
     "output_type": "execute_result"
    }
   ],
   "source": [
    "target_cols = [f'{col}_mean' for col in targets]\n",
    "target_cols"
   ]
  },
  {
   "cell_type": "markdown",
   "id": "d0898418",
   "metadata": {
    "papermill": {
     "duration": 0.006551,
     "end_time": "2024-04-28T01:49:51.074928",
     "exception": false,
     "start_time": "2024-04-28T01:49:51.068377",
     "status": "completed"
    },
    "tags": []
   },
   "source": [
    "## Target Preprocessing"
   ]
  },
  {
   "cell_type": "code",
   "execution_count": 5,
   "id": "84d0c136",
   "metadata": {
    "execution": {
     "iopub.execute_input": "2024-04-28T01:49:51.090639Z",
     "iopub.status.busy": "2024-04-28T01:49:51.090290Z",
     "iopub.status.idle": "2024-04-28T01:49:51.244099Z",
     "shell.execute_reply": "2024-04-28T01:49:51.243328Z"
    },
    "papermill": {
     "duration": 0.16488,
     "end_time": "2024-04-28T01:49:51.246375",
     "exception": false,
     "start_time": "2024-04-28T01:49:51.081495",
     "status": "completed"
    },
    "tags": []
   },
   "outputs": [],
   "source": [
    "X = train['img_path'].astype(str).values\n",
    "Y = train[target_cols]"
   ]
  },
  {
   "cell_type": "code",
   "execution_count": 6,
   "id": "7408e371",
   "metadata": {
    "execution": {
     "iopub.execute_input": "2024-04-28T01:49:51.261438Z",
     "iopub.status.busy": "2024-04-28T01:49:51.261134Z",
     "iopub.status.idle": "2024-04-28T01:49:51.279425Z",
     "shell.execute_reply": "2024-04-28T01:49:51.278388Z"
    },
    "papermill": {
     "duration": 0.028139,
     "end_time": "2024-04-28T01:49:51.281511",
     "exception": false,
     "start_time": "2024-04-28T01:49:51.253372",
     "status": "completed"
    },
    "tags": []
   },
   "outputs": [
    {
     "name": "stdout",
     "output_type": "stream",
     "text": [
      "Number of observations removed: 5691\n"
     ]
    }
   ],
   "source": [
    "# remove bad observations\n",
    "upper_quantiles = Y.quantile(0.98)\n",
    "retained_flag = (Y < upper_quantiles).all(axis= 1) & (Y > 0).all(axis=1)\n",
    "X = X[retained_flag]\n",
    "Y = Y[retained_flag]\n",
    "\n",
    "print(f'Number of observations removed: {retained_flag.shape[0] - retained_flag.sum()}')"
   ]
  },
  {
   "cell_type": "code",
   "execution_count": 7,
   "id": "319f90c9",
   "metadata": {
    "execution": {
     "iopub.execute_input": "2024-04-28T01:49:51.297314Z",
     "iopub.status.busy": "2024-04-28T01:49:51.296492Z",
     "iopub.status.idle": "2024-04-28T01:49:51.307014Z",
     "shell.execute_reply": "2024-04-28T01:49:51.306194Z"
    },
    "papermill": {
     "duration": 0.020726,
     "end_time": "2024-04-28T01:49:51.309352",
     "exception": false,
     "start_time": "2024-04-28T01:49:51.288626",
     "status": "completed"
    },
    "tags": []
   },
   "outputs": [],
   "source": [
    "# standardize response\n",
    "output_sc = StandardScaler()\n",
    "Y_sc = output_sc.fit_transform(Y)"
   ]
  },
  {
   "cell_type": "markdown",
   "id": "0c02f8b8",
   "metadata": {
    "papermill": {
     "duration": 0.006617,
     "end_time": "2024-04-28T01:49:51.323043",
     "exception": false,
     "start_time": "2024-04-28T01:49:51.316426",
     "status": "completed"
    },
    "tags": []
   },
   "source": [
    "## Image preprocessing functions"
   ]
  },
  {
   "cell_type": "code",
   "execution_count": 8,
   "id": "94e45675",
   "metadata": {
    "execution": {
     "iopub.execute_input": "2024-04-28T01:49:51.337926Z",
     "iopub.status.busy": "2024-04-28T01:49:51.337238Z",
     "iopub.status.idle": "2024-04-28T01:49:51.343175Z",
     "shell.execute_reply": "2024-04-28T01:49:51.342315Z"
    },
    "papermill": {
     "duration": 0.015538,
     "end_time": "2024-04-28T01:49:51.345169",
     "exception": false,
     "start_time": "2024-04-28T01:49:51.329631",
     "status": "completed"
    },
    "tags": []
   },
   "outputs": [],
   "source": [
    "def process_image_from_file(file_path:str) -> tf.Tensor:\n",
    "    # load the image\n",
    "    img = tf.io.read_file(file_path)\n",
    "    # decode the jpeg file \n",
    "    img = tf.image.decode_jpeg(img, channels=3)\n",
    "    # resize the image to 224 x 224 \n",
    "    img = tf.image.resize(img, [224, 224])\n",
    "    # preprocessing needed for efficient net\n",
    "    img = preprocess_input(img)\n",
    "    return img\n",
    "\n",
    "# Define your dataset processing function\n",
    "def process_path(file_path, targets):\n",
    "    return process_image_from_file(file_path), targets\n"
   ]
  },
  {
   "cell_type": "markdown",
   "id": "fdb7a66d",
   "metadata": {
    "papermill": {
     "duration": 0.006464,
     "end_time": "2024-04-28T01:49:51.358352",
     "exception": false,
     "start_time": "2024-04-28T01:49:51.351888",
     "status": "completed"
    },
    "tags": []
   },
   "source": [
    "## Create training and validation sets"
   ]
  },
  {
   "cell_type": "code",
   "execution_count": 9,
   "id": "9c43175c",
   "metadata": {
    "execution": {
     "iopub.execute_input": "2024-04-28T01:49:51.373175Z",
     "iopub.status.busy": "2024-04-28T01:49:51.372848Z",
     "iopub.status.idle": "2024-04-28T01:49:52.173369Z",
     "shell.execute_reply": "2024-04-28T01:49:52.172357Z"
    },
    "papermill": {
     "duration": 0.810773,
     "end_time": "2024-04-28T01:49:52.175831",
     "exception": false,
     "start_time": "2024-04-28T01:49:51.365058",
     "status": "completed"
    },
    "tags": []
   },
   "outputs": [],
   "source": [
    "X_train, X_val, Y_train, Y_val = train_test_split(X, Y_sc, random_state=2, test_size=0.2)\n",
    "\n",
    "train_ds = tf.data.Dataset.from_tensor_slices((X_train, Y_train.astype(np.float32)))\n",
    "val_ds = tf.data.Dataset.from_tensor_slices((X_val, Y_val.astype(np.float32)))\n",
    "\n",
    "\n",
    "# preprocess and batch\n",
    "train_ds = train_ds.map(process_path).batch(256)\n",
    "val_ds = val_ds.map(process_path).batch(256)"
   ]
  },
  {
   "cell_type": "markdown",
   "id": "0593553a",
   "metadata": {
    "papermill": {
     "duration": 0.006534,
     "end_time": "2024-04-28T01:49:52.189400",
     "exception": false,
     "start_time": "2024-04-28T01:49:52.182866",
     "status": "completed"
    },
    "tags": []
   },
   "source": [
    "## Model architecture"
   ]
  },
  {
   "cell_type": "code",
   "execution_count": 10,
   "id": "33f855dc",
   "metadata": {
    "execution": {
     "iopub.execute_input": "2024-04-28T01:49:52.204298Z",
     "iopub.status.busy": "2024-04-28T01:49:52.203988Z",
     "iopub.status.idle": "2024-04-28T01:49:53.955905Z",
     "shell.execute_reply": "2024-04-28T01:49:53.955032Z"
    },
    "papermill": {
     "duration": 1.762063,
     "end_time": "2024-04-28T01:49:53.958122",
     "exception": false,
     "start_time": "2024-04-28T01:49:52.196059",
     "status": "completed"
    },
    "tags": []
   },
   "outputs": [
    {
     "name": "stdout",
     "output_type": "stream",
     "text": [
      "Downloading data from https://storage.googleapis.com/keras-applications/efficientnetb0_notop.h5\n",
      "\u001b[1m16705208/16705208\u001b[0m \u001b[32m━━━━━━━━━━━━━━━━━━━━\u001b[0m\u001b[37m\u001b[0m \u001b[1m0s\u001b[0m 0us/step\n"
     ]
    },
    {
     "data": {
      "text/html": [
       "<pre style=\"white-space:pre;overflow-x:auto;line-height:normal;font-family:Menlo,'DejaVu Sans Mono',consolas,'Courier New',monospace\"><span style=\"font-weight: bold\">Model: \"sequential\"</span>\n",
       "</pre>\n"
      ],
      "text/plain": [
       "\u001b[1mModel: \"sequential\"\u001b[0m\n"
      ]
     },
     "metadata": {},
     "output_type": "display_data"
    },
    {
     "data": {
      "text/html": [
       "<pre style=\"white-space:pre;overflow-x:auto;line-height:normal;font-family:Menlo,'DejaVu Sans Mono',consolas,'Courier New',monospace\">┏━━━━━━━━━━━━━━━━━━━━━━━━━━━━━━━━━┳━━━━━━━━━━━━━━━━━━━━━━━━┳━━━━━━━━━━━━━━━┓\n",
       "┃<span style=\"font-weight: bold\"> Layer (type)                    </span>┃<span style=\"font-weight: bold\"> Output Shape           </span>┃<span style=\"font-weight: bold\">       Param # </span>┃\n",
       "┡━━━━━━━━━━━━━━━━━━━━━━━━━━━━━━━━━╇━━━━━━━━━━━━━━━━━━━━━━━━╇━━━━━━━━━━━━━━━┩\n",
       "│ augmentation (<span style=\"color: #0087ff; text-decoration-color: #0087ff\">Sequential</span>)       │ (<span style=\"color: #00d7ff; text-decoration-color: #00d7ff\">None</span>, <span style=\"color: #00af00; text-decoration-color: #00af00\">224</span>, <span style=\"color: #00af00; text-decoration-color: #00af00\">224</span>, <span style=\"color: #00af00; text-decoration-color: #00af00\">3</span>)    │             <span style=\"color: #00af00; text-decoration-color: #00af00\">0</span> │\n",
       "├─────────────────────────────────┼────────────────────────┼───────────────┤\n",
       "│ efficientnetb0 (<span style=\"color: #0087ff; text-decoration-color: #0087ff\">Functional</span>)     │ (<span style=\"color: #00d7ff; text-decoration-color: #00d7ff\">None</span>, <span style=\"color: #00af00; text-decoration-color: #00af00\">1280</span>)           │     <span style=\"color: #00af00; text-decoration-color: #00af00\">4,049,571</span> │\n",
       "├─────────────────────────────────┼────────────────────────┼───────────────┤\n",
       "│ dropout (<span style=\"color: #0087ff; text-decoration-color: #0087ff\">Dropout</span>)               │ (<span style=\"color: #00d7ff; text-decoration-color: #00d7ff\">None</span>, <span style=\"color: #00af00; text-decoration-color: #00af00\">1280</span>)           │             <span style=\"color: #00af00; text-decoration-color: #00af00\">0</span> │\n",
       "├─────────────────────────────────┼────────────────────────┼───────────────┤\n",
       "│ fc_hidden (<span style=\"color: #0087ff; text-decoration-color: #0087ff\">Dense</span>)               │ (<span style=\"color: #00d7ff; text-decoration-color: #00d7ff\">None</span>, <span style=\"color: #00af00; text-decoration-color: #00af00\">256</span>)            │       <span style=\"color: #00af00; text-decoration-color: #00af00\">327,936</span> │\n",
       "├─────────────────────────────────┼────────────────────────┼───────────────┤\n",
       "│ batch_normalization             │ (<span style=\"color: #00d7ff; text-decoration-color: #00d7ff\">None</span>, <span style=\"color: #00af00; text-decoration-color: #00af00\">256</span>)            │         <span style=\"color: #00af00; text-decoration-color: #00af00\">1,024</span> │\n",
       "│ (<span style=\"color: #0087ff; text-decoration-color: #0087ff\">BatchNormalization</span>)            │                        │               │\n",
       "├─────────────────────────────────┼────────────────────────┼───────────────┤\n",
       "│ leaky_re_lu (<span style=\"color: #0087ff; text-decoration-color: #0087ff\">LeakyReLU</span>)         │ (<span style=\"color: #00d7ff; text-decoration-color: #00d7ff\">None</span>, <span style=\"color: #00af00; text-decoration-color: #00af00\">256</span>)            │             <span style=\"color: #00af00; text-decoration-color: #00af00\">0</span> │\n",
       "├─────────────────────────────────┼────────────────────────┼───────────────┤\n",
       "│ dropout_1 (<span style=\"color: #0087ff; text-decoration-color: #0087ff\">Dropout</span>)             │ (<span style=\"color: #00d7ff; text-decoration-color: #00d7ff\">None</span>, <span style=\"color: #00af00; text-decoration-color: #00af00\">256</span>)            │             <span style=\"color: #00af00; text-decoration-color: #00af00\">0</span> │\n",
       "├─────────────────────────────────┼────────────────────────┼───────────────┤\n",
       "│ raw_output (<span style=\"color: #0087ff; text-decoration-color: #0087ff\">Dense</span>)              │ (<span style=\"color: #00d7ff; text-decoration-color: #00d7ff\">None</span>, <span style=\"color: #00af00; text-decoration-color: #00af00\">6</span>)              │         <span style=\"color: #00af00; text-decoration-color: #00af00\">1,542</span> │\n",
       "└─────────────────────────────────┴────────────────────────┴───────────────┘\n",
       "</pre>\n"
      ],
      "text/plain": [
       "┏━━━━━━━━━━━━━━━━━━━━━━━━━━━━━━━━━┳━━━━━━━━━━━━━━━━━━━━━━━━┳━━━━━━━━━━━━━━━┓\n",
       "┃\u001b[1m \u001b[0m\u001b[1mLayer (type)                   \u001b[0m\u001b[1m \u001b[0m┃\u001b[1m \u001b[0m\u001b[1mOutput Shape          \u001b[0m\u001b[1m \u001b[0m┃\u001b[1m \u001b[0m\u001b[1m      Param #\u001b[0m\u001b[1m \u001b[0m┃\n",
       "┡━━━━━━━━━━━━━━━━━━━━━━━━━━━━━━━━━╇━━━━━━━━━━━━━━━━━━━━━━━━╇━━━━━━━━━━━━━━━┩\n",
       "│ augmentation (\u001b[38;5;33mSequential\u001b[0m)       │ (\u001b[38;5;45mNone\u001b[0m, \u001b[38;5;34m224\u001b[0m, \u001b[38;5;34m224\u001b[0m, \u001b[38;5;34m3\u001b[0m)    │             \u001b[38;5;34m0\u001b[0m │\n",
       "├─────────────────────────────────┼────────────────────────┼───────────────┤\n",
       "│ efficientnetb0 (\u001b[38;5;33mFunctional\u001b[0m)     │ (\u001b[38;5;45mNone\u001b[0m, \u001b[38;5;34m1280\u001b[0m)           │     \u001b[38;5;34m4,049,571\u001b[0m │\n",
       "├─────────────────────────────────┼────────────────────────┼───────────────┤\n",
       "│ dropout (\u001b[38;5;33mDropout\u001b[0m)               │ (\u001b[38;5;45mNone\u001b[0m, \u001b[38;5;34m1280\u001b[0m)           │             \u001b[38;5;34m0\u001b[0m │\n",
       "├─────────────────────────────────┼────────────────────────┼───────────────┤\n",
       "│ fc_hidden (\u001b[38;5;33mDense\u001b[0m)               │ (\u001b[38;5;45mNone\u001b[0m, \u001b[38;5;34m256\u001b[0m)            │       \u001b[38;5;34m327,936\u001b[0m │\n",
       "├─────────────────────────────────┼────────────────────────┼───────────────┤\n",
       "│ batch_normalization             │ (\u001b[38;5;45mNone\u001b[0m, \u001b[38;5;34m256\u001b[0m)            │         \u001b[38;5;34m1,024\u001b[0m │\n",
       "│ (\u001b[38;5;33mBatchNormalization\u001b[0m)            │                        │               │\n",
       "├─────────────────────────────────┼────────────────────────┼───────────────┤\n",
       "│ leaky_re_lu (\u001b[38;5;33mLeakyReLU\u001b[0m)         │ (\u001b[38;5;45mNone\u001b[0m, \u001b[38;5;34m256\u001b[0m)            │             \u001b[38;5;34m0\u001b[0m │\n",
       "├─────────────────────────────────┼────────────────────────┼───────────────┤\n",
       "│ dropout_1 (\u001b[38;5;33mDropout\u001b[0m)             │ (\u001b[38;5;45mNone\u001b[0m, \u001b[38;5;34m256\u001b[0m)            │             \u001b[38;5;34m0\u001b[0m │\n",
       "├─────────────────────────────────┼────────────────────────┼───────────────┤\n",
       "│ raw_output (\u001b[38;5;33mDense\u001b[0m)              │ (\u001b[38;5;45mNone\u001b[0m, \u001b[38;5;34m6\u001b[0m)              │         \u001b[38;5;34m1,542\u001b[0m │\n",
       "└─────────────────────────────────┴────────────────────────┴───────────────┘\n"
      ]
     },
     "metadata": {},
     "output_type": "display_data"
    },
    {
     "data": {
      "text/html": [
       "<pre style=\"white-space:pre;overflow-x:auto;line-height:normal;font-family:Menlo,'DejaVu Sans Mono',consolas,'Courier New',monospace\"><span style=\"font-weight: bold\"> Total params: </span><span style=\"color: #00af00; text-decoration-color: #00af00\">4,380,073</span> (16.71 MB)\n",
       "</pre>\n"
      ],
      "text/plain": [
       "\u001b[1m Total params: \u001b[0m\u001b[38;5;34m4,380,073\u001b[0m (16.71 MB)\n"
      ]
     },
     "metadata": {},
     "output_type": "display_data"
    },
    {
     "data": {
      "text/html": [
       "<pre style=\"white-space:pre;overflow-x:auto;line-height:normal;font-family:Menlo,'DejaVu Sans Mono',consolas,'Courier New',monospace\"><span style=\"font-weight: bold\"> Trainable params: </span><span style=\"color: #00af00; text-decoration-color: #00af00\">329,990</span> (1.26 MB)\n",
       "</pre>\n"
      ],
      "text/plain": [
       "\u001b[1m Trainable params: \u001b[0m\u001b[38;5;34m329,990\u001b[0m (1.26 MB)\n"
      ]
     },
     "metadata": {},
     "output_type": "display_data"
    },
    {
     "data": {
      "text/html": [
       "<pre style=\"white-space:pre;overflow-x:auto;line-height:normal;font-family:Menlo,'DejaVu Sans Mono',consolas,'Courier New',monospace\"><span style=\"font-weight: bold\"> Non-trainable params: </span><span style=\"color: #00af00; text-decoration-color: #00af00\">4,050,083</span> (15.45 MB)\n",
       "</pre>\n"
      ],
      "text/plain": [
       "\u001b[1m Non-trainable params: \u001b[0m\u001b[38;5;34m4,050,083\u001b[0m (15.45 MB)\n"
      ]
     },
     "metadata": {},
     "output_type": "display_data"
    },
    {
     "name": "stdout",
     "output_type": "stream",
     "text": [
      "None\n"
     ]
    }
   ],
   "source": [
    "keras.backend.clear_session()\n",
    "model = keras.Sequential([\n",
    "    keras.layers.Input(shape = (224, 224, 3), name=\"input\"),\n",
    "    # augmentation layers\n",
    "    keras.Sequential([\n",
    "        keras.layers.RandomRotation(factor=0.1, interpolation='nearest'),\n",
    "        keras.layers.RandomTranslation(\n",
    "            height_factor=0.1, width_factor=0.1, interpolation='nearest'\n",
    "        )\n",
    "    ], name='augmentation'),\n",
    "    EfficientNetB0(include_top=False, weights='imagenet', pooling='avg'),\n",
    "    # output layers\n",
    "    keras.layers.Dropout(0.2),\n",
    "    keras.layers.Dense(256, name='fc_hidden'),\n",
    "    keras.layers.BatchNormalization(),\n",
    "    keras.layers.LeakyReLU(0.2),\n",
    "    keras.layers.Dropout(0.05),\n",
    "    keras.layers.Dense(6, name='raw_output'),\n",
    "    #keras.layers.Softmax(name='output') # enforcing positive outputs\n",
    "])\n",
    "\n",
    "# fix efficientnet weights \n",
    "model.get_layer('efficientnetb0').trainable = False\n",
    "\n",
    "model.compile(\n",
    "    optimizer=keras.optimizers.Adam(learning_rate=1e-3),\n",
    "    loss= keras.losses.MeanSquaredError(),\n",
    "    metrics=[keras.metrics.R2Score()]\n",
    ")\n",
    "\n",
    "print(model.summary())"
   ]
  },
  {
   "cell_type": "markdown",
   "id": "65836307",
   "metadata": {
    "papermill": {
     "duration": 0.007985,
     "end_time": "2024-04-28T01:49:53.974279",
     "exception": false,
     "start_time": "2024-04-28T01:49:53.966294",
     "status": "completed"
    },
    "tags": []
   },
   "source": [
    "## Training"
   ]
  },
  {
   "cell_type": "code",
   "execution_count": 11,
   "id": "99eccb72",
   "metadata": {
    "execution": {
     "iopub.execute_input": "2024-04-28T01:49:53.992562Z",
     "iopub.status.busy": "2024-04-28T01:49:53.991750Z",
     "iopub.status.idle": "2024-04-28T02:01:05.638968Z",
     "shell.execute_reply": "2024-04-28T02:01:05.637961Z"
    },
    "papermill": {
     "duration": 671.658933,
     "end_time": "2024-04-28T02:01:05.641393",
     "exception": false,
     "start_time": "2024-04-28T01:49:53.982460",
     "status": "completed"
    },
    "tags": []
   },
   "outputs": [
    {
     "name": "stdout",
     "output_type": "stream",
     "text": [
      "Epoch 1/10\n"
     ]
    },
    {
     "name": "stderr",
     "output_type": "stream",
     "text": [
      "2024-04-28 01:50:04.768702: E tensorflow/core/grappler/optimizers/meta_optimizer.cc:961] layout failed: INVALID_ARGUMENT: Size of values 0 does not match size of permutation 4 @ fanin shape inStatefulPartitionedCall/sequential_1/efficientnetb0_1/block2b_drop_1/stateless_dropout/SelectV2-2-TransposeNHWCToNCHW-LayoutOptimizer\n"
     ]
    },
    {
     "name": "stdout",
     "output_type": "stream",
     "text": [
      "\u001b[1m156/156\u001b[0m \u001b[32m━━━━━━━━━━━━━━━━━━━━\u001b[0m\u001b[37m\u001b[0m \u001b[1m117s\u001b[0m 647ms/step - loss: 1.1564 - r2_score: -0.1728 - val_loss: 0.8463 - val_r2_score: 0.1560\n",
      "Epoch 2/10\n",
      "\u001b[1m156/156\u001b[0m \u001b[32m━━━━━━━━━━━━━━━━━━━━\u001b[0m\u001b[37m\u001b[0m \u001b[1m59s\u001b[0m 378ms/step - loss: 0.8760 - r2_score: 0.1132 - val_loss: 0.8325 - val_r2_score: 0.1698\n",
      "Epoch 3/10\n",
      "\u001b[1m156/156\u001b[0m \u001b[32m━━━━━━━━━━━━━━━━━━━━\u001b[0m\u001b[37m\u001b[0m \u001b[1m59s\u001b[0m 378ms/step - loss: 0.8417 - r2_score: 0.1479 - val_loss: 0.8213 - val_r2_score: 0.1810\n",
      "Epoch 4/10\n",
      "\u001b[1m156/156\u001b[0m \u001b[32m━━━━━━━━━━━━━━━━━━━━\u001b[0m\u001b[37m\u001b[0m \u001b[1m59s\u001b[0m 378ms/step - loss: 0.8265 - r2_score: 0.1633 - val_loss: 0.8136 - val_r2_score: 0.1887\n",
      "Epoch 5/10\n",
      "\u001b[1m156/156\u001b[0m \u001b[32m━━━━━━━━━━━━━━━━━━━━\u001b[0m\u001b[37m\u001b[0m \u001b[1m59s\u001b[0m 378ms/step - loss: 0.8169 - r2_score: 0.1731 - val_loss: 0.8125 - val_r2_score: 0.1897\n",
      "Epoch 6/10\n",
      "\u001b[1m156/156\u001b[0m \u001b[32m━━━━━━━━━━━━━━━━━━━━\u001b[0m\u001b[37m\u001b[0m \u001b[1m82s\u001b[0m 378ms/step - loss: 0.8105 - r2_score: 0.1795 - val_loss: 0.8088 - val_r2_score: 0.1936\n",
      "Epoch 7/10\n",
      "\u001b[1m156/156\u001b[0m \u001b[32m━━━━━━━━━━━━━━━━━━━━\u001b[0m\u001b[37m\u001b[0m \u001b[1m59s\u001b[0m 378ms/step - loss: 0.8027 - r2_score: 0.1874 - val_loss: 0.8068 - val_r2_score: 0.1955\n",
      "Epoch 8/10\n",
      "\u001b[1m156/156\u001b[0m \u001b[32m━━━━━━━━━━━━━━━━━━━━\u001b[0m\u001b[37m\u001b[0m \u001b[1m59s\u001b[0m 378ms/step - loss: 0.7993 - r2_score: 0.1909 - val_loss: 0.8039 - val_r2_score: 0.1984\n",
      "Epoch 9/10\n",
      "\u001b[1m156/156\u001b[0m \u001b[32m━━━━━━━━━━━━━━━━━━━━\u001b[0m\u001b[37m\u001b[0m \u001b[1m59s\u001b[0m 378ms/step - loss: 0.7946 - r2_score: 0.1955 - val_loss: 0.8043 - val_r2_score: 0.1980\n",
      "Epoch 10/10\n",
      "\u001b[1m156/156\u001b[0m \u001b[32m━━━━━━━━━━━━━━━━━━━━\u001b[0m\u001b[37m\u001b[0m \u001b[1m59s\u001b[0m 378ms/step - loss: 0.7936 - r2_score: 0.1965 - val_loss: 0.8048 - val_r2_score: 0.1974\n"
     ]
    }
   ],
   "source": [
    "NUM_EPOCHS= 10\n",
    "history = model.fit(train_ds, validation_data=val_ds, epochs=NUM_EPOCHS)"
   ]
  },
  {
   "cell_type": "code",
   "execution_count": 12,
   "id": "ff64542e",
   "metadata": {
    "execution": {
     "iopub.execute_input": "2024-04-28T02:01:05.913082Z",
     "iopub.status.busy": "2024-04-28T02:01:05.912730Z",
     "iopub.status.idle": "2024-04-28T02:01:07.567292Z",
     "shell.execute_reply": "2024-04-28T02:01:07.566311Z"
    },
    "papermill": {
     "duration": 1.79355,
     "end_time": "2024-04-28T02:01:07.569514",
     "exception": false,
     "start_time": "2024-04-28T02:01:05.775964",
     "status": "completed"
    },
    "tags": []
   },
   "outputs": [
    {
     "data": {
      "image/png": "[encoded data removed]",
      "text/plain": [
       "<Figure size 1500x525 with 2 Axes>"
      ]
     },
     "metadata": {},
     "output_type": "display_data"
    }
   ],
   "source": [
    "# plot training history\n",
    "metrics = ['loss','r2_score']\n",
    "\n",
    "fig,axs = plt.subplots(1,len(metrics),figsize=(5*len(metrics),3.5),dpi=150)\n",
    "\n",
    "for i,metric in enumerate(metrics):\n",
    "    \n",
    "    _ = axs[i].plot(1 + np.arange(NUM_EPOCHS), history.history[f'{metric}'],label='Training')\n",
    "    _ = axs[i].plot(1 + np.arange(NUM_EPOCHS), history.history[f'val_{metric}'],label='Validation')\n",
    "    _ = axs[i].legend()\n",
    "    _ = axs[i].set_ylabel(metric.capitalize())\n",
    "    _ = axs[i].set_xlabel('Epochs')\n",
    "\n",
    "fig.tight_layout()\n",
    "fig.savefig('training_history.png',bbox_inches='tight')\n",
    "fig.savefig('training_history.pdf',bbox_inches='tight')"
   ]
  },
  {
   "cell_type": "code",
   "execution_count": 13,
   "id": "ed7d12d4",
   "metadata": {
    "execution": {
     "iopub.execute_input": "2024-04-28T02:01:07.846628Z",
     "iopub.status.busy": "2024-04-28T02:01:07.845368Z",
     "iopub.status.idle": "2024-04-28T02:01:08.280373Z",
     "shell.execute_reply": "2024-04-28T02:01:08.279584Z"
    },
    "papermill": {
     "duration": 0.574845,
     "end_time": "2024-04-28T02:01:08.282813",
     "exception": false,
     "start_time": "2024-04-28T02:01:07.707968",
     "status": "completed"
    },
    "tags": []
   },
   "outputs": [],
   "source": [
    "# save weights\n",
    "model.save_weights(\"model.weights.h5\")"
   ]
  },
  {
   "cell_type": "markdown",
   "id": "410eea8c",
   "metadata": {
    "papermill": {
     "duration": 0.136324,
     "end_time": "2024-04-28T02:01:08.554953",
     "exception": false,
     "start_time": "2024-04-28T02:01:08.418629",
     "status": "completed"
    },
    "tags": []
   },
   "source": [
    "## Predictions on Test Data"
   ]
  },
  {
   "cell_type": "code",
   "execution_count": 14,
   "id": "ca751ee5",
   "metadata": {
    "execution": {
     "iopub.execute_input": "2024-04-28T02:01:08.834115Z",
     "iopub.status.busy": "2024-04-28T02:01:08.833737Z",
     "iopub.status.idle": "2024-04-28T02:01:28.214271Z",
     "shell.execute_reply": "2024-04-28T02:01:28.213277Z"
    },
    "papermill": {
     "duration": 19.520789,
     "end_time": "2024-04-28T02:01:28.216372",
     "exception": false,
     "start_time": "2024-04-28T02:01:08.695583",
     "status": "completed"
    },
    "tags": []
   },
   "outputs": [
    {
     "name": "stdout",
     "output_type": "stream",
     "text": [
      "\u001b[1m26/26\u001b[0m \u001b[32m━━━━━━━━━━━━━━━━━━━━\u001b[0m\u001b[37m\u001b[0m \u001b[1m19s\u001b[0m 653ms/step\n"
     ]
    }
   ],
   "source": [
    "test_ds = tf.data.Dataset.from_tensor_slices((test['img_path'].astype(str).values,))\n",
    "test_ds = test_ds.map(process_image_from_file).batch(256)\n",
    "predictions = model.predict(test_ds)"
   ]
  },
  {
   "cell_type": "code",
   "execution_count": 15,
   "id": "273778ed",
   "metadata": {
    "execution": {
     "iopub.execute_input": "2024-04-28T02:01:28.487363Z",
     "iopub.status.busy": "2024-04-28T02:01:28.487047Z",
     "iopub.status.idle": "2024-04-28T02:01:28.550728Z",
     "shell.execute_reply": "2024-04-28T02:01:28.549981Z"
    },
    "papermill": {
     "duration": 0.201421,
     "end_time": "2024-04-28T02:01:28.552603",
     "exception": false,
     "start_time": "2024-04-28T02:01:28.351182",
     "status": "completed"
    },
    "tags": []
   },
   "outputs": [],
   "source": [
    "submission = pd.DataFrame(\n",
    "    output_sc.inverse_transform(predictions),\n",
    "    columns=targets,\n",
    "    index=test['id']\n",
    ").reset_index()\n",
    "\n",
    "\n",
    "submission.to_csv('submission.csv', index=False)"
   ]
  },
  {
   "cell_type": "code",
   "execution_count": 16,
   "id": "c04a7158",
   "metadata": {
    "execution": {
     "iopub.execute_input": "2024-04-28T02:01:28.829255Z",
     "iopub.status.busy": "2024-04-28T02:01:28.828893Z",
     "iopub.status.idle": "2024-04-28T02:01:28.845062Z",
     "shell.execute_reply": "2024-04-28T02:01:28.844229Z"
    },
    "papermill": {
     "duration": 0.155953,
     "end_time": "2024-04-28T02:01:28.847150",
     "exception": false,
     "start_time": "2024-04-28T02:01:28.691197",
     "status": "completed"
    },
    "tags": []
   },
   "outputs": [
    {
     "data": {
      "text/html": [
       "<div>\n",
       "<style scoped>\n",
       "    .dataframe tbody tr th:only-of-type {\n",
       "        vertical-align: middle;\n",
       "    }\n",
       "\n",
       "    .dataframe tbody tr th {\n",
       "        vertical-align: top;\n",
       "    }\n",
       "\n",
       "    .dataframe thead th {\n",
       "        text-align: right;\n",
       "    }\n",
       "</style>\n",
       "<table border=\"1\" class=\"dataframe\">\n",
       "  <thead>\n",
       "    <tr style=\"text-align: right;\">\n",
       "      <th></th>\n",
       "      <th>id</th>\n",
       "      <th>X4</th>\n",
       "      <th>X11</th>\n",
       "      <th>X18</th>\n",
       "      <th>X26</th>\n",
       "      <th>X50</th>\n",
       "      <th>X3112</th>\n",
       "    </tr>\n",
       "  </thead>\n",
       "  <tbody>\n",
       "    <tr>\n",
       "      <th>0</th>\n",
       "      <td>201238668</td>\n",
       "      <td>0.542653</td>\n",
       "      <td>16.033506</td>\n",
       "      <td>1.504539</td>\n",
       "      <td>4.541667</td>\n",
       "      <td>1.538424</td>\n",
       "      <td>640.266907</td>\n",
       "    </tr>\n",
       "    <tr>\n",
       "      <th>1</th>\n",
       "      <td>202310319</td>\n",
       "      <td>0.402274</td>\n",
       "      <td>19.663866</td>\n",
       "      <td>0.235440</td>\n",
       "      <td>-3.537717</td>\n",
       "      <td>1.295845</td>\n",
       "      <td>1023.166809</td>\n",
       "    </tr>\n",
       "    <tr>\n",
       "      <th>2</th>\n",
       "      <td>202604412</td>\n",
       "      <td>0.514915</td>\n",
       "      <td>15.044752</td>\n",
       "      <td>1.520014</td>\n",
       "      <td>16.305702</td>\n",
       "      <td>1.676373</td>\n",
       "      <td>996.142395</td>\n",
       "    </tr>\n",
       "    <tr>\n",
       "      <th>3</th>\n",
       "      <td>201353439</td>\n",
       "      <td>0.556108</td>\n",
       "      <td>15.745074</td>\n",
       "      <td>4.084743</td>\n",
       "      <td>27.410549</td>\n",
       "      <td>1.530269</td>\n",
       "      <td>2581.982910</td>\n",
       "    </tr>\n",
       "    <tr>\n",
       "      <th>4</th>\n",
       "      <td>195351745</td>\n",
       "      <td>0.468369</td>\n",
       "      <td>14.669024</td>\n",
       "      <td>0.282283</td>\n",
       "      <td>-6.310250</td>\n",
       "      <td>1.630686</td>\n",
       "      <td>441.193237</td>\n",
       "    </tr>\n",
       "  </tbody>\n",
       "</table>\n",
       "</div>"
      ],
      "text/plain": [
       "          id        X4        X11       X18        X26       X50        X3112\n",
       "0  201238668  0.542653  16.033506  1.504539   4.541667  1.538424   640.266907\n",
       "1  202310319  0.402274  19.663866  0.235440  -3.537717  1.295845  1023.166809\n",
       "2  202604412  0.514915  15.044752  1.520014  16.305702  1.676373   996.142395\n",
       "3  201353439  0.556108  15.745074  4.084743  27.410549  1.530269  2581.982910\n",
       "4  195351745  0.468369  14.669024  0.282283  -6.310250  1.630686   441.193237"
      ]
     },
     "execution_count": 16,
     "metadata": {},
     "output_type": "execute_result"
    }
   ],
   "source": [
    "submission.head()"
   ]
  },
  {
   "cell_type": "code",
   "execution_count": null,
   "id": "6dbd82eb",
   "metadata": {
    "papermill": {
     "duration": 0.135129,
     "end_time": "2024-04-28T02:01:29.124496",
     "exception": false,
     "start_time": "2024-04-28T02:01:28.989367",
     "status": "completed"
    },
    "tags": []
   },
   "outputs": [],
   "source": []
  }
 ],
 "metadata": {
  "kaggle": {
   "accelerator": "gpu",
   "dataSources": [
    {
     "databundleVersionId": 8046133,
     "sourceId": 65626,
     "sourceType": "competition"
    }
   ],
   "dockerImageVersionId": 30674,
   "isGpuEnabled": true,
   "isInternetEnabled": true,
   "language": "python",
   "sourceType": "notebook"
  },
  "kernelspec": {
   "display_name": "Python 3",
   "language": "python",
   "name": "python3"
  },
  "language_info": {
   "codemirror_mode": {
    "name": "ipython",
    "version": 3
   },
   "file_extension": ".py",
   "mimetype": "text/x-python",
   "name": "python",
   "nbconvert_exporter": "python",
   "pygments_lexer": "ipython3",
   "version": "3.10.13"
  },
  "papermill": {
   "default_parameters": {},
   "duration": 721.603001,
   "end_time": "2024-04-28T02:01:32.641768",
   "environment_variables": {},
   "exception": null,
   "input_path": "__notebook__.ipynb",
   "output_path": "__notebook__.ipynb",
   "parameters": {},
   "start_time": "2024-04-28T01:49:31.038767",
   "version": "2.5.0"
  }
 },
 "nbformat": 4,
 "nbformat_minor": 5
}
