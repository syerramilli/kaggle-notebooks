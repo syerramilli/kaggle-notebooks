{
 "cells": [
  {
   "cell_type": "markdown",
   "id": "693f0838",
   "metadata": {
    "papermill": {
     "duration": 0.007668,
     "end_time": "2024-04-28T01:26:53.537945",
     "exception": false,
     "start_time": "2024-04-28T01:26:53.530277",
     "status": "completed"
    },
    "tags": []
   },
   "source": [
    "## Introduction\n",
    "\n",
    "In this notebook we will train a baseline multi-output regression model in Keras on the images to predict the 6 plant properties. The images are processed using the EfficientNet-B0 architectures, whose weights were pretrained on the ImageNet-1K dataset"
   ]
  },
  {
   "cell_type": "code",
   "execution_count": 1,
   "id": "65d64136",
   "metadata": {
    "execution": {
     "iopub.execute_input": "2024-04-28T01:26:53.553443Z",
     "iopub.status.busy": "2024-04-28T01:26:53.553068Z",
     "iopub.status.idle": "2024-04-28T01:27:07.188692Z",
     "shell.execute_reply": "2024-04-28T01:27:07.187863Z"
    },
    "papermill": {
     "duration": 13.652047,
     "end_time": "2024-04-28T01:27:07.196888",
     "exception": false,
     "start_time": "2024-04-28T01:26:53.544841",
     "status": "completed"
    },
    "tags": []
   },
   "outputs": [
    {
     "name": "stderr",
     "output_type": "stream",
     "text": [
      "2024-04-28 01:26:57.464951: E external/local_xla/xla/stream_executor/cuda/cuda_dnn.cc:9261] Unable to register cuDNN factory: Attempting to register factory for plugin cuDNN when one has already been registered\n",
      "2024-04-28 01:26:57.465100: E external/local_xla/xla/stream_executor/cuda/cuda_fft.cc:607] Unable to register cuFFT factory: Attempting to register factory for plugin cuFFT when one has already been registered\n",
      "2024-04-28 01:26:57.593344: E external/local_xla/xla/stream_executor/cuda/cuda_blas.cc:1515] Unable to register cuBLAS factory: Attempting to register factory for plugin cuBLAS when one has already been registered\n"
     ]
    }
   ],
   "source": [
    "import numpy as np\n",
    "import pandas as pd\n",
    "import matplotlib.pyplot as plt\n",
    "import seaborn as sns\n",
    "\n",
    "import tensorflow as tf\n",
    "import keras\n",
    "from keras.applications.efficientnet import EfficientNetB0, preprocess_input\n",
    "from keras.preprocessing.image import load_img, img_to_array\n",
    "\n",
    "from sklearn.preprocessing import StandardScaler\n",
    "from sklearn.metrics import r2_score\n",
    "from sklearn.model_selection import train_test_split\n",
    "\n",
    "from pathlib import Path\n",
    "\n",
    "plt.style.use('ggplot')\n",
    "plt.rcParams.update(**{'figure.dpi':150})"
   ]
  },
  {
   "cell_type": "markdown",
   "id": "72217eca",
   "metadata": {
    "papermill": {
     "duration": 0.006121,
     "end_time": "2024-04-28T01:27:07.209469",
     "exception": false,
     "start_time": "2024-04-28T01:27:07.203348",
     "status": "completed"
    },
    "tags": []
   },
   "source": [
    "## Loading the data"
   ]
  },
  {
   "cell_type": "code",
   "execution_count": 2,
   "id": "c6c0336d",
   "metadata": {
    "execution": {
     "iopub.execute_input": "2024-04-28T01:27:07.223202Z",
     "iopub.status.busy": "2024-04-28T01:27:07.222752Z",
     "iopub.status.idle": "2024-04-28T01:27:10.279512Z",
     "shell.execute_reply": "2024-04-28T01:27:10.278752Z"
    },
    "papermill": {
     "duration": 3.066045,
     "end_time": "2024-04-28T01:27:10.281719",
     "exception": false,
     "start_time": "2024-04-28T01:27:07.215674",
     "status": "completed"
    },
    "tags": []
   },
   "outputs": [],
   "source": [
    "path = Path('/kaggle/input/planttraits2024/')\n",
    "imgs_train = path / 'train_images'\n",
    "imgs_test = path / 'test_images'\n",
    "\n",
    "train = pd.read_csv(path / 'train.csv')\n",
    "train['img_path'] = train['id'].apply(lambda x: imgs_train / f'{x}.jpeg')\n",
    "\n",
    "test = pd.read_csv(path / 'test.csv')\n",
    "test['img_path'] = test['id'].apply(lambda x: imgs_test / f'{x}.jpeg')"
   ]
  },
  {
   "cell_type": "code",
   "execution_count": 3,
   "id": "782e5f7b",
   "metadata": {
    "execution": {
     "iopub.execute_input": "2024-04-28T01:27:10.295838Z",
     "iopub.status.busy": "2024-04-28T01:27:10.295516Z",
     "iopub.status.idle": "2024-04-28T01:27:10.305994Z",
     "shell.execute_reply": "2024-04-28T01:27:10.305023Z"
    },
    "papermill": {
     "duration": 0.019827,
     "end_time": "2024-04-28T01:27:10.308042",
     "exception": false,
     "start_time": "2024-04-28T01:27:10.288215",
     "status": "completed"
    },
    "tags": []
   },
   "outputs": [
    {
     "name": "stdout",
     "output_type": "stream",
     "text": [
      "['X4', 'Stem specific density (SSD) or wood density (stem dry mass per stem fresh volume) ']\n",
      "['X11', 'Leaf area per leaf dry mass (specific leaf area, SLA or 1/LMA) ']\n",
      "['X18', 'Plant height ']\n",
      "['X26', 'Seed dry mass ']\n",
      "['X50', 'Leaf nitrogen (N) content per leaf area ']\n",
      "['X3112', 'Leaf area (in case of compound leaves: leaf, undefined if petiole in- or excluded) ']\n"
     ]
    }
   ],
   "source": [
    "# targets\n",
    "target_desc = pd.read_table(path / 'target_name_meta.tsv', sep='\\t')\n",
    "targets = target_desc['trait_ID'].tolist()\n",
    "for row in target_desc.iterrows():\n",
    "    print(row[1].tolist())"
   ]
  },
  {
   "cell_type": "code",
   "execution_count": 4,
   "id": "ef1a8446",
   "metadata": {
    "execution": {
     "iopub.execute_input": "2024-04-28T01:27:10.322150Z",
     "iopub.status.busy": "2024-04-28T01:27:10.321882Z",
     "iopub.status.idle": "2024-04-28T01:27:10.328473Z",
     "shell.execute_reply": "2024-04-28T01:27:10.327582Z"
    },
    "papermill": {
     "duration": 0.015893,
     "end_time": "2024-04-28T01:27:10.330409",
     "exception": false,
     "start_time": "2024-04-28T01:27:10.314516",
     "status": "completed"
    },
    "tags": []
   },
   "outputs": [
    {
     "data": {
      "text/plain": [
       "['X4_mean', 'X11_mean', 'X18_mean', 'X26_mean', 'X50_mean', 'X3112_mean']"
      ]
     },
     "execution_count": 4,
     "metadata": {},
     "output_type": "execute_result"
    }
   ],
   "source": [
    "target_cols = [f'{col}_mean' for col in targets]\n",
    "target_cols"
   ]
  },
  {
   "cell_type": "markdown",
   "id": "df949d9f",
   "metadata": {
    "papermill": {
     "duration": 0.006265,
     "end_time": "2024-04-28T01:27:10.343143",
     "exception": false,
     "start_time": "2024-04-28T01:27:10.336878",
     "status": "completed"
    },
    "tags": []
   },
   "source": [
    "## Target Preprocessing"
   ]
  },
  {
   "cell_type": "code",
   "execution_count": 5,
   "id": "aed6d7bd",
   "metadata": {
    "execution": {
     "iopub.execute_input": "2024-04-28T01:27:10.357825Z",
     "iopub.status.busy": "2024-04-28T01:27:10.357555Z",
     "iopub.status.idle": "2024-04-28T01:27:10.512915Z",
     "shell.execute_reply": "2024-04-28T01:27:10.512136Z"
    },
    "papermill": {
     "duration": 0.165516,
     "end_time": "2024-04-28T01:27:10.514978",
     "exception": false,
     "start_time": "2024-04-28T01:27:10.349462",
     "status": "completed"
    },
    "tags": []
   },
   "outputs": [],
   "source": [
    "X = train['img_path'].astype(str).values\n",
    "Y = train[target_cols]"
   ]
  },
  {
   "cell_type": "code",
   "execution_count": 6,
   "id": "e067c351",
   "metadata": {
    "execution": {
     "iopub.execute_input": "2024-04-28T01:27:10.529786Z",
     "iopub.status.busy": "2024-04-28T01:27:10.529132Z",
     "iopub.status.idle": "2024-04-28T01:27:10.546317Z",
     "shell.execute_reply": "2024-04-28T01:27:10.545363Z"
    },
    "papermill": {
     "duration": 0.026671,
     "end_time": "2024-04-28T01:27:10.548405",
     "exception": false,
     "start_time": "2024-04-28T01:27:10.521734",
     "status": "completed"
    },
    "tags": []
   },
   "outputs": [
    {
     "name": "stdout",
     "output_type": "stream",
     "text": [
      "Number of observations removed: 5691\n"
     ]
    }
   ],
   "source": [
    "# remove bad observations\n",
    "upper_quantiles = Y.quantile(0.98)\n",
    "retained_flag = (Y < upper_quantiles).all(axis= 1) & (Y > 0).all(axis=1)\n",
    "X = X[retained_flag]\n",
    "Y = Y[retained_flag]\n",
    "\n",
    "print(f'Number of observations removed: {retained_flag.shape[0] - retained_flag.sum()}')"
   ]
  },
  {
   "cell_type": "code",
   "execution_count": 7,
   "id": "5841cd12",
   "metadata": {
    "execution": {
     "iopub.execute_input": "2024-04-28T01:27:10.563155Z",
     "iopub.status.busy": "2024-04-28T01:27:10.562905Z",
     "iopub.status.idle": "2024-04-28T01:27:10.571887Z",
     "shell.execute_reply": "2024-04-28T01:27:10.571231Z"
    },
    "papermill": {
     "duration": 0.018342,
     "end_time": "2024-04-28T01:27:10.573690",
     "exception": false,
     "start_time": "2024-04-28T01:27:10.555348",
     "status": "completed"
    },
    "tags": []
   },
   "outputs": [],
   "source": [
    "# standardize response\n",
    "output_sc = StandardScaler()\n",
    "Y_sc = output_sc.fit_transform(Y)"
   ]
  },
  {
   "cell_type": "markdown",
   "id": "88c0d34a",
   "metadata": {
    "papermill": {
     "duration": 0.006564,
     "end_time": "2024-04-28T01:27:10.586894",
     "exception": false,
     "start_time": "2024-04-28T01:27:10.580330",
     "status": "completed"
    },
    "tags": []
   },
   "source": [
    "## Image preprocessing functions"
   ]
  },
  {
   "cell_type": "code",
   "execution_count": 8,
   "id": "641aeee2",
   "metadata": {
    "execution": {
     "iopub.execute_input": "2024-04-28T01:27:10.601126Z",
     "iopub.status.busy": "2024-04-28T01:27:10.600882Z",
     "iopub.status.idle": "2024-04-28T01:27:10.606512Z",
     "shell.execute_reply": "2024-04-28T01:27:10.605672Z"
    },
    "papermill": {
     "duration": 0.014934,
     "end_time": "2024-04-28T01:27:10.608397",
     "exception": false,
     "start_time": "2024-04-28T01:27:10.593463",
     "status": "completed"
    },
    "tags": []
   },
   "outputs": [],
   "source": [
    "def process_image_from_file(file_path:str) -> tf.Tensor:\n",
    "    # load the image\n",
    "    img = tf.io.read_file(file_path)\n",
    "    # decode the jpeg file \n",
    "    img = tf.image.decode_jpeg(img, channels=3)\n",
    "    # resize the image to 224 x 224 \n",
    "    img = tf.image.resize(img, [224, 224])\n",
    "    # preprocessing needed for efficient net\n",
    "    img = preprocess_input(img)\n",
    "    return img\n",
    "\n",
    "# Define your dataset processing function\n",
    "def process_path(file_path, targets):\n",
    "    return process_image_from_file(file_path), targets\n"
   ]
  },
  {
   "cell_type": "markdown",
   "id": "01533829",
   "metadata": {
    "papermill": {
     "duration": 0.00636,
     "end_time": "2024-04-28T01:27:10.621211",
     "exception": false,
     "start_time": "2024-04-28T01:27:10.614851",
     "status": "completed"
    },
    "tags": []
   },
   "source": [
    "## Create training and validation sets"
   ]
  },
  {
   "cell_type": "code",
   "execution_count": 9,
   "id": "4a3214b8",
   "metadata": {
    "execution": {
     "iopub.execute_input": "2024-04-28T01:27:10.635445Z",
     "iopub.status.busy": "2024-04-28T01:27:10.635188Z",
     "iopub.status.idle": "2024-04-28T01:27:11.412865Z",
     "shell.execute_reply": "2024-04-28T01:27:11.412058Z"
    },
    "papermill": {
     "duration": 0.787037,
     "end_time": "2024-04-28T01:27:11.415032",
     "exception": false,
     "start_time": "2024-04-28T01:27:10.627995",
     "status": "completed"
    },
    "tags": []
   },
   "outputs": [],
   "source": [
    "X_train, X_val, Y_train, Y_val = train_test_split(X, Y_sc, random_state=2, test_size=0.2)\n",
    "\n",
    "train_ds = tf.data.Dataset.from_tensor_slices((X_train, Y_train.astype(np.float32)))\n",
    "val_ds = tf.data.Dataset.from_tensor_slices((X_val, Y_val.astype(np.float32)))\n",
    "\n",
    "\n",
    "# preprocess and batch\n",
    "train_ds = train_ds.map(process_path).batch(256)\n",
    "val_ds = val_ds.map(process_path).batch(256)"
   ]
  },
  {
   "cell_type": "markdown",
   "id": "9ff6e50b",
   "metadata": {
    "papermill": {
     "duration": 0.006486,
     "end_time": "2024-04-28T01:27:11.428401",
     "exception": false,
     "start_time": "2024-04-28T01:27:11.421915",
     "status": "completed"
    },
    "tags": []
   },
   "source": [
    "## Model architecture"
   ]
  },
  {
   "cell_type": "code",
   "execution_count": 10,
   "id": "5ebcf233",
   "metadata": {
    "execution": {
     "iopub.execute_input": "2024-04-28T01:27:11.442839Z",
     "iopub.status.busy": "2024-04-28T01:27:11.442487Z",
     "iopub.status.idle": "2024-04-28T01:27:14.583454Z",
     "shell.execute_reply": "2024-04-28T01:27:14.582602Z"
    },
    "papermill": {
     "duration": 3.150733,
     "end_time": "2024-04-28T01:27:14.585610",
     "exception": false,
     "start_time": "2024-04-28T01:27:11.434877",
     "status": "completed"
    },
    "tags": []
   },
   "outputs": [
    {
     "name": "stdout",
     "output_type": "stream",
     "text": [
      "Downloading data from https://storage.googleapis.com/keras-applications/efficientnetb0_notop.h5\n",
      "\u001b[1m16705208/16705208\u001b[0m \u001b[32m━━━━━━━━━━━━━━━━━━━━\u001b[0m\u001b[37m\u001b[0m \u001b[1m1s\u001b[0m 0us/step\n"
     ]
    },
    {
     "data": {
      "text/html": [
       "<pre style=\"white-space:pre;overflow-x:auto;line-height:normal;font-family:Menlo,'DejaVu Sans Mono',consolas,'Courier New',monospace\"><span style=\"font-weight: bold\">Model: \"sequential\"</span>\n",
       "</pre>\n"
      ],
      "text/plain": [
       "\u001b[1mModel: \"sequential\"\u001b[0m\n"
      ]
     },
     "metadata": {},
     "output_type": "display_data"
    },
    {
     "data": {
      "text/html": [
       "<pre style=\"white-space:pre;overflow-x:auto;line-height:normal;font-family:Menlo,'DejaVu Sans Mono',consolas,'Courier New',monospace\">┏━━━━━━━━━━━━━━━━━━━━━━━━━━━━━━━━━┳━━━━━━━━━━━━━━━━━━━━━━━━┳━━━━━━━━━━━━━━━┓\n",
       "┃<span style=\"font-weight: bold\"> Layer (type)                    </span>┃<span style=\"font-weight: bold\"> Output Shape           </span>┃<span style=\"font-weight: bold\">       Param # </span>┃\n",
       "┡━━━━━━━━━━━━━━━━━━━━━━━━━━━━━━━━━╇━━━━━━━━━━━━━━━━━━━━━━━━╇━━━━━━━━━━━━━━━┩\n",
       "│ augmentation (<span style=\"color: #0087ff; text-decoration-color: #0087ff\">Sequential</span>)       │ (<span style=\"color: #00d7ff; text-decoration-color: #00d7ff\">None</span>, <span style=\"color: #00af00; text-decoration-color: #00af00\">224</span>, <span style=\"color: #00af00; text-decoration-color: #00af00\">224</span>, <span style=\"color: #00af00; text-decoration-color: #00af00\">3</span>)    │             <span style=\"color: #00af00; text-decoration-color: #00af00\">0</span> │\n",
       "├─────────────────────────────────┼────────────────────────┼───────────────┤\n",
       "│ efficientnetb0 (<span style=\"color: #0087ff; text-decoration-color: #0087ff\">Functional</span>)     │ (<span style=\"color: #00d7ff; text-decoration-color: #00d7ff\">None</span>, <span style=\"color: #00af00; text-decoration-color: #00af00\">1280</span>)           │     <span style=\"color: #00af00; text-decoration-color: #00af00\">4,049,571</span> │\n",
       "├─────────────────────────────────┼────────────────────────┼───────────────┤\n",
       "│ dropout (<span style=\"color: #0087ff; text-decoration-color: #0087ff\">Dropout</span>)               │ (<span style=\"color: #00d7ff; text-decoration-color: #00d7ff\">None</span>, <span style=\"color: #00af00; text-decoration-color: #00af00\">1280</span>)           │             <span style=\"color: #00af00; text-decoration-color: #00af00\">0</span> │\n",
       "├─────────────────────────────────┼────────────────────────┼───────────────┤\n",
       "│ fc_hidden (<span style=\"color: #0087ff; text-decoration-color: #0087ff\">Dense</span>)               │ (<span style=\"color: #00d7ff; text-decoration-color: #00d7ff\">None</span>, <span style=\"color: #00af00; text-decoration-color: #00af00\">128</span>)            │       <span style=\"color: #00af00; text-decoration-color: #00af00\">163,968</span> │\n",
       "├─────────────────────────────────┼────────────────────────┼───────────────┤\n",
       "│ batch_normalization             │ (<span style=\"color: #00d7ff; text-decoration-color: #00d7ff\">None</span>, <span style=\"color: #00af00; text-decoration-color: #00af00\">128</span>)            │           <span style=\"color: #00af00; text-decoration-color: #00af00\">512</span> │\n",
       "│ (<span style=\"color: #0087ff; text-decoration-color: #0087ff\">BatchNormalization</span>)            │                        │               │\n",
       "├─────────────────────────────────┼────────────────────────┼───────────────┤\n",
       "│ leaky_re_lu (<span style=\"color: #0087ff; text-decoration-color: #0087ff\">LeakyReLU</span>)         │ (<span style=\"color: #00d7ff; text-decoration-color: #00d7ff\">None</span>, <span style=\"color: #00af00; text-decoration-color: #00af00\">128</span>)            │             <span style=\"color: #00af00; text-decoration-color: #00af00\">0</span> │\n",
       "├─────────────────────────────────┼────────────────────────┼───────────────┤\n",
       "│ dropout_1 (<span style=\"color: #0087ff; text-decoration-color: #0087ff\">Dropout</span>)             │ (<span style=\"color: #00d7ff; text-decoration-color: #00d7ff\">None</span>, <span style=\"color: #00af00; text-decoration-color: #00af00\">128</span>)            │             <span style=\"color: #00af00; text-decoration-color: #00af00\">0</span> │\n",
       "├─────────────────────────────────┼────────────────────────┼───────────────┤\n",
       "│ raw_output (<span style=\"color: #0087ff; text-decoration-color: #0087ff\">Dense</span>)              │ (<span style=\"color: #00d7ff; text-decoration-color: #00d7ff\">None</span>, <span style=\"color: #00af00; text-decoration-color: #00af00\">6</span>)              │           <span style=\"color: #00af00; text-decoration-color: #00af00\">774</span> │\n",
       "├─────────────────────────────────┼────────────────────────┼───────────────┤\n",
       "│ output (<span style=\"color: #0087ff; text-decoration-color: #0087ff\">Softmax</span>)                │ (<span style=\"color: #00d7ff; text-decoration-color: #00d7ff\">None</span>, <span style=\"color: #00af00; text-decoration-color: #00af00\">6</span>)              │             <span style=\"color: #00af00; text-decoration-color: #00af00\">0</span> │\n",
       "└─────────────────────────────────┴────────────────────────┴───────────────┘\n",
       "</pre>\n"
      ],
      "text/plain": [
       "┏━━━━━━━━━━━━━━━━━━━━━━━━━━━━━━━━━┳━━━━━━━━━━━━━━━━━━━━━━━━┳━━━━━━━━━━━━━━━┓\n",
       "┃\u001b[1m \u001b[0m\u001b[1mLayer (type)                   \u001b[0m\u001b[1m \u001b[0m┃\u001b[1m \u001b[0m\u001b[1mOutput Shape          \u001b[0m\u001b[1m \u001b[0m┃\u001b[1m \u001b[0m\u001b[1m      Param #\u001b[0m\u001b[1m \u001b[0m┃\n",
       "┡━━━━━━━━━━━━━━━━━━━━━━━━━━━━━━━━━╇━━━━━━━━━━━━━━━━━━━━━━━━╇━━━━━━━━━━━━━━━┩\n",
       "│ augmentation (\u001b[38;5;33mSequential\u001b[0m)       │ (\u001b[38;5;45mNone\u001b[0m, \u001b[38;5;34m224\u001b[0m, \u001b[38;5;34m224\u001b[0m, \u001b[38;5;34m3\u001b[0m)    │             \u001b[38;5;34m0\u001b[0m │\n",
       "├─────────────────────────────────┼────────────────────────┼───────────────┤\n",
       "│ efficientnetb0 (\u001b[38;5;33mFunctional\u001b[0m)     │ (\u001b[38;5;45mNone\u001b[0m, \u001b[38;5;34m1280\u001b[0m)           │     \u001b[38;5;34m4,049,571\u001b[0m │\n",
       "├─────────────────────────────────┼────────────────────────┼───────────────┤\n",
       "│ dropout (\u001b[38;5;33mDropout\u001b[0m)               │ (\u001b[38;5;45mNone\u001b[0m, \u001b[38;5;34m1280\u001b[0m)           │             \u001b[38;5;34m0\u001b[0m │\n",
       "├─────────────────────────────────┼────────────────────────┼───────────────┤\n",
       "│ fc_hidden (\u001b[38;5;33mDense\u001b[0m)               │ (\u001b[38;5;45mNone\u001b[0m, \u001b[38;5;34m128\u001b[0m)            │       \u001b[38;5;34m163,968\u001b[0m │\n",
       "├─────────────────────────────────┼────────────────────────┼───────────────┤\n",
       "│ batch_normalization             │ (\u001b[38;5;45mNone\u001b[0m, \u001b[38;5;34m128\u001b[0m)            │           \u001b[38;5;34m512\u001b[0m │\n",
       "│ (\u001b[38;5;33mBatchNormalization\u001b[0m)            │                        │               │\n",
       "├─────────────────────────────────┼────────────────────────┼───────────────┤\n",
       "│ leaky_re_lu (\u001b[38;5;33mLeakyReLU\u001b[0m)         │ (\u001b[38;5;45mNone\u001b[0m, \u001b[38;5;34m128\u001b[0m)            │             \u001b[38;5;34m0\u001b[0m │\n",
       "├─────────────────────────────────┼────────────────────────┼───────────────┤\n",
       "│ dropout_1 (\u001b[38;5;33mDropout\u001b[0m)             │ (\u001b[38;5;45mNone\u001b[0m, \u001b[38;5;34m128\u001b[0m)            │             \u001b[38;5;34m0\u001b[0m │\n",
       "├─────────────────────────────────┼────────────────────────┼───────────────┤\n",
       "│ raw_output (\u001b[38;5;33mDense\u001b[0m)              │ (\u001b[38;5;45mNone\u001b[0m, \u001b[38;5;34m6\u001b[0m)              │           \u001b[38;5;34m774\u001b[0m │\n",
       "├─────────────────────────────────┼────────────────────────┼───────────────┤\n",
       "│ output (\u001b[38;5;33mSoftmax\u001b[0m)                │ (\u001b[38;5;45mNone\u001b[0m, \u001b[38;5;34m6\u001b[0m)              │             \u001b[38;5;34m0\u001b[0m │\n",
       "└─────────────────────────────────┴────────────────────────┴───────────────┘\n"
      ]
     },
     "metadata": {},
     "output_type": "display_data"
    },
    {
     "data": {
      "text/html": [
       "<pre style=\"white-space:pre;overflow-x:auto;line-height:normal;font-family:Menlo,'DejaVu Sans Mono',consolas,'Courier New',monospace\"><span style=\"font-weight: bold\"> Total params: </span><span style=\"color: #00af00; text-decoration-color: #00af00\">4,214,825</span> (16.08 MB)\n",
       "</pre>\n"
      ],
      "text/plain": [
       "\u001b[1m Total params: \u001b[0m\u001b[38;5;34m4,214,825\u001b[0m (16.08 MB)\n"
      ]
     },
     "metadata": {},
     "output_type": "display_data"
    },
    {
     "data": {
      "text/html": [
       "<pre style=\"white-space:pre;overflow-x:auto;line-height:normal;font-family:Menlo,'DejaVu Sans Mono',consolas,'Courier New',monospace\"><span style=\"font-weight: bold\"> Trainable params: </span><span style=\"color: #00af00; text-decoration-color: #00af00\">164,998</span> (644.52 KB)\n",
       "</pre>\n"
      ],
      "text/plain": [
       "\u001b[1m Trainable params: \u001b[0m\u001b[38;5;34m164,998\u001b[0m (644.52 KB)\n"
      ]
     },
     "metadata": {},
     "output_type": "display_data"
    },
    {
     "data": {
      "text/html": [
       "<pre style=\"white-space:pre;overflow-x:auto;line-height:normal;font-family:Menlo,'DejaVu Sans Mono',consolas,'Courier New',monospace\"><span style=\"font-weight: bold\"> Non-trainable params: </span><span style=\"color: #00af00; text-decoration-color: #00af00\">4,049,827</span> (15.45 MB)\n",
       "</pre>\n"
      ],
      "text/plain": [
       "\u001b[1m Non-trainable params: \u001b[0m\u001b[38;5;34m4,049,827\u001b[0m (15.45 MB)\n"
      ]
     },
     "metadata": {},
     "output_type": "display_data"
    },
    {
     "name": "stdout",
     "output_type": "stream",
     "text": [
      "None\n"
     ]
    }
   ],
   "source": [
    "keras.backend.clear_session()\n",
    "model = keras.Sequential([\n",
    "    keras.layers.Input(shape = (224, 224, 3), name=\"input\"),\n",
    "    # augmentation layers\n",
    "    keras.Sequential([\n",
    "        keras.layers.RandomRotation(factor=0.1, interpolation='nearest'),\n",
    "        keras.layers.RandomTranslation(\n",
    "            height_factor=0.1, width_factor=0.1, interpolation='nearest'\n",
    "        )\n",
    "    ], name='augmentation'),\n",
    "    EfficientNetB0(include_top=False, weights='imagenet', pooling='avg'),\n",
    "    # output layers\n",
    "    keras.layers.Dropout(0.2),\n",
    "    keras.layers.Dense(128, name='fc_hidden'),\n",
    "    keras.layers.BatchNormalization(),\n",
    "    keras.layers.LeakyReLU(0.2),\n",
    "    keras.layers.Dropout(0.05),\n",
    "    keras.layers.Dense(6, name='raw_output'),\n",
    "    keras.layers.Softmax(name='output') # enforcing positive outputs\n",
    "])\n",
    "\n",
    "# fix efficientnet weights \n",
    "model.get_layer('efficientnetb0').trainable = False\n",
    "\n",
    "model.compile(\n",
    "    optimizer=keras.optimizers.Adam(learning_rate=1e-3),\n",
    "    loss= keras.losses.MeanSquaredError(),\n",
    "    metrics=[keras.metrics.R2Score()]\n",
    ")\n",
    "\n",
    "print(model.summary())"
   ]
  },
  {
   "cell_type": "markdown",
   "id": "5bf0c497",
   "metadata": {
    "papermill": {
     "duration": 0.008937,
     "end_time": "2024-04-28T01:27:14.603766",
     "exception": false,
     "start_time": "2024-04-28T01:27:14.594829",
     "status": "completed"
    },
    "tags": []
   },
   "source": [
    "## Training"
   ]
  },
  {
   "cell_type": "code",
   "execution_count": 11,
   "id": "7131e7f3",
   "metadata": {
    "execution": {
     "iopub.execute_input": "2024-04-28T01:27:14.623711Z",
     "iopub.status.busy": "2024-04-28T01:27:14.622914Z",
     "iopub.status.idle": "2024-04-28T01:39:02.568803Z",
     "shell.execute_reply": "2024-04-28T01:39:02.567981Z"
    },
    "papermill": {
     "duration": 707.958056,
     "end_time": "2024-04-28T01:39:02.570842",
     "exception": false,
     "start_time": "2024-04-28T01:27:14.612786",
     "status": "completed"
    },
    "tags": []
   },
   "outputs": [
    {
     "name": "stdout",
     "output_type": "stream",
     "text": [
      "Epoch 1/10\n"
     ]
    },
    {
     "name": "stderr",
     "output_type": "stream",
     "text": [
      "2024-04-28 01:27:24.804779: E tensorflow/core/grappler/optimizers/meta_optimizer.cc:961] layout failed: INVALID_ARGUMENT: Size of values 0 does not match size of permutation 4 @ fanin shape inStatefulPartitionedCall/sequential_1/efficientnetb0_1/block2b_drop_1/stateless_dropout/SelectV2-2-TransposeNHWCToNCHW-LayoutOptimizer\n"
     ]
    },
    {
     "name": "stdout",
     "output_type": "stream",
     "text": [
      "\u001b[1m156/156\u001b[0m \u001b[32m━━━━━━━━━━━━━━━━━━━━\u001b[0m\u001b[37m\u001b[0m \u001b[1m135s\u001b[0m 766ms/step - loss: 0.9795 - r2_score: 0.0084 - val_loss: 0.9633 - val_r2_score: 0.0385\n",
      "Epoch 2/10\n",
      "\u001b[1m156/156\u001b[0m \u001b[32m━━━━━━━━━━━━━━━━━━━━\u001b[0m\u001b[37m\u001b[0m \u001b[1m77s\u001b[0m 379ms/step - loss: 0.9518 - r2_score: 0.0367 - val_loss: 0.9580 - val_r2_score: 0.0436\n",
      "Epoch 3/10\n",
      "\u001b[1m156/156\u001b[0m \u001b[32m━━━━━━━━━━━━━━━━━━━━\u001b[0m\u001b[37m\u001b[0m \u001b[1m59s\u001b[0m 378ms/step - loss: 0.9469 - r2_score: 0.0417 - val_loss: 0.9574 - val_r2_score: 0.0443\n",
      "Epoch 4/10\n",
      "\u001b[1m156/156\u001b[0m \u001b[32m━━━━━━━━━━━━━━━━━━━━\u001b[0m\u001b[37m\u001b[0m \u001b[1m59s\u001b[0m 378ms/step - loss: 0.9430 - r2_score: 0.0456 - val_loss: 0.9562 - val_r2_score: 0.0458\n",
      "Epoch 5/10\n",
      "\u001b[1m156/156\u001b[0m \u001b[32m━━━━━━━━━━━━━━━━━━━━\u001b[0m\u001b[37m\u001b[0m \u001b[1m59s\u001b[0m 378ms/step - loss: 0.9411 - r2_score: 0.0475 - val_loss: 0.9536 - val_r2_score: 0.0482\n",
      "Epoch 6/10\n",
      "\u001b[1m156/156\u001b[0m \u001b[32m━━━━━━━━━━━━━━━━━━━━\u001b[0m\u001b[37m\u001b[0m \u001b[1m59s\u001b[0m 378ms/step - loss: 0.9397 - r2_score: 0.0489 - val_loss: 0.9535 - val_r2_score: 0.0485\n",
      "Epoch 7/10\n",
      "\u001b[1m156/156\u001b[0m \u001b[32m━━━━━━━━━━━━━━━━━━━━\u001b[0m\u001b[37m\u001b[0m \u001b[1m82s\u001b[0m 379ms/step - loss: 0.9371 - r2_score: 0.0516 - val_loss: 0.9531 - val_r2_score: 0.0487\n",
      "Epoch 8/10\n",
      "\u001b[1m156/156\u001b[0m \u001b[32m━━━━━━━━━━━━━━━━━━━━\u001b[0m\u001b[37m\u001b[0m \u001b[1m59s\u001b[0m 378ms/step - loss: 0.9369 - r2_score: 0.0518 - val_loss: 0.9537 - val_r2_score: 0.0481\n",
      "Epoch 9/10\n",
      "\u001b[1m156/156\u001b[0m \u001b[32m━━━━━━━━━━━━━━━━━━━━\u001b[0m\u001b[37m\u001b[0m \u001b[1m59s\u001b[0m 378ms/step - loss: 0.9353 - r2_score: 0.0534 - val_loss: 0.9532 - val_r2_score: 0.0486\n",
      "Epoch 10/10\n",
      "\u001b[1m156/156\u001b[0m \u001b[32m━━━━━━━━━━━━━━━━━━━━\u001b[0m\u001b[37m\u001b[0m \u001b[1m59s\u001b[0m 378ms/step - loss: 0.9357 - r2_score: 0.0529 - val_loss: 0.9530 - val_r2_score: 0.0488\n"
     ]
    }
   ],
   "source": [
    "NUM_EPOCHS= 10\n",
    "history = model.fit(train_ds, validation_data=val_ds, epochs=NUM_EPOCHS)"
   ]
  },
  {
   "cell_type": "code",
   "execution_count": 12,
   "id": "81a9830c",
   "metadata": {
    "execution": {
     "iopub.execute_input": "2024-04-28T01:39:02.836445Z",
     "iopub.status.busy": "2024-04-28T01:39:02.836094Z",
     "iopub.status.idle": "2024-04-28T01:39:04.464435Z",
     "shell.execute_reply": "2024-04-28T01:39:04.463469Z"
    },
    "papermill": {
     "duration": 1.764237,
     "end_time": "2024-04-28T01:39:04.466434",
     "exception": false,
     "start_time": "2024-04-28T01:39:02.702197",
     "status": "completed"
    },
    "tags": []
   },
   "outputs": [
    {
     "data": {
      "image/png": "[encoded data removed]",
      "text/plain": [
       "<Figure size 1500x525 with 2 Axes>"
      ]
     },
     "metadata": {},
     "output_type": "display_data"
    }
   ],
   "source": [
    "# plot training history\n",
    "metrics = ['loss','r2_score']\n",
    "\n",
    "fig,axs = plt.subplots(1,len(metrics),figsize=(5*len(metrics),3.5),dpi=150)\n",
    "\n",
    "for i,metric in enumerate(metrics):\n",
    "    \n",
    "    _ = axs[i].plot(1 + np.arange(NUM_EPOCHS), history.history[f'{metric}'],label='Training')\n",
    "    _ = axs[i].plot(1 + np.arange(NUM_EPOCHS), history.history[f'val_{metric}'],label='Validation')\n",
    "    _ = axs[i].legend()\n",
    "    _ = axs[i].set_ylabel(metric.capitalize())\n",
    "    _ = axs[i].set_xlabel('Epochs')\n",
    "\n",
    "fig.tight_layout()\n",
    "fig.savefig('training_history.png',bbox_inches='tight')\n",
    "fig.savefig('training_history.pdf',bbox_inches='tight')"
   ]
  },
  {
   "cell_type": "code",
   "execution_count": 13,
   "id": "472af2c2",
   "metadata": {
    "execution": {
     "iopub.execute_input": "2024-04-28T01:39:04.733962Z",
     "iopub.status.busy": "2024-04-28T01:39:04.733071Z",
     "iopub.status.idle": "2024-04-28T01:39:05.137635Z",
     "shell.execute_reply": "2024-04-28T01:39:05.136830Z"
    },
    "papermill": {
     "duration": 0.540278,
     "end_time": "2024-04-28T01:39:05.139709",
     "exception": false,
     "start_time": "2024-04-28T01:39:04.599431",
     "status": "completed"
    },
    "tags": []
   },
   "outputs": [],
   "source": [
    "# save weights\n",
    "model.save_weights(\"model.weights.h5\")"
   ]
  },
  {
   "cell_type": "markdown",
   "id": "381c05a3",
   "metadata": {
    "papermill": {
     "duration": 0.134081,
     "end_time": "2024-04-28T01:39:05.407798",
     "exception": false,
     "start_time": "2024-04-28T01:39:05.273717",
     "status": "completed"
    },
    "tags": []
   },
   "source": [
    "## Predictions on Test Data"
   ]
  },
  {
   "cell_type": "code",
   "execution_count": 14,
   "id": "584fb73c",
   "metadata": {
    "execution": {
     "iopub.execute_input": "2024-04-28T01:39:05.674150Z",
     "iopub.status.busy": "2024-04-28T01:39:05.673329Z",
     "iopub.status.idle": "2024-04-28T01:39:25.067749Z",
     "shell.execute_reply": "2024-04-28T01:39:25.066959Z"
    },
    "papermill": {
     "duration": 19.528922,
     "end_time": "2024-04-28T01:39:25.069675",
     "exception": false,
     "start_time": "2024-04-28T01:39:05.540753",
     "status": "completed"
    },
    "tags": []
   },
   "outputs": [
    {
     "name": "stdout",
     "output_type": "stream",
     "text": [
      "\u001b[1m26/26\u001b[0m \u001b[32m━━━━━━━━━━━━━━━━━━━━\u001b[0m\u001b[37m\u001b[0m \u001b[1m19s\u001b[0m 662ms/step\n"
     ]
    }
   ],
   "source": [
    "test_ds = tf.data.Dataset.from_tensor_slices((test['img_path'].astype(str).values,))\n",
    "test_ds = test_ds.map(process_image_from_file).batch(256)\n",
    "predictions = model.predict(test_ds)"
   ]
  },
  {
   "cell_type": "code",
   "execution_count": 15,
   "id": "89991759",
   "metadata": {
    "execution": {
     "iopub.execute_input": "2024-04-28T01:39:25.340989Z",
     "iopub.status.busy": "2024-04-28T01:39:25.340642Z",
     "iopub.status.idle": "2024-04-28T01:39:25.405117Z",
     "shell.execute_reply": "2024-04-28T01:39:25.404119Z"
    },
    "papermill": {
     "duration": 0.201509,
     "end_time": "2024-04-28T01:39:25.407155",
     "exception": false,
     "start_time": "2024-04-28T01:39:25.205646",
     "status": "completed"
    },
    "tags": []
   },
   "outputs": [],
   "source": [
    "submission = pd.DataFrame(\n",
    "    output_sc.inverse_transform(predictions),\n",
    "    columns=targets,\n",
    "    index=test['id']\n",
    ").reset_index()\n",
    "\n",
    "\n",
    "submission.to_csv('submission.csv', index=False)"
   ]
  },
  {
   "cell_type": "code",
   "execution_count": 16,
   "id": "63c62370",
   "metadata": {
    "execution": {
     "iopub.execute_input": "2024-04-28T01:39:25.681176Z",
     "iopub.status.busy": "2024-04-28T01:39:25.680375Z",
     "iopub.status.idle": "2024-04-28T01:39:25.696409Z",
     "shell.execute_reply": "2024-04-28T01:39:25.695532Z"
    },
    "papermill": {
     "duration": 0.155709,
     "end_time": "2024-04-28T01:39:25.698423",
     "exception": false,
     "start_time": "2024-04-28T01:39:25.542714",
     "status": "completed"
    },
    "tags": []
   },
   "outputs": [
    {
     "data": {
      "text/html": [
       "<div>\n",
       "<style scoped>\n",
       "    .dataframe tbody tr th:only-of-type {\n",
       "        vertical-align: middle;\n",
       "    }\n",
       "\n",
       "    .dataframe tbody tr th {\n",
       "        vertical-align: top;\n",
       "    }\n",
       "\n",
       "    .dataframe thead th {\n",
       "        text-align: right;\n",
       "    }\n",
       "</style>\n",
       "<table border=\"1\" class=\"dataframe\">\n",
       "  <thead>\n",
       "    <tr style=\"text-align: right;\">\n",
       "      <th></th>\n",
       "      <th>id</th>\n",
       "      <th>X4</th>\n",
       "      <th>X11</th>\n",
       "      <th>X18</th>\n",
       "      <th>X26</th>\n",
       "      <th>X50</th>\n",
       "      <th>X3112</th>\n",
       "    </tr>\n",
       "  </thead>\n",
       "  <tbody>\n",
       "    <tr>\n",
       "      <th>0</th>\n",
       "      <td>201238668</td>\n",
       "      <td>0.596464</td>\n",
       "      <td>17.386543</td>\n",
       "      <td>2.666801</td>\n",
       "      <td>24.194160</td>\n",
       "      <td>1.664268</td>\n",
       "      <td>1578.425293</td>\n",
       "    </tr>\n",
       "    <tr>\n",
       "      <th>1</th>\n",
       "      <td>202310319</td>\n",
       "      <td>0.514043</td>\n",
       "      <td>22.000284</td>\n",
       "      <td>2.646814</td>\n",
       "      <td>23.791319</td>\n",
       "      <td>1.592785</td>\n",
       "      <td>1719.979248</td>\n",
       "    </tr>\n",
       "    <tr>\n",
       "      <th>2</th>\n",
       "      <td>202604412</td>\n",
       "      <td>0.567475</td>\n",
       "      <td>16.234152</td>\n",
       "      <td>2.668971</td>\n",
       "      <td>24.143040</td>\n",
       "      <td>1.883223</td>\n",
       "      <td>1598.863159</td>\n",
       "    </tr>\n",
       "    <tr>\n",
       "      <th>3</th>\n",
       "      <td>201353439</td>\n",
       "      <td>0.538851</td>\n",
       "      <td>16.342442</td>\n",
       "      <td>3.310362</td>\n",
       "      <td>27.571062</td>\n",
       "      <td>1.598908</td>\n",
       "      <td>2676.194580</td>\n",
       "    </tr>\n",
       "    <tr>\n",
       "      <th>4</th>\n",
       "      <td>195351745</td>\n",
       "      <td>0.521840</td>\n",
       "      <td>18.396318</td>\n",
       "      <td>2.648534</td>\n",
       "      <td>28.239784</td>\n",
       "      <td>1.839927</td>\n",
       "      <td>1681.108765</td>\n",
       "    </tr>\n",
       "  </tbody>\n",
       "</table>\n",
       "</div>"
      ],
      "text/plain": [
       "          id        X4        X11       X18        X26       X50        X3112\n",
       "0  201238668  0.596464  17.386543  2.666801  24.194160  1.664268  1578.425293\n",
       "1  202310319  0.514043  22.000284  2.646814  23.791319  1.592785  1719.979248\n",
       "2  202604412  0.567475  16.234152  2.668971  24.143040  1.883223  1598.863159\n",
       "3  201353439  0.538851  16.342442  3.310362  27.571062  1.598908  2676.194580\n",
       "4  195351745  0.521840  18.396318  2.648534  28.239784  1.839927  1681.108765"
      ]
     },
     "execution_count": 16,
     "metadata": {},
     "output_type": "execute_result"
    }
   ],
   "source": [
    "submission.head()"
   ]
  },
  {
   "cell_type": "code",
   "execution_count": null,
   "id": "25282124",
   "metadata": {
    "papermill": {
     "duration": 0.135927,
     "end_time": "2024-04-28T01:39:25.972340",
     "exception": false,
     "start_time": "2024-04-28T01:39:25.836413",
     "status": "completed"
    },
    "tags": []
   },
   "outputs": [],
   "source": []
  }
 ],
 "metadata": {
  "kaggle": {
   "accelerator": "gpu",
   "dataSources": [
    {
     "databundleVersionId": 8046133,
     "sourceId": 65626,
     "sourceType": "competition"
    }
   ],
   "dockerImageVersionId": 30674,
   "isGpuEnabled": true,
   "isInternetEnabled": true,
   "language": "python",
   "sourceType": "notebook"
  },
  "kernelspec": {
   "display_name": "Python 3",
   "language": "python",
   "name": "python3"
  },
  "language_info": {
   "codemirror_mode": {
    "name": "ipython",
    "version": 3
   },
   "file_extension": ".py",
   "mimetype": "text/x-python",
   "name": "python",
   "nbconvert_exporter": "python",
   "pygments_lexer": "ipython3",
   "version": "3.10.13"
  },
  "papermill": {
   "default_parameters": {},
   "duration": 758.601358,
   "end_time": "2024-04-28T01:39:29.192961",
   "environment_variables": {},
   "exception": null,
   "input_path": "__notebook__.ipynb",
   "output_path": "__notebook__.ipynb",
   "parameters": {},
   "start_time": "2024-04-28T01:26:50.591603",
   "version": "2.5.0"
  }
 },
 "nbformat": 4,
 "nbformat_minor": 5
}
