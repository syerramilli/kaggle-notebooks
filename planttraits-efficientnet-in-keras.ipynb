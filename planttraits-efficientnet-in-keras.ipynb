{
 "cells": [
  {
   "cell_type": "markdown",
   "id": "8c0ccb95",
   "metadata": {
    "papermill": {
     "duration": 0.006809,
     "end_time": "2024-04-28T02:25:10.944442",
     "exception": false,
     "start_time": "2024-04-28T02:25:10.937633",
     "status": "completed"
    },
    "tags": []
   },
   "source": [
    "## Introduction\n",
    "\n",
    "In this notebook we will train a baseline multi-output regression model in Keras on the images to predict the 6 plant properties. The images are processed using the EfficientNet-B0 architectures, whose weights were pretrained on the ImageNet-1K dataset"
   ]
  },
  {
   "cell_type": "code",
   "execution_count": 1,
   "id": "cafe3317",
   "metadata": {
    "execution": {
     "iopub.execute_input": "2024-04-28T02:25:10.958510Z",
     "iopub.status.busy": "2024-04-28T02:25:10.958122Z",
     "iopub.status.idle": "2024-04-28T02:25:24.869133Z",
     "shell.execute_reply": "2024-04-28T02:25:24.868113Z"
    },
    "papermill": {
     "duration": 13.920902,
     "end_time": "2024-04-28T02:25:24.871694",
     "exception": false,
     "start_time": "2024-04-28T02:25:10.950792",
     "status": "completed"
    },
    "tags": []
   },
   "outputs": [
    {
     "name": "stderr",
     "output_type": "stream",
     "text": [
      "2024-04-28 02:25:14.623570: E external/local_xla/xla/stream_executor/cuda/cuda_dnn.cc:9261] Unable to register cuDNN factory: Attempting to register factory for plugin cuDNN when one has already been registered\n",
      "2024-04-28 02:25:14.623667: E external/local_xla/xla/stream_executor/cuda/cuda_fft.cc:607] Unable to register cuFFT factory: Attempting to register factory for plugin cuFFT when one has already been registered\n",
      "2024-04-28 02:25:14.751334: E external/local_xla/xla/stream_executor/cuda/cuda_blas.cc:1515] Unable to register cuBLAS factory: Attempting to register factory for plugin cuBLAS when one has already been registered\n"
     ]
    }
   ],
   "source": [
    "import numpy as np\n",
    "import pandas as pd\n",
    "import matplotlib.pyplot as plt\n",
    "import seaborn as sns\n",
    "\n",
    "import tensorflow as tf\n",
    "import keras\n",
    "from keras.applications.efficientnet import EfficientNetB0, preprocess_input\n",
    "from keras.preprocessing.image import load_img, img_to_array\n",
    "\n",
    "from sklearn.preprocessing import StandardScaler\n",
    "from sklearn.metrics import r2_score\n",
    "from sklearn.model_selection import train_test_split\n",
    "\n",
    "from pathlib import Path\n",
    "\n",
    "plt.style.use('ggplot')\n",
    "plt.rcParams.update(**{'figure.dpi':150})"
   ]
  },
  {
   "cell_type": "markdown",
   "id": "6a284513",
   "metadata": {
    "papermill": {
     "duration": 0.0062,
     "end_time": "2024-04-28T02:25:24.884660",
     "exception": false,
     "start_time": "2024-04-28T02:25:24.878460",
     "status": "completed"
    },
    "tags": []
   },
   "source": [
    "## Loading the data"
   ]
  },
  {
   "cell_type": "code",
   "execution_count": 2,
   "id": "52f6279f",
   "metadata": {
    "execution": {
     "iopub.execute_input": "2024-04-28T02:25:24.899399Z",
     "iopub.status.busy": "2024-04-28T02:25:24.898503Z",
     "iopub.status.idle": "2024-04-28T02:25:28.285237Z",
     "shell.execute_reply": "2024-04-28T02:25:28.284248Z"
    },
    "papermill": {
     "duration": 3.396487,
     "end_time": "2024-04-28T02:25:28.287649",
     "exception": false,
     "start_time": "2024-04-28T02:25:24.891162",
     "status": "completed"
    },
    "tags": []
   },
   "outputs": [],
   "source": [
    "path = Path('/kaggle/input/planttraits2024/')\n",
    "imgs_train = path / 'train_images'\n",
    "imgs_test = path / 'test_images'\n",
    "\n",
    "train = pd.read_csv(path / 'train.csv')\n",
    "train['img_path'] = train['id'].apply(lambda x: imgs_train / f'{x}.jpeg')\n",
    "\n",
    "test = pd.read_csv(path / 'test.csv')\n",
    "test['img_path'] = test['id'].apply(lambda x: imgs_test / f'{x}.jpeg')"
   ]
  },
  {
   "cell_type": "code",
   "execution_count": 3,
   "id": "2221d1f8",
   "metadata": {
    "execution": {
     "iopub.execute_input": "2024-04-28T02:25:28.302100Z",
     "iopub.status.busy": "2024-04-28T02:25:28.301782Z",
     "iopub.status.idle": "2024-04-28T02:25:28.312405Z",
     "shell.execute_reply": "2024-04-28T02:25:28.311448Z"
    },
    "papermill": {
     "duration": 0.019989,
     "end_time": "2024-04-28T02:25:28.314347",
     "exception": false,
     "start_time": "2024-04-28T02:25:28.294358",
     "status": "completed"
    },
    "tags": []
   },
   "outputs": [
    {
     "name": "stdout",
     "output_type": "stream",
     "text": [
      "['X4', 'Stem specific density (SSD) or wood density (stem dry mass per stem fresh volume) ']\n",
      "['X11', 'Leaf area per leaf dry mass (specific leaf area, SLA or 1/LMA) ']\n",
      "['X18', 'Plant height ']\n",
      "['X26', 'Seed dry mass ']\n",
      "['X50', 'Leaf nitrogen (N) content per leaf area ']\n",
      "['X3112', 'Leaf area (in case of compound leaves: leaf, undefined if petiole in- or excluded) ']\n"
     ]
    }
   ],
   "source": [
    "# targets\n",
    "target_desc = pd.read_table(path / 'target_name_meta.tsv', sep='\\t')\n",
    "targets = target_desc['trait_ID'].tolist()\n",
    "for row in target_desc.iterrows():\n",
    "    print(row[1].tolist())"
   ]
  },
  {
   "cell_type": "code",
   "execution_count": 4,
   "id": "5ae79f99",
   "metadata": {
    "execution": {
     "iopub.execute_input": "2024-04-28T02:25:28.328597Z",
     "iopub.status.busy": "2024-04-28T02:25:28.328311Z",
     "iopub.status.idle": "2024-04-28T02:25:28.334967Z",
     "shell.execute_reply": "2024-04-28T02:25:28.334069Z"
    },
    "papermill": {
     "duration": 0.016054,
     "end_time": "2024-04-28T02:25:28.336854",
     "exception": false,
     "start_time": "2024-04-28T02:25:28.320800",
     "status": "completed"
    },
    "tags": []
   },
   "outputs": [
    {
     "data": {
      "text/plain": [
       "['X4_mean', 'X11_mean', 'X18_mean', 'X26_mean', 'X50_mean', 'X3112_mean']"
      ]
     },
     "execution_count": 4,
     "metadata": {},
     "output_type": "execute_result"
    }
   ],
   "source": [
    "target_cols = [f'{col}_mean' for col in targets]\n",
    "target_cols"
   ]
  },
  {
   "cell_type": "markdown",
   "id": "ed90fe3c",
   "metadata": {
    "papermill": {
     "duration": 0.006353,
     "end_time": "2024-04-28T02:25:28.350008",
     "exception": false,
     "start_time": "2024-04-28T02:25:28.343655",
     "status": "completed"
    },
    "tags": []
   },
   "source": [
    "## Target Preprocessing"
   ]
  },
  {
   "cell_type": "code",
   "execution_count": 5,
   "id": "10a2b977",
   "metadata": {
    "execution": {
     "iopub.execute_input": "2024-04-28T02:25:28.365314Z",
     "iopub.status.busy": "2024-04-28T02:25:28.364986Z",
     "iopub.status.idle": "2024-04-28T02:25:28.525434Z",
     "shell.execute_reply": "2024-04-28T02:25:28.524629Z"
    },
    "papermill": {
     "duration": 0.1714,
     "end_time": "2024-04-28T02:25:28.527832",
     "exception": false,
     "start_time": "2024-04-28T02:25:28.356432",
     "status": "completed"
    },
    "tags": []
   },
   "outputs": [],
   "source": [
    "X = train['img_path'].astype(str).values\n",
    "Y = train[target_cols]"
   ]
  },
  {
   "cell_type": "code",
   "execution_count": 6,
   "id": "1505d552",
   "metadata": {
    "execution": {
     "iopub.execute_input": "2024-04-28T02:25:28.542590Z",
     "iopub.status.busy": "2024-04-28T02:25:28.542281Z",
     "iopub.status.idle": "2024-04-28T02:25:28.559761Z",
     "shell.execute_reply": "2024-04-28T02:25:28.558648Z"
    },
    "papermill": {
     "duration": 0.027136,
     "end_time": "2024-04-28T02:25:28.561875",
     "exception": false,
     "start_time": "2024-04-28T02:25:28.534739",
     "status": "completed"
    },
    "tags": []
   },
   "outputs": [
    {
     "name": "stdout",
     "output_type": "stream",
     "text": [
      "Number of observations removed: 5691\n"
     ]
    }
   ],
   "source": [
    "# remove bad observations\n",
    "upper_quantiles = Y.quantile(0.98)\n",
    "retained_flag = (Y < upper_quantiles).all(axis= 1) & (Y > 0).all(axis=1)\n",
    "X = X[retained_flag]\n",
    "Y = Y[retained_flag]\n",
    "\n",
    "print(f'Number of observations removed: {retained_flag.shape[0] - retained_flag.sum()}')"
   ]
  },
  {
   "cell_type": "code",
   "execution_count": 7,
   "id": "bb993ccf",
   "metadata": {
    "execution": {
     "iopub.execute_input": "2024-04-28T02:25:28.577380Z",
     "iopub.status.busy": "2024-04-28T02:25:28.576666Z",
     "iopub.status.idle": "2024-04-28T02:25:28.586638Z",
     "shell.execute_reply": "2024-04-28T02:25:28.585673Z"
    },
    "papermill": {
     "duration": 0.019694,
     "end_time": "2024-04-28T02:25:28.588747",
     "exception": false,
     "start_time": "2024-04-28T02:25:28.569053",
     "status": "completed"
    },
    "tags": []
   },
   "outputs": [],
   "source": [
    "# standardize response\n",
    "output_sc = StandardScaler()\n",
    "Y_sc = output_sc.fit_transform(Y)"
   ]
  },
  {
   "cell_type": "markdown",
   "id": "8788f776",
   "metadata": {
    "papermill": {
     "duration": 0.0065,
     "end_time": "2024-04-28T02:25:28.601858",
     "exception": false,
     "start_time": "2024-04-28T02:25:28.595358",
     "status": "completed"
    },
    "tags": []
   },
   "source": [
    "## Image preprocessing functions"
   ]
  },
  {
   "cell_type": "code",
   "execution_count": 8,
   "id": "780624c3",
   "metadata": {
    "execution": {
     "iopub.execute_input": "2024-04-28T02:25:28.616758Z",
     "iopub.status.busy": "2024-04-28T02:25:28.616125Z",
     "iopub.status.idle": "2024-04-28T02:25:28.622056Z",
     "shell.execute_reply": "2024-04-28T02:25:28.621159Z"
    },
    "papermill": {
     "duration": 0.015435,
     "end_time": "2024-04-28T02:25:28.623903",
     "exception": false,
     "start_time": "2024-04-28T02:25:28.608468",
     "status": "completed"
    },
    "tags": []
   },
   "outputs": [],
   "source": [
    "def process_image_from_file(file_path:str) -> tf.Tensor:\n",
    "    # load the image\n",
    "    img = tf.io.read_file(file_path)\n",
    "    # decode the jpeg file \n",
    "    img = tf.image.decode_jpeg(img, channels=3)\n",
    "    # resize the image to 224 x 224 \n",
    "    img = tf.image.resize(img, [224, 224])\n",
    "    # preprocessing needed for efficient net\n",
    "    img = preprocess_input(img)\n",
    "    return img\n",
    "\n",
    "# Define your dataset processing function\n",
    "def process_path(file_path, targets):\n",
    "    return process_image_from_file(file_path), targets\n"
   ]
  },
  {
   "cell_type": "markdown",
   "id": "a7d199d0",
   "metadata": {
    "papermill": {
     "duration": 0.006604,
     "end_time": "2024-04-28T02:25:28.637087",
     "exception": false,
     "start_time": "2024-04-28T02:25:28.630483",
     "status": "completed"
    },
    "tags": []
   },
   "source": [
    "## Create training and validation sets"
   ]
  },
  {
   "cell_type": "code",
   "execution_count": 9,
   "id": "9330a31c",
   "metadata": {
    "execution": {
     "iopub.execute_input": "2024-04-28T02:25:28.651461Z",
     "iopub.status.busy": "2024-04-28T02:25:28.651154Z",
     "iopub.status.idle": "2024-04-28T02:25:29.435004Z",
     "shell.execute_reply": "2024-04-28T02:25:29.434251Z"
    },
    "papermill": {
     "duration": 0.793686,
     "end_time": "2024-04-28T02:25:29.437382",
     "exception": false,
     "start_time": "2024-04-28T02:25:28.643696",
     "status": "completed"
    },
    "tags": []
   },
   "outputs": [],
   "source": [
    "X_train, X_val, Y_train, Y_val = train_test_split(X, Y_sc, random_state=2, test_size=0.2)\n",
    "\n",
    "train_ds = tf.data.Dataset.from_tensor_slices((X_train, Y_train.astype(np.float32)))\n",
    "val_ds = tf.data.Dataset.from_tensor_slices((X_val, Y_val.astype(np.float32)))\n",
    "\n",
    "\n",
    "# preprocess and batch\n",
    "train_ds = train_ds.map(process_path).batch(256)\n",
    "val_ds = val_ds.map(process_path).batch(256)"
   ]
  },
  {
   "cell_type": "markdown",
   "id": "1e8cc7a3",
   "metadata": {
    "papermill": {
     "duration": 0.0065,
     "end_time": "2024-04-28T02:25:29.450876",
     "exception": false,
     "start_time": "2024-04-28T02:25:29.444376",
     "status": "completed"
    },
    "tags": []
   },
   "source": [
    "## Model architecture"
   ]
  },
  {
   "cell_type": "code",
   "execution_count": 10,
   "id": "553210c1",
   "metadata": {
    "execution": {
     "iopub.execute_input": "2024-04-28T02:25:29.465731Z",
     "iopub.status.busy": "2024-04-28T02:25:29.465070Z",
     "iopub.status.idle": "2024-04-28T02:25:32.163767Z",
     "shell.execute_reply": "2024-04-28T02:25:32.162920Z"
    },
    "papermill": {
     "duration": 2.708274,
     "end_time": "2024-04-28T02:25:32.165712",
     "exception": false,
     "start_time": "2024-04-28T02:25:29.457438",
     "status": "completed"
    },
    "tags": []
   },
   "outputs": [
    {
     "name": "stdout",
     "output_type": "stream",
     "text": [
      "Downloading data from https://storage.googleapis.com/keras-applications/efficientnetb0_notop.h5\n",
      "\u001b[1m16705208/16705208\u001b[0m \u001b[32m━━━━━━━━━━━━━━━━━━━━\u001b[0m\u001b[37m\u001b[0m \u001b[1m1s\u001b[0m 0us/step\n"
     ]
    },
    {
     "data": {
      "text/html": [
       "<pre style=\"white-space:pre;overflow-x:auto;line-height:normal;font-family:Menlo,'DejaVu Sans Mono',consolas,'Courier New',monospace\"><span style=\"font-weight: bold\">Model: \"sequential\"</span>\n",
       "</pre>\n"
      ],
      "text/plain": [
       "\u001b[1mModel: \"sequential\"\u001b[0m\n"
      ]
     },
     "metadata": {},
     "output_type": "display_data"
    },
    {
     "data": {
      "text/html": [
       "<pre style=\"white-space:pre;overflow-x:auto;line-height:normal;font-family:Menlo,'DejaVu Sans Mono',consolas,'Courier New',monospace\">┏━━━━━━━━━━━━━━━━━━━━━━━━━━━━━━━━━┳━━━━━━━━━━━━━━━━━━━━━━━━┳━━━━━━━━━━━━━━━┓\n",
       "┃<span style=\"font-weight: bold\"> Layer (type)                    </span>┃<span style=\"font-weight: bold\"> Output Shape           </span>┃<span style=\"font-weight: bold\">       Param # </span>┃\n",
       "┡━━━━━━━━━━━━━━━━━━━━━━━━━━━━━━━━━╇━━━━━━━━━━━━━━━━━━━━━━━━╇━━━━━━━━━━━━━━━┩\n",
       "│ augmentation (<span style=\"color: #0087ff; text-decoration-color: #0087ff\">Sequential</span>)       │ (<span style=\"color: #00d7ff; text-decoration-color: #00d7ff\">None</span>, <span style=\"color: #00af00; text-decoration-color: #00af00\">224</span>, <span style=\"color: #00af00; text-decoration-color: #00af00\">224</span>, <span style=\"color: #00af00; text-decoration-color: #00af00\">3</span>)    │             <span style=\"color: #00af00; text-decoration-color: #00af00\">0</span> │\n",
       "├─────────────────────────────────┼────────────────────────┼───────────────┤\n",
       "│ efficientnetb0 (<span style=\"color: #0087ff; text-decoration-color: #0087ff\">Functional</span>)     │ (<span style=\"color: #00d7ff; text-decoration-color: #00d7ff\">None</span>, <span style=\"color: #00af00; text-decoration-color: #00af00\">1280</span>)           │     <span style=\"color: #00af00; text-decoration-color: #00af00\">4,049,571</span> │\n",
       "├─────────────────────────────────┼────────────────────────┼───────────────┤\n",
       "│ dropout (<span style=\"color: #0087ff; text-decoration-color: #0087ff\">Dropout</span>)               │ (<span style=\"color: #00d7ff; text-decoration-color: #00d7ff\">None</span>, <span style=\"color: #00af00; text-decoration-color: #00af00\">1280</span>)           │             <span style=\"color: #00af00; text-decoration-color: #00af00\">0</span> │\n",
       "├─────────────────────────────────┼────────────────────────┼───────────────┤\n",
       "│ fc_hidden (<span style=\"color: #0087ff; text-decoration-color: #0087ff\">Dense</span>)               │ (<span style=\"color: #00d7ff; text-decoration-color: #00d7ff\">None</span>, <span style=\"color: #00af00; text-decoration-color: #00af00\">256</span>)            │       <span style=\"color: #00af00; text-decoration-color: #00af00\">327,936</span> │\n",
       "├─────────────────────────────────┼────────────────────────┼───────────────┤\n",
       "│ batch_normalization             │ (<span style=\"color: #00d7ff; text-decoration-color: #00d7ff\">None</span>, <span style=\"color: #00af00; text-decoration-color: #00af00\">256</span>)            │         <span style=\"color: #00af00; text-decoration-color: #00af00\">1,024</span> │\n",
       "│ (<span style=\"color: #0087ff; text-decoration-color: #0087ff\">BatchNormalization</span>)            │                        │               │\n",
       "├─────────────────────────────────┼────────────────────────┼───────────────┤\n",
       "│ leaky_re_lu (<span style=\"color: #0087ff; text-decoration-color: #0087ff\">LeakyReLU</span>)         │ (<span style=\"color: #00d7ff; text-decoration-color: #00d7ff\">None</span>, <span style=\"color: #00af00; text-decoration-color: #00af00\">256</span>)            │             <span style=\"color: #00af00; text-decoration-color: #00af00\">0</span> │\n",
       "├─────────────────────────────────┼────────────────────────┼───────────────┤\n",
       "│ dropout_1 (<span style=\"color: #0087ff; text-decoration-color: #0087ff\">Dropout</span>)             │ (<span style=\"color: #00d7ff; text-decoration-color: #00d7ff\">None</span>, <span style=\"color: #00af00; text-decoration-color: #00af00\">256</span>)            │             <span style=\"color: #00af00; text-decoration-color: #00af00\">0</span> │\n",
       "├─────────────────────────────────┼────────────────────────┼───────────────┤\n",
       "│ raw_output (<span style=\"color: #0087ff; text-decoration-color: #0087ff\">Dense</span>)              │ (<span style=\"color: #00d7ff; text-decoration-color: #00d7ff\">None</span>, <span style=\"color: #00af00; text-decoration-color: #00af00\">6</span>)              │         <span style=\"color: #00af00; text-decoration-color: #00af00\">1,542</span> │\n",
       "└─────────────────────────────────┴────────────────────────┴───────────────┘\n",
       "</pre>\n"
      ],
      "text/plain": [
       "┏━━━━━━━━━━━━━━━━━━━━━━━━━━━━━━━━━┳━━━━━━━━━━━━━━━━━━━━━━━━┳━━━━━━━━━━━━━━━┓\n",
       "┃\u001b[1m \u001b[0m\u001b[1mLayer (type)                   \u001b[0m\u001b[1m \u001b[0m┃\u001b[1m \u001b[0m\u001b[1mOutput Shape          \u001b[0m\u001b[1m \u001b[0m┃\u001b[1m \u001b[0m\u001b[1m      Param #\u001b[0m\u001b[1m \u001b[0m┃\n",
       "┡━━━━━━━━━━━━━━━━━━━━━━━━━━━━━━━━━╇━━━━━━━━━━━━━━━━━━━━━━━━╇━━━━━━━━━━━━━━━┩\n",
       "│ augmentation (\u001b[38;5;33mSequential\u001b[0m)       │ (\u001b[38;5;45mNone\u001b[0m, \u001b[38;5;34m224\u001b[0m, \u001b[38;5;34m224\u001b[0m, \u001b[38;5;34m3\u001b[0m)    │             \u001b[38;5;34m0\u001b[0m │\n",
       "├─────────────────────────────────┼────────────────────────┼───────────────┤\n",
       "│ efficientnetb0 (\u001b[38;5;33mFunctional\u001b[0m)     │ (\u001b[38;5;45mNone\u001b[0m, \u001b[38;5;34m1280\u001b[0m)           │     \u001b[38;5;34m4,049,571\u001b[0m │\n",
       "├─────────────────────────────────┼────────────────────────┼───────────────┤\n",
       "│ dropout (\u001b[38;5;33mDropout\u001b[0m)               │ (\u001b[38;5;45mNone\u001b[0m, \u001b[38;5;34m1280\u001b[0m)           │             \u001b[38;5;34m0\u001b[0m │\n",
       "├─────────────────────────────────┼────────────────────────┼───────────────┤\n",
       "│ fc_hidden (\u001b[38;5;33mDense\u001b[0m)               │ (\u001b[38;5;45mNone\u001b[0m, \u001b[38;5;34m256\u001b[0m)            │       \u001b[38;5;34m327,936\u001b[0m │\n",
       "├─────────────────────────────────┼────────────────────────┼───────────────┤\n",
       "│ batch_normalization             │ (\u001b[38;5;45mNone\u001b[0m, \u001b[38;5;34m256\u001b[0m)            │         \u001b[38;5;34m1,024\u001b[0m │\n",
       "│ (\u001b[38;5;33mBatchNormalization\u001b[0m)            │                        │               │\n",
       "├─────────────────────────────────┼────────────────────────┼───────────────┤\n",
       "│ leaky_re_lu (\u001b[38;5;33mLeakyReLU\u001b[0m)         │ (\u001b[38;5;45mNone\u001b[0m, \u001b[38;5;34m256\u001b[0m)            │             \u001b[38;5;34m0\u001b[0m │\n",
       "├─────────────────────────────────┼────────────────────────┼───────────────┤\n",
       "│ dropout_1 (\u001b[38;5;33mDropout\u001b[0m)             │ (\u001b[38;5;45mNone\u001b[0m, \u001b[38;5;34m256\u001b[0m)            │             \u001b[38;5;34m0\u001b[0m │\n",
       "├─────────────────────────────────┼────────────────────────┼───────────────┤\n",
       "│ raw_output (\u001b[38;5;33mDense\u001b[0m)              │ (\u001b[38;5;45mNone\u001b[0m, \u001b[38;5;34m6\u001b[0m)              │         \u001b[38;5;34m1,542\u001b[0m │\n",
       "└─────────────────────────────────┴────────────────────────┴───────────────┘\n"
      ]
     },
     "metadata": {},
     "output_type": "display_data"
    },
    {
     "data": {
      "text/html": [
       "<pre style=\"white-space:pre;overflow-x:auto;line-height:normal;font-family:Menlo,'DejaVu Sans Mono',consolas,'Courier New',monospace\"><span style=\"font-weight: bold\"> Total params: </span><span style=\"color: #00af00; text-decoration-color: #00af00\">4,380,073</span> (16.71 MB)\n",
       "</pre>\n"
      ],
      "text/plain": [
       "\u001b[1m Total params: \u001b[0m\u001b[38;5;34m4,380,073\u001b[0m (16.71 MB)\n"
      ]
     },
     "metadata": {},
     "output_type": "display_data"
    },
    {
     "data": {
      "text/html": [
       "<pre style=\"white-space:pre;overflow-x:auto;line-height:normal;font-family:Menlo,'DejaVu Sans Mono',consolas,'Courier New',monospace\"><span style=\"font-weight: bold\"> Trainable params: </span><span style=\"color: #00af00; text-decoration-color: #00af00\">329,990</span> (1.26 MB)\n",
       "</pre>\n"
      ],
      "text/plain": [
       "\u001b[1m Trainable params: \u001b[0m\u001b[38;5;34m329,990\u001b[0m (1.26 MB)\n"
      ]
     },
     "metadata": {},
     "output_type": "display_data"
    },
    {
     "data": {
      "text/html": [
       "<pre style=\"white-space:pre;overflow-x:auto;line-height:normal;font-family:Menlo,'DejaVu Sans Mono',consolas,'Courier New',monospace\"><span style=\"font-weight: bold\"> Non-trainable params: </span><span style=\"color: #00af00; text-decoration-color: #00af00\">4,050,083</span> (15.45 MB)\n",
       "</pre>\n"
      ],
      "text/plain": [
       "\u001b[1m Non-trainable params: \u001b[0m\u001b[38;5;34m4,050,083\u001b[0m (15.45 MB)\n"
      ]
     },
     "metadata": {},
     "output_type": "display_data"
    },
    {
     "name": "stdout",
     "output_type": "stream",
     "text": [
      "None\n"
     ]
    }
   ],
   "source": [
    "keras.backend.clear_session()\n",
    "model = keras.Sequential([\n",
    "    keras.layers.Input(shape = (224, 224, 3), name=\"input\"),\n",
    "    # augmentation layers\n",
    "    keras.Sequential([\n",
    "        keras.layers.RandomRotation(factor=0.1, interpolation='nearest'),\n",
    "        keras.layers.RandomTranslation(\n",
    "            height_factor=0.1, width_factor=0.1, interpolation='nearest'\n",
    "        )\n",
    "    ], name='augmentation'),\n",
    "    EfficientNetB0(include_top=False, weights='imagenet', pooling='avg'),\n",
    "    # output layers\n",
    "    keras.layers.Dropout(0.2),\n",
    "    keras.layers.Dense(256, name='fc_hidden'),\n",
    "    keras.layers.BatchNormalization(),\n",
    "    keras.layers.LeakyReLU(0.2),\n",
    "    keras.layers.Dropout(0.05),\n",
    "    keras.layers.Dense(6, name='raw_output'),\n",
    "    #keras.layers.Softmax(name='output') # enforcing positive outputs\n",
    "])\n",
    "\n",
    "# fix efficientnet weights \n",
    "model.get_layer('efficientnetb0').trainable = False\n",
    "\n",
    "model.compile(\n",
    "    optimizer=keras.optimizers.Adam(learning_rate=1e-3),\n",
    "    loss= keras.losses.MeanAbsoluteError(),\n",
    "    metrics=[keras.metrics.R2Score()]\n",
    ")\n",
    "\n",
    "print(model.summary())"
   ]
  },
  {
   "cell_type": "markdown",
   "id": "9ac3f95c",
   "metadata": {
    "papermill": {
     "duration": 0.009061,
     "end_time": "2024-04-28T02:25:32.184225",
     "exception": false,
     "start_time": "2024-04-28T02:25:32.175164",
     "status": "completed"
    },
    "tags": []
   },
   "source": [
    "## Training"
   ]
  },
  {
   "cell_type": "code",
   "execution_count": 11,
   "id": "e2a37cce",
   "metadata": {
    "execution": {
     "iopub.execute_input": "2024-04-28T02:25:32.204063Z",
     "iopub.status.busy": "2024-04-28T02:25:32.203478Z",
     "iopub.status.idle": "2024-04-28T02:37:20.915509Z",
     "shell.execute_reply": "2024-04-28T02:37:20.914475Z"
    },
    "papermill": {
     "duration": 708.724394,
     "end_time": "2024-04-28T02:37:20.917729",
     "exception": false,
     "start_time": "2024-04-28T02:25:32.193335",
     "status": "completed"
    },
    "tags": []
   },
   "outputs": [
    {
     "name": "stdout",
     "output_type": "stream",
     "text": [
      "Epoch 1/10\n"
     ]
    },
    {
     "name": "stderr",
     "output_type": "stream",
     "text": [
      "2024-04-28 02:25:42.844633: E tensorflow/core/grappler/optimizers/meta_optimizer.cc:961] layout failed: INVALID_ARGUMENT: Size of values 0 does not match size of permutation 4 @ fanin shape inStatefulPartitionedCall/sequential_1/efficientnetb0_1/block2b_drop_1/stateless_dropout/SelectV2-2-TransposeNHWCToNCHW-LayoutOptimizer\n"
     ]
    },
    {
     "name": "stdout",
     "output_type": "stream",
     "text": [
      "\u001b[1m156/156\u001b[0m \u001b[32m━━━━━━━━━━━━━━━━━━━━\u001b[0m\u001b[37m\u001b[0m \u001b[1m121s\u001b[0m 677ms/step - loss: 0.7717 - r2_score: -0.2208 - val_loss: 0.5948 - val_r2_score: 0.1137\n",
      "Epoch 2/10\n",
      "\u001b[1m156/156\u001b[0m \u001b[32m━━━━━━━━━━━━━━━━━━━━\u001b[0m\u001b[37m\u001b[0m \u001b[1m91s\u001b[0m 379ms/step - loss: 0.6153 - r2_score: 0.0698 - val_loss: 0.5780 - val_r2_score: 0.1267\n",
      "Epoch 3/10\n",
      "\u001b[1m156/156\u001b[0m \u001b[32m━━━━━━━━━━━━━━━━━━━━\u001b[0m\u001b[37m\u001b[0m \u001b[1m82s\u001b[0m 379ms/step - loss: 0.5898 - r2_score: 0.0983 - val_loss: 0.5714 - val_r2_score: 0.1304\n",
      "Epoch 4/10\n",
      "\u001b[1m156/156\u001b[0m \u001b[32m━━━━━━━━━━━━━━━━━━━━\u001b[0m\u001b[37m\u001b[0m \u001b[1m59s\u001b[0m 379ms/step - loss: 0.5794 - r2_score: 0.1062 - val_loss: 0.5670 - val_r2_score: 0.1297\n",
      "Epoch 5/10\n",
      "\u001b[1m156/156\u001b[0m \u001b[32m━━━━━━━━━━━━━━━━━━━━\u001b[0m\u001b[37m\u001b[0m \u001b[1m59s\u001b[0m 378ms/step - loss: 0.5723 - r2_score: 0.1128 - val_loss: 0.5655 - val_r2_score: 0.1372\n",
      "Epoch 6/10\n",
      "\u001b[1m156/156\u001b[0m \u001b[32m━━━━━━━━━━━━━━━━━━━━\u001b[0m\u001b[37m\u001b[0m \u001b[1m59s\u001b[0m 378ms/step - loss: 0.5676 - r2_score: 0.1196 - val_loss: 0.5639 - val_r2_score: 0.1342\n",
      "Epoch 7/10\n",
      "\u001b[1m156/156\u001b[0m \u001b[32m━━━━━━━━━━━━━━━━━━━━\u001b[0m\u001b[37m\u001b[0m \u001b[1m59s\u001b[0m 379ms/step - loss: 0.5649 - r2_score: 0.1215 - val_loss: 0.5638 - val_r2_score: 0.1410\n",
      "Epoch 8/10\n",
      "\u001b[1m156/156\u001b[0m \u001b[32m━━━━━━━━━━━━━━━━━━━━\u001b[0m\u001b[37m\u001b[0m \u001b[1m59s\u001b[0m 379ms/step - loss: 0.5627 - r2_score: 0.1256 - val_loss: 0.5613 - val_r2_score: 0.1400\n",
      "Epoch 9/10\n",
      "\u001b[1m156/156\u001b[0m \u001b[32m━━━━━━━━━━━━━━━━━━━━\u001b[0m\u001b[37m\u001b[0m \u001b[1m59s\u001b[0m 378ms/step - loss: 0.5610 - r2_score: 0.1268 - val_loss: 0.5608 - val_r2_score: 0.1414\n",
      "Epoch 10/10\n",
      "\u001b[1m156/156\u001b[0m \u001b[32m━━━━━━━━━━━━━━━━━━━━\u001b[0m\u001b[37m\u001b[0m \u001b[1m59s\u001b[0m 378ms/step - loss: 0.5598 - r2_score: 0.1283 - val_loss: 0.5603 - val_r2_score: 0.1417\n"
     ]
    }
   ],
   "source": [
    "NUM_EPOCHS= 10\n",
    "history = model.fit(train_ds, validation_data=val_ds, epochs=NUM_EPOCHS)"
   ]
  },
  {
   "cell_type": "code",
   "execution_count": 12,
   "id": "d6f14529",
   "metadata": {
    "execution": {
     "iopub.execute_input": "2024-04-28T02:37:21.191548Z",
     "iopub.status.busy": "2024-04-28T02:37:21.191178Z",
     "iopub.status.idle": "2024-04-28T02:37:22.957617Z",
     "shell.execute_reply": "2024-04-28T02:37:22.956604Z"
    },
    "papermill": {
     "duration": 1.906605,
     "end_time": "2024-04-28T02:37:22.959949",
     "exception": false,
     "start_time": "2024-04-28T02:37:21.053344",
     "status": "completed"
    },
    "tags": []
   },
   "outputs": [
    {
     "data": {
      "image/png": "[encoded data removed]",
      "text/plain": [
       "<Figure size 1500x525 with 2 Axes>"
      ]
     },
     "metadata": {},
     "output_type": "display_data"
    }
   ],
   "source": [
    "# plot training history\n",
    "metrics = ['loss','r2_score']\n",
    "\n",
    "fig,axs = plt.subplots(1,len(metrics),figsize=(5*len(metrics),3.5),dpi=150)\n",
    "\n",
    "for i,metric in enumerate(metrics):\n",
    "    \n",
    "    _ = axs[i].plot(1 + np.arange(NUM_EPOCHS), history.history[f'{metric}'],label='Training')\n",
    "    _ = axs[i].plot(1 + np.arange(NUM_EPOCHS), history.history[f'val_{metric}'],label='Validation')\n",
    "    _ = axs[i].legend()\n",
    "    _ = axs[i].set_ylabel(metric.capitalize())\n",
    "    _ = axs[i].set_xlabel('Epochs')\n",
    "\n",
    "fig.tight_layout()\n",
    "fig.savefig('training_history.png',bbox_inches='tight')\n",
    "fig.savefig('training_history.pdf',bbox_inches='tight')"
   ]
  },
  {
   "cell_type": "code",
   "execution_count": 13,
   "id": "550b8d48",
   "metadata": {
    "execution": {
     "iopub.execute_input": "2024-04-28T02:37:23.242261Z",
     "iopub.status.busy": "2024-04-28T02:37:23.241066Z",
     "iopub.status.idle": "2024-04-28T02:37:23.667552Z",
     "shell.execute_reply": "2024-04-28T02:37:23.666405Z"
    },
    "papermill": {
     "duration": 0.569441,
     "end_time": "2024-04-28T02:37:23.669843",
     "exception": false,
     "start_time": "2024-04-28T02:37:23.100402",
     "status": "completed"
    },
    "tags": []
   },
   "outputs": [],
   "source": [
    "# save weights\n",
    "model.save_weights(\"model.weights.h5\")"
   ]
  },
  {
   "cell_type": "markdown",
   "id": "67956f7f",
   "metadata": {
    "papermill": {
     "duration": 0.140253,
     "end_time": "2024-04-28T02:37:23.950531",
     "exception": false,
     "start_time": "2024-04-28T02:37:23.810278",
     "status": "completed"
    },
    "tags": []
   },
   "source": [
    "## Predictions on Test Data"
   ]
  },
  {
   "cell_type": "code",
   "execution_count": 14,
   "id": "cda7a056",
   "metadata": {
    "execution": {
     "iopub.execute_input": "2024-04-28T02:37:24.231092Z",
     "iopub.status.busy": "2024-04-28T02:37:24.230341Z",
     "iopub.status.idle": "2024-04-28T02:37:43.908836Z",
     "shell.execute_reply": "2024-04-28T02:37:43.907795Z"
    },
    "papermill": {
     "duration": 19.820372,
     "end_time": "2024-04-28T02:37:43.911451",
     "exception": false,
     "start_time": "2024-04-28T02:37:24.091079",
     "status": "completed"
    },
    "tags": []
   },
   "outputs": [
    {
     "name": "stdout",
     "output_type": "stream",
     "text": [
      "\u001b[1m26/26\u001b[0m \u001b[32m━━━━━━━━━━━━━━━━━━━━\u001b[0m\u001b[37m\u001b[0m \u001b[1m20s\u001b[0m 661ms/step\n"
     ]
    }
   ],
   "source": [
    "test_ds = tf.data.Dataset.from_tensor_slices((test['img_path'].astype(str).values,))\n",
    "test_ds = test_ds.map(process_image_from_file).batch(256)\n",
    "predictions = model.predict(test_ds)"
   ]
  },
  {
   "cell_type": "code",
   "execution_count": 15,
   "id": "fedda46b",
   "metadata": {
    "execution": {
     "iopub.execute_input": "2024-04-28T02:37:44.194896Z",
     "iopub.status.busy": "2024-04-28T02:37:44.194037Z",
     "iopub.status.idle": "2024-04-28T02:37:44.261268Z",
     "shell.execute_reply": "2024-04-28T02:37:44.260434Z"
    },
    "papermill": {
     "duration": 0.212014,
     "end_time": "2024-04-28T02:37:44.263587",
     "exception": false,
     "start_time": "2024-04-28T02:37:44.051573",
     "status": "completed"
    },
    "tags": []
   },
   "outputs": [],
   "source": [
    "submission = pd.DataFrame(\n",
    "    output_sc.inverse_transform(predictions),\n",
    "    columns=targets,\n",
    "    index=test['id']\n",
    ").reset_index()\n",
    "\n",
    "\n",
    "submission.to_csv('submission.csv', index=False)"
   ]
  },
  {
   "cell_type": "code",
   "execution_count": 16,
   "id": "36ec3968",
   "metadata": {
    "execution": {
     "iopub.execute_input": "2024-04-28T02:37:44.545674Z",
     "iopub.status.busy": "2024-04-28T02:37:44.544783Z",
     "iopub.status.idle": "2024-04-28T02:37:44.562675Z",
     "shell.execute_reply": "2024-04-28T02:37:44.561698Z"
    },
    "papermill": {
     "duration": 0.160625,
     "end_time": "2024-04-28T02:37:44.564906",
     "exception": false,
     "start_time": "2024-04-28T02:37:44.404281",
     "status": "completed"
    },
    "tags": []
   },
   "outputs": [
    {
     "data": {
      "text/html": [
       "<div>\n",
       "<style scoped>\n",
       "    .dataframe tbody tr th:only-of-type {\n",
       "        vertical-align: middle;\n",
       "    }\n",
       "\n",
       "    .dataframe tbody tr th {\n",
       "        vertical-align: top;\n",
       "    }\n",
       "\n",
       "    .dataframe thead th {\n",
       "        text-align: right;\n",
       "    }\n",
       "</style>\n",
       "<table border=\"1\" class=\"dataframe\">\n",
       "  <thead>\n",
       "    <tr style=\"text-align: right;\">\n",
       "      <th></th>\n",
       "      <th>id</th>\n",
       "      <th>X4</th>\n",
       "      <th>X11</th>\n",
       "      <th>X18</th>\n",
       "      <th>X26</th>\n",
       "      <th>X50</th>\n",
       "      <th>X3112</th>\n",
       "    </tr>\n",
       "  </thead>\n",
       "  <tbody>\n",
       "    <tr>\n",
       "      <th>0</th>\n",
       "      <td>201238668</td>\n",
       "      <td>0.532114</td>\n",
       "      <td>15.515107</td>\n",
       "      <td>0.449197</td>\n",
       "      <td>1.121425</td>\n",
       "      <td>1.451463</td>\n",
       "      <td>198.911728</td>\n",
       "    </tr>\n",
       "    <tr>\n",
       "      <th>1</th>\n",
       "      <td>202310319</td>\n",
       "      <td>0.386506</td>\n",
       "      <td>17.347876</td>\n",
       "      <td>0.276111</td>\n",
       "      <td>-0.038575</td>\n",
       "      <td>1.233004</td>\n",
       "      <td>540.343994</td>\n",
       "    </tr>\n",
       "    <tr>\n",
       "      <th>2</th>\n",
       "      <td>202604412</td>\n",
       "      <td>0.553784</td>\n",
       "      <td>14.102761</td>\n",
       "      <td>0.925607</td>\n",
       "      <td>3.603568</td>\n",
       "      <td>1.625301</td>\n",
       "      <td>383.884521</td>\n",
       "    </tr>\n",
       "    <tr>\n",
       "      <th>3</th>\n",
       "      <td>201353439</td>\n",
       "      <td>0.584807</td>\n",
       "      <td>15.564959</td>\n",
       "      <td>1.901596</td>\n",
       "      <td>5.672639</td>\n",
       "      <td>1.335207</td>\n",
       "      <td>1662.486450</td>\n",
       "    </tr>\n",
       "    <tr>\n",
       "      <th>4</th>\n",
       "      <td>195351745</td>\n",
       "      <td>0.440084</td>\n",
       "      <td>15.199595</td>\n",
       "      <td>-0.069271</td>\n",
       "      <td>0.994308</td>\n",
       "      <td>1.461471</td>\n",
       "      <td>187.752182</td>\n",
       "    </tr>\n",
       "  </tbody>\n",
       "</table>\n",
       "</div>"
      ],
      "text/plain": [
       "          id        X4        X11       X18       X26       X50        X3112\n",
       "0  201238668  0.532114  15.515107  0.449197  1.121425  1.451463   198.911728\n",
       "1  202310319  0.386506  17.347876  0.276111 -0.038575  1.233004   540.343994\n",
       "2  202604412  0.553784  14.102761  0.925607  3.603568  1.625301   383.884521\n",
       "3  201353439  0.584807  15.564959  1.901596  5.672639  1.335207  1662.486450\n",
       "4  195351745  0.440084  15.199595 -0.069271  0.994308  1.461471   187.752182"
      ]
     },
     "execution_count": 16,
     "metadata": {},
     "output_type": "execute_result"
    }
   ],
   "source": [
    "submission.head()"
   ]
  },
  {
   "cell_type": "code",
   "execution_count": null,
   "id": "622eba2b",
   "metadata": {
    "papermill": {
     "duration": 0.140676,
     "end_time": "2024-04-28T02:37:44.848038",
     "exception": false,
     "start_time": "2024-04-28T02:37:44.707362",
     "status": "completed"
    },
    "tags": []
   },
   "outputs": [],
   "source": []
  }
 ],
 "metadata": {
  "kaggle": {
   "accelerator": "gpu",
   "dataSources": [
    {
     "databundleVersionId": 8046133,
     "sourceId": 65626,
     "sourceType": "competition"
    }
   ],
   "dockerImageVersionId": 30674,
   "isGpuEnabled": true,
   "isInternetEnabled": true,
   "language": "python",
   "sourceType": "notebook"
  },
  "kernelspec": {
   "display_name": "Python 3",
   "language": "python",
   "name": "python3"
  },
  "language_info": {
   "codemirror_mode": {
    "name": "ipython",
    "version": 3
   },
   "file_extension": ".py",
   "mimetype": "text/x-python",
   "name": "python",
   "nbconvert_exporter": "python",
   "pygments_lexer": "ipython3",
   "version": "3.10.13"
  },
  "papermill": {
   "default_parameters": {},
   "duration": 760.485922,
   "end_time": "2024-04-28T02:37:48.693553",
   "environment_variables": {},
   "exception": null,
   "input_path": "__notebook__.ipynb",
   "output_path": "__notebook__.ipynb",
   "parameters": {},
   "start_time": "2024-04-28T02:25:08.207631",
   "version": "2.5.0"
  }
 },
 "nbformat": 4,
 "nbformat_minor": 5
}
