{
 "cells": [
  {
   "cell_type": "markdown",
   "id": "d4353509",
   "metadata": {
    "papermill": {
     "duration": 0.006914,
     "end_time": "2024-04-28T02:49:30.938723",
     "exception": false,
     "start_time": "2024-04-28T02:49:30.931809",
     "status": "completed"
    },
    "tags": []
   },
   "source": [
    "## Introduction\n",
    "\n",
    "In this notebook we will train a baseline multi-output regression model in Keras on the images to predict the 6 plant properties. The images are processed using the EfficientNet-B0 architectures, whose weights were pretrained on the ImageNet-1K dataset"
   ]
  },
  {
   "cell_type": "code",
   "execution_count": 1,
   "id": "a6d53738",
   "metadata": {
    "execution": {
     "iopub.execute_input": "2024-04-28T02:49:30.953407Z",
     "iopub.status.busy": "2024-04-28T02:49:30.953070Z",
     "iopub.status.idle": "2024-04-28T02:49:44.542090Z",
     "shell.execute_reply": "2024-04-28T02:49:44.541115Z"
    },
    "papermill": {
     "duration": 13.599353,
     "end_time": "2024-04-28T02:49:44.544653",
     "exception": false,
     "start_time": "2024-04-28T02:49:30.945300",
     "status": "completed"
    },
    "tags": []
   },
   "outputs": [
    {
     "name": "stderr",
     "output_type": "stream",
     "text": [
      "2024-04-28 02:49:34.624636: E external/local_xla/xla/stream_executor/cuda/cuda_dnn.cc:9261] Unable to register cuDNN factory: Attempting to register factory for plugin cuDNN when one has already been registered\n",
      "2024-04-28 02:49:34.624732: E external/local_xla/xla/stream_executor/cuda/cuda_fft.cc:607] Unable to register cuFFT factory: Attempting to register factory for plugin cuFFT when one has already been registered\n",
      "2024-04-28 02:49:34.758921: E external/local_xla/xla/stream_executor/cuda/cuda_blas.cc:1515] Unable to register cuBLAS factory: Attempting to register factory for plugin cuBLAS when one has already been registered\n"
     ]
    }
   ],
   "source": [
    "import numpy as np\n",
    "import pandas as pd\n",
    "import matplotlib.pyplot as plt\n",
    "import seaborn as sns\n",
    "\n",
    "import tensorflow as tf\n",
    "import keras\n",
    "from keras.applications.efficientnet import EfficientNetB0, preprocess_input\n",
    "from keras.preprocessing.image import load_img, img_to_array\n",
    "\n",
    "from sklearn.preprocessing import StandardScaler\n",
    "from sklearn.metrics import r2_score\n",
    "from sklearn.model_selection import train_test_split\n",
    "\n",
    "from pathlib import Path\n",
    "\n",
    "plt.style.use('ggplot')\n",
    "plt.rcParams.update(**{'figure.dpi':150})"
   ]
  },
  {
   "cell_type": "markdown",
   "id": "ad3149b3",
   "metadata": {
    "papermill": {
     "duration": 0.006467,
     "end_time": "2024-04-28T02:49:44.557801",
     "exception": false,
     "start_time": "2024-04-28T02:49:44.551334",
     "status": "completed"
    },
    "tags": []
   },
   "source": [
    "## Loading the data"
   ]
  },
  {
   "cell_type": "code",
   "execution_count": 2,
   "id": "37514110",
   "metadata": {
    "execution": {
     "iopub.execute_input": "2024-04-28T02:49:44.573062Z",
     "iopub.status.busy": "2024-04-28T02:49:44.572063Z",
     "iopub.status.idle": "2024-04-28T02:49:47.683742Z",
     "shell.execute_reply": "2024-04-28T02:49:47.682927Z"
    },
    "papermill": {
     "duration": 3.12149,
     "end_time": "2024-04-28T02:49:47.686146",
     "exception": false,
     "start_time": "2024-04-28T02:49:44.564656",
     "status": "completed"
    },
    "tags": []
   },
   "outputs": [],
   "source": [
    "path = Path('/kaggle/input/planttraits2024/')\n",
    "imgs_train = path / 'train_images'\n",
    "imgs_test = path / 'test_images'\n",
    "\n",
    "train = pd.read_csv(path / 'train.csv')\n",
    "train['img_path'] = train['id'].apply(lambda x: imgs_train / f'{x}.jpeg')\n",
    "\n",
    "test = pd.read_csv(path / 'test.csv')\n",
    "test['img_path'] = test['id'].apply(lambda x: imgs_test / f'{x}.jpeg')"
   ]
  },
  {
   "cell_type": "code",
   "execution_count": 3,
   "id": "a6c04fd3",
   "metadata": {
    "execution": {
     "iopub.execute_input": "2024-04-28T02:49:47.700674Z",
     "iopub.status.busy": "2024-04-28T02:49:47.700350Z",
     "iopub.status.idle": "2024-04-28T02:49:47.710804Z",
     "shell.execute_reply": "2024-04-28T02:49:47.709693Z"
    },
    "papermill": {
     "duration": 0.020162,
     "end_time": "2024-04-28T02:49:47.712909",
     "exception": false,
     "start_time": "2024-04-28T02:49:47.692747",
     "status": "completed"
    },
    "tags": []
   },
   "outputs": [
    {
     "name": "stdout",
     "output_type": "stream",
     "text": [
      "['X4', 'Stem specific density (SSD) or wood density (stem dry mass per stem fresh volume) ']\n",
      "['X11', 'Leaf area per leaf dry mass (specific leaf area, SLA or 1/LMA) ']\n",
      "['X18', 'Plant height ']\n",
      "['X26', 'Seed dry mass ']\n",
      "['X50', 'Leaf nitrogen (N) content per leaf area ']\n",
      "['X3112', 'Leaf area (in case of compound leaves: leaf, undefined if petiole in- or excluded) ']\n"
     ]
    }
   ],
   "source": [
    "# targets\n",
    "target_desc = pd.read_table(path / 'target_name_meta.tsv', sep='\\t')\n",
    "targets = target_desc['trait_ID'].tolist()\n",
    "for row in target_desc.iterrows():\n",
    "    print(row[1].tolist())"
   ]
  },
  {
   "cell_type": "code",
   "execution_count": 4,
   "id": "22126bb9",
   "metadata": {
    "execution": {
     "iopub.execute_input": "2024-04-28T02:49:47.727204Z",
     "iopub.status.busy": "2024-04-28T02:49:47.726401Z",
     "iopub.status.idle": "2024-04-28T02:49:47.733461Z",
     "shell.execute_reply": "2024-04-28T02:49:47.732641Z"
    },
    "papermill": {
     "duration": 0.016021,
     "end_time": "2024-04-28T02:49:47.735327",
     "exception": false,
     "start_time": "2024-04-28T02:49:47.719306",
     "status": "completed"
    },
    "tags": []
   },
   "outputs": [
    {
     "data": {
      "text/plain": [
       "['X4_mean', 'X11_mean', 'X18_mean', 'X26_mean', 'X50_mean', 'X3112_mean']"
      ]
     },
     "execution_count": 4,
     "metadata": {},
     "output_type": "execute_result"
    }
   ],
   "source": [
    "target_cols = [f'{col}_mean' for col in targets]\n",
    "target_cols"
   ]
  },
  {
   "cell_type": "markdown",
   "id": "db0feab0",
   "metadata": {
    "papermill": {
     "duration": 0.006311,
     "end_time": "2024-04-28T02:49:47.748220",
     "exception": false,
     "start_time": "2024-04-28T02:49:47.741909",
     "status": "completed"
    },
    "tags": []
   },
   "source": [
    "## Target Preprocessing"
   ]
  },
  {
   "cell_type": "code",
   "execution_count": 5,
   "id": "08ccd947",
   "metadata": {
    "execution": {
     "iopub.execute_input": "2024-04-28T02:49:47.763618Z",
     "iopub.status.busy": "2024-04-28T02:49:47.763120Z",
     "iopub.status.idle": "2024-04-28T02:49:47.917213Z",
     "shell.execute_reply": "2024-04-28T02:49:47.916153Z"
    },
    "papermill": {
     "duration": 0.164942,
     "end_time": "2024-04-28T02:49:47.919623",
     "exception": false,
     "start_time": "2024-04-28T02:49:47.754681",
     "status": "completed"
    },
    "tags": []
   },
   "outputs": [],
   "source": [
    "X = train['img_path'].astype(str).values\n",
    "Y = train[target_cols]"
   ]
  },
  {
   "cell_type": "code",
   "execution_count": 6,
   "id": "0446213f",
   "metadata": {
    "execution": {
     "iopub.execute_input": "2024-04-28T02:49:47.934981Z",
     "iopub.status.busy": "2024-04-28T02:49:47.934641Z",
     "iopub.status.idle": "2024-04-28T02:49:47.952205Z",
     "shell.execute_reply": "2024-04-28T02:49:47.951260Z"
    },
    "papermill": {
     "duration": 0.027161,
     "end_time": "2024-04-28T02:49:47.954165",
     "exception": false,
     "start_time": "2024-04-28T02:49:47.927004",
     "status": "completed"
    },
    "tags": []
   },
   "outputs": [
    {
     "name": "stdout",
     "output_type": "stream",
     "text": [
      "Number of observations removed: 5691\n"
     ]
    }
   ],
   "source": [
    "# remove bad observations\n",
    "upper_quantiles = Y.quantile(0.98)\n",
    "retained_flag = (Y < upper_quantiles).all(axis= 1) & (Y > 0).all(axis=1)\n",
    "X = X[retained_flag]\n",
    "Y = Y[retained_flag]\n",
    "\n",
    "print(f'Number of observations removed: {retained_flag.shape[0] - retained_flag.sum()}')"
   ]
  },
  {
   "cell_type": "code",
   "execution_count": 7,
   "id": "20005971",
   "metadata": {
    "execution": {
     "iopub.execute_input": "2024-04-28T02:49:47.969141Z",
     "iopub.status.busy": "2024-04-28T02:49:47.968834Z",
     "iopub.status.idle": "2024-04-28T02:49:47.978092Z",
     "shell.execute_reply": "2024-04-28T02:49:47.977345Z"
    },
    "papermill": {
     "duration": 0.019066,
     "end_time": "2024-04-28T02:49:47.980020",
     "exception": false,
     "start_time": "2024-04-28T02:49:47.960954",
     "status": "completed"
    },
    "tags": []
   },
   "outputs": [],
   "source": [
    "# standardize response\n",
    "output_sc = StandardScaler()\n",
    "Y_sc = output_sc.fit_transform(Y)"
   ]
  },
  {
   "cell_type": "markdown",
   "id": "2aded204",
   "metadata": {
    "papermill": {
     "duration": 0.006514,
     "end_time": "2024-04-28T02:49:47.993412",
     "exception": false,
     "start_time": "2024-04-28T02:49:47.986898",
     "status": "completed"
    },
    "tags": []
   },
   "source": [
    "## Image preprocessing functions"
   ]
  },
  {
   "cell_type": "code",
   "execution_count": 8,
   "id": "ead09bee",
   "metadata": {
    "execution": {
     "iopub.execute_input": "2024-04-28T02:49:48.008536Z",
     "iopub.status.busy": "2024-04-28T02:49:48.007957Z",
     "iopub.status.idle": "2024-04-28T02:49:48.013734Z",
     "shell.execute_reply": "2024-04-28T02:49:48.012882Z"
    },
    "papermill": {
     "duration": 0.015632,
     "end_time": "2024-04-28T02:49:48.015767",
     "exception": false,
     "start_time": "2024-04-28T02:49:48.000135",
     "status": "completed"
    },
    "tags": []
   },
   "outputs": [],
   "source": [
    "def process_image_from_file(file_path:str) -> tf.Tensor:\n",
    "    # load the image\n",
    "    img = tf.io.read_file(file_path)\n",
    "    # decode the jpeg file \n",
    "    img = tf.image.decode_jpeg(img, channels=3)\n",
    "    # resize the image to 224 x 224 \n",
    "    img = tf.image.resize(img, [224, 224])\n",
    "    # preprocessing needed for efficient net\n",
    "    img = preprocess_input(img)\n",
    "    return img\n",
    "\n",
    "# Define your dataset processing function\n",
    "def process_path(file_path, targets):\n",
    "    return process_image_from_file(file_path), targets\n"
   ]
  },
  {
   "cell_type": "markdown",
   "id": "0bb5297e",
   "metadata": {
    "papermill": {
     "duration": 0.006811,
     "end_time": "2024-04-28T02:49:48.029606",
     "exception": false,
     "start_time": "2024-04-28T02:49:48.022795",
     "status": "completed"
    },
    "tags": []
   },
   "source": [
    "## Create training and validation sets"
   ]
  },
  {
   "cell_type": "code",
   "execution_count": 9,
   "id": "80388108",
   "metadata": {
    "execution": {
     "iopub.execute_input": "2024-04-28T02:49:48.044457Z",
     "iopub.status.busy": "2024-04-28T02:49:48.044151Z",
     "iopub.status.idle": "2024-04-28T02:49:48.820505Z",
     "shell.execute_reply": "2024-04-28T02:49:48.819732Z"
    },
    "papermill": {
     "duration": 0.786177,
     "end_time": "2024-04-28T02:49:48.822723",
     "exception": false,
     "start_time": "2024-04-28T02:49:48.036546",
     "status": "completed"
    },
    "tags": []
   },
   "outputs": [],
   "source": [
    "X_train, X_val, Y_train, Y_val = train_test_split(X, Y_sc, random_state=2, test_size=0.2)\n",
    "\n",
    "train_ds = tf.data.Dataset.from_tensor_slices((X_train, Y_train.astype(np.float32)))\n",
    "val_ds = tf.data.Dataset.from_tensor_slices((X_val, Y_val.astype(np.float32)))\n",
    "\n",
    "\n",
    "# preprocess and batch\n",
    "train_ds = train_ds.map(process_path).batch(256)\n",
    "val_ds = val_ds.map(process_path).batch(256)"
   ]
  },
  {
   "cell_type": "markdown",
   "id": "3b61e890",
   "metadata": {
    "papermill": {
     "duration": 0.006323,
     "end_time": "2024-04-28T02:49:48.835844",
     "exception": false,
     "start_time": "2024-04-28T02:49:48.829521",
     "status": "completed"
    },
    "tags": []
   },
   "source": [
    "## Model architecture"
   ]
  },
  {
   "cell_type": "code",
   "execution_count": 10,
   "id": "39383902",
   "metadata": {
    "execution": {
     "iopub.execute_input": "2024-04-28T02:49:48.850039Z",
     "iopub.status.busy": "2024-04-28T02:49:48.849755Z",
     "iopub.status.idle": "2024-04-28T02:49:50.712862Z",
     "shell.execute_reply": "2024-04-28T02:49:50.711955Z"
    },
    "papermill": {
     "duration": 1.872903,
     "end_time": "2024-04-28T02:49:50.715169",
     "exception": false,
     "start_time": "2024-04-28T02:49:48.842266",
     "status": "completed"
    },
    "tags": []
   },
   "outputs": [
    {
     "name": "stdout",
     "output_type": "stream",
     "text": [
      "Downloading data from https://storage.googleapis.com/keras-applications/efficientnetb0_notop.h5\n",
      "\u001b[1m16705208/16705208\u001b[0m \u001b[32m━━━━━━━━━━━━━━━━━━━━\u001b[0m\u001b[37m\u001b[0m \u001b[1m0s\u001b[0m 0us/step\n"
     ]
    },
    {
     "data": {
      "text/html": [
       "<pre style=\"white-space:pre;overflow-x:auto;line-height:normal;font-family:Menlo,'DejaVu Sans Mono',consolas,'Courier New',monospace\"><span style=\"font-weight: bold\">Model: \"sequential\"</span>\n",
       "</pre>\n"
      ],
      "text/plain": [
       "\u001b[1mModel: \"sequential\"\u001b[0m\n"
      ]
     },
     "metadata": {},
     "output_type": "display_data"
    },
    {
     "data": {
      "text/html": [
       "<pre style=\"white-space:pre;overflow-x:auto;line-height:normal;font-family:Menlo,'DejaVu Sans Mono',consolas,'Courier New',monospace\">┏━━━━━━━━━━━━━━━━━━━━━━━━━━━━━━━━━┳━━━━━━━━━━━━━━━━━━━━━━━━┳━━━━━━━━━━━━━━━┓\n",
       "┃<span style=\"font-weight: bold\"> Layer (type)                    </span>┃<span style=\"font-weight: bold\"> Output Shape           </span>┃<span style=\"font-weight: bold\">       Param # </span>┃\n",
       "┡━━━━━━━━━━━━━━━━━━━━━━━━━━━━━━━━━╇━━━━━━━━━━━━━━━━━━━━━━━━╇━━━━━━━━━━━━━━━┩\n",
       "│ augmentation (<span style=\"color: #0087ff; text-decoration-color: #0087ff\">Sequential</span>)       │ (<span style=\"color: #00d7ff; text-decoration-color: #00d7ff\">None</span>, <span style=\"color: #00af00; text-decoration-color: #00af00\">224</span>, <span style=\"color: #00af00; text-decoration-color: #00af00\">224</span>, <span style=\"color: #00af00; text-decoration-color: #00af00\">3</span>)    │             <span style=\"color: #00af00; text-decoration-color: #00af00\">0</span> │\n",
       "├─────────────────────────────────┼────────────────────────┼───────────────┤\n",
       "│ efficientnetb0 (<span style=\"color: #0087ff; text-decoration-color: #0087ff\">Functional</span>)     │ (<span style=\"color: #00d7ff; text-decoration-color: #00d7ff\">None</span>, <span style=\"color: #00af00; text-decoration-color: #00af00\">1280</span>)           │     <span style=\"color: #00af00; text-decoration-color: #00af00\">4,049,571</span> │\n",
       "├─────────────────────────────────┼────────────────────────┼───────────────┤\n",
       "│ re_lu (<span style=\"color: #0087ff; text-decoration-color: #0087ff\">ReLU</span>)                    │ (<span style=\"color: #00d7ff; text-decoration-color: #00d7ff\">None</span>, <span style=\"color: #00af00; text-decoration-color: #00af00\">1280</span>)           │             <span style=\"color: #00af00; text-decoration-color: #00af00\">0</span> │\n",
       "├─────────────────────────────────┼────────────────────────┼───────────────┤\n",
       "│ dropout (<span style=\"color: #0087ff; text-decoration-color: #0087ff\">Dropout</span>)               │ (<span style=\"color: #00d7ff; text-decoration-color: #00d7ff\">None</span>, <span style=\"color: #00af00; text-decoration-color: #00af00\">1280</span>)           │             <span style=\"color: #00af00; text-decoration-color: #00af00\">0</span> │\n",
       "├─────────────────────────────────┼────────────────────────┼───────────────┤\n",
       "│ fc_hidden (<span style=\"color: #0087ff; text-decoration-color: #0087ff\">Dense</span>)               │ (<span style=\"color: #00d7ff; text-decoration-color: #00d7ff\">None</span>, <span style=\"color: #00af00; text-decoration-color: #00af00\">256</span>)            │       <span style=\"color: #00af00; text-decoration-color: #00af00\">327,936</span> │\n",
       "├─────────────────────────────────┼────────────────────────┼───────────────┤\n",
       "│ batch_normalization             │ (<span style=\"color: #00d7ff; text-decoration-color: #00d7ff\">None</span>, <span style=\"color: #00af00; text-decoration-color: #00af00\">256</span>)            │         <span style=\"color: #00af00; text-decoration-color: #00af00\">1,024</span> │\n",
       "│ (<span style=\"color: #0087ff; text-decoration-color: #0087ff\">BatchNormalization</span>)            │                        │               │\n",
       "├─────────────────────────────────┼────────────────────────┼───────────────┤\n",
       "│ re_lu_1 (<span style=\"color: #0087ff; text-decoration-color: #0087ff\">ReLU</span>)                  │ (<span style=\"color: #00d7ff; text-decoration-color: #00d7ff\">None</span>, <span style=\"color: #00af00; text-decoration-color: #00af00\">256</span>)            │             <span style=\"color: #00af00; text-decoration-color: #00af00\">0</span> │\n",
       "├─────────────────────────────────┼────────────────────────┼───────────────┤\n",
       "│ dropout_1 (<span style=\"color: #0087ff; text-decoration-color: #0087ff\">Dropout</span>)             │ (<span style=\"color: #00d7ff; text-decoration-color: #00d7ff\">None</span>, <span style=\"color: #00af00; text-decoration-color: #00af00\">256</span>)            │             <span style=\"color: #00af00; text-decoration-color: #00af00\">0</span> │\n",
       "├─────────────────────────────────┼────────────────────────┼───────────────┤\n",
       "│ raw_output (<span style=\"color: #0087ff; text-decoration-color: #0087ff\">Dense</span>)              │ (<span style=\"color: #00d7ff; text-decoration-color: #00d7ff\">None</span>, <span style=\"color: #00af00; text-decoration-color: #00af00\">6</span>)              │         <span style=\"color: #00af00; text-decoration-color: #00af00\">1,542</span> │\n",
       "└─────────────────────────────────┴────────────────────────┴───────────────┘\n",
       "</pre>\n"
      ],
      "text/plain": [
       "┏━━━━━━━━━━━━━━━━━━━━━━━━━━━━━━━━━┳━━━━━━━━━━━━━━━━━━━━━━━━┳━━━━━━━━━━━━━━━┓\n",
       "┃\u001b[1m \u001b[0m\u001b[1mLayer (type)                   \u001b[0m\u001b[1m \u001b[0m┃\u001b[1m \u001b[0m\u001b[1mOutput Shape          \u001b[0m\u001b[1m \u001b[0m┃\u001b[1m \u001b[0m\u001b[1m      Param #\u001b[0m\u001b[1m \u001b[0m┃\n",
       "┡━━━━━━━━━━━━━━━━━━━━━━━━━━━━━━━━━╇━━━━━━━━━━━━━━━━━━━━━━━━╇━━━━━━━━━━━━━━━┩\n",
       "│ augmentation (\u001b[38;5;33mSequential\u001b[0m)       │ (\u001b[38;5;45mNone\u001b[0m, \u001b[38;5;34m224\u001b[0m, \u001b[38;5;34m224\u001b[0m, \u001b[38;5;34m3\u001b[0m)    │             \u001b[38;5;34m0\u001b[0m │\n",
       "├─────────────────────────────────┼────────────────────────┼───────────────┤\n",
       "│ efficientnetb0 (\u001b[38;5;33mFunctional\u001b[0m)     │ (\u001b[38;5;45mNone\u001b[0m, \u001b[38;5;34m1280\u001b[0m)           │     \u001b[38;5;34m4,049,571\u001b[0m │\n",
       "├─────────────────────────────────┼────────────────────────┼───────────────┤\n",
       "│ re_lu (\u001b[38;5;33mReLU\u001b[0m)                    │ (\u001b[38;5;45mNone\u001b[0m, \u001b[38;5;34m1280\u001b[0m)           │             \u001b[38;5;34m0\u001b[0m │\n",
       "├─────────────────────────────────┼────────────────────────┼───────────────┤\n",
       "│ dropout (\u001b[38;5;33mDropout\u001b[0m)               │ (\u001b[38;5;45mNone\u001b[0m, \u001b[38;5;34m1280\u001b[0m)           │             \u001b[38;5;34m0\u001b[0m │\n",
       "├─────────────────────────────────┼────────────────────────┼───────────────┤\n",
       "│ fc_hidden (\u001b[38;5;33mDense\u001b[0m)               │ (\u001b[38;5;45mNone\u001b[0m, \u001b[38;5;34m256\u001b[0m)            │       \u001b[38;5;34m327,936\u001b[0m │\n",
       "├─────────────────────────────────┼────────────────────────┼───────────────┤\n",
       "│ batch_normalization             │ (\u001b[38;5;45mNone\u001b[0m, \u001b[38;5;34m256\u001b[0m)            │         \u001b[38;5;34m1,024\u001b[0m │\n",
       "│ (\u001b[38;5;33mBatchNormalization\u001b[0m)            │                        │               │\n",
       "├─────────────────────────────────┼────────────────────────┼───────────────┤\n",
       "│ re_lu_1 (\u001b[38;5;33mReLU\u001b[0m)                  │ (\u001b[38;5;45mNone\u001b[0m, \u001b[38;5;34m256\u001b[0m)            │             \u001b[38;5;34m0\u001b[0m │\n",
       "├─────────────────────────────────┼────────────────────────┼───────────────┤\n",
       "│ dropout_1 (\u001b[38;5;33mDropout\u001b[0m)             │ (\u001b[38;5;45mNone\u001b[0m, \u001b[38;5;34m256\u001b[0m)            │             \u001b[38;5;34m0\u001b[0m │\n",
       "├─────────────────────────────────┼────────────────────────┼───────────────┤\n",
       "│ raw_output (\u001b[38;5;33mDense\u001b[0m)              │ (\u001b[38;5;45mNone\u001b[0m, \u001b[38;5;34m6\u001b[0m)              │         \u001b[38;5;34m1,542\u001b[0m │\n",
       "└─────────────────────────────────┴────────────────────────┴───────────────┘\n"
      ]
     },
     "metadata": {},
     "output_type": "display_data"
    },
    {
     "data": {
      "text/html": [
       "<pre style=\"white-space:pre;overflow-x:auto;line-height:normal;font-family:Menlo,'DejaVu Sans Mono',consolas,'Courier New',monospace\"><span style=\"font-weight: bold\"> Total params: </span><span style=\"color: #00af00; text-decoration-color: #00af00\">4,380,073</span> (16.71 MB)\n",
       "</pre>\n"
      ],
      "text/plain": [
       "\u001b[1m Total params: \u001b[0m\u001b[38;5;34m4,380,073\u001b[0m (16.71 MB)\n"
      ]
     },
     "metadata": {},
     "output_type": "display_data"
    },
    {
     "data": {
      "text/html": [
       "<pre style=\"white-space:pre;overflow-x:auto;line-height:normal;font-family:Menlo,'DejaVu Sans Mono',consolas,'Courier New',monospace\"><span style=\"font-weight: bold\"> Trainable params: </span><span style=\"color: #00af00; text-decoration-color: #00af00\">329,990</span> (1.26 MB)\n",
       "</pre>\n"
      ],
      "text/plain": [
       "\u001b[1m Trainable params: \u001b[0m\u001b[38;5;34m329,990\u001b[0m (1.26 MB)\n"
      ]
     },
     "metadata": {},
     "output_type": "display_data"
    },
    {
     "data": {
      "text/html": [
       "<pre style=\"white-space:pre;overflow-x:auto;line-height:normal;font-family:Menlo,'DejaVu Sans Mono',consolas,'Courier New',monospace\"><span style=\"font-weight: bold\"> Non-trainable params: </span><span style=\"color: #00af00; text-decoration-color: #00af00\">4,050,083</span> (15.45 MB)\n",
       "</pre>\n"
      ],
      "text/plain": [
       "\u001b[1m Non-trainable params: \u001b[0m\u001b[38;5;34m4,050,083\u001b[0m (15.45 MB)\n"
      ]
     },
     "metadata": {},
     "output_type": "display_data"
    },
    {
     "name": "stdout",
     "output_type": "stream",
     "text": [
      "None\n"
     ]
    }
   ],
   "source": [
    "keras.backend.clear_session()\n",
    "model = keras.Sequential([\n",
    "    keras.layers.Input(shape = (224, 224, 3), name=\"input\"),\n",
    "    # augmentation layers\n",
    "    keras.Sequential([\n",
    "        keras.layers.RandomRotation(factor=0.1, interpolation='nearest'),\n",
    "        keras.layers.RandomTranslation(\n",
    "            height_factor=0.1, width_factor=0.1, interpolation='nearest'\n",
    "        )\n",
    "    ], name='augmentation'),\n",
    "    EfficientNetB0(include_top=False, weights='imagenet', pooling='avg'),\n",
    "    # output layers\n",
    "    keras.layers.ReLU(),\n",
    "    keras.layers.Dropout(0.2),\n",
    "    keras.layers.Dense(256, name='fc_hidden'),\n",
    "    keras.layers.BatchNormalization(),\n",
    "    keras.layers.ReLU(),\n",
    "    keras.layers.Dropout(0.1),\n",
    "    keras.layers.Dense(6, name='raw_output')\n",
    "])\n",
    "\n",
    "# fix efficientnet weights \n",
    "model.get_layer('efficientnetb0').trainable = False\n",
    "\n",
    "model.compile(\n",
    "    optimizer=keras.optimizers.Adam(learning_rate=1e-3),\n",
    "    loss= keras.losses.MeanAbsoluteError(),\n",
    "    metrics=[keras.metrics.R2Score()]\n",
    ")\n",
    "\n",
    "print(model.summary())"
   ]
  },
  {
   "cell_type": "markdown",
   "id": "7792bc6f",
   "metadata": {
    "papermill": {
     "duration": 0.008109,
     "end_time": "2024-04-28T02:49:50.731391",
     "exception": false,
     "start_time": "2024-04-28T02:49:50.723282",
     "status": "completed"
    },
    "tags": []
   },
   "source": [
    "## Training"
   ]
  },
  {
   "cell_type": "code",
   "execution_count": 11,
   "id": "b07c72cd",
   "metadata": {
    "execution": {
     "iopub.execute_input": "2024-04-28T02:49:50.748558Z",
     "iopub.status.busy": "2024-04-28T02:49:50.748260Z",
     "iopub.status.idle": "2024-04-28T03:00:40.645089Z",
     "shell.execute_reply": "2024-04-28T03:00:40.644202Z"
    },
    "papermill": {
     "duration": 649.907767,
     "end_time": "2024-04-28T03:00:40.647184",
     "exception": false,
     "start_time": "2024-04-28T02:49:50.739417",
     "status": "completed"
    },
    "tags": []
   },
   "outputs": [
    {
     "name": "stdout",
     "output_type": "stream",
     "text": [
      "Epoch 1/10\n"
     ]
    },
    {
     "name": "stderr",
     "output_type": "stream",
     "text": [
      "2024-04-28 02:50:01.061668: E tensorflow/core/grappler/optimizers/meta_optimizer.cc:961] layout failed: INVALID_ARGUMENT: Size of values 0 does not match size of permutation 4 @ fanin shape inStatefulPartitionedCall/sequential_1/efficientnetb0_1/block2b_drop_1/stateless_dropout/SelectV2-2-TransposeNHWCToNCHW-LayoutOptimizer\n"
     ]
    },
    {
     "name": "stdout",
     "output_type": "stream",
     "text": [
      "\u001b[1m156/156\u001b[0m \u001b[32m━━━━━━━━━━━━━━━━━━━━\u001b[0m\u001b[37m\u001b[0m \u001b[1m117s\u001b[0m 655ms/step - loss: 0.7957 - r2_score: -0.2642 - val_loss: 0.6043 - val_r2_score: 0.1162\n",
      "Epoch 2/10\n",
      "\u001b[1m156/156\u001b[0m \u001b[32m━━━━━━━━━━━━━━━━━━━━\u001b[0m\u001b[37m\u001b[0m \u001b[1m59s\u001b[0m 378ms/step - loss: 0.6232 - r2_score: 0.0593 - val_loss: 0.5795 - val_r2_score: 0.1331\n",
      "Epoch 3/10\n",
      "\u001b[1m156/156\u001b[0m \u001b[32m━━━━━━━━━━━━━━━━━━━━\u001b[0m\u001b[37m\u001b[0m \u001b[1m59s\u001b[0m 378ms/step - loss: 0.5895 - r2_score: 0.0943 - val_loss: 0.5681 - val_r2_score: 0.1303\n",
      "Epoch 4/10\n",
      "\u001b[1m156/156\u001b[0m \u001b[32m━━━━━━━━━━━━━━━━━━━━\u001b[0m\u001b[37m\u001b[0m \u001b[1m59s\u001b[0m 378ms/step - loss: 0.5756 - r2_score: 0.1073 - val_loss: 0.5674 - val_r2_score: 0.1364\n",
      "Epoch 5/10\n",
      "\u001b[1m156/156\u001b[0m \u001b[32m━━━━━━━━━━━━━━━━━━━━\u001b[0m\u001b[37m\u001b[0m \u001b[1m59s\u001b[0m 378ms/step - loss: 0.5695 - r2_score: 0.1149 - val_loss: 0.5636 - val_r2_score: 0.1315\n",
      "Epoch 6/10\n",
      "\u001b[1m156/156\u001b[0m \u001b[32m━━━━━━━━━━━━━━━━━━━━\u001b[0m\u001b[37m\u001b[0m \u001b[1m59s\u001b[0m 378ms/step - loss: 0.5667 - r2_score: 0.1175 - val_loss: 0.5619 - val_r2_score: 0.1406\n",
      "Epoch 7/10\n",
      "\u001b[1m156/156\u001b[0m \u001b[32m━━━━━━━━━━━━━━━━━━━━\u001b[0m\u001b[37m\u001b[0m \u001b[1m59s\u001b[0m 378ms/step - loss: 0.5629 - r2_score: 0.1227 - val_loss: 0.5631 - val_r2_score: 0.1449\n",
      "Epoch 8/10\n",
      "\u001b[1m156/156\u001b[0m \u001b[32m━━━━━━━━━━━━━━━━━━━━\u001b[0m\u001b[37m\u001b[0m \u001b[1m59s\u001b[0m 378ms/step - loss: 0.5607 - r2_score: 0.1274 - val_loss: 0.5611 - val_r2_score: 0.1437\n",
      "Epoch 9/10\n",
      "\u001b[1m156/156\u001b[0m \u001b[32m━━━━━━━━━━━━━━━━━━━━\u001b[0m\u001b[37m\u001b[0m \u001b[1m59s\u001b[0m 378ms/step - loss: 0.5592 - r2_score: 0.1286 - val_loss: 0.5595 - val_r2_score: 0.1431\n",
      "Epoch 10/10\n",
      "\u001b[1m156/156\u001b[0m \u001b[32m━━━━━━━━━━━━━━━━━━━━\u001b[0m\u001b[37m\u001b[0m \u001b[1m59s\u001b[0m 378ms/step - loss: 0.5573 - r2_score: 0.1332 - val_loss: 0.5591 - val_r2_score: 0.1427\n"
     ]
    }
   ],
   "source": [
    "NUM_EPOCHS= 10\n",
    "history = model.fit(train_ds, validation_data=val_ds, epochs=NUM_EPOCHS)"
   ]
  },
  {
   "cell_type": "code",
   "execution_count": 12,
   "id": "ddc7571e",
   "metadata": {
    "execution": {
     "iopub.execute_input": "2024-04-28T03:00:40.914391Z",
     "iopub.status.busy": "2024-04-28T03:00:40.914019Z",
     "iopub.status.idle": "2024-04-28T03:00:42.511404Z",
     "shell.execute_reply": "2024-04-28T03:00:42.510485Z"
    },
    "papermill": {
     "duration": 1.733953,
     "end_time": "2024-04-28T03:00:42.513365",
     "exception": false,
     "start_time": "2024-04-28T03:00:40.779412",
     "status": "completed"
    },
    "tags": []
   },
   "outputs": [
    {
     "data": {
      "image/png": "[encoded data removed]",
      "text/plain": [
       "<Figure size 1500x525 with 2 Axes>"
      ]
     },
     "metadata": {},
     "output_type": "display_data"
    }
   ],
   "source": [
    "# plot training history\n",
    "metrics = ['loss','r2_score']\n",
    "\n",
    "fig,axs = plt.subplots(1,len(metrics),figsize=(5*len(metrics),3.5),dpi=150)\n",
    "\n",
    "for i,metric in enumerate(metrics):\n",
    "    \n",
    "    _ = axs[i].plot(1 + np.arange(NUM_EPOCHS), history.history[f'{metric}'],label='Training')\n",
    "    _ = axs[i].plot(1 + np.arange(NUM_EPOCHS), history.history[f'val_{metric}'],label='Validation')\n",
    "    _ = axs[i].legend()\n",
    "    _ = axs[i].set_ylabel(metric.capitalize())\n",
    "    _ = axs[i].set_xlabel('Epochs')\n",
    "\n",
    "fig.tight_layout()\n",
    "fig.savefig('training_history.png',bbox_inches='tight')\n",
    "fig.savefig('training_history.pdf',bbox_inches='tight')"
   ]
  },
  {
   "cell_type": "code",
   "execution_count": 13,
   "id": "b4939c6e",
   "metadata": {
    "execution": {
     "iopub.execute_input": "2024-04-28T03:00:42.780951Z",
     "iopub.status.busy": "2024-04-28T03:00:42.779557Z",
     "iopub.status.idle": "2024-04-28T03:00:43.198366Z",
     "shell.execute_reply": "2024-04-28T03:00:43.197539Z"
    },
    "papermill": {
     "duration": 0.554201,
     "end_time": "2024-04-28T03:00:43.200567",
     "exception": false,
     "start_time": "2024-04-28T03:00:42.646366",
     "status": "completed"
    },
    "tags": []
   },
   "outputs": [],
   "source": [
    "# save weights\n",
    "model.save_weights(\"model.weights.h5\")"
   ]
  },
  {
   "cell_type": "markdown",
   "id": "f6a43868",
   "metadata": {
    "papermill": {
     "duration": 0.135951,
     "end_time": "2024-04-28T03:00:43.470888",
     "exception": false,
     "start_time": "2024-04-28T03:00:43.334937",
     "status": "completed"
    },
    "tags": []
   },
   "source": [
    "## Predictions on Test Data"
   ]
  },
  {
   "cell_type": "code",
   "execution_count": 14,
   "id": "f7909fde",
   "metadata": {
    "execution": {
     "iopub.execute_input": "2024-04-28T03:00:43.745890Z",
     "iopub.status.busy": "2024-04-28T03:00:43.745515Z",
     "iopub.status.idle": "2024-04-28T03:01:02.263064Z",
     "shell.execute_reply": "2024-04-28T03:01:02.262123Z"
    },
    "papermill": {
     "duration": 18.659251,
     "end_time": "2024-04-28T03:01:02.265611",
     "exception": false,
     "start_time": "2024-04-28T03:00:43.606360",
     "status": "completed"
    },
    "tags": []
   },
   "outputs": [
    {
     "name": "stdout",
     "output_type": "stream",
     "text": [
      "\u001b[1m26/26\u001b[0m \u001b[32m━━━━━━━━━━━━━━━━━━━━\u001b[0m\u001b[37m\u001b[0m \u001b[1m18s\u001b[0m 623ms/step\n"
     ]
    }
   ],
   "source": [
    "test_ds = tf.data.Dataset.from_tensor_slices((test['img_path'].astype(str).values,))\n",
    "test_ds = test_ds.map(process_image_from_file).batch(256)\n",
    "predictions = model.predict(test_ds)"
   ]
  },
  {
   "cell_type": "code",
   "execution_count": 15,
   "id": "4f842dde",
   "metadata": {
    "execution": {
     "iopub.execute_input": "2024-04-28T03:01:02.544904Z",
     "iopub.status.busy": "2024-04-28T03:01:02.544204Z",
     "iopub.status.idle": "2024-04-28T03:01:02.609466Z",
     "shell.execute_reply": "2024-04-28T03:01:02.608518Z"
    },
    "papermill": {
     "duration": 0.203815,
     "end_time": "2024-04-28T03:01:02.611735",
     "exception": false,
     "start_time": "2024-04-28T03:01:02.407920",
     "status": "completed"
    },
    "tags": []
   },
   "outputs": [],
   "source": [
    "submission = pd.DataFrame(\n",
    "    output_sc.inverse_transform(predictions),\n",
    "    columns=targets,\n",
    "    index=test['id']\n",
    ").reset_index()\n",
    "\n",
    "\n",
    "submission.to_csv('submission.csv', index=False)"
   ]
  },
  {
   "cell_type": "code",
   "execution_count": 16,
   "id": "5190ec0a",
   "metadata": {
    "execution": {
     "iopub.execute_input": "2024-04-28T03:01:02.883978Z",
     "iopub.status.busy": "2024-04-28T03:01:02.883344Z",
     "iopub.status.idle": "2024-04-28T03:01:02.899371Z",
     "shell.execute_reply": "2024-04-28T03:01:02.898439Z"
    },
    "papermill": {
     "duration": 0.155686,
     "end_time": "2024-04-28T03:01:02.901615",
     "exception": false,
     "start_time": "2024-04-28T03:01:02.745929",
     "status": "completed"
    },
    "tags": []
   },
   "outputs": [
    {
     "data": {
      "text/html": [
       "<div>\n",
       "<style scoped>\n",
       "    .dataframe tbody tr th:only-of-type {\n",
       "        vertical-align: middle;\n",
       "    }\n",
       "\n",
       "    .dataframe tbody tr th {\n",
       "        vertical-align: top;\n",
       "    }\n",
       "\n",
       "    .dataframe thead th {\n",
       "        text-align: right;\n",
       "    }\n",
       "</style>\n",
       "<table border=\"1\" class=\"dataframe\">\n",
       "  <thead>\n",
       "    <tr style=\"text-align: right;\">\n",
       "      <th></th>\n",
       "      <th>id</th>\n",
       "      <th>X4</th>\n",
       "      <th>X11</th>\n",
       "      <th>X18</th>\n",
       "      <th>X26</th>\n",
       "      <th>X50</th>\n",
       "      <th>X3112</th>\n",
       "    </tr>\n",
       "  </thead>\n",
       "  <tbody>\n",
       "    <tr>\n",
       "      <th>0</th>\n",
       "      <td>201238668</td>\n",
       "      <td>0.525824</td>\n",
       "      <td>16.377666</td>\n",
       "      <td>0.353691</td>\n",
       "      <td>2.442922</td>\n",
       "      <td>1.405929</td>\n",
       "      <td>287.644165</td>\n",
       "    </tr>\n",
       "    <tr>\n",
       "      <th>1</th>\n",
       "      <td>202310319</td>\n",
       "      <td>0.383827</td>\n",
       "      <td>17.919853</td>\n",
       "      <td>0.357016</td>\n",
       "      <td>1.518218</td>\n",
       "      <td>1.240135</td>\n",
       "      <td>681.283508</td>\n",
       "    </tr>\n",
       "    <tr>\n",
       "      <th>2</th>\n",
       "      <td>202604412</td>\n",
       "      <td>0.537415</td>\n",
       "      <td>14.141653</td>\n",
       "      <td>0.818906</td>\n",
       "      <td>4.138825</td>\n",
       "      <td>1.686285</td>\n",
       "      <td>486.415039</td>\n",
       "    </tr>\n",
       "    <tr>\n",
       "      <th>3</th>\n",
       "      <td>201353439</td>\n",
       "      <td>0.556735</td>\n",
       "      <td>16.835501</td>\n",
       "      <td>1.524221</td>\n",
       "      <td>6.129819</td>\n",
       "      <td>1.238296</td>\n",
       "      <td>1977.217041</td>\n",
       "    </tr>\n",
       "    <tr>\n",
       "      <th>4</th>\n",
       "      <td>195351745</td>\n",
       "      <td>0.472050</td>\n",
       "      <td>13.802444</td>\n",
       "      <td>0.193806</td>\n",
       "      <td>-0.071849</td>\n",
       "      <td>1.478061</td>\n",
       "      <td>258.506348</td>\n",
       "    </tr>\n",
       "  </tbody>\n",
       "</table>\n",
       "</div>"
      ],
      "text/plain": [
       "          id        X4        X11       X18       X26       X50        X3112\n",
       "0  201238668  0.525824  16.377666  0.353691  2.442922  1.405929   287.644165\n",
       "1  202310319  0.383827  17.919853  0.357016  1.518218  1.240135   681.283508\n",
       "2  202604412  0.537415  14.141653  0.818906  4.138825  1.686285   486.415039\n",
       "3  201353439  0.556735  16.835501  1.524221  6.129819  1.238296  1977.217041\n",
       "4  195351745  0.472050  13.802444  0.193806 -0.071849  1.478061   258.506348"
      ]
     },
     "execution_count": 16,
     "metadata": {},
     "output_type": "execute_result"
    }
   ],
   "source": [
    "submission.head()"
   ]
  },
  {
   "cell_type": "code",
   "execution_count": null,
   "id": "a48877e1",
   "metadata": {
    "papermill": {
     "duration": 0.134478,
     "end_time": "2024-04-28T03:01:03.183435",
     "exception": false,
     "start_time": "2024-04-28T03:01:03.048957",
     "status": "completed"
    },
    "tags": []
   },
   "outputs": [],
   "source": []
  }
 ],
 "metadata": {
  "kaggle": {
   "accelerator": "gpu",
   "dataSources": [
    {
     "databundleVersionId": 8046133,
     "sourceId": 65626,
     "sourceType": "competition"
    }
   ],
   "dockerImageVersionId": 30674,
   "isGpuEnabled": true,
   "isInternetEnabled": true,
   "language": "python",
   "sourceType": "notebook"
  },
  "kernelspec": {
   "display_name": "Python 3",
   "language": "python",
   "name": "python3"
  },
  "language_info": {
   "codemirror_mode": {
    "name": "ipython",
    "version": 3
   },
   "file_extension": ".py",
   "mimetype": "text/x-python",
   "name": "python",
   "nbconvert_exporter": "python",
   "pygments_lexer": "ipython3",
   "version": "3.10.13"
  },
  "papermill": {
   "default_parameters": {},
   "duration": 698.506988,
   "end_time": "2024-04-28T03:01:06.747111",
   "environment_variables": {},
   "exception": null,
   "input_path": "__notebook__.ipynb",
   "output_path": "__notebook__.ipynb",
   "parameters": {},
   "start_time": "2024-04-28T02:49:28.240123",
   "version": "2.5.0"
  }
 },
 "nbformat": 4,
 "nbformat_minor": 5
}
