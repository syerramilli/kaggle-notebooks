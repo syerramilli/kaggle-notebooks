{
 "cells": [
  {
   "cell_type": "markdown",
   "id": "cf78bf90",
   "metadata": {
    "papermill": {
     "duration": 0.008391,
     "end_time": "2024-05-14T21:48:43.933863",
     "exception": false,
     "start_time": "2024-05-14T21:48:43.925472",
     "status": "completed"
    },
    "tags": []
   },
   "source": [
    "## Introduction\n",
    "\n",
    "In this notebook we will train a baseline multi-output regression model in Keras on the images and the ancillary data (satellite data, soil data, climate data etc.) to predict the 6 plant properties."
   ]
  },
  {
   "cell_type": "code",
   "execution_count": 1,
   "id": "0a69effd",
   "metadata": {
    "execution": {
     "iopub.execute_input": "2024-05-14T21:48:43.951413Z",
     "iopub.status.busy": "2024-05-14T21:48:43.950778Z",
     "iopub.status.idle": "2024-05-14T21:48:57.889221Z",
     "shell.execute_reply": "2024-05-14T21:48:57.888192Z"
    },
    "papermill": {
     "duration": 13.949754,
     "end_time": "2024-05-14T21:48:57.891581",
     "exception": false,
     "start_time": "2024-05-14T21:48:43.941827",
     "status": "completed"
    },
    "tags": []
   },
   "outputs": [
    {
     "name": "stderr",
     "output_type": "stream",
     "text": [
      "2024-05-14 21:48:47.811663: E external/local_xla/xla/stream_executor/cuda/cuda_dnn.cc:9261] Unable to register cuDNN factory: Attempting to register factory for plugin cuDNN when one has already been registered\n",
      "2024-05-14 21:48:47.811787: E external/local_xla/xla/stream_executor/cuda/cuda_fft.cc:607] Unable to register cuFFT factory: Attempting to register factory for plugin cuFFT when one has already been registered\n",
      "2024-05-14 21:48:47.960405: E external/local_xla/xla/stream_executor/cuda/cuda_blas.cc:1515] Unable to register cuBLAS factory: Attempting to register factory for plugin cuBLAS when one has already been registered\n"
     ]
    }
   ],
   "source": [
    "import numpy as np\n",
    "import pandas as pd\n",
    "import matplotlib.pyplot as plt\n",
    "import seaborn as sns\n",
    "\n",
    "import tensorflow as tf\n",
    "import keras\n",
    "\n",
    "from sklearn.preprocessing import StandardScaler, MinMaxScaler\n",
    "from sklearn.metrics import r2_score\n",
    "from sklearn.model_selection import train_test_split\n",
    "\n",
    "from pathlib import Path\n",
    "\n",
    "plt.style.use('ggplot')\n",
    "plt.rcParams.update(**{'figure.dpi':150})"
   ]
  },
  {
   "cell_type": "code",
   "execution_count": 2,
   "id": "12c6568c",
   "metadata": {
    "execution": {
     "iopub.execute_input": "2024-05-14T21:48:57.909750Z",
     "iopub.status.busy": "2024-05-14T21:48:57.909260Z",
     "iopub.status.idle": "2024-05-14T21:48:57.914296Z",
     "shell.execute_reply": "2024-05-14T21:48:57.913468Z"
    },
    "papermill": {
     "duration": 0.016059,
     "end_time": "2024-05-14T21:48:57.916205",
     "exception": false,
     "start_time": "2024-05-14T21:48:57.900146",
     "status": "completed"
    },
    "tags": []
   },
   "outputs": [],
   "source": [
    "## global configuration\n",
    "CFG = {\n",
    "    'BATCH_SIZE': 128,\n",
    "    'NUM_EPOCHS': 10,\n",
    "    'n_conv_layers': 3,\n",
    "    'n_tabular_layers': 2,\n",
    "    'tabular_hsizes': [128, 64],\n",
    "    'n_ff_layers': 2,\n",
    "    'ff_hsizes': [128, 64]\n",
    "}"
   ]
  },
  {
   "cell_type": "markdown",
   "id": "2471db97",
   "metadata": {
    "papermill": {
     "duration": 0.00772,
     "end_time": "2024-05-14T21:48:57.931976",
     "exception": false,
     "start_time": "2024-05-14T21:48:57.924256",
     "status": "completed"
    },
    "tags": []
   },
   "source": [
    "## Loading the data"
   ]
  },
  {
   "cell_type": "code",
   "execution_count": 3,
   "id": "e6045cf7",
   "metadata": {
    "execution": {
     "iopub.execute_input": "2024-05-14T21:48:57.948894Z",
     "iopub.status.busy": "2024-05-14T21:48:57.948595Z",
     "iopub.status.idle": "2024-05-14T21:49:01.027716Z",
     "shell.execute_reply": "2024-05-14T21:49:01.026890Z"
    },
    "papermill": {
     "duration": 3.090018,
     "end_time": "2024-05-14T21:49:01.029959",
     "exception": false,
     "start_time": "2024-05-14T21:48:57.939941",
     "status": "completed"
    },
    "tags": []
   },
   "outputs": [],
   "source": [
    "path = Path('/kaggle/input/planttraits2024/')\n",
    "imgs_train = path / 'train_images'\n",
    "imgs_test = path / 'test_images'\n",
    "\n",
    "train = pd.read_csv(path / 'train.csv')\n",
    "train['img_path'] = train['id'].apply(lambda x: imgs_train / f'{x}.jpeg')\n",
    "\n",
    "test = pd.read_csv(path / 'test.csv')\n",
    "test['img_path'] = test['id'].apply(lambda x: imgs_test / f'{x}.jpeg')"
   ]
  },
  {
   "cell_type": "code",
   "execution_count": 4,
   "id": "f49916bd",
   "metadata": {
    "execution": {
     "iopub.execute_input": "2024-05-14T21:49:01.048449Z",
     "iopub.status.busy": "2024-05-14T21:49:01.048133Z",
     "iopub.status.idle": "2024-05-14T21:49:01.058210Z",
     "shell.execute_reply": "2024-05-14T21:49:01.057084Z"
    },
    "papermill": {
     "duration": 0.020944,
     "end_time": "2024-05-14T21:49:01.060118",
     "exception": false,
     "start_time": "2024-05-14T21:49:01.039174",
     "status": "completed"
    },
    "tags": []
   },
   "outputs": [
    {
     "name": "stdout",
     "output_type": "stream",
     "text": [
      "['X4', 'Stem specific density (SSD) or wood density (stem dry mass per stem fresh volume) ']\n",
      "['X11', 'Leaf area per leaf dry mass (specific leaf area, SLA or 1/LMA) ']\n",
      "['X18', 'Plant height ']\n",
      "['X26', 'Seed dry mass ']\n",
      "['X50', 'Leaf nitrogen (N) content per leaf area ']\n",
      "['X3112', 'Leaf area (in case of compound leaves: leaf, undefined if petiole in- or excluded) ']\n"
     ]
    }
   ],
   "source": [
    "# targets\n",
    "target_desc = pd.read_table(path / 'target_name_meta.tsv', sep='\\t')\n",
    "targets = target_desc['trait_ID'].tolist()\n",
    "for row in target_desc.iterrows():\n",
    "    print(row[1].tolist())"
   ]
  },
  {
   "cell_type": "code",
   "execution_count": 5,
   "id": "31a624fb",
   "metadata": {
    "execution": {
     "iopub.execute_input": "2024-05-14T21:49:01.077415Z",
     "iopub.status.busy": "2024-05-14T21:49:01.077156Z",
     "iopub.status.idle": "2024-05-14T21:49:01.083697Z",
     "shell.execute_reply": "2024-05-14T21:49:01.082847Z"
    },
    "papermill": {
     "duration": 0.017184,
     "end_time": "2024-05-14T21:49:01.085616",
     "exception": false,
     "start_time": "2024-05-14T21:49:01.068432",
     "status": "completed"
    },
    "tags": []
   },
   "outputs": [
    {
     "data": {
      "text/plain": [
       "['X4_mean', 'X11_mean', 'X18_mean', 'X26_mean', 'X50_mean', 'X3112_mean']"
      ]
     },
     "execution_count": 5,
     "metadata": {},
     "output_type": "execute_result"
    }
   ],
   "source": [
    "target_cols = [f'{col}_mean' for col in targets]\n",
    "target_cols"
   ]
  },
  {
   "cell_type": "code",
   "execution_count": 6,
   "id": "14ba115c",
   "metadata": {
    "execution": {
     "iopub.execute_input": "2024-05-14T21:49:01.103021Z",
     "iopub.status.busy": "2024-05-14T21:49:01.102755Z",
     "iopub.status.idle": "2024-05-14T21:49:01.137461Z",
     "shell.execute_reply": "2024-05-14T21:49:01.136404Z"
    },
    "papermill": {
     "duration": 0.045922,
     "end_time": "2024-05-14T21:49:01.139765",
     "exception": false,
     "start_time": "2024-05-14T21:49:01.093843",
     "status": "completed"
    },
    "tags": []
   },
   "outputs": [],
   "source": [
    "# remove sd columns\n",
    "sd_cols = [f'{col}_sd' for col in targets]\n",
    "train = train.drop(columns = sd_cols)"
   ]
  },
  {
   "cell_type": "markdown",
   "id": "11292ebb",
   "metadata": {
    "papermill": {
     "duration": 0.007996,
     "end_time": "2024-05-14T21:49:01.156252",
     "exception": false,
     "start_time": "2024-05-14T21:49:01.148256",
     "status": "completed"
    },
    "tags": []
   },
   "source": [
    "## Preprocessing"
   ]
  },
  {
   "cell_type": "code",
   "execution_count": 7,
   "id": "4925a088",
   "metadata": {
    "execution": {
     "iopub.execute_input": "2024-05-14T21:49:01.173697Z",
     "iopub.status.busy": "2024-05-14T21:49:01.173378Z",
     "iopub.status.idle": "2024-05-14T21:49:01.369243Z",
     "shell.execute_reply": "2024-05-14T21:49:01.368216Z"
    },
    "papermill": {
     "duration": 0.207254,
     "end_time": "2024-05-14T21:49:01.371620",
     "exception": false,
     "start_time": "2024-05-14T21:49:01.164366",
     "status": "completed"
    },
    "tags": []
   },
   "outputs": [],
   "source": [
    "img_paths = train['img_path'].astype(str).values\n",
    "tabular = train.drop(columns = ['id', 'img_path'] + target_cols).values\n",
    "Y = train[target_cols]"
   ]
  },
  {
   "cell_type": "code",
   "execution_count": 8,
   "id": "5ef4e2ca",
   "metadata": {
    "execution": {
     "iopub.execute_input": "2024-05-14T21:49:01.389467Z",
     "iopub.status.busy": "2024-05-14T21:49:01.389184Z",
     "iopub.status.idle": "2024-05-14T21:49:01.446811Z",
     "shell.execute_reply": "2024-05-14T21:49:01.445755Z"
    },
    "papermill": {
     "duration": 0.068826,
     "end_time": "2024-05-14T21:49:01.448950",
     "exception": false,
     "start_time": "2024-05-14T21:49:01.380124",
     "status": "completed"
    },
    "tags": []
   },
   "outputs": [
    {
     "name": "stdout",
     "output_type": "stream",
     "text": [
      "Number of observations removed: 5691\n"
     ]
    }
   ],
   "source": [
    "# remove bad observations\n",
    "upper_quantiles = Y.quantile(0.98)\n",
    "retained_flag = (Y < upper_quantiles).all(axis= 1) & (Y > 0).all(axis=1)\n",
    "img_paths = img_paths[retained_flag]\n",
    "tabular = tabular[retained_flag]\n",
    "Y = Y[retained_flag]\n",
    "\n",
    "print(f'Number of observations removed: {retained_flag.shape[0] - retained_flag.sum()}')"
   ]
  },
  {
   "cell_type": "code",
   "execution_count": 9,
   "id": "ceb967ac",
   "metadata": {
    "execution": {
     "iopub.execute_input": "2024-05-14T21:49:01.467027Z",
     "iopub.status.busy": "2024-05-14T21:49:01.466721Z",
     "iopub.status.idle": "2024-05-14T21:49:03.196247Z",
     "shell.execute_reply": "2024-05-14T21:49:03.195333Z"
    },
    "papermill": {
     "duration": 1.741798,
     "end_time": "2024-05-14T21:49:03.199356",
     "exception": false,
     "start_time": "2024-05-14T21:49:01.457558",
     "status": "completed"
    },
    "tags": []
   },
   "outputs": [
    {
     "name": "stderr",
     "output_type": "stream",
     "text": [
      "/opt/conda/lib/python3.10/site-packages/seaborn/_oldcore.py:1119: FutureWarning: use_inf_as_na option is deprecated and will be removed in a future version. Convert inf values to NaN before operating instead.\n",
      "  with pd.option_context('mode.use_inf_as_na', True):\n",
      "/opt/conda/lib/python3.10/site-packages/seaborn/_oldcore.py:1119: FutureWarning: use_inf_as_na option is deprecated and will be removed in a future version. Convert inf values to NaN before operating instead.\n",
      "  with pd.option_context('mode.use_inf_as_na', True):\n",
      "/opt/conda/lib/python3.10/site-packages/seaborn/_oldcore.py:1119: FutureWarning: use_inf_as_na option is deprecated and will be removed in a future version. Convert inf values to NaN before operating instead.\n",
      "  with pd.option_context('mode.use_inf_as_na', True):\n",
      "/opt/conda/lib/python3.10/site-packages/seaborn/_oldcore.py:1119: FutureWarning: use_inf_as_na option is deprecated and will be removed in a future version. Convert inf values to NaN before operating instead.\n",
      "  with pd.option_context('mode.use_inf_as_na', True):\n",
      "/opt/conda/lib/python3.10/site-packages/seaborn/_oldcore.py:1119: FutureWarning: use_inf_as_na option is deprecated and will be removed in a future version. Convert inf values to NaN before operating instead.\n",
      "  with pd.option_context('mode.use_inf_as_na', True):\n",
      "/opt/conda/lib/python3.10/site-packages/seaborn/_oldcore.py:1119: FutureWarning: use_inf_as_na option is deprecated and will be removed in a future version. Convert inf values to NaN before operating instead.\n",
      "  with pd.option_context('mode.use_inf_as_na', True):\n"
     ]
    },
    {
     "data": {
      "image/png": "[encoded data removed]",
      "text/plain": [
       "<Figure size 1800x900 with 6 Axes>"
      ]
     },
     "metadata": {},
     "output_type": "display_data"
    }
   ],
   "source": [
    "# histograms after filtering out bad observations\n",
    "n_rows = 2\n",
    "n_cols = 3\n",
    "fig, axs = plt.subplots(n_rows, n_cols, figsize=(4 * n_cols, 3 * n_rows))\n",
    "for i, column in enumerate(Y.columns):\n",
    "    row_idx, col_idx = divmod(i, n_cols)\n",
    "    _ = sns.histplot(data=Y, x=column, ax=axs[row_idx, col_idx], bins=20)\n",
    "\n",
    "fig.tight_layout()\n"
   ]
  },
  {
   "cell_type": "code",
   "execution_count": 10,
   "id": "dbd862a3",
   "metadata": {
    "execution": {
     "iopub.execute_input": "2024-05-14T21:49:03.221450Z",
     "iopub.status.busy": "2024-05-14T21:49:03.221133Z",
     "iopub.status.idle": "2024-05-14T21:49:03.231022Z",
     "shell.execute_reply": "2024-05-14T21:49:03.230128Z"
    },
    "papermill": {
     "duration": 0.023406,
     "end_time": "2024-05-14T21:49:03.233023",
     "exception": false,
     "start_time": "2024-05-14T21:49:03.209617",
     "status": "completed"
    },
    "tags": []
   },
   "outputs": [],
   "source": [
    "# standardize response\n",
    "output_sc = StandardScaler()\n",
    "Y_sc = output_sc.fit_transform(Y)"
   ]
  },
  {
   "cell_type": "code",
   "execution_count": 11,
   "id": "38057fd9",
   "metadata": {
    "execution": {
     "iopub.execute_input": "2024-05-14T21:49:03.254369Z",
     "iopub.status.busy": "2024-05-14T21:49:03.254094Z",
     "iopub.status.idle": "2024-05-14T21:49:03.324375Z",
     "shell.execute_reply": "2024-05-14T21:49:03.323576Z"
    },
    "papermill": {
     "duration": 0.083403,
     "end_time": "2024-05-14T21:49:03.326517",
     "exception": false,
     "start_time": "2024-05-14T21:49:03.243114",
     "status": "completed"
    },
    "tags": []
   },
   "outputs": [],
   "source": [
    "# normalize tabular inputs\n",
    "tabular_input_sc = MinMaxScaler()\n",
    "tabular_sc = tabular_input_sc.fit_transform(tabular)"
   ]
  },
  {
   "cell_type": "markdown",
   "id": "4c3be096",
   "metadata": {
    "papermill": {
     "duration": 0.009897,
     "end_time": "2024-05-14T21:49:03.346878",
     "exception": false,
     "start_time": "2024-05-14T21:49:03.336981",
     "status": "completed"
    },
    "tags": []
   },
   "source": [
    "## Image preprocessing functions"
   ]
  },
  {
   "cell_type": "code",
   "execution_count": 12,
   "id": "fdd83ad8",
   "metadata": {
    "execution": {
     "iopub.execute_input": "2024-05-14T21:49:03.368709Z",
     "iopub.status.busy": "2024-05-14T21:49:03.368143Z",
     "iopub.status.idle": "2024-05-14T21:49:03.374065Z",
     "shell.execute_reply": "2024-05-14T21:49:03.373034Z"
    },
    "papermill": {
     "duration": 0.018848,
     "end_time": "2024-05-14T21:49:03.375942",
     "exception": false,
     "start_time": "2024-05-14T21:49:03.357094",
     "status": "completed"
    },
    "tags": []
   },
   "outputs": [],
   "source": [
    "def process_image_from_file(file_path:str) -> tf.Tensor:\n",
    "    # load the image\n",
    "    img = tf.io.read_file(file_path)\n",
    "    # decode the jpeg file \n",
    "    img = tf.image.decode_jpeg(img, channels=3)\n",
    "    # resize the image to 224 x 224 \n",
    "    img = tf.image.resize(img, [224, 224])\n",
    "    return img\n",
    "\n",
    "# Define your dataset processing function\n",
    "def process_path(file_path, tabular, targets):\n",
    "    return (process_image_from_file(file_path), tabular), targets\n"
   ]
  },
  {
   "cell_type": "markdown",
   "id": "c4e012f2",
   "metadata": {
    "papermill": {
     "duration": 0.009514,
     "end_time": "2024-05-14T21:49:03.395163",
     "exception": false,
     "start_time": "2024-05-14T21:49:03.385649",
     "status": "completed"
    },
    "tags": []
   },
   "source": [
    "## Create training and validation sets"
   ]
  },
  {
   "cell_type": "code",
   "execution_count": 13,
   "id": "a6549cba",
   "metadata": {
    "execution": {
     "iopub.execute_input": "2024-05-14T21:49:03.416225Z",
     "iopub.status.busy": "2024-05-14T21:49:03.415924Z",
     "iopub.status.idle": "2024-05-14T21:49:04.322923Z",
     "shell.execute_reply": "2024-05-14T21:49:04.322117Z"
    },
    "papermill": {
     "duration": 0.920031,
     "end_time": "2024-05-14T21:49:04.325156",
     "exception": false,
     "start_time": "2024-05-14T21:49:03.405125",
     "status": "completed"
    },
    "tags": []
   },
   "outputs": [],
   "source": [
    "paths_train, paths_val, tabular_train, tabular_val, Y_train, Y_val = train_test_split(\n",
    "    img_paths, tabular_sc, Y_sc, random_state=2, test_size=0.2\n",
    ")\n",
    "\n",
    "train_ds = tf.data.Dataset.from_tensor_slices((paths_train, tabular_train.astype(np.float32), Y_train.astype(np.float32)))\n",
    "val_ds = tf.data.Dataset.from_tensor_slices((paths_val, tabular_val.astype(np.float32), Y_val.astype(np.float32)))\n",
    "\n",
    "\n",
    "# preprocess and batch\n",
    "train_ds = train_ds.map(process_path).batch(CFG['BATCH_SIZE'])\n",
    "val_ds = val_ds.map(process_path).batch(CFG['BATCH_SIZE'])"
   ]
  },
  {
   "cell_type": "markdown",
   "id": "aefc0512",
   "metadata": {
    "papermill": {
     "duration": 0.009731,
     "end_time": "2024-05-14T21:49:04.345115",
     "exception": false,
     "start_time": "2024-05-14T21:49:04.335384",
     "status": "completed"
    },
    "tags": []
   },
   "source": [
    "## Model architecture"
   ]
  },
  {
   "cell_type": "code",
   "execution_count": 14,
   "id": "de0b321d",
   "metadata": {
    "execution": {
     "iopub.execute_input": "2024-05-14T21:49:04.366247Z",
     "iopub.status.busy": "2024-05-14T21:49:04.365975Z",
     "iopub.status.idle": "2024-05-14T21:49:04.587569Z",
     "shell.execute_reply": "2024-05-14T21:49:04.586450Z"
    },
    "papermill": {
     "duration": 0.234469,
     "end_time": "2024-05-14T21:49:04.589455",
     "exception": false,
     "start_time": "2024-05-14T21:49:04.354986",
     "status": "completed"
    },
    "tags": []
   },
   "outputs": [
    {
     "data": {
      "text/html": [
       "<pre style=\"white-space:pre;overflow-x:auto;line-height:normal;font-family:Menlo,'DejaVu Sans Mono',consolas,'Courier New',monospace\"><span style=\"font-weight: bold\">Model: \"functional_4\"</span>\n",
       "</pre>\n"
      ],
      "text/plain": [
       "\u001b[1mModel: \"functional_4\"\u001b[0m\n"
      ]
     },
     "metadata": {},
     "output_type": "display_data"
    },
    {
     "data": {
      "text/html": [
       "<pre style=\"white-space:pre;overflow-x:auto;line-height:normal;font-family:Menlo,'DejaVu Sans Mono',consolas,'Courier New',monospace\">┏━━━━━━━━━━━━━━━━━━━━━┳━━━━━━━━━━━━━━━━━━━┳━━━━━━━━━━━━┳━━━━━━━━━━━━━━━━━━━┓\n",
       "┃<span style=\"font-weight: bold\"> Layer (type)        </span>┃<span style=\"font-weight: bold\"> Output Shape      </span>┃<span style=\"font-weight: bold\">    Param # </span>┃<span style=\"font-weight: bold\"> Connected to      </span>┃\n",
       "┡━━━━━━━━━━━━━━━━━━━━━╇━━━━━━━━━━━━━━━━━━━╇━━━━━━━━━━━━╇━━━━━━━━━━━━━━━━━━━┩\n",
       "│ img_input           │ (<span style=\"color: #00d7ff; text-decoration-color: #00d7ff\">None</span>, <span style=\"color: #00af00; text-decoration-color: #00af00\">224</span>, <span style=\"color: #00af00; text-decoration-color: #00af00\">224</span>,  │          <span style=\"color: #00af00; text-decoration-color: #00af00\">0</span> │ -                 │\n",
       "│ (<span style=\"color: #0087ff; text-decoration-color: #0087ff\">InputLayer</span>)        │ <span style=\"color: #00af00; text-decoration-color: #00af00\">3</span>)                │            │                   │\n",
       "├─────────────────────┼───────────────────┼────────────┼───────────────────┤\n",
       "│ tabular_input       │ (<span style=\"color: #00d7ff; text-decoration-color: #00d7ff\">None</span>, <span style=\"color: #00af00; text-decoration-color: #00af00\">163</span>)       │          <span style=\"color: #00af00; text-decoration-color: #00af00\">0</span> │ -                 │\n",
       "│ (<span style=\"color: #0087ff; text-decoration-color: #0087ff\">InputLayer</span>)        │                   │            │                   │\n",
       "├─────────────────────┼───────────────────┼────────────┼───────────────────┤\n",
       "│ img_backbone        │ (<span style=\"color: #00d7ff; text-decoration-color: #00d7ff\">None</span>, <span style=\"color: #00af00; text-decoration-color: #00af00\">64</span>)        │     <span style=\"color: #00af00; text-decoration-color: #00af00\">23,584</span> │ img_input[<span style=\"color: #00af00; text-decoration-color: #00af00\">0</span>][<span style=\"color: #00af00; text-decoration-color: #00af00\">0</span>]   │\n",
       "│ (<span style=\"color: #0087ff; text-decoration-color: #0087ff\">Sequential</span>)        │                   │            │                   │\n",
       "├─────────────────────┼───────────────────┼────────────┼───────────────────┤\n",
       "│ tabular_backbone    │ (<span style=\"color: #00d7ff; text-decoration-color: #00d7ff\">None</span>, <span style=\"color: #00af00; text-decoration-color: #00af00\">64</span>)        │     <span style=\"color: #00af00; text-decoration-color: #00af00\">30,016</span> │ tabular_input[<span style=\"color: #00af00; text-decoration-color: #00af00\">0</span>]… │\n",
       "│ (<span style=\"color: #0087ff; text-decoration-color: #0087ff\">Sequential</span>)        │                   │            │                   │\n",
       "├─────────────────────┼───────────────────┼────────────┼───────────────────┤\n",
       "│ concatenate         │ (<span style=\"color: #00d7ff; text-decoration-color: #00d7ff\">None</span>, <span style=\"color: #00af00; text-decoration-color: #00af00\">128</span>)       │          <span style=\"color: #00af00; text-decoration-color: #00af00\">0</span> │ img_backbone[<span style=\"color: #00af00; text-decoration-color: #00af00\">0</span>][<span style=\"color: #00af00; text-decoration-color: #00af00\">…</span> │\n",
       "│ (<span style=\"color: #0087ff; text-decoration-color: #0087ff\">Concatenate</span>)       │                   │            │ tabular_backbone… │\n",
       "├─────────────────────┼───────────────────┼────────────┼───────────────────┤\n",
       "│ ff_block_0_dense    │ (<span style=\"color: #00d7ff; text-decoration-color: #00d7ff\">None</span>, <span style=\"color: #00af00; text-decoration-color: #00af00\">128</span>)       │     <span style=\"color: #00af00; text-decoration-color: #00af00\">16,512</span> │ concatenate[<span style=\"color: #00af00; text-decoration-color: #00af00\">0</span>][<span style=\"color: #00af00; text-decoration-color: #00af00\">0</span>] │\n",
       "│ (<span style=\"color: #0087ff; text-decoration-color: #0087ff\">Dense</span>)             │                   │            │                   │\n",
       "├─────────────────────┼───────────────────┼────────────┼───────────────────┤\n",
       "│ batch_normalizatio… │ (<span style=\"color: #00d7ff; text-decoration-color: #00d7ff\">None</span>, <span style=\"color: #00af00; text-decoration-color: #00af00\">128</span>)       │        <span style=\"color: #00af00; text-decoration-color: #00af00\">512</span> │ ff_block_0_dense… │\n",
       "│ (<span style=\"color: #0087ff; text-decoration-color: #0087ff\">BatchNormalizatio…</span> │                   │            │                   │\n",
       "├─────────────────────┼───────────────────┼────────────┼───────────────────┤\n",
       "│ re_lu_2 (<span style=\"color: #0087ff; text-decoration-color: #0087ff\">ReLU</span>)      │ (<span style=\"color: #00d7ff; text-decoration-color: #00d7ff\">None</span>, <span style=\"color: #00af00; text-decoration-color: #00af00\">128</span>)       │          <span style=\"color: #00af00; text-decoration-color: #00af00\">0</span> │ batch_normalizat… │\n",
       "├─────────────────────┼───────────────────┼────────────┼───────────────────┤\n",
       "│ dropout_2 (<span style=\"color: #0087ff; text-decoration-color: #0087ff\">Dropout</span>) │ (<span style=\"color: #00d7ff; text-decoration-color: #00d7ff\">None</span>, <span style=\"color: #00af00; text-decoration-color: #00af00\">128</span>)       │          <span style=\"color: #00af00; text-decoration-color: #00af00\">0</span> │ re_lu_2[<span style=\"color: #00af00; text-decoration-color: #00af00\">0</span>][<span style=\"color: #00af00; text-decoration-color: #00af00\">0</span>]     │\n",
       "├─────────────────────┼───────────────────┼────────────┼───────────────────┤\n",
       "│ ff_block_1_dense    │ (<span style=\"color: #00d7ff; text-decoration-color: #00d7ff\">None</span>, <span style=\"color: #00af00; text-decoration-color: #00af00\">64</span>)        │      <span style=\"color: #00af00; text-decoration-color: #00af00\">8,256</span> │ dropout_2[<span style=\"color: #00af00; text-decoration-color: #00af00\">0</span>][<span style=\"color: #00af00; text-decoration-color: #00af00\">0</span>]   │\n",
       "│ (<span style=\"color: #0087ff; text-decoration-color: #0087ff\">Dense</span>)             │                   │            │                   │\n",
       "├─────────────────────┼───────────────────┼────────────┼───────────────────┤\n",
       "│ batch_normalizatio… │ (<span style=\"color: #00d7ff; text-decoration-color: #00d7ff\">None</span>, <span style=\"color: #00af00; text-decoration-color: #00af00\">64</span>)        │        <span style=\"color: #00af00; text-decoration-color: #00af00\">256</span> │ ff_block_1_dense… │\n",
       "│ (<span style=\"color: #0087ff; text-decoration-color: #0087ff\">BatchNormalizatio…</span> │                   │            │                   │\n",
       "├─────────────────────┼───────────────────┼────────────┼───────────────────┤\n",
       "│ re_lu_3 (<span style=\"color: #0087ff; text-decoration-color: #0087ff\">ReLU</span>)      │ (<span style=\"color: #00d7ff; text-decoration-color: #00d7ff\">None</span>, <span style=\"color: #00af00; text-decoration-color: #00af00\">64</span>)        │          <span style=\"color: #00af00; text-decoration-color: #00af00\">0</span> │ batch_normalizat… │\n",
       "├─────────────────────┼───────────────────┼────────────┼───────────────────┤\n",
       "│ dropout_3 (<span style=\"color: #0087ff; text-decoration-color: #0087ff\">Dropout</span>) │ (<span style=\"color: #00d7ff; text-decoration-color: #00d7ff\">None</span>, <span style=\"color: #00af00; text-decoration-color: #00af00\">64</span>)        │          <span style=\"color: #00af00; text-decoration-color: #00af00\">0</span> │ re_lu_3[<span style=\"color: #00af00; text-decoration-color: #00af00\">0</span>][<span style=\"color: #00af00; text-decoration-color: #00af00\">0</span>]     │\n",
       "├─────────────────────┼───────────────────┼────────────┼───────────────────┤\n",
       "│ output (<span style=\"color: #0087ff; text-decoration-color: #0087ff\">Dense</span>)      │ (<span style=\"color: #00d7ff; text-decoration-color: #00d7ff\">None</span>, <span style=\"color: #00af00; text-decoration-color: #00af00\">6</span>)         │        <span style=\"color: #00af00; text-decoration-color: #00af00\">390</span> │ dropout_3[<span style=\"color: #00af00; text-decoration-color: #00af00\">0</span>][<span style=\"color: #00af00; text-decoration-color: #00af00\">0</span>]   │\n",
       "└─────────────────────┴───────────────────┴────────────┴───────────────────┘\n",
       "</pre>\n"
      ],
      "text/plain": [
       "┏━━━━━━━━━━━━━━━━━━━━━┳━━━━━━━━━━━━━━━━━━━┳━━━━━━━━━━━━┳━━━━━━━━━━━━━━━━━━━┓\n",
       "┃\u001b[1m \u001b[0m\u001b[1mLayer (type)       \u001b[0m\u001b[1m \u001b[0m┃\u001b[1m \u001b[0m\u001b[1mOutput Shape     \u001b[0m\u001b[1m \u001b[0m┃\u001b[1m \u001b[0m\u001b[1m   Param #\u001b[0m\u001b[1m \u001b[0m┃\u001b[1m \u001b[0m\u001b[1mConnected to     \u001b[0m\u001b[1m \u001b[0m┃\n",
       "┡━━━━━━━━━━━━━━━━━━━━━╇━━━━━━━━━━━━━━━━━━━╇━━━━━━━━━━━━╇━━━━━━━━━━━━━━━━━━━┩\n",
       "│ img_input           │ (\u001b[38;5;45mNone\u001b[0m, \u001b[38;5;34m224\u001b[0m, \u001b[38;5;34m224\u001b[0m,  │          \u001b[38;5;34m0\u001b[0m │ -                 │\n",
       "│ (\u001b[38;5;33mInputLayer\u001b[0m)        │ \u001b[38;5;34m3\u001b[0m)                │            │                   │\n",
       "├─────────────────────┼───────────────────┼────────────┼───────────────────┤\n",
       "│ tabular_input       │ (\u001b[38;5;45mNone\u001b[0m, \u001b[38;5;34m163\u001b[0m)       │          \u001b[38;5;34m0\u001b[0m │ -                 │\n",
       "│ (\u001b[38;5;33mInputLayer\u001b[0m)        │                   │            │                   │\n",
       "├─────────────────────┼───────────────────┼────────────┼───────────────────┤\n",
       "│ img_backbone        │ (\u001b[38;5;45mNone\u001b[0m, \u001b[38;5;34m64\u001b[0m)        │     \u001b[38;5;34m23,584\u001b[0m │ img_input[\u001b[38;5;34m0\u001b[0m][\u001b[38;5;34m0\u001b[0m]   │\n",
       "│ (\u001b[38;5;33mSequential\u001b[0m)        │                   │            │                   │\n",
       "├─────────────────────┼───────────────────┼────────────┼───────────────────┤\n",
       "│ tabular_backbone    │ (\u001b[38;5;45mNone\u001b[0m, \u001b[38;5;34m64\u001b[0m)        │     \u001b[38;5;34m30,016\u001b[0m │ tabular_input[\u001b[38;5;34m0\u001b[0m]… │\n",
       "│ (\u001b[38;5;33mSequential\u001b[0m)        │                   │            │                   │\n",
       "├─────────────────────┼───────────────────┼────────────┼───────────────────┤\n",
       "│ concatenate         │ (\u001b[38;5;45mNone\u001b[0m, \u001b[38;5;34m128\u001b[0m)       │          \u001b[38;5;34m0\u001b[0m │ img_backbone[\u001b[38;5;34m0\u001b[0m][\u001b[38;5;34m…\u001b[0m │\n",
       "│ (\u001b[38;5;33mConcatenate\u001b[0m)       │                   │            │ tabular_backbone… │\n",
       "├─────────────────────┼───────────────────┼────────────┼───────────────────┤\n",
       "│ ff_block_0_dense    │ (\u001b[38;5;45mNone\u001b[0m, \u001b[38;5;34m128\u001b[0m)       │     \u001b[38;5;34m16,512\u001b[0m │ concatenate[\u001b[38;5;34m0\u001b[0m][\u001b[38;5;34m0\u001b[0m] │\n",
       "│ (\u001b[38;5;33mDense\u001b[0m)             │                   │            │                   │\n",
       "├─────────────────────┼───────────────────┼────────────┼───────────────────┤\n",
       "│ batch_normalizatio… │ (\u001b[38;5;45mNone\u001b[0m, \u001b[38;5;34m128\u001b[0m)       │        \u001b[38;5;34m512\u001b[0m │ ff_block_0_dense… │\n",
       "│ (\u001b[38;5;33mBatchNormalizatio…\u001b[0m │                   │            │                   │\n",
       "├─────────────────────┼───────────────────┼────────────┼───────────────────┤\n",
       "│ re_lu_2 (\u001b[38;5;33mReLU\u001b[0m)      │ (\u001b[38;5;45mNone\u001b[0m, \u001b[38;5;34m128\u001b[0m)       │          \u001b[38;5;34m0\u001b[0m │ batch_normalizat… │\n",
       "├─────────────────────┼───────────────────┼────────────┼───────────────────┤\n",
       "│ dropout_2 (\u001b[38;5;33mDropout\u001b[0m) │ (\u001b[38;5;45mNone\u001b[0m, \u001b[38;5;34m128\u001b[0m)       │          \u001b[38;5;34m0\u001b[0m │ re_lu_2[\u001b[38;5;34m0\u001b[0m][\u001b[38;5;34m0\u001b[0m]     │\n",
       "├─────────────────────┼───────────────────┼────────────┼───────────────────┤\n",
       "│ ff_block_1_dense    │ (\u001b[38;5;45mNone\u001b[0m, \u001b[38;5;34m64\u001b[0m)        │      \u001b[38;5;34m8,256\u001b[0m │ dropout_2[\u001b[38;5;34m0\u001b[0m][\u001b[38;5;34m0\u001b[0m]   │\n",
       "│ (\u001b[38;5;33mDense\u001b[0m)             │                   │            │                   │\n",
       "├─────────────────────┼───────────────────┼────────────┼───────────────────┤\n",
       "│ batch_normalizatio… │ (\u001b[38;5;45mNone\u001b[0m, \u001b[38;5;34m64\u001b[0m)        │        \u001b[38;5;34m256\u001b[0m │ ff_block_1_dense… │\n",
       "│ (\u001b[38;5;33mBatchNormalizatio…\u001b[0m │                   │            │                   │\n",
       "├─────────────────────┼───────────────────┼────────────┼───────────────────┤\n",
       "│ re_lu_3 (\u001b[38;5;33mReLU\u001b[0m)      │ (\u001b[38;5;45mNone\u001b[0m, \u001b[38;5;34m64\u001b[0m)        │          \u001b[38;5;34m0\u001b[0m │ batch_normalizat… │\n",
       "├─────────────────────┼───────────────────┼────────────┼───────────────────┤\n",
       "│ dropout_3 (\u001b[38;5;33mDropout\u001b[0m) │ (\u001b[38;5;45mNone\u001b[0m, \u001b[38;5;34m64\u001b[0m)        │          \u001b[38;5;34m0\u001b[0m │ re_lu_3[\u001b[38;5;34m0\u001b[0m][\u001b[38;5;34m0\u001b[0m]     │\n",
       "├─────────────────────┼───────────────────┼────────────┼───────────────────┤\n",
       "│ output (\u001b[38;5;33mDense\u001b[0m)      │ (\u001b[38;5;45mNone\u001b[0m, \u001b[38;5;34m6\u001b[0m)         │        \u001b[38;5;34m390\u001b[0m │ dropout_3[\u001b[38;5;34m0\u001b[0m][\u001b[38;5;34m0\u001b[0m]   │\n",
       "└─────────────────────┴───────────────────┴────────────┴───────────────────┘\n"
      ]
     },
     "metadata": {},
     "output_type": "display_data"
    },
    {
     "data": {
      "text/html": [
       "<pre style=\"white-space:pre;overflow-x:auto;line-height:normal;font-family:Menlo,'DejaVu Sans Mono',consolas,'Courier New',monospace\"><span style=\"font-weight: bold\"> Total params: </span><span style=\"color: #00af00; text-decoration-color: #00af00\">79,526</span> (310.65 KB)\n",
       "</pre>\n"
      ],
      "text/plain": [
       "\u001b[1m Total params: \u001b[0m\u001b[38;5;34m79,526\u001b[0m (310.65 KB)\n"
      ]
     },
     "metadata": {},
     "output_type": "display_data"
    },
    {
     "data": {
      "text/html": [
       "<pre style=\"white-space:pre;overflow-x:auto;line-height:normal;font-family:Menlo,'DejaVu Sans Mono',consolas,'Courier New',monospace\"><span style=\"font-weight: bold\"> Trainable params: </span><span style=\"color: #00af00; text-decoration-color: #00af00\">78,758</span> (307.65 KB)\n",
       "</pre>\n"
      ],
      "text/plain": [
       "\u001b[1m Trainable params: \u001b[0m\u001b[38;5;34m78,758\u001b[0m (307.65 KB)\n"
      ]
     },
     "metadata": {},
     "output_type": "display_data"
    },
    {
     "data": {
      "text/html": [
       "<pre style=\"white-space:pre;overflow-x:auto;line-height:normal;font-family:Menlo,'DejaVu Sans Mono',consolas,'Courier New',monospace\"><span style=\"font-weight: bold\"> Non-trainable params: </span><span style=\"color: #00af00; text-decoration-color: #00af00\">768</span> (3.00 KB)\n",
       "</pre>\n"
      ],
      "text/plain": [
       "\u001b[1m Non-trainable params: \u001b[0m\u001b[38;5;34m768\u001b[0m (3.00 KB)\n"
      ]
     },
     "metadata": {},
     "output_type": "display_data"
    },
    {
     "name": "stdout",
     "output_type": "stream",
     "text": [
      "None\n"
     ]
    }
   ],
   "source": [
    "keras.backend.clear_session()\n",
    "\n",
    "\n",
    "############################## \n",
    "# IMG Processing\n",
    "############################## \n",
    "img_input = keras.layers.Input(shape = (224, 224, 3), name=\"img_input\")\n",
    "\n",
    "img_backbone = keras.Sequential([\n",
    "    keras.layers.Rescaling(scale=1./255),\n",
    "    # augmentation layers\n",
    "    keras.Sequential([\n",
    "        keras.layers.RandomRotation(factor=0.1, interpolation='nearest'),\n",
    "        keras.layers.RandomTranslation(\n",
    "            height_factor=0.1, width_factor=0.1, interpolation='nearest'\n",
    "        ),\n",
    "        keras.layers.RandomZoom(height_factor=(0.05, 0.15)),\n",
    "        keras.layers.RandomFlip(mode=\"horizontal_and_vertical\")\n",
    "    ], name='augmentation'),\n",
    "], name='img_backbone')\n",
    "\n",
    "# convolution blocks (default: 3) \n",
    "# each block consists of a convolution layer followed by a max pooling layer\n",
    "for i in range(CFG.get('n_conv_layers',3)):\n",
    "    img_backbone.add(keras.layers.Conv2D(\n",
    "        CFG.get(f'n_filters_conv_{i+1}', 16*2**i),kernel_size=(3,3),padding='same'\n",
    "    ))\n",
    "    img_backbone.add(keras.layers.MaxPooling2D(pool_size=(2,2),strides=(2,2)))\n",
    "\n",
    "# global average pooling\n",
    "img_backbone.add(keras.layers.GlobalAveragePooling2D()) \n",
    "\n",
    "img_output = img_backbone(img_input)\n",
    "\n",
    "\n",
    "############################## \n",
    "# Tabular Processing\n",
    "##############################\n",
    "tabular_input = keras.layers.Input(shape = (tabular_sc.shape[1],) , name=\"tabular_input\")\n",
    "\n",
    "backbone_blocks = []\n",
    "for i in range(CFG['n_tabular_layers']):\n",
    "    backbone_blocks.extend([\n",
    "        keras.layers.Dense(CFG['tabular_hsizes'][i], name=f'tabular_block_{i}_dense'),\n",
    "        keras.layers.BatchNormalization(),\n",
    "        keras.layers.ReLU(),\n",
    "        keras.layers.Dropout(0.05)\n",
    "    ])\n",
    "    \n",
    "tabular_backbone = keras.Sequential(backbone_blocks, name='tabular_backbone')\n",
    "tabular_output = tabular_backbone(tabular_input)\n",
    "\n",
    "##############################\n",
    "# Concat and outputs\n",
    "##############################\n",
    "output = keras.layers.Concatenate()([img_output, tabular_output])\n",
    "for i in range(CFG['n_ff_layers']):\n",
    "    output = keras.layers.Dense(CFG['tabular_hsizes'][i], name=f'ff_block_{i}_dense')(output)\n",
    "    output = keras.layers.BatchNormalization()(output)\n",
    "    output = keras.layers.ReLU()(output)\n",
    "    output = keras.layers.Dropout(0.05)(output)\n",
    "\n",
    "\n",
    "output = keras.layers.Dense(6, name='output')(output)\n",
    "\n",
    "model = keras.Model(inputs=[img_input, tabular_input], outputs=output)\n",
    "\n",
    "lr_scheduler = keras.optimizers.schedules.CosineDecayRestarts(\n",
    "    initial_learning_rate = 1e-4,\n",
    "    first_decay_steps = 1000\n",
    ")\n",
    "\n",
    "model.compile(\n",
    "    optimizer=keras.optimizers.Adam(learning_rate=lr_scheduler),\n",
    "    loss= keras.losses.MeanSquaredError(),\n",
    "    metrics=[keras.metrics.R2Score()]\n",
    ")\n",
    "\n",
    "print(model.summary())"
   ]
  },
  {
   "cell_type": "markdown",
   "id": "ee8f33a9",
   "metadata": {
    "papermill": {
     "duration": 0.010852,
     "end_time": "2024-05-14T21:49:04.611592",
     "exception": false,
     "start_time": "2024-05-14T21:49:04.600740",
     "status": "completed"
    },
    "tags": []
   },
   "source": [
    "## Training"
   ]
  },
  {
   "cell_type": "code",
   "execution_count": 15,
   "id": "e2efc333",
   "metadata": {
    "execution": {
     "iopub.execute_input": "2024-05-14T21:49:04.636193Z",
     "iopub.status.busy": "2024-05-14T21:49:04.635890Z",
     "iopub.status.idle": "2024-05-14T21:58:55.436339Z",
     "shell.execute_reply": "2024-05-14T21:58:55.435447Z"
    },
    "papermill": {
     "duration": 590.815907,
     "end_time": "2024-05-14T21:58:55.438611",
     "exception": false,
     "start_time": "2024-05-14T21:49:04.622704",
     "status": "completed"
    },
    "tags": []
   },
   "outputs": [
    {
     "name": "stdout",
     "output_type": "stream",
     "text": [
      "Epoch 1/10\n",
      "\u001b[1m312/312\u001b[0m \u001b[32m━━━━━━━━━━━━━━━━━━━━\u001b[0m\u001b[37m\u001b[0m \u001b[1m105s\u001b[0m 306ms/step - loss: 1.5194 - r2_score: -0.5386 - val_loss: 0.9612 - val_r2_score: 0.0397\n",
      "Epoch 2/10\n",
      "\u001b[1m312/312\u001b[0m \u001b[32m━━━━━━━━━━━━━━━━━━━━\u001b[0m\u001b[37m\u001b[0m \u001b[1m86s\u001b[0m 145ms/step - loss: 1.0029 - r2_score: -0.0147 - val_loss: 0.8772 - val_r2_score: 0.1245\n",
      "Epoch 3/10\n",
      "\u001b[1m312/312\u001b[0m \u001b[32m━━━━━━━━━━━━━━━━━━━━\u001b[0m\u001b[37m\u001b[0m \u001b[1m46s\u001b[0m 147ms/step - loss: 0.9540 - r2_score: 0.0349 - val_loss: 0.8691 - val_r2_score: 0.1326\n",
      "Epoch 4/10\n",
      "\u001b[1m312/312\u001b[0m \u001b[32m━━━━━━━━━━━━━━━━━━━━\u001b[0m\u001b[37m\u001b[0m \u001b[1m81s\u001b[0m 144ms/step - loss: 0.9449 - r2_score: 0.0441 - val_loss: 0.8538 - val_r2_score: 0.1478\n",
      "Epoch 5/10\n",
      "\u001b[1m312/312\u001b[0m \u001b[32m━━━━━━━━━━━━━━━━━━━━\u001b[0m\u001b[37m\u001b[0m \u001b[1m45s\u001b[0m 145ms/step - loss: 0.9067 - r2_score: 0.0827 - val_loss: 0.8393 - val_r2_score: 0.1623\n",
      "Epoch 6/10\n",
      "\u001b[1m312/312\u001b[0m \u001b[32m━━━━━━━━━━━━━━━━━━━━\u001b[0m\u001b[37m\u001b[0m \u001b[1m45s\u001b[0m 145ms/step - loss: 0.8858 - r2_score: 0.1039 - val_loss: 0.8307 - val_r2_score: 0.1708\n",
      "Epoch 7/10\n",
      "\u001b[1m312/312\u001b[0m \u001b[32m━━━━━━━━━━━━━━━━━━━━\u001b[0m\u001b[37m\u001b[0m \u001b[1m45s\u001b[0m 144ms/step - loss: 0.8773 - r2_score: 0.1125 - val_loss: 0.8263 - val_r2_score: 0.1753\n",
      "Epoch 8/10\n",
      "\u001b[1m312/312\u001b[0m \u001b[32m━━━━━━━━━━━━━━━━━━━━\u001b[0m\u001b[37m\u001b[0m \u001b[1m45s\u001b[0m 145ms/step - loss: 0.8700 - r2_score: 0.1199 - val_loss: 0.8249 - val_r2_score: 0.1766\n",
      "Epoch 9/10\n",
      "\u001b[1m312/312\u001b[0m \u001b[32m━━━━━━━━━━━━━━━━━━━━\u001b[0m\u001b[37m\u001b[0m \u001b[1m46s\u001b[0m 148ms/step - loss: 0.8674 - r2_score: 0.1225 - val_loss: 0.8243 - val_r2_score: 0.1773\n",
      "Epoch 10/10\n",
      "\u001b[1m312/312\u001b[0m \u001b[32m━━━━━━━━━━━━━━━━━━━━\u001b[0m\u001b[37m\u001b[0m \u001b[1m45s\u001b[0m 145ms/step - loss: 0.8664 - r2_score: 0.1234 - val_loss: 0.8242 - val_r2_score: 0.1773\n"
     ]
    }
   ],
   "source": [
    "history = model.fit(train_ds, validation_data=val_ds, epochs=CFG['NUM_EPOCHS'])"
   ]
  },
  {
   "cell_type": "code",
   "execution_count": 16,
   "id": "433d551e",
   "metadata": {
    "execution": {
     "iopub.execute_input": "2024-05-14T21:58:55.954154Z",
     "iopub.status.busy": "2024-05-14T21:58:55.953805Z",
     "iopub.status.idle": "2024-05-14T21:58:57.751129Z",
     "shell.execute_reply": "2024-05-14T21:58:57.750268Z"
    },
    "papermill": {
     "duration": 2.058819,
     "end_time": "2024-05-14T21:58:57.753480",
     "exception": false,
     "start_time": "2024-05-14T21:58:55.694661",
     "status": "completed"
    },
    "tags": []
   },
   "outputs": [
    {
     "data": {
      "image/png": "[encoded data removed]",
      "text/plain": [
       "<Figure size 1500x525 with 2 Axes>"
      ]
     },
     "metadata": {},
     "output_type": "display_data"
    }
   ],
   "source": [
    "# plot training history\n",
    "metrics = ['loss','r2_score']\n",
    "\n",
    "fig,axs = plt.subplots(1,len(metrics),figsize=(5*len(metrics),3.5),dpi=150)\n",
    "\n",
    "for i,metric in enumerate(metrics):\n",
    "    \n",
    "    _ = axs[i].plot(1 + np.arange(CFG['NUM_EPOCHS']), history.history[f'{metric}'],label='Training')\n",
    "    _ = axs[i].plot(1 + np.arange(CFG['NUM_EPOCHS']), history.history[f'val_{metric}'],label='Validation')\n",
    "    _ = axs[i].legend()\n",
    "    _ = axs[i].set_ylabel(metric.capitalize())\n",
    "    _ = axs[i].set_xlabel('Epochs')\n",
    "\n",
    "fig.tight_layout()\n",
    "fig.savefig('training_history.png',bbox_inches='tight')\n",
    "fig.savefig('training_history.pdf',bbox_inches='tight')"
   ]
  },
  {
   "cell_type": "code",
   "execution_count": 17,
   "id": "de39fe88",
   "metadata": {
    "execution": {
     "iopub.execute_input": "2024-05-14T21:58:58.342201Z",
     "iopub.status.busy": "2024-05-14T21:58:58.340944Z",
     "iopub.status.idle": "2024-05-14T21:58:58.432690Z",
     "shell.execute_reply": "2024-05-14T21:58:58.431771Z"
    },
    "papermill": {
     "duration": 0.414711,
     "end_time": "2024-05-14T21:58:58.434702",
     "exception": false,
     "start_time": "2024-05-14T21:58:58.019991",
     "status": "completed"
    },
    "tags": []
   },
   "outputs": [],
   "source": [
    "# save weights\n",
    "model.save_weights(\"model.weights.h5\")"
   ]
  },
  {
   "cell_type": "markdown",
   "id": "90fc562b",
   "metadata": {
    "papermill": {
     "duration": 0.258623,
     "end_time": "2024-05-14T21:58:58.953438",
     "exception": false,
     "start_time": "2024-05-14T21:58:58.694815",
     "status": "completed"
    },
    "tags": []
   },
   "source": [
    "## Checking individual output R2"
   ]
  },
  {
   "cell_type": "code",
   "execution_count": 18,
   "id": "3feeafd6",
   "metadata": {
    "execution": {
     "iopub.execute_input": "2024-05-14T21:58:59.476177Z",
     "iopub.status.busy": "2024-05-14T21:58:59.475809Z",
     "iopub.status.idle": "2024-05-14T21:59:10.885796Z",
     "shell.execute_reply": "2024-05-14T21:59:10.884962Z"
    },
    "papermill": {
     "duration": 11.672416,
     "end_time": "2024-05-14T21:59:10.887765",
     "exception": false,
     "start_time": "2024-05-14T21:58:59.215349",
     "status": "completed"
    },
    "tags": []
   },
   "outputs": [
    {
     "name": "stdout",
     "output_type": "stream",
     "text": [
      "\u001b[1m39/39\u001b[0m \u001b[32m━━━━━━━━━━━━━━━━━━━━\u001b[0m\u001b[37m\u001b[0m \u001b[1m11s\u001b[0m 238ms/step\n"
     ]
    }
   ],
   "source": [
    "def process_paths_wo_targets(file_path, tabular):\n",
    "    return ((process_image_from_file(file_path), tabular),)\n",
    "\n",
    "# recreate the validation dataset without the targets\n",
    "val_ds = tf.data.Dataset.from_tensor_slices((paths_val, tabular_val.astype(np.float32)))\n",
    "val_ds = val_ds.map(process_paths_wo_targets).batch(256)\n",
    "\n",
    "y_val_pred = model.predict(val_ds)"
   ]
  },
  {
   "cell_type": "code",
   "execution_count": 19,
   "id": "487bb78d",
   "metadata": {
    "execution": {
     "iopub.execute_input": "2024-05-14T21:59:11.423328Z",
     "iopub.status.busy": "2024-05-14T21:59:11.422702Z",
     "iopub.status.idle": "2024-05-14T21:59:11.432018Z",
     "shell.execute_reply": "2024-05-14T21:59:11.431052Z"
    },
    "papermill": {
     "duration": 0.27755,
     "end_time": "2024-05-14T21:59:11.433917",
     "exception": false,
     "start_time": "2024-05-14T21:59:11.156367",
     "status": "completed"
    },
    "tags": []
   },
   "outputs": [
    {
     "name": "stdout",
     "output_type": "stream",
     "text": [
      "X4_mean       0.166685\n",
      "X11_mean      0.181733\n",
      "X18_mean      0.248591\n",
      "X26_mean      0.127061\n",
      "X50_mean      0.099076\n",
      "X3112_mean    0.240932\n",
      "dtype: float64\n"
     ]
    }
   ],
   "source": [
    "val_r2_scores = pd.Series(\n",
    "    r2_score(Y_val, y_val_pred, multioutput='raw_values'),\n",
    "    index=target_cols,\n",
    ")\n",
    "print(val_r2_scores)"
   ]
  },
  {
   "cell_type": "markdown",
   "id": "7e7f4ee0",
   "metadata": {
    "papermill": {
     "duration": 0.287216,
     "end_time": "2024-05-14T21:59:11.987409",
     "exception": false,
     "start_time": "2024-05-14T21:59:11.700193",
     "status": "completed"
    },
    "tags": []
   },
   "source": [
    "## Predictions on Test Data"
   ]
  },
  {
   "cell_type": "code",
   "execution_count": 20,
   "id": "4ca2a5b4",
   "metadata": {
    "execution": {
     "iopub.execute_input": "2024-05-14T21:59:12.550700Z",
     "iopub.status.busy": "2024-05-14T21:59:12.549723Z",
     "iopub.status.idle": "2024-05-14T21:59:26.356564Z",
     "shell.execute_reply": "2024-05-14T21:59:26.355560Z"
    },
    "papermill": {
     "duration": 14.080785,
     "end_time": "2024-05-14T21:59:26.358695",
     "exception": false,
     "start_time": "2024-05-14T21:59:12.277910",
     "status": "completed"
    },
    "tags": []
   },
   "outputs": [
    {
     "name": "stdout",
     "output_type": "stream",
     "text": [
      "\u001b[1m26/26\u001b[0m \u001b[32m━━━━━━━━━━━━━━━━━━━━\u001b[0m\u001b[37m\u001b[0m \u001b[1m14s\u001b[0m 528ms/step\n"
     ]
    }
   ],
   "source": [
    "paths_test = test['img_path'].astype(str).values\n",
    "tabular_test = tabular_input_sc.transform(\n",
    "    test.drop(columns = ['id', 'img_path']).values\n",
    ").astype(np.float32)\n",
    "test_ds = tf.data.Dataset.from_tensor_slices((paths_test, tabular_test))\n",
    "test_ds = test_ds.map(process_paths_wo_targets).batch(256)\n",
    "predictions = model.predict(test_ds)"
   ]
  },
  {
   "cell_type": "code",
   "execution_count": 21,
   "id": "4e2ddbb3",
   "metadata": {
    "execution": {
     "iopub.execute_input": "2024-05-14T21:59:26.892195Z",
     "iopub.status.busy": "2024-05-14T21:59:26.891820Z",
     "iopub.status.idle": "2024-05-14T21:59:26.956353Z",
     "shell.execute_reply": "2024-05-14T21:59:26.955403Z"
    },
    "papermill": {
     "duration": 0.333958,
     "end_time": "2024-05-14T21:59:26.958453",
     "exception": false,
     "start_time": "2024-05-14T21:59:26.624495",
     "status": "completed"
    },
    "tags": []
   },
   "outputs": [],
   "source": [
    "submission = pd.DataFrame(\n",
    "    output_sc.inverse_transform(predictions),\n",
    "    columns=targets,\n",
    "    index=test['id']\n",
    ").reset_index()\n",
    "\n",
    "\n",
    "submission.to_csv('submission.csv', index=False)"
   ]
  },
  {
   "cell_type": "code",
   "execution_count": 22,
   "id": "f4c02839",
   "metadata": {
    "execution": {
     "iopub.execute_input": "2024-05-14T21:59:27.498259Z",
     "iopub.status.busy": "2024-05-14T21:59:27.497400Z",
     "iopub.status.idle": "2024-05-14T21:59:27.512735Z",
     "shell.execute_reply": "2024-05-14T21:59:27.511882Z"
    },
    "papermill": {
     "duration": 0.289853,
     "end_time": "2024-05-14T21:59:27.514686",
     "exception": false,
     "start_time": "2024-05-14T21:59:27.224833",
     "status": "completed"
    },
    "tags": []
   },
   "outputs": [
    {
     "data": {
      "text/html": [
       "<div>\n",
       "<style scoped>\n",
       "    .dataframe tbody tr th:only-of-type {\n",
       "        vertical-align: middle;\n",
       "    }\n",
       "\n",
       "    .dataframe tbody tr th {\n",
       "        vertical-align: top;\n",
       "    }\n",
       "\n",
       "    .dataframe thead th {\n",
       "        text-align: right;\n",
       "    }\n",
       "</style>\n",
       "<table border=\"1\" class=\"dataframe\">\n",
       "  <thead>\n",
       "    <tr style=\"text-align: right;\">\n",
       "      <th></th>\n",
       "      <th>id</th>\n",
       "      <th>X4</th>\n",
       "      <th>X11</th>\n",
       "      <th>X18</th>\n",
       "      <th>X26</th>\n",
       "      <th>X50</th>\n",
       "      <th>X3112</th>\n",
       "    </tr>\n",
       "  </thead>\n",
       "  <tbody>\n",
       "    <tr>\n",
       "      <th>0</th>\n",
       "      <td>201238668</td>\n",
       "      <td>0.560395</td>\n",
       "      <td>13.682845</td>\n",
       "      <td>1.737696</td>\n",
       "      <td>16.721657</td>\n",
       "      <td>1.473752</td>\n",
       "      <td>590.844666</td>\n",
       "    </tr>\n",
       "    <tr>\n",
       "      <th>1</th>\n",
       "      <td>202310319</td>\n",
       "      <td>0.454052</td>\n",
       "      <td>19.522654</td>\n",
       "      <td>1.163162</td>\n",
       "      <td>6.861312</td>\n",
       "      <td>1.494259</td>\n",
       "      <td>1346.204346</td>\n",
       "    </tr>\n",
       "    <tr>\n",
       "      <th>2</th>\n",
       "      <td>202604412</td>\n",
       "      <td>0.477736</td>\n",
       "      <td>16.771433</td>\n",
       "      <td>1.749827</td>\n",
       "      <td>2.973531</td>\n",
       "      <td>1.682741</td>\n",
       "      <td>1024.259033</td>\n",
       "    </tr>\n",
       "    <tr>\n",
       "      <th>3</th>\n",
       "      <td>201353439</td>\n",
       "      <td>0.449499</td>\n",
       "      <td>22.149544</td>\n",
       "      <td>1.816504</td>\n",
       "      <td>5.759267</td>\n",
       "      <td>1.279642</td>\n",
       "      <td>1493.435791</td>\n",
       "    </tr>\n",
       "    <tr>\n",
       "      <th>4</th>\n",
       "      <td>195351745</td>\n",
       "      <td>0.494298</td>\n",
       "      <td>10.976628</td>\n",
       "      <td>-0.057824</td>\n",
       "      <td>10.057084</td>\n",
       "      <td>1.762035</td>\n",
       "      <td>137.041733</td>\n",
       "    </tr>\n",
       "  </tbody>\n",
       "</table>\n",
       "</div>"
      ],
      "text/plain": [
       "          id        X4        X11       X18        X26       X50        X3112\n",
       "0  201238668  0.560395  13.682845  1.737696  16.721657  1.473752   590.844666\n",
       "1  202310319  0.454052  19.522654  1.163162   6.861312  1.494259  1346.204346\n",
       "2  202604412  0.477736  16.771433  1.749827   2.973531  1.682741  1024.259033\n",
       "3  201353439  0.449499  22.149544  1.816504   5.759267  1.279642  1493.435791\n",
       "4  195351745  0.494298  10.976628 -0.057824  10.057084  1.762035   137.041733"
      ]
     },
     "execution_count": 22,
     "metadata": {},
     "output_type": "execute_result"
    }
   ],
   "source": [
    "submission.head()"
   ]
  },
  {
   "cell_type": "code",
   "execution_count": null,
   "id": "695b23b1",
   "metadata": {
    "papermill": {
     "duration": 0.286039,
     "end_time": "2024-05-14T21:59:28.110652",
     "exception": false,
     "start_time": "2024-05-14T21:59:27.824613",
     "status": "completed"
    },
    "tags": []
   },
   "outputs": [],
   "source": []
  }
 ],
 "metadata": {
  "kaggle": {
   "accelerator": "gpu",
   "dataSources": [
    {
     "databundleVersionId": 8046133,
     "sourceId": 65626,
     "sourceType": "competition"
    }
   ],
   "dockerImageVersionId": 30674,
   "isGpuEnabled": true,
   "isInternetEnabled": true,
   "language": "python",
   "sourceType": "notebook"
  },
  "kernelspec": {
   "display_name": "Python 3",
   "language": "python",
   "name": "python3"
  },
  "language_info": {
   "codemirror_mode": {
    "name": "ipython",
    "version": 3
   },
   "file_extension": ".py",
   "mimetype": "text/x-python",
   "name": "python",
   "nbconvert_exporter": "python",
   "pygments_lexer": "ipython3",
   "version": "3.10.13"
  },
  "papermill": {
   "default_parameters": {},
   "duration": 650.597747,
   "end_time": "2024-05-14T21:59:31.716365",
   "environment_variables": {},
   "exception": null,
   "input_path": "__notebook__.ipynb",
   "output_path": "__notebook__.ipynb",
   "parameters": {},
   "start_time": "2024-05-14T21:48:41.118618",
   "version": "2.5.0"
  }
 },
 "nbformat": 4,
 "nbformat_minor": 5
}
