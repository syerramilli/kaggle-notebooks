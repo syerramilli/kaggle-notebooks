{
 "cells": [
  {
   "cell_type": "markdown",
   "id": "2b4a23b7",
   "metadata": {
    "_cell_guid": "b1076dfc-b9ad-4769-8c92-a6c4dae69d19",
    "_uuid": "8f2839f25d086af736a60e9eeb907d3b93b6e0e5",
    "papermill": {
     "duration": 0.012258,
     "end_time": "2024-10-02T01:04:19.253088",
     "exception": false,
     "start_time": "2024-10-02T01:04:19.240830",
     "status": "completed"
    },
    "tags": []
   },
   "source": [
    "## Introduction\n",
    "\n",
    "\n",
    "The goal of this classification task is to predict whether an applicant should be approved for a loan or not based on relevant features. In this notebook, we will perform some exploratory data analysis, and then train and tune a XGBoost classification model.\n"
   ]
  },
  {
   "cell_type": "code",
   "execution_count": 1,
   "id": "58067e9f",
   "metadata": {
    "execution": {
     "iopub.execute_input": "2024-10-02T01:04:19.273254Z",
     "iopub.status.busy": "2024-10-02T01:04:19.272818Z",
     "iopub.status.idle": "2024-10-02T01:04:39.556247Z",
     "shell.execute_reply": "2024-10-02T01:04:39.554805Z"
    },
    "papermill": {
     "duration": 20.296587,
     "end_time": "2024-10-02T01:04:39.559075",
     "exception": false,
     "start_time": "2024-10-02T01:04:19.262488",
     "status": "completed"
    },
    "tags": []
   },
   "outputs": [],
   "source": [
    "%%capture\n",
    "!pip install botorch optuna-integration"
   ]
  },
  {
   "cell_type": "code",
   "execution_count": 2,
   "id": "51f31035",
   "metadata": {
    "execution": {
     "iopub.execute_input": "2024-10-02T01:04:39.579754Z",
     "iopub.status.busy": "2024-10-02T01:04:39.579294Z",
     "iopub.status.idle": "2024-10-02T01:04:48.115761Z",
     "shell.execute_reply": "2024-10-02T01:04:48.114718Z"
    },
    "papermill": {
     "duration": 8.550145,
     "end_time": "2024-10-02T01:04:48.118471",
     "exception": false,
     "start_time": "2024-10-02T01:04:39.568326",
     "status": "completed"
    },
    "tags": []
   },
   "outputs": [],
   "source": [
    "import numpy as np\n",
    "import pandas as pd\n",
    "import matplotlib.pyplot as plt\n",
    "import seaborn as sns\n",
    "\n",
    "from xgboost import XGBClassifier\n",
    "from sklearn.preprocessing import OneHotEncoder\n",
    "from sklearn.compose import ColumnTransformer\n",
    "from sklearn.pipeline import Pipeline\n",
    "from sklearn.model_selection import StratifiedKFold\n",
    "from sklearn.metrics import roc_auc_score\n",
    "\n",
    "import optuna\n",
    "from optuna.integration.botorch import BoTorchSampler\n",
    "\n",
    "import warnings\n",
    "import joblib\n",
    "from pathlib import Path\n",
    "from typing import Dict, Tuple, Union\n",
    "\n",
    "plt.rcParams.update(**{'figure.dpi': 150})\n",
    "plt.style.use('ggplot')"
   ]
  },
  {
   "cell_type": "markdown",
   "id": "c56365d2",
   "metadata": {
    "papermill": {
     "duration": 0.00884,
     "end_time": "2024-10-02T01:04:48.136493",
     "exception": false,
     "start_time": "2024-10-02T01:04:48.127653",
     "status": "completed"
    },
    "tags": []
   },
   "source": [
    "## Load and inspect the data"
   ]
  },
  {
   "cell_type": "code",
   "execution_count": 3,
   "id": "4e475d42",
   "metadata": {
    "execution": {
     "iopub.execute_input": "2024-10-02T01:04:48.157494Z",
     "iopub.status.busy": "2024-10-02T01:04:48.156872Z",
     "iopub.status.idle": "2024-10-02T01:04:48.430471Z",
     "shell.execute_reply": "2024-10-02T01:04:48.429182Z"
    },
    "papermill": {
     "duration": 0.287923,
     "end_time": "2024-10-02T01:04:48.433380",
     "exception": false,
     "start_time": "2024-10-02T01:04:48.145457",
     "status": "completed"
    },
    "tags": []
   },
   "outputs": [],
   "source": [
    "path = Path('/kaggle/input/playground-series-s4e10/')\n",
    "train = pd.read_csv(path / 'train.csv', index_col='id')\n",
    "test = pd.read_csv(path / 'test.csv', index_col='id')"
   ]
  },
  {
   "cell_type": "code",
   "execution_count": 4,
   "id": "b5a20bd4",
   "metadata": {
    "execution": {
     "iopub.execute_input": "2024-10-02T01:04:48.453688Z",
     "iopub.status.busy": "2024-10-02T01:04:48.453227Z",
     "iopub.status.idle": "2024-10-02T01:04:48.460073Z",
     "shell.execute_reply": "2024-10-02T01:04:48.458910Z"
    },
    "papermill": {
     "duration": 0.02025,
     "end_time": "2024-10-02T01:04:48.462825",
     "exception": false,
     "start_time": "2024-10-02T01:04:48.442575",
     "status": "completed"
    },
    "tags": []
   },
   "outputs": [
    {
     "name": "stdout",
     "output_type": "stream",
     "text": [
      "Training data shape: (58645, 12)\n",
      "Testing data shape: (39098, 11)\n"
     ]
    }
   ],
   "source": [
    "# Shape of data\n",
    "print(f'Training data shape: {train.shape}')\n",
    "print(f'Testing data shape: {test.shape}')"
   ]
  },
  {
   "cell_type": "code",
   "execution_count": 5,
   "id": "dcbf6c0a",
   "metadata": {
    "execution": {
     "iopub.execute_input": "2024-10-02T01:04:48.484359Z",
     "iopub.status.busy": "2024-10-02T01:04:48.483134Z",
     "iopub.status.idle": "2024-10-02T01:04:48.510408Z",
     "shell.execute_reply": "2024-10-02T01:04:48.509177Z"
    },
    "papermill": {
     "duration": 0.04129,
     "end_time": "2024-10-02T01:04:48.513392",
     "exception": false,
     "start_time": "2024-10-02T01:04:48.472102",
     "status": "completed"
    },
    "tags": []
   },
   "outputs": [
    {
     "data": {
      "text/html": [
       "<div>\n",
       "<style scoped>\n",
       "    .dataframe tbody tr th:only-of-type {\n",
       "        vertical-align: middle;\n",
       "    }\n",
       "\n",
       "    .dataframe tbody tr th {\n",
       "        vertical-align: top;\n",
       "    }\n",
       "\n",
       "    .dataframe thead th {\n",
       "        text-align: right;\n",
       "    }\n",
       "</style>\n",
       "<table border=\"1\" class=\"dataframe\">\n",
       "  <thead>\n",
       "    <tr style=\"text-align: right;\">\n",
       "      <th></th>\n",
       "      <th>person_age</th>\n",
       "      <th>person_income</th>\n",
       "      <th>person_home_ownership</th>\n",
       "      <th>person_emp_length</th>\n",
       "      <th>loan_intent</th>\n",
       "      <th>loan_grade</th>\n",
       "      <th>loan_amnt</th>\n",
       "      <th>loan_int_rate</th>\n",
       "      <th>loan_percent_income</th>\n",
       "      <th>cb_person_default_on_file</th>\n",
       "      <th>cb_person_cred_hist_length</th>\n",
       "      <th>loan_status</th>\n",
       "    </tr>\n",
       "    <tr>\n",
       "      <th>id</th>\n",
       "      <th></th>\n",
       "      <th></th>\n",
       "      <th></th>\n",
       "      <th></th>\n",
       "      <th></th>\n",
       "      <th></th>\n",
       "      <th></th>\n",
       "      <th></th>\n",
       "      <th></th>\n",
       "      <th></th>\n",
       "      <th></th>\n",
       "      <th></th>\n",
       "    </tr>\n",
       "  </thead>\n",
       "  <tbody>\n",
       "    <tr>\n",
       "      <th>0</th>\n",
       "      <td>37</td>\n",
       "      <td>35000</td>\n",
       "      <td>RENT</td>\n",
       "      <td>0.0</td>\n",
       "      <td>EDUCATION</td>\n",
       "      <td>B</td>\n",
       "      <td>6000</td>\n",
       "      <td>11.49</td>\n",
       "      <td>0.17</td>\n",
       "      <td>N</td>\n",
       "      <td>14</td>\n",
       "      <td>0</td>\n",
       "    </tr>\n",
       "    <tr>\n",
       "      <th>1</th>\n",
       "      <td>22</td>\n",
       "      <td>56000</td>\n",
       "      <td>OWN</td>\n",
       "      <td>6.0</td>\n",
       "      <td>MEDICAL</td>\n",
       "      <td>C</td>\n",
       "      <td>4000</td>\n",
       "      <td>13.35</td>\n",
       "      <td>0.07</td>\n",
       "      <td>N</td>\n",
       "      <td>2</td>\n",
       "      <td>0</td>\n",
       "    </tr>\n",
       "    <tr>\n",
       "      <th>2</th>\n",
       "      <td>29</td>\n",
       "      <td>28800</td>\n",
       "      <td>OWN</td>\n",
       "      <td>8.0</td>\n",
       "      <td>PERSONAL</td>\n",
       "      <td>A</td>\n",
       "      <td>6000</td>\n",
       "      <td>8.90</td>\n",
       "      <td>0.21</td>\n",
       "      <td>N</td>\n",
       "      <td>10</td>\n",
       "      <td>0</td>\n",
       "    </tr>\n",
       "    <tr>\n",
       "      <th>3</th>\n",
       "      <td>30</td>\n",
       "      <td>70000</td>\n",
       "      <td>RENT</td>\n",
       "      <td>14.0</td>\n",
       "      <td>VENTURE</td>\n",
       "      <td>B</td>\n",
       "      <td>12000</td>\n",
       "      <td>11.11</td>\n",
       "      <td>0.17</td>\n",
       "      <td>N</td>\n",
       "      <td>5</td>\n",
       "      <td>0</td>\n",
       "    </tr>\n",
       "    <tr>\n",
       "      <th>4</th>\n",
       "      <td>22</td>\n",
       "      <td>60000</td>\n",
       "      <td>RENT</td>\n",
       "      <td>2.0</td>\n",
       "      <td>MEDICAL</td>\n",
       "      <td>A</td>\n",
       "      <td>6000</td>\n",
       "      <td>6.92</td>\n",
       "      <td>0.10</td>\n",
       "      <td>N</td>\n",
       "      <td>3</td>\n",
       "      <td>0</td>\n",
       "    </tr>\n",
       "  </tbody>\n",
       "</table>\n",
       "</div>"
      ],
      "text/plain": [
       "    person_age  person_income person_home_ownership  person_emp_length  \\\n",
       "id                                                                       \n",
       "0           37          35000                  RENT                0.0   \n",
       "1           22          56000                   OWN                6.0   \n",
       "2           29          28800                   OWN                8.0   \n",
       "3           30          70000                  RENT               14.0   \n",
       "4           22          60000                  RENT                2.0   \n",
       "\n",
       "   loan_intent loan_grade  loan_amnt  loan_int_rate  loan_percent_income  \\\n",
       "id                                                                         \n",
       "0    EDUCATION          B       6000          11.49                 0.17   \n",
       "1      MEDICAL          C       4000          13.35                 0.07   \n",
       "2     PERSONAL          A       6000           8.90                 0.21   \n",
       "3      VENTURE          B      12000          11.11                 0.17   \n",
       "4      MEDICAL          A       6000           6.92                 0.10   \n",
       "\n",
       "   cb_person_default_on_file  cb_person_cred_hist_length  loan_status  \n",
       "id                                                                     \n",
       "0                          N                          14            0  \n",
       "1                          N                           2            0  \n",
       "2                          N                          10            0  \n",
       "3                          N                           5            0  \n",
       "4                          N                           3            0  "
      ]
     },
     "execution_count": 5,
     "metadata": {},
     "output_type": "execute_result"
    }
   ],
   "source": [
    "train.head()"
   ]
  },
  {
   "cell_type": "markdown",
   "id": "7582d554",
   "metadata": {
    "papermill": {
     "duration": 0.009525,
     "end_time": "2024-10-02T01:04:48.532825",
     "exception": false,
     "start_time": "2024-10-02T01:04:48.523300",
     "status": "completed"
    },
    "tags": []
   },
   "source": [
    "## Exploratory Data Analysis\n",
    "\n",
    "### Missing values \n",
    "\n",
    "We begin by checking for missing values in the dataset. There appear to be no missing values in the dataset."
   ]
  },
  {
   "cell_type": "code",
   "execution_count": 6,
   "id": "8b16e305",
   "metadata": {
    "execution": {
     "iopub.execute_input": "2024-10-02T01:04:48.555652Z",
     "iopub.status.busy": "2024-10-02T01:04:48.554017Z",
     "iopub.status.idle": "2024-10-02T01:04:48.592841Z",
     "shell.execute_reply": "2024-10-02T01:04:48.591581Z"
    },
    "papermill": {
     "duration": 0.052823,
     "end_time": "2024-10-02T01:04:48.595503",
     "exception": false,
     "start_time": "2024-10-02T01:04:48.542680",
     "status": "completed"
    },
    "tags": []
   },
   "outputs": [
    {
     "data": {
      "text/plain": [
       "Series([], dtype: int64)"
      ]
     },
     "execution_count": 6,
     "metadata": {},
     "output_type": "execute_result"
    }
   ],
   "source": [
    "def filter_greater_than(s: pd.Series, threshold: float=0.0) -> pd.Series:\n",
    "    return s[s > threshold]\n",
    "\n",
    "missing_perc = train.isna().sum().pipe(filter_greater_than, 0)\n",
    "missing_perc"
   ]
  },
  {
   "cell_type": "markdown",
   "id": "03bb2125",
   "metadata": {
    "papermill": {
     "duration": 0.009496,
     "end_time": "2024-10-02T01:04:48.615006",
     "exception": false,
     "start_time": "2024-10-02T01:04:48.605510",
     "status": "completed"
    },
    "tags": []
   },
   "source": [
    "### Target distribution\n",
    "\n",
    "The target variable is the `loan_status`, which is 1 if the application was approved for a loan or 0 otherwise. Less than 15% of the applicants in the training data were approved. This is clearly an imbalanced classification problem. "
   ]
  },
  {
   "cell_type": "code",
   "execution_count": 7,
   "id": "7d7d5257",
   "metadata": {
    "execution": {
     "iopub.execute_input": "2024-10-02T01:04:48.636906Z",
     "iopub.status.busy": "2024-10-02T01:04:48.636462Z",
     "iopub.status.idle": "2024-10-02T01:04:48.651902Z",
     "shell.execute_reply": "2024-10-02T01:04:48.650718Z"
    },
    "papermill": {
     "duration": 0.029386,
     "end_time": "2024-10-02T01:04:48.654411",
     "exception": false,
     "start_time": "2024-10-02T01:04:48.625025",
     "status": "completed"
    },
    "tags": []
   },
   "outputs": [
    {
     "data": {
      "text/plain": [
       "loan_status\n",
       "0    0.857618\n",
       "1    0.142382\n",
       "Name: proportion, dtype: float64"
      ]
     },
     "execution_count": 7,
     "metadata": {},
     "output_type": "execute_result"
    }
   ],
   "source": [
    "train['loan_status'].value_counts(normalize=True).sort_index()"
   ]
  },
  {
   "cell_type": "markdown",
   "id": "1bfb7772",
   "metadata": {
    "papermill": {
     "duration": 0.009553,
     "end_time": "2024-10-02T01:04:48.673959",
     "exception": false,
     "start_time": "2024-10-02T01:04:48.664406",
     "status": "completed"
    },
    "tags": []
   },
   "source": [
    "### Feature analysis \n",
    "\n",
    "TODO"
   ]
  },
  {
   "cell_type": "markdown",
   "id": "b9d05bfb",
   "metadata": {
    "papermill": {
     "duration": 0.009635,
     "end_time": "2024-10-02T01:04:48.693467",
     "exception": false,
     "start_time": "2024-10-02T01:04:48.683832",
     "status": "completed"
    },
    "tags": []
   },
   "source": [
    "## Prepare data"
   ]
  },
  {
   "cell_type": "code",
   "execution_count": 8,
   "id": "86f81e50",
   "metadata": {
    "execution": {
     "iopub.execute_input": "2024-10-02T01:04:48.714897Z",
     "iopub.status.busy": "2024-10-02T01:04:48.714457Z",
     "iopub.status.idle": "2024-10-02T01:04:48.725812Z",
     "shell.execute_reply": "2024-10-02T01:04:48.724389Z"
    },
    "papermill": {
     "duration": 0.025499,
     "end_time": "2024-10-02T01:04:48.728720",
     "exception": false,
     "start_time": "2024-10-02T01:04:48.703221",
     "status": "completed"
    },
    "tags": []
   },
   "outputs": [],
   "source": [
    "X = train.drop(columns = ['loan_status'])\n",
    "y = train['loan_status'].values"
   ]
  },
  {
   "cell_type": "code",
   "execution_count": 9,
   "id": "7cda1eeb",
   "metadata": {
    "execution": {
     "iopub.execute_input": "2024-10-02T01:04:48.750852Z",
     "iopub.status.busy": "2024-10-02T01:04:48.749943Z",
     "iopub.status.idle": "2024-10-02T01:04:48.758941Z",
     "shell.execute_reply": "2024-10-02T01:04:48.757804Z"
    },
    "papermill": {
     "duration": 0.023179,
     "end_time": "2024-10-02T01:04:48.761767",
     "exception": false,
     "start_time": "2024-10-02T01:04:48.738588",
     "status": "completed"
    },
    "tags": []
   },
   "outputs": [
    {
     "name": "stdout",
     "output_type": "stream",
     "text": [
      "['person_home_ownership', 'loan_intent', 'loan_grade', 'cb_person_default_on_file']\n"
     ]
    }
   ],
   "source": [
    "categorical_columns = train.select_dtypes(exclude=['number']).columns.tolist()\n",
    "print(categorical_columns)"
   ]
  },
  {
   "cell_type": "markdown",
   "id": "bbdea07f",
   "metadata": {
    "papermill": {
     "duration": 0.009641,
     "end_time": "2024-10-02T01:04:48.781314",
     "exception": false,
     "start_time": "2024-10-02T01:04:48.771673",
     "status": "completed"
    },
    "tags": []
   },
   "source": [
    "## XGBoost model"
   ]
  },
  {
   "cell_type": "code",
   "execution_count": 10,
   "id": "5a16ca53",
   "metadata": {
    "execution": {
     "iopub.execute_input": "2024-10-02T01:04:48.803405Z",
     "iopub.status.busy": "2024-10-02T01:04:48.802947Z",
     "iopub.status.idle": "2024-10-02T01:04:48.810123Z",
     "shell.execute_reply": "2024-10-02T01:04:48.808994Z"
    },
    "papermill": {
     "duration": 0.021218,
     "end_time": "2024-10-02T01:04:48.812582",
     "exception": false,
     "start_time": "2024-10-02T01:04:48.791364",
     "status": "completed"
    },
    "tags": []
   },
   "outputs": [],
   "source": [
    "def return_estimator(params:Dict = {}):\n",
    "    return Pipeline([\n",
    "        (\n",
    "            'preproc', \n",
    "            ColumnTransformer(\n",
    "                transformers = [('ohe', OneHotEncoder(sparse_output=False), categorical_columns)],\n",
    "                remainder='passthrough',\n",
    "                sparse_threshold=0\n",
    "            ).set_output(transform='pandas')\n",
    "        ),\n",
    "        ('xgb', XGBClassifier(tree_method='hist', **params))\n",
    "    ])\n"
   ]
  },
  {
   "cell_type": "markdown",
   "id": "7ea4bd95",
   "metadata": {
    "papermill": {
     "duration": 0.009777,
     "end_time": "2024-10-02T01:04:48.832501",
     "exception": false,
     "start_time": "2024-10-02T01:04:48.822724",
     "status": "completed"
    },
    "tags": []
   },
   "source": [
    "## Tuning hyperparameters via optuna"
   ]
  },
  {
   "cell_type": "code",
   "execution_count": 11,
   "id": "53f73c56",
   "metadata": {
    "_kg_hide-output": true,
    "execution": {
     "iopub.execute_input": "2024-10-02T01:04:48.854845Z",
     "iopub.status.busy": "2024-10-02T01:04:48.854431Z",
     "iopub.status.idle": "2024-10-02T01:51:34.746611Z",
     "shell.execute_reply": "2024-10-02T01:51:34.745530Z"
    },
    "papermill": {
     "duration": 2805.906597,
     "end_time": "2024-10-02T01:51:34.749571",
     "exception": false,
     "start_time": "2024-10-02T01:04:48.842974",
     "status": "completed"
    },
    "tags": []
   },
   "outputs": [
    {
     "name": "stderr",
     "output_type": "stream",
     "text": [
      "[I 2024-10-02 01:04:48,869] A new study created in memory with name: xgboost\n",
      "[I 2024-10-02 01:04:53,524] Trial 0 finished with value: 0.9123639508933221 and parameters: {'n_estimators': 219, 'learning_rate': 0.0011872426915762793, 'max_depth': 3, 'subsample': 0.7176611963091384, 'colsample_bytree': 0.4783310218787401, 'reg_alpha': 9.397522821096242e-06, 'reg_lambda': 6.94764639026943e-07, 'gamma': 0.01558510252222362, 'min_child_weight': 7.924356787008142}. Best is trial 0 with value: 0.9123639508933221.\n",
      "[I 2024-10-02 01:04:56,613] Trial 1 finished with value: 0.9341194497375664 and parameters: {'n_estimators': 123, 'learning_rate': 0.06106576779720579, 'max_depth': 3, 'subsample': 0.5672899726724667, 'colsample_bytree': 0.5622203091391718, 'reg_alpha': 4.570448196536859e-07, 'reg_lambda': 0.11695433673868773, 'gamma': 3.4653964518555913, 'min_child_weight': 30.388587370815138}. Best is trial 1 with value: 0.9341194497375664.\n",
      "[I 2024-10-02 01:05:12,283] Trial 2 finished with value: 0.9183012918392265 and parameters: {'n_estimators': 889, 'learning_rate': 0.0016942817223071756, 'max_depth': 3, 'subsample': 0.532643252193439, 'colsample_bytree': 0.48531009483765053, 'reg_alpha': 7.392277148863562e-08, 'reg_lambda': 1.3945681596725894e-07, 'gamma': 0.009277972689158196, 'min_child_weight': 4.764704832550183}. Best is trial 1 with value: 0.9341194497375664.\n",
      "[I 2024-10-02 01:05:14,279] Trial 3 finished with value: 0.8996236158759128 and parameters: {'n_estimators': 71, 'learning_rate': 0.0042992613060878, 'max_depth': 2, 'subsample': 0.7338937422911501, 'colsample_bytree': 0.2815689036384688, 'reg_alpha': 0.0058031063132004705, 'reg_lambda': 0.00022265298401829726, 'gamma': 0.0011281509155511395, 'min_child_weight': 14.47697929778487}. Best is trial 1 with value: 0.9341194497375664.\n",
      "[I 2024-10-02 01:05:25,447] Trial 4 finished with value: 0.9169505129317862 and parameters: {'n_estimators': 742, 'learning_rate': 0.046510129345820134, 'max_depth': 1, 'subsample': 0.8503761733035782, 'colsample_bytree': 0.9680959720803296, 'reg_alpha': 0.0003162825637872979, 'reg_lambda': 1.013165926004248, 'gamma': 2.6069729606071557e-05, 'min_child_weight': 50.28429700389852}. Best is trial 1 with value: 0.9341194497375664.\n",
      "[I 2024-10-02 01:05:31,225] Trial 5 finished with value: 0.9183399916540317 and parameters: {'n_estimators': 213, 'learning_rate': 0.018016695467629826, 'max_depth': 6, 'subsample': 0.7678020867488282, 'colsample_bytree': 0.9583680042503799, 'reg_alpha': 0.000790448248249603, 'reg_lambda': 5.480930567706262e-08, 'gamma': 4.607061574576499e-05, 'min_child_weight': 356.90407944941455}. Best is trial 1 with value: 0.9341194497375664.\n",
      "[I 2024-10-02 01:05:34,546] Trial 6 finished with value: 0.8430100967167962 and parameters: {'n_estimators': 198, 'learning_rate': 0.0011973151242383455, 'max_depth': 1, 'subsample': 0.5335721853684774, 'colsample_bytree': 0.9944668102791456, 'reg_alpha': 5.435291246063093, 'reg_lambda': 0.15934012744568885, 'gamma': 0.010427284283418707, 'min_child_weight': 197.18759100382871}. Best is trial 1 with value: 0.9341194497375664.\n",
      "[I 2024-10-02 01:05:37,033] Trial 7 finished with value: 0.9055436815007027 and parameters: {'n_estimators': 88, 'learning_rate': 0.006957604582036056, 'max_depth': 3, 'subsample': 0.6783121405613795, 'colsample_bytree': 0.14111106872086004, 'reg_alpha': 7.053115701668022, 'reg_lambda': 9.379815030421174e-05, 'gamma': 0.0010964892893556906, 'min_child_weight': 9.345960745862948}. Best is trial 1 with value: 0.9341194497375664.\n",
      "[I 2024-10-02 01:05:41,484] Trial 8 finished with value: 0.9305815330269971 and parameters: {'n_estimators': 120, 'learning_rate': 0.012951859436776878, 'max_depth': 7, 'subsample': 0.8683735281435565, 'colsample_bytree': 0.44128951024747376, 'reg_alpha': 1.3096523611274429e-08, 'reg_lambda': 0.1501911875688549, 'gamma': 4.941831985203758e-06, 'min_child_weight': 55.98280638313559}. Best is trial 1 with value: 0.9341194497375664.\n",
      "[I 2024-10-02 01:05:43,237] Trial 9 finished with value: 0.9194718525966259 and parameters: {'n_estimators': 54, 'learning_rate': 0.08014406639558729, 'max_depth': 2, 'subsample': 0.7485368993672563, 'colsample_bytree': 0.4734152536372185, 'reg_alpha': 1.4382921552151505e-05, 'reg_lambda': 0.0009094967425184082, 'gamma': 53.59285565910993, 'min_child_weight': 2.179358344640541}. Best is trial 1 with value: 0.9341194497375664.\n",
      "[I 2024-10-02 01:06:16,557] Trial 10 finished with value: 0.9545263067661278 and parameters: {'n_estimators': 1500, 'learning_rate': 0.09697912412566674, 'max_depth': 4, 'subsample': 0.7826779489303743, 'colsample_bytree': 0.6594937638158719, 'reg_alpha': 6.596700332215101e-06, 'reg_lambda': 0.02783582620508857, 'gamma': 2.4563022109913803e-05, 'min_child_weight': 44.81314819668296}. Best is trial 10 with value: 0.9545263067661278.\n",
      "[I 2024-10-02 01:06:55,100] Trial 11 finished with value: 0.9476622359218336 and parameters: {'n_estimators': 1500, 'learning_rate': 0.37351332058492837, 'max_depth': 5, 'subsample': 0.8491040282022582, 'colsample_bytree': 0.7341082091310044, 'reg_alpha': 4.909231350862398e-08, 'reg_lambda': 0.003551274454385768, 'gamma': 5.698242941992367e-07, 'min_child_weight': 45.588595454878146}. Best is trial 10 with value: 0.9545263067661278.\n",
      "[I 2024-10-02 01:07:15,073] Trial 12 finished with value: 0.9535095273217358 and parameters: {'n_estimators': 1500, 'learning_rate': 0.14438935467431652, 'max_depth': 5, 'subsample': 0.9999999999999999, 'colsample_bytree': 0.42692375954848183, 'reg_alpha': 2.547366931304834e-05, 'reg_lambda': 9.999999999999998, 'gamma': 0.5881341494753974, 'min_child_weight': 26.337847788935544}. Best is trial 10 with value: 0.9545263067661278.\n",
      "[I 2024-10-02 01:07:59,190] Trial 13 finished with value: 0.9495130228656912 and parameters: {'n_estimators': 1500, 'learning_rate': 0.11509277178342998, 'max_depth': 6, 'subsample': 0.7676586581253643, 'colsample_bytree': 0.9104480649966472, 'reg_alpha': 0.00014865259336169754, 'reg_lambda': 9.999999999999998, 'gamma': 2.618044946033177e-08, 'min_child_weight': 10.622513215891301}. Best is trial 10 with value: 0.9545263067661278.\n",
      "[I 2024-10-02 01:08:22,339] Trial 14 finished with value: 0.951721984006934 and parameters: {'n_estimators': 1500, 'learning_rate': 0.11099049329655476, 'max_depth': 4, 'subsample': 0.9903768671545338, 'colsample_bytree': 0.1, 'reg_alpha': 2.0070509725643607e-05, 'reg_lambda': 2.574648460733278e-05, 'gamma': 0.24210155907929928, 'min_child_weight': 19.81074118413821}. Best is trial 10 with value: 0.9545263067661278.\n",
      "[I 2024-10-02 01:08:51,362] Trial 15 finished with value: 0.9524701447090905 and parameters: {'n_estimators': 1500, 'learning_rate': 0.23078471378792076, 'max_depth': 4, 'subsample': 0.7705120340209117, 'colsample_bytree': 0.1, 'reg_alpha': 0.00011394449825397136, 'reg_lambda': 9.999999999999998, 'gamma': 0.03759446220835469, 'min_child_weight': 47.590259151218866}. Best is trial 10 with value: 0.9545263067661278.\n",
      "[I 2024-10-02 01:09:20,853] Trial 16 finished with value: 0.9508984178972802 and parameters: {'n_estimators': 1500, 'learning_rate': 0.108638284891676, 'max_depth': 4, 'subsample': 0.9999999999999999, 'colsample_bytree': 0.1, 'reg_alpha': 2.6645581028556004e-06, 'reg_lambda': 9.999999999999998, 'gamma': 1.4007397849144744e-06, 'min_child_weight': 32.09117266741139}. Best is trial 10 with value: 0.9545263067661278.\n",
      "[I 2024-10-02 01:09:42,903] Trial 17 finished with value: 0.919507873605607 and parameters: {'n_estimators': 1500, 'learning_rate': 0.0975927914927611, 'max_depth': 7, 'subsample': 0.5, 'colsample_bytree': 0.3774720311830968, 'reg_alpha': 7.89645092245221e-06, 'reg_lambda': 0.0007147570155638399, 'gamma': 99.99999999999999, 'min_child_weight': 39.18832956912192}. Best is trial 10 with value: 0.9545263067661278.\n",
      "[I 2024-10-02 01:10:12,972] Trial 18 finished with value: 0.9553044165173976 and parameters: {'n_estimators': 1500, 'learning_rate': 0.1724634670414857, 'max_depth': 3, 'subsample': 0.8714191007512329, 'colsample_bytree': 0.9999999999999999, 'reg_alpha': 2.0280436226771654e-05, 'reg_lambda': 9.999999999999998, 'gamma': 0.18977989171251955, 'min_child_weight': 21.142026538250494}. Best is trial 18 with value: 0.9553044165173976.\n",
      "[I 2024-10-02 01:10:47,008] Trial 19 finished with value: 0.953039807649836 and parameters: {'n_estimators': 1500, 'learning_rate': 0.20769076058293537, 'max_depth': 4, 'subsample': 0.8921570440276171, 'colsample_bytree': 0.9999999999999999, 'reg_alpha': 0.0005622597321129025, 'reg_lambda': 9.999999999999998, 'gamma': 9.57597831148984e-07, 'min_child_weight': 29.46289558225179}. Best is trial 18 with value: 0.9553044165173976.\n",
      "[I 2024-10-02 01:11:07,188] Trial 20 finished with value: 0.9265344824815027 and parameters: {'n_estimators': 1500, 'learning_rate': 0.08554531737014989, 'max_depth': 4, 'subsample': 0.8498474275433994, 'colsample_bytree': 0.7844754196172067, 'reg_alpha': 6.254050029516696e-07, 'reg_lambda': 9.999999999999998, 'gamma': 99.99999999999999, 'min_child_weight': 18.85418866458445}. Best is trial 18 with value: 0.9553044165173976.\n",
      "[I 2024-10-02 01:11:44,492] Trial 21 finished with value: 0.9489341031625982 and parameters: {'n_estimators': 1500, 'learning_rate': 0.20391903159213073, 'max_depth': 6, 'subsample': 0.9999999999999999, 'colsample_bytree': 0.9999999999999999, 'reg_alpha': 1.2350221856134813e-05, 'reg_lambda': 9.999999999999998, 'gamma': 0.0005522857523132673, 'min_child_weight': 7.091253196919683}. Best is trial 18 with value: 0.9553044165173976.\n",
      "[I 2024-10-02 01:12:15,405] Trial 22 finished with value: 0.9546010930718344 and parameters: {'n_estimators': 1500, 'learning_rate': 0.18547054454133485, 'max_depth': 4, 'subsample': 0.9999999999999999, 'colsample_bytree': 0.9999999999999999, 'reg_alpha': 8.935756705298033e-06, 'reg_lambda': 2.3332569371821, 'gamma': 0.0031046379752089704, 'min_child_weight': 36.25875039468094}. Best is trial 18 with value: 0.9553044165173976.\n",
      "[I 2024-10-02 01:12:42,522] Trial 23 finished with value: 0.9524385705177775 and parameters: {'n_estimators': 1270, 'learning_rate': 0.2967463684574527, 'max_depth': 4, 'subsample': 0.9523351920534242, 'colsample_bytree': 0.4692712448923536, 'reg_alpha': 0.00014346276102695217, 'reg_lambda': 0.0016310248362044067, 'gamma': 0.0010035634345602062, 'min_child_weight': 21.684401970504823}. Best is trial 18 with value: 0.9553044165173976.\n",
      "[I 2024-10-02 01:13:18,730] Trial 24 finished with value: 0.9523526939559591 and parameters: {'n_estimators': 1500, 'learning_rate': 0.16216096359723495, 'max_depth': 4, 'subsample': 0.5, 'colsample_bytree': 0.9999999999999999, 'reg_alpha': 3.6609479123814703e-06, 'reg_lambda': 9.999999999999998, 'gamma': 4.578241999724044e-06, 'min_child_weight': 20.509350612914854}. Best is trial 18 with value: 0.9553044165173976.\n",
      "[I 2024-10-02 01:14:02,668] Trial 25 finished with value: 0.9508287510871487 and parameters: {'n_estimators': 1500, 'learning_rate': 0.1482312495117617, 'max_depth': 7, 'subsample': 0.5, 'colsample_bytree': 0.9173299588953926, 'reg_alpha': 0.0007956140151345887, 'reg_lambda': 5.633534544872684e-05, 'gamma': 1.4502627642527074e-07, 'min_child_weight': 56.214391273889106}. Best is trial 18 with value: 0.9553044165173976.\n",
      "[I 2024-10-02 01:14:33,934] Trial 26 finished with value: 0.9560698287290613 and parameters: {'n_estimators': 1500, 'learning_rate': 0.123404497330581, 'max_depth': 4, 'subsample': 0.9999999999999999, 'colsample_bytree': 0.9999999999999999, 'reg_alpha': 5.267430360862449e-05, 'reg_lambda': 9.999999999999998, 'gamma': 0.01570804699138648, 'min_child_weight': 19.719727812635693}. Best is trial 26 with value: 0.9560698287290613.\n",
      "[I 2024-10-02 01:15:04,793] Trial 27 finished with value: 0.9560701680444659 and parameters: {'n_estimators': 1500, 'learning_rate': 0.1624902149166677, 'max_depth': 4, 'subsample': 0.9999999999999999, 'colsample_bytree': 0.2535577749683293, 'reg_alpha': 1.3802824337872442e-07, 'reg_lambda': 9.999999999999998, 'gamma': 0.020866603979428827, 'min_child_weight': 19.335410242834424}. Best is trial 27 with value: 0.9560701680444659.\n",
      "[I 2024-10-02 01:15:36,470] Trial 28 finished with value: 0.9556436426282537 and parameters: {'n_estimators': 1500, 'learning_rate': 0.15243968559161886, 'max_depth': 4, 'subsample': 0.9999999999999999, 'colsample_bytree': 0.9999999999999999, 'reg_alpha': 1.3270440014320666e-06, 'reg_lambda': 9.999999999999998, 'gamma': 0.01866923375151693, 'min_child_weight': 22.162980128087924}. Best is trial 27 with value: 0.9560701680444659.\n",
      "[I 2024-10-02 01:16:07,492] Trial 29 finished with value: 0.9533279638158815 and parameters: {'n_estimators': 1500, 'learning_rate': 0.1746854420371721, 'max_depth': 3, 'subsample': 0.5575091450630546, 'colsample_bytree': 0.9999999999999999, 'reg_alpha': 0.0001127496560280134, 'reg_lambda': 0.006231282020161427, 'gamma': 0.041192036832869976, 'min_child_weight': 34.06468873255483}. Best is trial 27 with value: 0.9560701680444659.\n",
      "[I 2024-10-02 01:16:41,062] Trial 30 finished with value: 0.954390979448797 and parameters: {'n_estimators': 1500, 'learning_rate': 0.12042772153807023, 'max_depth': 5, 'subsample': 0.9999999999999999, 'colsample_bytree': 0.9999999999999999, 'reg_alpha': 1.4063197530720287e-05, 'reg_lambda': 3.422111859619195e-07, 'gamma': 2.483425997600149e-06, 'min_child_weight': 24.0244857517257}. Best is trial 27 with value: 0.9560701680444659.\n",
      "[I 2024-10-02 01:17:14,232] Trial 31 finished with value: 0.95372857029752 and parameters: {'n_estimators': 1500, 'learning_rate': 0.15391541536154132, 'max_depth': 5, 'subsample': 0.9999999999999999, 'colsample_bytree': 0.9999999999999999, 'reg_alpha': 1.0494083260252659e-05, 'reg_lambda': 9.999999999999998, 'gamma': 0.01389236911629319, 'min_child_weight': 22.618893882124627}. Best is trial 27 with value: 0.9560701680444659.\n",
      "[I 2024-10-02 01:17:41,330] Trial 32 finished with value: 0.9567503704193164 and parameters: {'n_estimators': 1500, 'learning_rate': 0.16383319405741578, 'max_depth': 3, 'subsample': 0.9999999999999999, 'colsample_bytree': 0.3715473630795679, 'reg_alpha': 1.5642328392715524e-05, 'reg_lambda': 9.999999999999998, 'gamma': 0.022994783497015916, 'min_child_weight': 16.645770580982752}. Best is trial 32 with value: 0.9567503704193164.\n",
      "[I 2024-10-02 01:18:04,170] Trial 33 finished with value: 0.9504129944703494 and parameters: {'n_estimators': 1500, 'learning_rate': 0.11709786879782731, 'max_depth': 4, 'subsample': 0.9999999999999999, 'colsample_bytree': 0.9999999999999999, 'reg_alpha': 7.754308200010036e-07, 'reg_lambda': 0.8607363055475699, 'gamma': 0.6026728095424071, 'min_child_weight': 96.43196600776442}. Best is trial 32 with value: 0.9567503704193164.\n",
      "[I 2024-10-02 01:18:34,054] Trial 34 finished with value: 0.9560629114571334 and parameters: {'n_estimators': 1500, 'learning_rate': 0.14661538945954627, 'max_depth': 4, 'subsample': 0.9999999999999999, 'colsample_bytree': 0.5885129160240833, 'reg_alpha': 8.73719998820725e-06, 'reg_lambda': 9.999999999999998, 'gamma': 0.021350087757727215, 'min_child_weight': 22.882045352806195}. Best is trial 32 with value: 0.9567503704193164.\n",
      "[I 2024-10-02 01:19:04,629] Trial 35 finished with value: 0.9523670821196853 and parameters: {'n_estimators': 1500, 'learning_rate': 0.20177266514599967, 'max_depth': 3, 'subsample': 0.5, 'colsample_bytree': 0.9999999999999999, 'reg_alpha': 0.001421291501030765, 'reg_lambda': 2.6029364651025957e-06, 'gamma': 2.8860237078743724e-07, 'min_child_weight': 6.34776215975839}. Best is trial 32 with value: 0.9567503704193164.\n",
      "[I 2024-10-02 01:19:35,019] Trial 36 finished with value: 0.9554351243829075 and parameters: {'n_estimators': 1500, 'learning_rate': 0.1139002461682557, 'max_depth': 3, 'subsample': 0.9999999999999999, 'colsample_bytree': 0.149107535957216, 'reg_alpha': 7.094126737491471e-07, 'reg_lambda': 0.0006261155181715831, 'gamma': 0.0028770019656034354, 'min_child_weight': 7.140695815423431}. Best is trial 32 with value: 0.9567503704193164.\n",
      "[I 2024-10-02 01:19:42,723] Trial 37 finished with value: 0.9465472038327164 and parameters: {'n_estimators': 50, 'learning_rate': 0.19958325007143143, 'max_depth': 4, 'subsample': 0.7730099035629858, 'colsample_bytree': 0.9999999999999999, 'reg_alpha': 0.00024870083371333847, 'reg_lambda': 2.3332657134437197e-05, 'gamma': 3.173657929372332e-07, 'min_child_weight': 15.109357803146588}. Best is trial 32 with value: 0.9567503704193164.\n",
      "[I 2024-10-02 01:20:17,965] Trial 38 finished with value: 0.9512870947636489 and parameters: {'n_estimators': 1500, 'learning_rate': 0.22142728141411805, 'max_depth': 3, 'subsample': 0.5, 'colsample_bytree': 0.9999999999999999, 'reg_alpha': 2.9311886086237815e-05, 'reg_lambda': 1.605417059408536e-07, 'gamma': 5.563141091055198e-07, 'min_child_weight': 102.71227863389417}. Best is trial 32 with value: 0.9567503704193164.\n",
      "[I 2024-10-02 01:20:47,016] Trial 39 finished with value: 0.957069999577344 and parameters: {'n_estimators': 1500, 'learning_rate': 0.13589172284813067, 'max_depth': 3, 'subsample': 0.9999999999999999, 'colsample_bytree': 0.528284853669793, 'reg_alpha': 4.950292758623605e-06, 'reg_lambda': 9.999999999999998, 'gamma': 0.02043113846235879, 'min_child_weight': 15.638887851352012}. Best is trial 39 with value: 0.957069999577344.\n",
      "[I 2024-10-02 01:21:09,070] Trial 40 finished with value: 0.9558023708026834 and parameters: {'n_estimators': 1500, 'learning_rate': 0.35331547295879956, 'max_depth': 5, 'subsample': 0.9999999999999999, 'colsample_bytree': 0.3839898959737328, 'reg_alpha': 7.032114940158601, 'reg_lambda': 0.6610733320183257, 'gamma': 2.9883911340723833e-08, 'min_child_weight': 12.423854838689156}. Best is trial 39 with value: 0.957069999577344.\n",
      "[I 2024-10-02 01:21:34,869] Trial 41 finished with value: 0.9545959378588483 and parameters: {'n_estimators': 1500, 'learning_rate': 0.3833136207163734, 'max_depth': 5, 'subsample': 0.9999999999999999, 'colsample_bytree': 0.9999999999999999, 'reg_alpha': 9.999999999999998, 'reg_lambda': 4.586072360676211e-08, 'gamma': 9.238801110055174e-08, 'min_child_weight': 8.715001449966232}. Best is trial 39 with value: 0.957069999577344.\n",
      "[I 2024-10-02 01:22:07,328] Trial 42 finished with value: 0.9541662454988622 and parameters: {'n_estimators': 1500, 'learning_rate': 0.24435833997243986, 'max_depth': 6, 'subsample': 0.5, 'colsample_bytree': 0.1, 'reg_alpha': 9.999999999999998, 'reg_lambda': 0.011251380262261619, 'gamma': 1.330971084873231e-07, 'min_child_weight': 4.77445294999425}. Best is trial 39 with value: 0.957069999577344.\n",
      "[I 2024-10-02 01:22:51,645] Trial 43 finished with value: 0.9414393580866898 and parameters: {'n_estimators': 1500, 'learning_rate': 0.7123013993847569, 'max_depth': 6, 'subsample': 0.5, 'colsample_bytree': 0.9999999999999999, 'reg_alpha': 9.999999999999998, 'reg_lambda': 0.01214066267156751, 'gamma': 0.3074530337686947, 'min_child_weight': 14.129776938529824}. Best is trial 39 with value: 0.957069999577344.\n",
      "[I 2024-10-02 01:23:30,697] Trial 44 finished with value: 0.9477559703140692 and parameters: {'n_estimators': 1500, 'learning_rate': 0.5842895879068476, 'max_depth': 5, 'subsample': 0.5, 'colsample_bytree': 0.9999999999999999, 'reg_alpha': 9.999999999999998, 'reg_lambda': 0.005666886822777041, 'gamma': 0.9679580611736717, 'min_child_weight': 18.507947097251225}. Best is trial 39 with value: 0.957069999577344.\n",
      "[I 2024-10-02 01:23:52,660] Trial 45 finished with value: 0.9436619454202242 and parameters: {'n_estimators': 1500, 'learning_rate': 0.3710213342013554, 'max_depth': 3, 'subsample': 0.9999999999999999, 'colsample_bytree': 0.8440266456455813, 'reg_alpha': 9.999999999999998, 'reg_lambda': 9.999999999999998, 'gamma': 1.5548347260453763, 'min_child_weight': 13.584482520602533}. Best is trial 39 with value: 0.957069999577344.\n",
      "[I 2024-10-02 01:24:25,674] Trial 46 finished with value: 0.9562388494707571 and parameters: {'n_estimators': 1500, 'learning_rate': 0.10857356274425468, 'max_depth': 4, 'subsample': 0.9999999999999999, 'colsample_bytree': 0.9999999999999999, 'reg_alpha': 1.8301512589391337e-06, 'reg_lambda': 9.999999999999998, 'gamma': 0.022508244078497327, 'min_child_weight': 4.193597682572616}. Best is trial 39 with value: 0.957069999577344.\n",
      "[I 2024-10-02 01:24:58,137] Trial 47 finished with value: 0.9549117928771148 and parameters: {'n_estimators': 1500, 'learning_rate': 0.3627606964326298, 'max_depth': 5, 'subsample': 0.9999999999999999, 'colsample_bytree': 0.1, 'reg_alpha': 0.023714921050640644, 'reg_lambda': 3.808669223296368e-05, 'gamma': 7.205901770722218e-08, 'min_child_weight': 7.694654831334448}. Best is trial 39 with value: 0.957069999577344.\n",
      "[I 2024-10-02 01:25:20,919] Trial 48 finished with value: 0.9515216390958019 and parameters: {'n_estimators': 1500, 'learning_rate': 0.35074002312296043, 'max_depth': 5, 'subsample': 0.9999999999999999, 'colsample_bytree': 0.1, 'reg_alpha': 0.0026670347375605994, 'reg_lambda': 0.0007764385238617657, 'gamma': 0.5169604636530408, 'min_child_weight': 1.0}. Best is trial 39 with value: 0.957069999577344.\n",
      "[I 2024-10-02 01:25:49,334] Trial 49 finished with value: 0.9034883647557257 and parameters: {'n_estimators': 1500, 'learning_rate': 0.23742882293117745, 'max_depth': 4, 'subsample': 0.9999999999999999, 'colsample_bytree': 0.1, 'reg_alpha': 9.999999999999998, 'reg_lambda': 5.588619996431041e-05, 'gamma': 3.269524460814446e-08, 'min_child_weight': 999.9999999999998}. Best is trial 39 with value: 0.957069999577344.\n",
      "[I 2024-10-02 01:26:11,804] Trial 50 finished with value: 0.9489406632604162 and parameters: {'n_estimators': 1185, 'learning_rate': 0.33444533040347835, 'max_depth': 2, 'subsample': 0.6965221512998963, 'colsample_bytree': 0.1, 'reg_alpha': 9.999999999999998, 'reg_lambda': 9.717202104471993e-07, 'gamma': 1.4302374303780007e-08, 'min_child_weight': 11.157810975622702}. Best is trial 39 with value: 0.957069999577344.\n",
      "[I 2024-10-02 01:26:31,313] Trial 51 finished with value: 0.9196766086080151 and parameters: {'n_estimators': 1192, 'learning_rate': 0.18610796923186346, 'max_depth': 1, 'subsample': 0.9999999999999999, 'colsample_bytree': 0.1, 'reg_alpha': 1.9312291679875182e-08, 'reg_lambda': 9.999999999999998, 'gamma': 0.26573253331614366, 'min_child_weight': 2.543423378617521}. Best is trial 39 with value: 0.957069999577344.\n",
      "[I 2024-10-02 01:26:55,574] Trial 52 finished with value: 0.9311481540349066 and parameters: {'n_estimators': 1500, 'learning_rate': 0.2074894633294217, 'max_depth': 5, 'subsample': 0.5, 'colsample_bytree': 0.1, 'reg_alpha': 2.9623889981771168, 'reg_lambda': 2.7077171393258894e-07, 'gamma': 15.296302579678683, 'min_child_weight': 9.34198035459223}. Best is trial 39 with value: 0.957069999577344.\n",
      "[I 2024-10-02 01:27:31,508] Trial 53 finished with value: 0.9550791884766108 and parameters: {'n_estimators': 1500, 'learning_rate': 0.264130106758934, 'max_depth': 5, 'subsample': 0.5, 'colsample_bytree': 0.1, 'reg_alpha': 0.25106174999800224, 'reg_lambda': 0.0021318723602616915, 'gamma': 3.033948132740641e-08, 'min_child_weight': 13.630957194745955}. Best is trial 39 with value: 0.957069999577344.\n",
      "[I 2024-10-02 01:27:59,169] Trial 54 finished with value: 0.9570555161671883 and parameters: {'n_estimators': 1500, 'learning_rate': 0.20713578014881362, 'max_depth': 4, 'subsample': 0.9999999999999999, 'colsample_bytree': 0.5279659474252063, 'reg_alpha': 1.5098758093087781e-05, 'reg_lambda': 9.999999999999998, 'gamma': 0.06394097797132295, 'min_child_weight': 5.74911618243513}. Best is trial 39 with value: 0.957069999577344.\n",
      "[I 2024-10-02 01:28:21,391] Trial 55 finished with value: 0.9516906657903995 and parameters: {'n_estimators': 1500, 'learning_rate': 0.7499999999999999, 'max_depth': 4, 'subsample': 0.9999999999999999, 'colsample_bytree': 0.9999999999999999, 'reg_alpha': 8.594444962143336e-05, 'reg_lambda': 9.999999999999998, 'gamma': 1.5828182275543745, 'min_child_weight': 39.165456420600876}. Best is trial 39 with value: 0.957069999577344.\n",
      "[I 2024-10-02 01:29:00,285] Trial 56 finished with value: 0.9484767774323111 and parameters: {'n_estimators': 1500, 'learning_rate': 0.5873584077463314, 'max_depth': 4, 'subsample': 0.5, 'colsample_bytree': 0.9817579663899159, 'reg_alpha': 9.999999999999998, 'reg_lambda': 9.999999999999998, 'gamma': 2.8998737757052622e-05, 'min_child_weight': 4.892557544772546}. Best is trial 39 with value: 0.957069999577344.\n",
      "[I 2024-10-02 01:29:39,559] Trial 57 finished with value: 0.9465968927043023 and parameters: {'n_estimators': 1500, 'learning_rate': 0.7499999999999999, 'max_depth': 4, 'subsample': 0.5, 'colsample_bytree': 0.9999999999999999, 'reg_alpha': 9.999999999999998, 'reg_lambda': 9.999999999999998, 'gamma': 1.2154427757983602e-08, 'min_child_weight': 4.573615223000163}. Best is trial 39 with value: 0.957069999577344.\n",
      "[I 2024-10-02 01:30:07,720] Trial 58 finished with value: 0.9553254897898803 and parameters: {'n_estimators': 1500, 'learning_rate': 0.1959915443739545, 'max_depth': 4, 'subsample': 0.9999999999999999, 'colsample_bytree': 0.1, 'reg_alpha': 0.00127104542410467, 'reg_lambda': 9.999999999999998, 'gamma': 0.014077683560325497, 'min_child_weight': 1.0}. Best is trial 39 with value: 0.957069999577344.\n",
      "[I 2024-10-02 01:30:39,709] Trial 59 finished with value: 0.9522565605442856 and parameters: {'n_estimators': 1500, 'learning_rate': 0.12601755369325238, 'max_depth': 3, 'subsample': 0.5, 'colsample_bytree': 0.9999999999999999, 'reg_alpha': 2.3659565436140937e-06, 'reg_lambda': 1.6797292871678666, 'gamma': 0.00010534581872737739, 'min_child_weight': 53.00185246768544}. Best is trial 39 with value: 0.957069999577344.\n",
      "[I 2024-10-02 01:31:06,721] Trial 60 finished with value: 0.9560992420170098 and parameters: {'n_estimators': 1500, 'learning_rate': 0.2062112604588579, 'max_depth': 4, 'subsample': 0.9999999999999999, 'colsample_bytree': 0.9999999999999999, 'reg_alpha': 2.3600234335028423e-05, 'reg_lambda': 9.999999999999998, 'gamma': 0.04960204114048784, 'min_child_weight': 6.564174347020904}. Best is trial 39 with value: 0.957069999577344.\n",
      "[I 2024-10-02 01:31:39,136] Trial 61 finished with value: 0.9552341306054755 and parameters: {'n_estimators': 1500, 'learning_rate': 0.21441345855076058, 'max_depth': 4, 'subsample': 0.7762016663151512, 'colsample_bytree': 0.1669514746996527, 'reg_alpha': 0.4059210654273547, 'reg_lambda': 5.992653287390152e-05, 'gamma': 2.9744798068804877e-07, 'min_child_weight': 10.199694321363745}. Best is trial 39 with value: 0.957069999577344.\n",
      "[I 2024-10-02 01:31:44,150] Trial 62 finished with value: 0.9309028468562428 and parameters: {'n_estimators': 89, 'learning_rate': 0.21038447618522865, 'max_depth': 4, 'subsample': 0.9999999999999999, 'colsample_bytree': 0.1, 'reg_alpha': 5.7168590494192214e-06, 'reg_lambda': 9.999999999999998, 'gamma': 0.060418374861978645, 'min_child_weight': 1.0}. Best is trial 39 with value: 0.957069999577344.\n",
      "[I 2024-10-02 01:31:52,724] Trial 63 finished with value: 0.948205860869969 and parameters: {'n_estimators': 257, 'learning_rate': 0.2817467755291727, 'max_depth': 7, 'subsample': 0.9999999999999999, 'colsample_bytree': 0.1, 'reg_alpha': 9.999999999999998, 'reg_lambda': 0.0003553855185390993, 'gamma': 1.2057764247367876e-08, 'min_child_weight': 11.377936938506938}. Best is trial 39 with value: 0.957069999577344.\n",
      "[I 2024-10-02 01:32:17,167] Trial 64 finished with value: 0.950704996210978 and parameters: {'n_estimators': 856, 'learning_rate': 0.24496507509513357, 'max_depth': 4, 'subsample': 0.5, 'colsample_bytree': 0.8619431677226947, 'reg_alpha': 0.0016913137734712426, 'reg_lambda': 0.0007273168363784724, 'gamma': 2.6821494081171916e-07, 'min_child_weight': 21.2907228455559}. Best is trial 39 with value: 0.957069999577344.\n",
      "[I 2024-10-02 01:32:44,001] Trial 65 finished with value: 0.9525953044700936 and parameters: {'n_estimators': 1500, 'learning_rate': 0.1517169463682413, 'max_depth': 5, 'subsample': 0.9999999999999999, 'colsample_bytree': 0.1, 'reg_alpha': 9.999999999999998, 'reg_lambda': 0.0029921228466123864, 'gamma': 1.5202214204952385e-08, 'min_child_weight': 8.976035785967223}. Best is trial 39 with value: 0.957069999577344.\n",
      "[I 2024-10-02 01:33:09,528] Trial 66 finished with value: 0.9542155474318289 and parameters: {'n_estimators': 1500, 'learning_rate': 0.3424967379668271, 'max_depth': 12, 'subsample': 0.9999999999999999, 'colsample_bytree': 0.1, 'reg_alpha': 9.999999999999998, 'reg_lambda': 4.563963594431003, 'gamma': 1.363045351663844e-08, 'min_child_weight': 11.19456265842885}. Best is trial 39 with value: 0.957069999577344.\n",
      "[I 2024-10-02 01:33:35,660] Trial 67 finished with value: 0.9547324736152507 and parameters: {'n_estimators': 1500, 'learning_rate': 0.25518141318683407, 'max_depth': 3, 'subsample': 0.9999999999999999, 'colsample_bytree': 0.1, 'reg_alpha': 6.072937837421819e-05, 'reg_lambda': 0.2730539452744423, 'gamma': 4.708088484630891e-06, 'min_child_weight': 22.608458774643555}. Best is trial 39 with value: 0.957069999577344.\n",
      "[I 2024-10-02 01:33:40,850] Trial 68 finished with value: 0.9233446438468128 and parameters: {'n_estimators': 50, 'learning_rate': 0.7499999999999999, 'max_depth': 2, 'subsample': 0.9999999999999999, 'colsample_bytree': 0.1, 'reg_alpha': 8.232280767485792e-06, 'reg_lambda': 0.004093253681086848, 'gamma': 5.849538663281173e-07, 'min_child_weight': 17.408598164174407}. Best is trial 39 with value: 0.957069999577344.\n",
      "[I 2024-10-02 01:34:08,378] Trial 69 finished with value: 0.9535544657776602 and parameters: {'n_estimators': 1500, 'learning_rate': 0.20894338090521467, 'max_depth': 3, 'subsample': 0.9999999999999999, 'colsample_bytree': 0.1, 'reg_alpha': 0.00011712293952383552, 'reg_lambda': 0.0020956375609624597, 'gamma': 5.560431021671737e-06, 'min_child_weight': 24.86716124128002}. Best is trial 39 with value: 0.957069999577344.\n",
      "[I 2024-10-02 01:34:16,589] Trial 70 finished with value: 0.9541547385396221 and parameters: {'n_estimators': 50, 'learning_rate': 0.184910810762149, 'max_depth': 12, 'subsample': 0.9999999999999999, 'colsample_bytree': 0.9999999999999999, 'reg_alpha': 9.919358958784852e-05, 'reg_lambda': 0.0002531602424674191, 'gamma': 1.4230848244099907e-08, 'min_child_weight': 11.566499962167871}. Best is trial 39 with value: 0.957069999577344.\n",
      "[I 2024-10-02 01:34:22,194] Trial 71 finished with value: 0.9465687771489529 and parameters: {'n_estimators': 50, 'learning_rate': 0.07188398679133731, 'max_depth': 8, 'subsample': 0.9999999999999999, 'colsample_bytree': 0.9999999999999999, 'reg_alpha': 0.000522874061869077, 'reg_lambda': 0.000853434157337593, 'gamma': 0.09890225594638201, 'min_child_weight': 4.644590106614778}. Best is trial 39 with value: 0.957069999577344.\n",
      "[I 2024-10-02 01:34:29,219] Trial 72 finished with value: 0.9529717897935118 and parameters: {'n_estimators': 50, 'learning_rate': 0.18338161394237926, 'max_depth': 12, 'subsample': 0.9999999999999999, 'colsample_bytree': 0.9999999999999999, 'reg_alpha': 0.1447788249332927, 'reg_lambda': 1.6304236830364753e-06, 'gamma': 5.654160257651984e-07, 'min_child_weight': 6.3751035458766685}. Best is trial 39 with value: 0.957069999577344.\n",
      "[I 2024-10-02 01:34:35,841] Trial 73 finished with value: 0.9471179680603005 and parameters: {'n_estimators': 50, 'learning_rate': 0.39489887035270876, 'max_depth': 12, 'subsample': 0.5, 'colsample_bytree': 0.9999999999999999, 'reg_alpha': 0.68108036144964, 'reg_lambda': 4.78238251958303e-07, 'gamma': 3.2140295948839776e-08, 'min_child_weight': 25.877097799405725}. Best is trial 39 with value: 0.957069999577344.\n",
      "[I 2024-10-02 01:34:45,290] Trial 74 finished with value: 0.9486716754382675 and parameters: {'n_estimators': 50, 'learning_rate': 0.07727099243593614, 'max_depth': 9, 'subsample': 0.9999999999999999, 'colsample_bytree': 0.9999999999999999, 'reg_alpha': 0.026128900928446632, 'reg_lambda': 9.89118512276133e-08, 'gamma': 1.2091366035049598e-08, 'min_child_weight': 4.550076314675384}. Best is trial 39 with value: 0.957069999577344.\n",
      "[I 2024-10-02 01:34:51,380] Trial 75 finished with value: 0.9528474336742561 and parameters: {'n_estimators': 50, 'learning_rate': 0.1391807057481248, 'max_depth': 11, 'subsample': 0.9999999999999999, 'colsample_bytree': 0.9999999999999999, 'reg_alpha': 2.162440240241179e-07, 'reg_lambda': 2.9277451676099353e-06, 'gamma': 6.704414821972128e-07, 'min_child_weight': 8.29900457252699}. Best is trial 39 with value: 0.957069999577344.\n",
      "[I 2024-10-02 01:35:24,299] Trial 76 finished with value: 0.9574752076520981 and parameters: {'n_estimators': 1500, 'learning_rate': 0.08887237542512191, 'max_depth': 6, 'subsample': 0.9999999999999999, 'colsample_bytree': 0.2508976688155721, 'reg_alpha': 8.483212943443028e-06, 'reg_lambda': 9.999999999999998, 'gamma': 0.053831768184501236, 'min_child_weight': 1.0}. Best is trial 76 with value: 0.9574752076520981.\n",
      "[I 2024-10-02 01:35:57,744] Trial 77 finished with value: 0.952657000344673 and parameters: {'n_estimators': 1500, 'learning_rate': 0.10387637173352228, 'max_depth': 5, 'subsample': 0.9999999999999999, 'colsample_bytree': 0.5524957232772145, 'reg_alpha': 0.0001400682336877868, 'reg_lambda': 1.236660116512881e-08, 'gamma': 0.029635480522864834, 'min_child_weight': 1.0}. Best is trial 76 with value: 0.9574752076520981.\n",
      "[I 2024-10-02 01:36:05,554] Trial 78 finished with value: 0.9416381195259348 and parameters: {'n_estimators': 50, 'learning_rate': 0.5789325335868558, 'max_depth': 11, 'subsample': 0.9999999999999999, 'colsample_bytree': 0.9999999999999999, 'reg_alpha': 0.00010044790100410101, 'reg_lambda': 0.004615699273188085, 'gamma': 3.1606452715216976e-08, 'min_child_weight': 3.1765139580450965}. Best is trial 76 with value: 0.9574752076520981.\n",
      "[I 2024-10-02 01:36:13,533] Trial 79 finished with value: 0.9485953592367903 and parameters: {'n_estimators': 50, 'learning_rate': 0.09487157987605513, 'max_depth': 12, 'subsample': 0.9999999999999999, 'colsample_bytree': 0.9999999999999999, 'reg_alpha': 0.000615837272719399, 'reg_lambda': 9.999999999999998, 'gamma': 2.676027327679536e-07, 'min_child_weight': 17.177099565190566}. Best is trial 76 with value: 0.9574752076520981.\n",
      "[I 2024-10-02 01:36:21,035] Trial 80 finished with value: 0.9479755788155273 and parameters: {'n_estimators': 50, 'learning_rate': 0.12265980191421677, 'max_depth': 8, 'subsample': 0.9999999999999999, 'colsample_bytree': 0.9999999999999999, 'reg_alpha': 4.534722825723435e-06, 'reg_lambda': 4.848181860518019e-07, 'gamma': 8.971819396387985e-08, 'min_child_weight': 26.695606874290366}. Best is trial 76 with value: 0.9574752076520981.\n",
      "[I 2024-10-02 01:36:51,737] Trial 81 finished with value: 0.9544352749913237 and parameters: {'n_estimators': 1500, 'learning_rate': 0.1175138503575705, 'max_depth': 5, 'subsample': 0.9999999999999999, 'colsample_bytree': 0.1, 'reg_alpha': 2.309610889055389e-06, 'reg_lambda': 9.999999999999998, 'gamma': 0.03232446218138736, 'min_child_weight': 2.7639972889833544}. Best is trial 76 with value: 0.9574752076520981.\n",
      "[I 2024-10-02 01:37:02,246] Trial 82 finished with value: 0.9410575032458197 and parameters: {'n_estimators': 145, 'learning_rate': 0.016708055781582083, 'max_depth': 12, 'subsample': 0.9999999999999999, 'colsample_bytree': 0.9999999999999999, 'reg_alpha': 1.0223395327035176e-08, 'reg_lambda': 9.999999999999998, 'gamma': 0.04688564522605715, 'min_child_weight': 1.0}. Best is trial 76 with value: 0.9574752076520981.\n",
      "[I 2024-10-02 01:37:32,492] Trial 83 finished with value: 0.9559438891379187 and parameters: {'n_estimators': 1500, 'learning_rate': 0.11847547590061137, 'max_depth': 3, 'subsample': 0.9999999999999999, 'colsample_bytree': 0.9999999999999999, 'reg_alpha': 3.579334341128759e-06, 'reg_lambda': 8.596456248315475e-07, 'gamma': 0.0009524591392078935, 'min_child_weight': 44.43661841397256}. Best is trial 76 with value: 0.9574752076520981.\n",
      "[I 2024-10-02 01:38:05,420] Trial 84 finished with value: 0.9536696960984086 and parameters: {'n_estimators': 1500, 'learning_rate': 0.11067638250027521, 'max_depth': 6, 'subsample': 0.9999999999999999, 'colsample_bytree': 0.9999999999999999, 'reg_alpha': 0.026275370596764165, 'reg_lambda': 9.999999999999998, 'gamma': 0.036624380911121086, 'min_child_weight': 1.0}. Best is trial 76 with value: 0.9574752076520981.\n",
      "[I 2024-10-02 01:38:36,325] Trial 85 finished with value: 0.9565712654619183 and parameters: {'n_estimators': 1500, 'learning_rate': 0.1184293606707041, 'max_depth': 3, 'subsample': 0.9999999999999999, 'colsample_bytree': 0.9999999999999999, 'reg_alpha': 3.71906359889916e-06, 'reg_lambda': 0.00017485929265082352, 'gamma': 0.0015012495906549972, 'min_child_weight': 38.56794843051352}. Best is trial 76 with value: 0.9574752076520981.\n",
      "[I 2024-10-02 01:38:43,249] Trial 86 finished with value: 0.9356556496312475 and parameters: {'n_estimators': 50, 'learning_rate': 0.14315912167642644, 'max_depth': 12, 'subsample': 0.5, 'colsample_bytree': 0.1, 'reg_alpha': 0.00010314595519880722, 'reg_lambda': 0.000882005695954262, 'gamma': 8.057597271889823e-08, 'min_child_weight': 7.400045543769464}. Best is trial 76 with value: 0.9574752076520981.\n",
      "[I 2024-10-02 01:38:51,520] Trial 87 finished with value: 0.9285545759063443 and parameters: {'n_estimators': 360, 'learning_rate': 0.21724530256169267, 'max_depth': 12, 'subsample': 0.9999999999999999, 'colsample_bytree': 0.9999999999999999, 'reg_alpha': 9.999999999999998, 'reg_lambda': 0.4036621603546858, 'gamma': 76.75329131292416, 'min_child_weight': 11.156682750279048}. Best is trial 76 with value: 0.9574752076520981.\n",
      "[I 2024-10-02 01:39:04,316] Trial 88 finished with value: 0.9538598198770964 and parameters: {'n_estimators': 376, 'learning_rate': 0.21870003302989902, 'max_depth': 12, 'subsample': 0.9999999999999999, 'colsample_bytree': 0.9999999999999999, 'reg_alpha': 9.999999999999998, 'reg_lambda': 2.753041613872936e-08, 'gamma': 2.094992701714329e-06, 'min_child_weight': 11.149309317935794}. Best is trial 76 with value: 0.9574752076520981.\n",
      "[I 2024-10-02 01:39:15,647] Trial 89 finished with value: 0.9535739496253541 and parameters: {'n_estimators': 396, 'learning_rate': 0.21332176126969501, 'max_depth': 12, 'subsample': 0.9999999999999999, 'colsample_bytree': 0.9999999999999999, 'reg_alpha': 9.999999999999998, 'reg_lambda': 0.006163151524519423, 'gamma': 1.3878202226091384e-08, 'min_child_weight': 11.09647782246738}. Best is trial 76 with value: 0.9574752076520981.\n",
      "[I 2024-10-02 01:39:44,832] Trial 90 finished with value: 0.9563979407721985 and parameters: {'n_estimators': 1500, 'learning_rate': 0.14167064287565656, 'max_depth': 3, 'subsample': 0.9999999999999999, 'colsample_bytree': 0.5959184643472563, 'reg_alpha': 2.839220133514445e-07, 'reg_lambda': 0.6781301290273216, 'gamma': 0.0038344376985537587, 'min_child_weight': 38.415233234270545}. Best is trial 76 with value: 0.9574752076520981.\n",
      "[I 2024-10-02 01:40:14,794] Trial 91 finished with value: 0.9567269933738249 and parameters: {'n_estimators': 1500, 'learning_rate': 0.14888402225034741, 'max_depth': 3, 'subsample': 0.9999999999999999, 'colsample_bytree': 0.6629205829339645, 'reg_alpha': 6.235214668121717e-08, 'reg_lambda': 9.049442747210504e-07, 'gamma': 0.007158699819060791, 'min_child_weight': 29.855520395209442}. Best is trial 76 with value: 0.9574752076520981.\n",
      "[I 2024-10-02 01:40:40,721] Trial 92 finished with value: 0.9567482035630499 and parameters: {'n_estimators': 1500, 'learning_rate': 0.17491036140287575, 'max_depth': 5, 'subsample': 0.9999999999999999, 'colsample_bytree': 0.608417037670904, 'reg_alpha': 5.291468154056163e-07, 'reg_lambda': 9.999999999999998, 'gamma': 0.09170935173014041, 'min_child_weight': 1.0}. Best is trial 76 with value: 0.9574752076520981.\n",
      "[I 2024-10-02 01:41:03,668] Trial 93 finished with value: 0.9551937282607466 and parameters: {'n_estimators': 1500, 'learning_rate': 0.31087191669471126, 'max_depth': 8, 'subsample': 0.9999999999999999, 'colsample_bytree': 0.3592949679409837, 'reg_alpha': 9.999999999999998, 'reg_lambda': 0.04740185636278597, 'gamma': 5.783082712693449e-08, 'min_child_weight': 12.010689936394698}. Best is trial 76 with value: 0.9574752076520981.\n",
      "[I 2024-10-02 01:41:15,848] Trial 94 finished with value: 0.9523939535185519 and parameters: {'n_estimators': 211, 'learning_rate': 0.1672089074076225, 'max_depth': 12, 'subsample': 0.9999999999999999, 'colsample_bytree': 0.9999999999999999, 'reg_alpha': 0.0014824082548138755, 'reg_lambda': 0.007536758841231097, 'gamma': 5.706238792767124e-08, 'min_child_weight': 10.809663613219167}. Best is trial 76 with value: 0.9574752076520981.\n",
      "[I 2024-10-02 01:41:58,327] Trial 95 finished with value: 0.9525433356371064 and parameters: {'n_estimators': 1500, 'learning_rate': 0.40609035905207985, 'max_depth': 9, 'subsample': 0.7222028868839044, 'colsample_bytree': 0.2817271795883738, 'reg_alpha': 9.999999999999998, 'reg_lambda': 0.15487082203619593, 'gamma': 1.0242552002591506e-08, 'min_child_weight': 11.580510219575642}. Best is trial 76 with value: 0.9574752076520981.\n",
      "[I 2024-10-02 01:42:27,173] Trial 96 finished with value: 0.9568080897554726 and parameters: {'n_estimators': 1500, 'learning_rate': 0.12713498785158514, 'max_depth': 3, 'subsample': 0.9999999999999999, 'colsample_bytree': 0.8771847598550547, 'reg_alpha': 1.9108564402208042e-08, 'reg_lambda': 1.1645717710424008e-06, 'gamma': 4.723999337038249e-06, 'min_child_weight': 32.5475590323142}. Best is trial 76 with value: 0.9574752076520981.\n",
      "[I 2024-10-02 01:43:00,250] Trial 97 finished with value: 0.9541252895342629 and parameters: {'n_estimators': 1500, 'learning_rate': 0.19177023462271509, 'max_depth': 6, 'subsample': 0.9999999999999999, 'colsample_bytree': 0.28072946630441586, 'reg_alpha': 5.398616345378632e-05, 'reg_lambda': 9.999999999999998, 'gamma': 0.028876689227923462, 'min_child_weight': 1.0}. Best is trial 76 with value: 0.9574752076520981.\n",
      "[I 2024-10-02 01:43:27,010] Trial 98 finished with value: 0.957389223938047 and parameters: {'n_estimators': 1500, 'learning_rate': 0.10348146113390297, 'max_depth': 5, 'subsample': 0.9999999999999999, 'colsample_bytree': 0.5016292909182692, 'reg_alpha': 8.805195124472655e-06, 'reg_lambda': 9.999999999999998, 'gamma': 0.14464799423667693, 'min_child_weight': 1.0}. Best is trial 76 with value: 0.9574752076520981.\n",
      "[I 2024-10-02 01:43:53,200] Trial 99 finished with value: 0.955237077291882 and parameters: {'n_estimators': 1500, 'learning_rate': 0.1531812853837942, 'max_depth': 12, 'subsample': 0.9999999999999999, 'colsample_bytree': 0.4483931536154794, 'reg_alpha': 9.999999999999998, 'reg_lambda': 0.021960766388483235, 'gamma': 6.579626127627034e-08, 'min_child_weight': 12.687369257399276}. Best is trial 76 with value: 0.9574752076520981.\n",
      "[I 2024-10-02 01:44:21,032] Trial 100 finished with value: 0.957813386052232 and parameters: {'n_estimators': 1500, 'learning_rate': 0.10999995057648126, 'max_depth': 4, 'subsample': 0.9999999999999999, 'colsample_bytree': 0.49681888251576845, 'reg_alpha': 8.919028743833996e-06, 'reg_lambda': 9.999999999999998, 'gamma': 0.09787383664032377, 'min_child_weight': 1.0}. Best is trial 100 with value: 0.957813386052232.\n",
      "[I 2024-10-02 01:44:28,661] Trial 101 finished with value: 0.9492815383250797 and parameters: {'n_estimators': 168, 'learning_rate': 0.5685347079135019, 'max_depth': 5, 'subsample': 0.9999999999999999, 'colsample_bytree': 0.9999999999999999, 'reg_alpha': 0.0014497911955475477, 'reg_lambda': 6.138504534766508e-08, 'gamma': 1.1328535083426057, 'min_child_weight': 110.59730488902078}. Best is trial 100 with value: 0.957813386052232.\n",
      "[I 2024-10-02 01:44:54,940] Trial 102 finished with value: 0.9549690955101429 and parameters: {'n_estimators': 1500, 'learning_rate': 0.21222774066668817, 'max_depth': 12, 'subsample': 0.9999999999999999, 'colsample_bytree': 0.4247197200878984, 'reg_alpha': 9.999999999999998, 'reg_lambda': 1.8849739327993233e-08, 'gamma': 4.149033660962984e-08, 'min_child_weight': 11.671591664420324}. Best is trial 100 with value: 0.957813386052232.\n",
      "[I 2024-10-02 01:45:22,179] Trial 103 finished with value: 0.956321844828089 and parameters: {'n_estimators': 1500, 'learning_rate': 0.18390029520558832, 'max_depth': 3, 'subsample': 0.9999999999999999, 'colsample_bytree': 0.7924398741358538, 'reg_alpha': 7.591357990956461e-07, 'reg_lambda': 1.6376247875057116e-05, 'gamma': 1.4595538668775365e-05, 'min_child_weight': 23.708587942930805}. Best is trial 100 with value: 0.957813386052232.\n",
      "[I 2024-10-02 01:45:50,038] Trial 104 finished with value: 0.9566335149563683 and parameters: {'n_estimators': 1500, 'learning_rate': 0.10715821725077337, 'max_depth': 3, 'subsample': 0.9999999999999999, 'colsample_bytree': 0.6158892071276881, 'reg_alpha': 0.0020325344871488585, 'reg_lambda': 2.951240121872151e-08, 'gamma': 0.00011535878686046395, 'min_child_weight': 35.96710893776278}. Best is trial 100 with value: 0.957813386052232.\n",
      "[I 2024-10-02 01:46:12,155] Trial 105 finished with value: 0.9342102553021009 and parameters: {'n_estimators': 1500, 'learning_rate': 0.7499999999999999, 'max_depth': 4, 'subsample': 0.9999999999999999, 'colsample_bytree': 0.9999999999999999, 'reg_alpha': 9.999999999999998, 'reg_lambda': 3.899177410964473e-08, 'gamma': 1.5693932190945927, 'min_child_weight': 383.17128396525766}. Best is trial 100 with value: 0.957813386052232.\n",
      "[I 2024-10-02 01:46:42,300] Trial 106 finished with value: 0.9539965104089466 and parameters: {'n_estimators': 1500, 'learning_rate': 0.07654647134639918, 'max_depth': 12, 'subsample': 0.9999999999999999, 'colsample_bytree': 0.9999999999999999, 'reg_alpha': 9.999999999999998, 'reg_lambda': 9.999999999999998, 'gamma': 2.732825462346528e-06, 'min_child_weight': 1.0160271791385205}. Best is trial 100 with value: 0.957813386052232.\n",
      "[I 2024-10-02 01:46:53,459] Trial 107 finished with value: 0.9552302076431689 and parameters: {'n_estimators': 354, 'learning_rate': 0.261093141044036, 'max_depth': 5, 'subsample': 0.9999999999999999, 'colsample_bytree': 0.9999999999999999, 'reg_alpha': 2.4632623820930153e-08, 'reg_lambda': 9.999999999999998, 'gamma': 0.36205037550507224, 'min_child_weight': 22.406095011840286}. Best is trial 100 with value: 0.957813386052232.\n",
      "[I 2024-10-02 01:47:19,468] Trial 108 finished with value: 0.9571856585070242 and parameters: {'n_estimators': 1500, 'learning_rate': 0.1114258989768669, 'max_depth': 4, 'subsample': 0.9999999999999999, 'colsample_bytree': 0.24806128747028916, 'reg_alpha': 3.600450348382191e-05, 'reg_lambda': 9.999999999999998, 'gamma': 0.160043533479832, 'min_child_weight': 1.0}. Best is trial 100 with value: 0.957813386052232.\n",
      "[I 2024-10-02 01:47:25,948] Trial 109 finished with value: 0.9494325098684231 and parameters: {'n_estimators': 50, 'learning_rate': 0.16017564700888937, 'max_depth': 8, 'subsample': 0.9999999999999999, 'colsample_bytree': 0.9999999999999999, 'reg_alpha': 0.010371544000365697, 'reg_lambda': 6.056810782859087e-07, 'gamma': 0.07643238255595745, 'min_child_weight': 34.79412663510688}. Best is trial 100 with value: 0.957813386052232.\n",
      "[I 2024-10-02 01:47:50,221] Trial 110 finished with value: 0.9551451823463125 and parameters: {'n_estimators': 1500, 'learning_rate': 0.14289801811354796, 'max_depth': 4, 'subsample': 0.9999999999999999, 'colsample_bytree': 0.8702816344706648, 'reg_alpha': 9.999999999999998, 'reg_lambda': 9.999999999999998, 'gamma': 9.78701123285465e-06, 'min_child_weight': 1.0}. Best is trial 100 with value: 0.957813386052232.\n",
      "[I 2024-10-02 01:48:14,352] Trial 111 finished with value: 0.9568626659594619 and parameters: {'n_estimators': 1500, 'learning_rate': 0.11116640386654585, 'max_depth': 4, 'subsample': 0.9999999999999999, 'colsample_bytree': 0.25332304145417617, 'reg_alpha': 0.769835732515169, 'reg_lambda': 9.999999999999998, 'gamma': 0.1851321443723197, 'min_child_weight': 1.0}. Best is trial 100 with value: 0.957813386052232.\n",
      "[I 2024-10-02 01:48:38,766] Trial 112 finished with value: 0.9558161101001101 and parameters: {'n_estimators': 1500, 'learning_rate': 0.0899794537376005, 'max_depth': 5, 'subsample': 0.9999999999999999, 'colsample_bytree': 0.24831160328445617, 'reg_alpha': 7.789361487936548e-05, 'reg_lambda': 9.999999999999998, 'gamma': 0.394953124183256, 'min_child_weight': 1.0}. Best is trial 100 with value: 0.957813386052232.\n",
      "[I 2024-10-02 01:49:01,962] Trial 113 finished with value: 0.9547614821058747 and parameters: {'n_estimators': 1500, 'learning_rate': 0.20403073121857268, 'max_depth': 3, 'subsample': 0.9999999999999999, 'colsample_bytree': 0.7393738952163097, 'reg_alpha': 9.999999999999998, 'reg_lambda': 0.0037737504115162883, 'gamma': 3.3106462548009107e-06, 'min_child_weight': 14.214208740271024}. Best is trial 100 with value: 0.957813386052232.\n",
      "[I 2024-10-02 01:49:29,807] Trial 114 finished with value: 0.9565983928355635 and parameters: {'n_estimators': 1500, 'learning_rate': 0.16449718566238133, 'max_depth': 3, 'subsample': 0.9999999999999999, 'colsample_bytree': 0.6971273453723317, 'reg_alpha': 4.109989254435594e-06, 'reg_lambda': 9.999999999999998, 'gamma': 0.048103192344592025, 'min_child_weight': 16.449183974055313}. Best is trial 100 with value: 0.957813386052232.\n",
      "[I 2024-10-02 01:50:05,962] Trial 115 finished with value: 0.954527925955426 and parameters: {'n_estimators': 1500, 'learning_rate': 0.11552026852011966, 'max_depth': 4, 'subsample': 0.5, 'colsample_bytree': 0.47597965231794925, 'reg_alpha': 9.46596188534659e-05, 'reg_lambda': 9.999999999999998, 'gamma': 0.05447460257600062, 'min_child_weight': 1.0}. Best is trial 100 with value: 0.957813386052232.\n",
      "[I 2024-10-02 01:50:32,035] Trial 116 finished with value: 0.9533740511818595 and parameters: {'n_estimators': 1500, 'learning_rate': 0.16761408981103315, 'max_depth': 12, 'subsample': 0.9999999999999999, 'colsample_bytree': 0.9999999999999999, 'reg_alpha': 9.999999999999998, 'reg_lambda': 0.003445808684153577, 'gamma': 4.97940843755452e-07, 'min_child_weight': 3.1793200276282705}. Best is trial 100 with value: 0.957813386052232.\n",
      "[I 2024-10-02 01:51:04,239] Trial 117 finished with value: 0.9500538975731804 and parameters: {'n_estimators': 1500, 'learning_rate': 0.05686334976567916, 'max_depth': 12, 'subsample': 0.9999999999999999, 'colsample_bytree': 0.1, 'reg_alpha': 9.999999999999998, 'reg_lambda': 9.999999999999998, 'gamma': 2.057367504369298e-05, 'min_child_weight': 1.0}. Best is trial 100 with value: 0.957813386052232.\n",
      "[I 2024-10-02 01:51:10,797] Trial 118 finished with value: 0.9462630003934869 and parameters: {'n_estimators': 50, 'learning_rate': 0.6105415616027419, 'max_depth': 6, 'subsample': 0.9999999999999999, 'colsample_bytree': 0.9999999999999999, 'reg_alpha': 3.827715593833339, 'reg_lambda': 9.999999999999998, 'gamma': 3.42876778738929, 'min_child_weight': 27.18969595509007}. Best is trial 100 with value: 0.957813386052232.\n",
      "[I 2024-10-02 01:51:34,627] Trial 119 finished with value: 0.953375509642808 and parameters: {'n_estimators': 1500, 'learning_rate': 0.5656085465261349, 'max_depth': 3, 'subsample': 0.9999999999999999, 'colsample_bytree': 0.1, 'reg_alpha': 9.999999999999998, 'reg_lambda': 0.00010767935580723018, 'gamma': 8.229771286477837e-07, 'min_child_weight': 2.8348723203974817}. Best is trial 100 with value: 0.957813386052232.\n"
     ]
    }
   ],
   "source": [
    "def fit_and_test_model(\n",
    "    X: pd.DataFrame, y: np.ndarray,\n",
    "    train_index: np.ndarray, valid_index: np.ndarray,\n",
    "    params: Dict[str, Union[str, int, float]] = {}\n",
    ") -> float:\n",
    "    \n",
    "    X_train, X_valid = X.iloc[train_index], X.iloc[valid_index]\n",
    "    y_train, y_valid = y[train_index], y[valid_index]\n",
    "\n",
    "    model = return_estimator(params)\n",
    "    \n",
    "    _ = model.fit(X_train, y_train)\n",
    "    y_valid_pred = model.predict_proba(X_valid)[:, 1]\n",
    "    return roc_auc_score(y_valid, y_valid_pred)\n",
    "\n",
    "def optuna_objective(trial: optuna.trial.Trial) -> float:\n",
    "    params = {\n",
    "        'n_estimators': trial.suggest_int('n_estimators', 50, 1500, log=True),\n",
    "        'learning_rate': trial.suggest_float('learning_rate', 1e-3, 0.75, log=True),\n",
    "        'max_depth': trial.suggest_int('max_depth', 1, 12, log=True),\n",
    "        'subsample': trial.suggest_float('subsample', 0.5, 1),\n",
    "        'colsample_bytree': trial.suggest_float('colsample_bytree', 0.1, 1),\n",
    "        'reg_alpha': trial.suggest_float('reg_alpha', 1e-8, 10, log=True),\n",
    "        'reg_lambda': trial.suggest_float('reg_lambda', 1e-8, 10, log=True),\n",
    "        'gamma': trial.suggest_float('gamma', 1e-8, 100, log=True),\n",
    "        'min_child_weight': trial.suggest_float('min_child_weight', 1, 1000, log=True)\n",
    "    }\n",
    "\n",
    "    cv_auc = [\n",
    "        fit_and_test_model(X, y, train_index, valid_index, params) \\\n",
    "            for train_index, valid_index in StratifiedKFold(\n",
    "                n_splits=5, shuffle=True, random_state=0\n",
    "            ).split(X, y)\n",
    "    ]\n",
    "    return np.mean(cv_auc)\n",
    "\n",
    "\n",
    "with warnings.catch_warnings():\n",
    "    warnings.simplefilter(action=\"ignore\", category=optuna.exceptions.ExperimentalWarning)\n",
    "    warnings.simplefilter(action=\"ignore\", category=FutureWarning)\n",
    "\n",
    "    study = optuna.create_study(\n",
    "        direction='maximize', \n",
    "        study_name='xgboost',\n",
    "        sampler=BoTorchSampler(n_startup_trials=10, seed=2)\n",
    "    )\n",
    "\n",
    "    # run optuna for a maximum of 120 trials or 1 hr wall clock\n",
    "    study.optimize(optuna_objective, timeout=3600, n_trials=120)\n",
    "    \n",
    "    \n",
    "# save the runs\n",
    "_ = joblib.dump(study, 'xgboost_auc.pkl')\n"
   ]
  },
  {
   "cell_type": "code",
   "execution_count": 12,
   "id": "2ef5c0ec",
   "metadata": {
    "_kg_hide-input": true,
    "execution": {
     "iopub.execute_input": "2024-10-02T01:51:34.794757Z",
     "iopub.status.busy": "2024-10-02T01:51:34.794076Z",
     "iopub.status.idle": "2024-10-02T01:51:35.989282Z",
     "shell.execute_reply": "2024-10-02T01:51:35.988115Z"
    },
    "papermill": {
     "duration": 1.220915,
     "end_time": "2024-10-02T01:51:35.991834",
     "exception": false,
     "start_time": "2024-10-02T01:51:34.770919",
     "status": "completed"
    },
    "tags": []
   },
   "outputs": [
    {
     "data": {
      "text/html": [
       "        <script type=\"text/javascript\">\n",
       "        window.PlotlyConfig = {MathJaxConfig: 'local'};\n",
       "        if (window.MathJax && window.MathJax.Hub && window.MathJax.Hub.Config) {window.MathJax.Hub.Config({SVG: {font: \"STIX-Web\"}});}\n",
       "        if (typeof require !== 'undefined') {\n",
       "        require.undef(\"plotly\");\n",
       "        requirejs.config({\n",
       "            paths: {\n",
       "                'plotly': ['https://cdn.plot.ly/plotly-2.32.0.min']\n",
       "            }\n",
       "        });\n",
       "        require(['plotly'], function(Plotly) {\n",
       "            window._Plotly = Plotly;\n",
       "        });\n",
       "        }\n",
       "        </script>\n",
       "        "
      ]
     },
     "metadata": {},
     "output_type": "display_data"
    },
    {
     "data": {
      "text/html": [
       "<div>                            <div id=\"ba575457-1840-49fc-b062-89bbc4a01867\" class=\"plotly-graph-div\" style=\"height:600px; width:800px;\"></div>            <script type=\"text/javascript\">                require([\"plotly\"], function(Plotly) {                    window.PLOTLYENV=window.PLOTLYENV || {};                                    if (document.getElementById(\"ba575457-1840-49fc-b062-89bbc4a01867\")) {                    Plotly.newPlot(                        \"ba575457-1840-49fc-b062-89bbc4a01867\",                        [{\"mode\":\"markers\",\"name\":\"CV AUC\",\"x\":[0,1,2,3,4,5,6,7,8,9,10,11,12,13,14,15,16,17,18,19,20,21,22,23,24,25,26,27,28,29,30,31,32,33,34,35,36,37,38,39,40,41,42,43,44,45,46,47,48,49,50,51,52,53,54,55,56,57,58,59,60,61,62,63,64,65,66,67,68,69,70,71,72,73,74,75,76,77,78,79,80,81,82,83,84,85,86,87,88,89,90,91,92,93,94,95,96,97,98,99,100,101,102,103,104,105,106,107,108,109,110,111,112,113,114,115,116,117,118,119],\"y\":[0.9123639508933221,0.9341194497375664,0.9183012918392265,0.8996236158759128,0.9169505129317862,0.9183399916540317,0.8430100967167962,0.9055436815007027,0.9305815330269971,0.9194718525966259,0.9545263067661278,0.9476622359218336,0.9535095273217358,0.9495130228656912,0.951721984006934,0.9524701447090905,0.9508984178972802,0.919507873605607,0.9553044165173976,0.953039807649836,0.9265344824815027,0.9489341031625982,0.9546010930718344,0.9524385705177775,0.9523526939559591,0.9508287510871487,0.9560698287290613,0.9560701680444659,0.9556436426282537,0.9533279638158815,0.954390979448797,0.95372857029752,0.9567503704193164,0.9504129944703494,0.9560629114571334,0.9523670821196853,0.9554351243829075,0.9465472038327164,0.9512870947636489,0.957069999577344,0.9558023708026834,0.9545959378588483,0.9541662454988622,0.9414393580866898,0.9477559703140692,0.9436619454202242,0.9562388494707571,0.9549117928771148,0.9515216390958019,0.9034883647557257,0.9489406632604162,0.9196766086080151,0.9311481540349066,0.9550791884766108,0.9570555161671883,0.9516906657903995,0.9484767774323111,0.9465968927043023,0.9553254897898803,0.9522565605442856,0.9560992420170098,0.9552341306054755,0.9309028468562428,0.948205860869969,0.950704996210978,0.9525953044700936,0.9542155474318289,0.9547324736152507,0.9233446438468128,0.9535544657776602,0.9541547385396221,0.9465687771489529,0.9529717897935118,0.9471179680603005,0.9486716754382675,0.9528474336742561,0.9574752076520981,0.952657000344673,0.9416381195259348,0.9485953592367903,0.9479755788155273,0.9544352749913237,0.9410575032458197,0.9559438891379187,0.9536696960984086,0.9565712654619183,0.9356556496312475,0.9285545759063443,0.9538598198770964,0.9535739496253541,0.9563979407721985,0.9567269933738249,0.9567482035630499,0.9551937282607466,0.9523939535185519,0.9525433356371064,0.9568080897554726,0.9541252895342629,0.957389223938047,0.955237077291882,0.957813386052232,0.9492815383250797,0.9549690955101429,0.956321844828089,0.9566335149563683,0.9342102553021009,0.9539965104089466,0.9552302076431689,0.9571856585070242,0.9494325098684231,0.9551451823463125,0.9568626659594619,0.9558161101001101,0.9547614821058747,0.9565983928355635,0.954527925955426,0.9533740511818595,0.9500538975731804,0.9462630003934869,0.953375509642808],\"type\":\"scatter\"},{\"mode\":\"lines\",\"name\":\"Best Value\",\"x\":[0,1,2,3,4,5,6,7,8,9,10,11,12,13,14,15,16,17,18,19,20,21,22,23,24,25,26,27,28,29,30,31,32,33,34,35,36,37,38,39,40,41,42,43,44,45,46,47,48,49,50,51,52,53,54,55,56,57,58,59,60,61,62,63,64,65,66,67,68,69,70,71,72,73,74,75,76,77,78,79,80,81,82,83,84,85,86,87,88,89,90,91,92,93,94,95,96,97,98,99,100,101,102,103,104,105,106,107,108,109,110,111,112,113,114,115,116,117,118,119],\"y\":[0.9123639508933221,0.9341194497375664,0.9341194497375664,0.9341194497375664,0.9341194497375664,0.9341194497375664,0.9341194497375664,0.9341194497375664,0.9341194497375664,0.9341194497375664,0.9545263067661278,0.9545263067661278,0.9545263067661278,0.9545263067661278,0.9545263067661278,0.9545263067661278,0.9545263067661278,0.9545263067661278,0.9553044165173976,0.9553044165173976,0.9553044165173976,0.9553044165173976,0.9553044165173976,0.9553044165173976,0.9553044165173976,0.9553044165173976,0.9560698287290613,0.9560701680444659,0.9560701680444659,0.9560701680444659,0.9560701680444659,0.9560701680444659,0.9567503704193164,0.9567503704193164,0.9567503704193164,0.9567503704193164,0.9567503704193164,0.9567503704193164,0.9567503704193164,0.957069999577344,0.957069999577344,0.957069999577344,0.957069999577344,0.957069999577344,0.957069999577344,0.957069999577344,0.957069999577344,0.957069999577344,0.957069999577344,0.957069999577344,0.957069999577344,0.957069999577344,0.957069999577344,0.957069999577344,0.957069999577344,0.957069999577344,0.957069999577344,0.957069999577344,0.957069999577344,0.957069999577344,0.957069999577344,0.957069999577344,0.957069999577344,0.957069999577344,0.957069999577344,0.957069999577344,0.957069999577344,0.957069999577344,0.957069999577344,0.957069999577344,0.957069999577344,0.957069999577344,0.957069999577344,0.957069999577344,0.957069999577344,0.957069999577344,0.9574752076520981,0.9574752076520981,0.9574752076520981,0.9574752076520981,0.9574752076520981,0.9574752076520981,0.9574752076520981,0.9574752076520981,0.9574752076520981,0.9574752076520981,0.9574752076520981,0.9574752076520981,0.9574752076520981,0.9574752076520981,0.9574752076520981,0.9574752076520981,0.9574752076520981,0.9574752076520981,0.9574752076520981,0.9574752076520981,0.9574752076520981,0.9574752076520981,0.9574752076520981,0.9574752076520981,0.957813386052232,0.957813386052232,0.957813386052232,0.957813386052232,0.957813386052232,0.957813386052232,0.957813386052232,0.957813386052232,0.957813386052232,0.957813386052232,0.957813386052232,0.957813386052232,0.957813386052232,0.957813386052232,0.957813386052232,0.957813386052232,0.957813386052232,0.957813386052232,0.957813386052232,0.957813386052232],\"type\":\"scatter\"},{\"marker\":{\"color\":\"#cccccc\"},\"mode\":\"markers\",\"name\":\"Infeasible Trial\",\"showlegend\":false,\"x\":[],\"y\":[],\"type\":\"scatter\"}],                        {\"title\":{\"text\":\"Optimization History Plot\"},\"xaxis\":{\"title\":{\"text\":\"Trial\"}},\"yaxis\":{\"title\":{\"text\":\"CV AUC\"}},\"template\":{\"data\":{\"histogram2dcontour\":[{\"type\":\"histogram2dcontour\",\"colorbar\":{\"outlinewidth\":0,\"ticks\":\"\"},\"colorscale\":[[0.0,\"#0d0887\"],[0.1111111111111111,\"#46039f\"],[0.2222222222222222,\"#7201a8\"],[0.3333333333333333,\"#9c179e\"],[0.4444444444444444,\"#bd3786\"],[0.5555555555555556,\"#d8576b\"],[0.6666666666666666,\"#ed7953\"],[0.7777777777777778,\"#fb9f3a\"],[0.8888888888888888,\"#fdca26\"],[1.0,\"#f0f921\"]]}],\"choropleth\":[{\"type\":\"choropleth\",\"colorbar\":{\"outlinewidth\":0,\"ticks\":\"\"}}],\"histogram2d\":[{\"type\":\"histogram2d\",\"colorbar\":{\"outlinewidth\":0,\"ticks\":\"\"},\"colorscale\":[[0.0,\"#0d0887\"],[0.1111111111111111,\"#46039f\"],[0.2222222222222222,\"#7201a8\"],[0.3333333333333333,\"#9c179e\"],[0.4444444444444444,\"#bd3786\"],[0.5555555555555556,\"#d8576b\"],[0.6666666666666666,\"#ed7953\"],[0.7777777777777778,\"#fb9f3a\"],[0.8888888888888888,\"#fdca26\"],[1.0,\"#f0f921\"]]}],\"heatmap\":[{\"type\":\"heatmap\",\"colorbar\":{\"outlinewidth\":0,\"ticks\":\"\"},\"colorscale\":[[0.0,\"#0d0887\"],[0.1111111111111111,\"#46039f\"],[0.2222222222222222,\"#7201a8\"],[0.3333333333333333,\"#9c179e\"],[0.4444444444444444,\"#bd3786\"],[0.5555555555555556,\"#d8576b\"],[0.6666666666666666,\"#ed7953\"],[0.7777777777777778,\"#fb9f3a\"],[0.8888888888888888,\"#fdca26\"],[1.0,\"#f0f921\"]]}],\"heatmapgl\":[{\"type\":\"heatmapgl\",\"colorbar\":{\"outlinewidth\":0,\"ticks\":\"\"},\"colorscale\":[[0.0,\"#0d0887\"],[0.1111111111111111,\"#46039f\"],[0.2222222222222222,\"#7201a8\"],[0.3333333333333333,\"#9c179e\"],[0.4444444444444444,\"#bd3786\"],[0.5555555555555556,\"#d8576b\"],[0.6666666666666666,\"#ed7953\"],[0.7777777777777778,\"#fb9f3a\"],[0.8888888888888888,\"#fdca26\"],[1.0,\"#f0f921\"]]}],\"contourcarpet\":[{\"type\":\"contourcarpet\",\"colorbar\":{\"outlinewidth\":0,\"ticks\":\"\"}}],\"contour\":[{\"type\":\"contour\",\"colorbar\":{\"outlinewidth\":0,\"ticks\":\"\"},\"colorscale\":[[0.0,\"#0d0887\"],[0.1111111111111111,\"#46039f\"],[0.2222222222222222,\"#7201a8\"],[0.3333333333333333,\"#9c179e\"],[0.4444444444444444,\"#bd3786\"],[0.5555555555555556,\"#d8576b\"],[0.6666666666666666,\"#ed7953\"],[0.7777777777777778,\"#fb9f3a\"],[0.8888888888888888,\"#fdca26\"],[1.0,\"#f0f921\"]]}],\"surface\":[{\"type\":\"surface\",\"colorbar\":{\"outlinewidth\":0,\"ticks\":\"\"},\"colorscale\":[[0.0,\"#0d0887\"],[0.1111111111111111,\"#46039f\"],[0.2222222222222222,\"#7201a8\"],[0.3333333333333333,\"#9c179e\"],[0.4444444444444444,\"#bd3786\"],[0.5555555555555556,\"#d8576b\"],[0.6666666666666666,\"#ed7953\"],[0.7777777777777778,\"#fb9f3a\"],[0.8888888888888888,\"#fdca26\"],[1.0,\"#f0f921\"]]}],\"mesh3d\":[{\"type\":\"mesh3d\",\"colorbar\":{\"outlinewidth\":0,\"ticks\":\"\"}}],\"scatter\":[{\"fillpattern\":{\"fillmode\":\"overlay\",\"size\":10,\"solidity\":0.2},\"type\":\"scatter\"}],\"parcoords\":[{\"type\":\"parcoords\",\"line\":{\"colorbar\":{\"outlinewidth\":0,\"ticks\":\"\"}}}],\"scatterpolargl\":[{\"type\":\"scatterpolargl\",\"marker\":{\"colorbar\":{\"outlinewidth\":0,\"ticks\":\"\"}}}],\"bar\":[{\"error_x\":{\"color\":\"#2a3f5f\"},\"error_y\":{\"color\":\"#2a3f5f\"},\"marker\":{\"line\":{\"color\":\"#E5ECF6\",\"width\":0.5},\"pattern\":{\"fillmode\":\"overlay\",\"size\":10,\"solidity\":0.2}},\"type\":\"bar\"}],\"scattergeo\":[{\"type\":\"scattergeo\",\"marker\":{\"colorbar\":{\"outlinewidth\":0,\"ticks\":\"\"}}}],\"scatterpolar\":[{\"type\":\"scatterpolar\",\"marker\":{\"colorbar\":{\"outlinewidth\":0,\"ticks\":\"\"}}}],\"histogram\":[{\"marker\":{\"pattern\":{\"fillmode\":\"overlay\",\"size\":10,\"solidity\":0.2}},\"type\":\"histogram\"}],\"scattergl\":[{\"type\":\"scattergl\",\"marker\":{\"colorbar\":{\"outlinewidth\":0,\"ticks\":\"\"}}}],\"scatter3d\":[{\"type\":\"scatter3d\",\"line\":{\"colorbar\":{\"outlinewidth\":0,\"ticks\":\"\"}},\"marker\":{\"colorbar\":{\"outlinewidth\":0,\"ticks\":\"\"}}}],\"scattermapbox\":[{\"type\":\"scattermapbox\",\"marker\":{\"colorbar\":{\"outlinewidth\":0,\"ticks\":\"\"}}}],\"scatterternary\":[{\"type\":\"scatterternary\",\"marker\":{\"colorbar\":{\"outlinewidth\":0,\"ticks\":\"\"}}}],\"scattercarpet\":[{\"type\":\"scattercarpet\",\"marker\":{\"colorbar\":{\"outlinewidth\":0,\"ticks\":\"\"}}}],\"carpet\":[{\"aaxis\":{\"endlinecolor\":\"#2a3f5f\",\"gridcolor\":\"white\",\"linecolor\":\"white\",\"minorgridcolor\":\"white\",\"startlinecolor\":\"#2a3f5f\"},\"baxis\":{\"endlinecolor\":\"#2a3f5f\",\"gridcolor\":\"white\",\"linecolor\":\"white\",\"minorgridcolor\":\"white\",\"startlinecolor\":\"#2a3f5f\"},\"type\":\"carpet\"}],\"table\":[{\"cells\":{\"fill\":{\"color\":\"#EBF0F8\"},\"line\":{\"color\":\"white\"}},\"header\":{\"fill\":{\"color\":\"#C8D4E3\"},\"line\":{\"color\":\"white\"}},\"type\":\"table\"}],\"barpolar\":[{\"marker\":{\"line\":{\"color\":\"#E5ECF6\",\"width\":0.5},\"pattern\":{\"fillmode\":\"overlay\",\"size\":10,\"solidity\":0.2}},\"type\":\"barpolar\"}],\"pie\":[{\"automargin\":true,\"type\":\"pie\"}]},\"layout\":{\"autotypenumbers\":\"strict\",\"colorway\":[\"#636efa\",\"#EF553B\",\"#00cc96\",\"#ab63fa\",\"#FFA15A\",\"#19d3f3\",\"#FF6692\",\"#B6E880\",\"#FF97FF\",\"#FECB52\"],\"font\":{\"color\":\"#2a3f5f\"},\"hovermode\":\"closest\",\"hoverlabel\":{\"align\":\"left\"},\"paper_bgcolor\":\"white\",\"plot_bgcolor\":\"#E5ECF6\",\"polar\":{\"bgcolor\":\"#E5ECF6\",\"angularaxis\":{\"gridcolor\":\"white\",\"linecolor\":\"white\",\"ticks\":\"\"},\"radialaxis\":{\"gridcolor\":\"white\",\"linecolor\":\"white\",\"ticks\":\"\"}},\"ternary\":{\"bgcolor\":\"#E5ECF6\",\"aaxis\":{\"gridcolor\":\"white\",\"linecolor\":\"white\",\"ticks\":\"\"},\"baxis\":{\"gridcolor\":\"white\",\"linecolor\":\"white\",\"ticks\":\"\"},\"caxis\":{\"gridcolor\":\"white\",\"linecolor\":\"white\",\"ticks\":\"\"}},\"coloraxis\":{\"colorbar\":{\"outlinewidth\":0,\"ticks\":\"\"}},\"colorscale\":{\"sequential\":[[0.0,\"#0d0887\"],[0.1111111111111111,\"#46039f\"],[0.2222222222222222,\"#7201a8\"],[0.3333333333333333,\"#9c179e\"],[0.4444444444444444,\"#bd3786\"],[0.5555555555555556,\"#d8576b\"],[0.6666666666666666,\"#ed7953\"],[0.7777777777777778,\"#fb9f3a\"],[0.8888888888888888,\"#fdca26\"],[1.0,\"#f0f921\"]],\"sequentialminus\":[[0.0,\"#0d0887\"],[0.1111111111111111,\"#46039f\"],[0.2222222222222222,\"#7201a8\"],[0.3333333333333333,\"#9c179e\"],[0.4444444444444444,\"#bd3786\"],[0.5555555555555556,\"#d8576b\"],[0.6666666666666666,\"#ed7953\"],[0.7777777777777778,\"#fb9f3a\"],[0.8888888888888888,\"#fdca26\"],[1.0,\"#f0f921\"]],\"diverging\":[[0,\"#8e0152\"],[0.1,\"#c51b7d\"],[0.2,\"#de77ae\"],[0.3,\"#f1b6da\"],[0.4,\"#fde0ef\"],[0.5,\"#f7f7f7\"],[0.6,\"#e6f5d0\"],[0.7,\"#b8e186\"],[0.8,\"#7fbc41\"],[0.9,\"#4d9221\"],[1,\"#276419\"]]},\"xaxis\":{\"gridcolor\":\"white\",\"linecolor\":\"white\",\"ticks\":\"\",\"title\":{\"standoff\":15},\"zerolinecolor\":\"white\",\"automargin\":true,\"zerolinewidth\":2},\"yaxis\":{\"gridcolor\":\"white\",\"linecolor\":\"white\",\"ticks\":\"\",\"title\":{\"standoff\":15},\"zerolinecolor\":\"white\",\"automargin\":true,\"zerolinewidth\":2},\"scene\":{\"xaxis\":{\"backgroundcolor\":\"#E5ECF6\",\"gridcolor\":\"white\",\"linecolor\":\"white\",\"showbackground\":true,\"ticks\":\"\",\"zerolinecolor\":\"white\",\"gridwidth\":2},\"yaxis\":{\"backgroundcolor\":\"#E5ECF6\",\"gridcolor\":\"white\",\"linecolor\":\"white\",\"showbackground\":true,\"ticks\":\"\",\"zerolinecolor\":\"white\",\"gridwidth\":2},\"zaxis\":{\"backgroundcolor\":\"#E5ECF6\",\"gridcolor\":\"white\",\"linecolor\":\"white\",\"showbackground\":true,\"ticks\":\"\",\"zerolinecolor\":\"white\",\"gridwidth\":2}},\"shapedefaults\":{\"line\":{\"color\":\"#2a3f5f\"}},\"annotationdefaults\":{\"arrowcolor\":\"#2a3f5f\",\"arrowhead\":0,\"arrowwidth\":1},\"geo\":{\"bgcolor\":\"white\",\"landcolor\":\"#E5ECF6\",\"subunitcolor\":\"white\",\"showland\":true,\"showlakes\":true,\"lakecolor\":\"white\"},\"title\":{\"x\":0.05},\"mapbox\":{\"style\":\"light\"}}},\"autosize\":true,\"width\":800,\"height\":600},                        {\"responsive\": true}                    ).then(function(){\n",
       "                            \n",
       "var gd = document.getElementById('ba575457-1840-49fc-b062-89bbc4a01867');\n",
       "var x = new MutationObserver(function (mutations, observer) {{\n",
       "        var display = window.getComputedStyle(gd).display;\n",
       "        if (!display || display === 'none') {{\n",
       "            console.log([gd, 'removed!']);\n",
       "            Plotly.purge(gd);\n",
       "            observer.disconnect();\n",
       "        }}\n",
       "}});\n",
       "\n",
       "// Listen for the removal of the full notebook cells\n",
       "var notebookContainer = gd.closest('#notebook-container');\n",
       "if (notebookContainer) {{\n",
       "    x.observe(notebookContainer, {childList: true});\n",
       "}}\n",
       "\n",
       "// Listen for the clearing of the current output cell\n",
       "var outputEl = gd.closest('.output');\n",
       "if (outputEl) {{\n",
       "    x.observe(outputEl, {childList: true});\n",
       "}}\n",
       "\n",
       "                        })                };                });            </script>        </div>"
      ]
     },
     "metadata": {},
     "output_type": "display_data"
    }
   ],
   "source": [
    "fig = optuna.visualization.plot_optimization_history(study, target_name='CV AUC')\n",
    "\n",
    "fig.update_layout(\n",
    "    autosize=True,\n",
    "    width=800,\n",
    "    height=600\n",
    ")\n",
    "fig.show()"
   ]
  },
  {
   "cell_type": "code",
   "execution_count": 13,
   "id": "150f3ac5",
   "metadata": {
    "_kg_hide-input": true,
    "execution": {
     "iopub.execute_input": "2024-10-02T01:51:36.038266Z",
     "iopub.status.busy": "2024-10-02T01:51:36.037750Z",
     "iopub.status.idle": "2024-10-02T01:51:38.861565Z",
     "shell.execute_reply": "2024-10-02T01:51:38.860117Z"
    },
    "papermill": {
     "duration": 2.850424,
     "end_time": "2024-10-02T01:51:38.864224",
     "exception": false,
     "start_time": "2024-10-02T01:51:36.013800",
     "status": "completed"
    },
    "tags": []
   },
   "outputs": [
    {
     "data": {
      "text/html": [
       "<div>                            <div id=\"d7e0f057-0c66-4494-a4b2-e39bb245b1a9\" class=\"plotly-graph-div\" style=\"height:400px; width:800px;\"></div>            <script type=\"text/javascript\">                require([\"plotly\"], function(Plotly) {                    window.PLOTLYENV=window.PLOTLYENV || {};                                    if (document.getElementById(\"d7e0f057-0c66-4494-a4b2-e39bb245b1a9\")) {                    Plotly.newPlot(                        \"d7e0f057-0c66-4494-a4b2-e39bb245b1a9\",                        [{\"cliponaxis\":false,\"hovertemplate\":[\"n_estimators (IntDistribution): 0.016008543062691154\\u003cextra\\u003e\\u003c\\u002fextra\\u003e\",\"reg_alpha (FloatDistribution): 0.018904167756820293\\u003cextra\\u003e\\u003c\\u002fextra\\u003e\",\"subsample (FloatDistribution): 0.025610417195308457\\u003cextra\\u003e\\u003c\\u002fextra\\u003e\",\"reg_lambda (FloatDistribution): 0.04522427556700548\\u003cextra\\u003e\\u003c\\u002fextra\\u003e\",\"colsample_bytree (FloatDistribution): 0.061368711350569496\\u003cextra\\u003e\\u003c\\u002fextra\\u003e\",\"max_depth (IntDistribution): 0.1268083952476198\\u003cextra\\u003e\\u003c\\u002fextra\\u003e\",\"gamma (FloatDistribution): 0.1436293463565661\\u003cextra\\u003e\\u003c\\u002fextra\\u003e\",\"min_child_weight (FloatDistribution): 0.26712804419438396\\u003cextra\\u003e\\u003c\\u002fextra\\u003e\",\"learning_rate (FloatDistribution): 0.29531809926903524\\u003cextra\\u003e\\u003c\\u002fextra\\u003e\"],\"name\":\"Objective Value\",\"orientation\":\"h\",\"text\":[\"0.02\",\"0.02\",\"0.03\",\"0.05\",\"0.06\",\"0.13\",\"0.14\",\"0.27\",\"0.30\"],\"textposition\":\"outside\",\"x\":[0.016008543062691154,0.018904167756820293,0.025610417195308457,0.04522427556700548,0.061368711350569496,0.1268083952476198,0.1436293463565661,0.26712804419438396,0.29531809926903524],\"y\":[\"n_estimators\",\"reg_alpha\",\"subsample\",\"reg_lambda\",\"colsample_bytree\",\"max_depth\",\"gamma\",\"min_child_weight\",\"learning_rate\"],\"type\":\"bar\"}],                        {\"title\":{\"text\":\"Hyperparameter Importances\"},\"xaxis\":{\"title\":{\"text\":\"Hyperparameter Importance\"}},\"yaxis\":{\"title\":{\"text\":\"Hyperparameter\"}},\"template\":{\"data\":{\"histogram2dcontour\":[{\"type\":\"histogram2dcontour\",\"colorbar\":{\"outlinewidth\":0,\"ticks\":\"\"},\"colorscale\":[[0.0,\"#0d0887\"],[0.1111111111111111,\"#46039f\"],[0.2222222222222222,\"#7201a8\"],[0.3333333333333333,\"#9c179e\"],[0.4444444444444444,\"#bd3786\"],[0.5555555555555556,\"#d8576b\"],[0.6666666666666666,\"#ed7953\"],[0.7777777777777778,\"#fb9f3a\"],[0.8888888888888888,\"#fdca26\"],[1.0,\"#f0f921\"]]}],\"choropleth\":[{\"type\":\"choropleth\",\"colorbar\":{\"outlinewidth\":0,\"ticks\":\"\"}}],\"histogram2d\":[{\"type\":\"histogram2d\",\"colorbar\":{\"outlinewidth\":0,\"ticks\":\"\"},\"colorscale\":[[0.0,\"#0d0887\"],[0.1111111111111111,\"#46039f\"],[0.2222222222222222,\"#7201a8\"],[0.3333333333333333,\"#9c179e\"],[0.4444444444444444,\"#bd3786\"],[0.5555555555555556,\"#d8576b\"],[0.6666666666666666,\"#ed7953\"],[0.7777777777777778,\"#fb9f3a\"],[0.8888888888888888,\"#fdca26\"],[1.0,\"#f0f921\"]]}],\"heatmap\":[{\"type\":\"heatmap\",\"colorbar\":{\"outlinewidth\":0,\"ticks\":\"\"},\"colorscale\":[[0.0,\"#0d0887\"],[0.1111111111111111,\"#46039f\"],[0.2222222222222222,\"#7201a8\"],[0.3333333333333333,\"#9c179e\"],[0.4444444444444444,\"#bd3786\"],[0.5555555555555556,\"#d8576b\"],[0.6666666666666666,\"#ed7953\"],[0.7777777777777778,\"#fb9f3a\"],[0.8888888888888888,\"#fdca26\"],[1.0,\"#f0f921\"]]}],\"heatmapgl\":[{\"type\":\"heatmapgl\",\"colorbar\":{\"outlinewidth\":0,\"ticks\":\"\"},\"colorscale\":[[0.0,\"#0d0887\"],[0.1111111111111111,\"#46039f\"],[0.2222222222222222,\"#7201a8\"],[0.3333333333333333,\"#9c179e\"],[0.4444444444444444,\"#bd3786\"],[0.5555555555555556,\"#d8576b\"],[0.6666666666666666,\"#ed7953\"],[0.7777777777777778,\"#fb9f3a\"],[0.8888888888888888,\"#fdca26\"],[1.0,\"#f0f921\"]]}],\"contourcarpet\":[{\"type\":\"contourcarpet\",\"colorbar\":{\"outlinewidth\":0,\"ticks\":\"\"}}],\"contour\":[{\"type\":\"contour\",\"colorbar\":{\"outlinewidth\":0,\"ticks\":\"\"},\"colorscale\":[[0.0,\"#0d0887\"],[0.1111111111111111,\"#46039f\"],[0.2222222222222222,\"#7201a8\"],[0.3333333333333333,\"#9c179e\"],[0.4444444444444444,\"#bd3786\"],[0.5555555555555556,\"#d8576b\"],[0.6666666666666666,\"#ed7953\"],[0.7777777777777778,\"#fb9f3a\"],[0.8888888888888888,\"#fdca26\"],[1.0,\"#f0f921\"]]}],\"surface\":[{\"type\":\"surface\",\"colorbar\":{\"outlinewidth\":0,\"ticks\":\"\"},\"colorscale\":[[0.0,\"#0d0887\"],[0.1111111111111111,\"#46039f\"],[0.2222222222222222,\"#7201a8\"],[0.3333333333333333,\"#9c179e\"],[0.4444444444444444,\"#bd3786\"],[0.5555555555555556,\"#d8576b\"],[0.6666666666666666,\"#ed7953\"],[0.7777777777777778,\"#fb9f3a\"],[0.8888888888888888,\"#fdca26\"],[1.0,\"#f0f921\"]]}],\"mesh3d\":[{\"type\":\"mesh3d\",\"colorbar\":{\"outlinewidth\":0,\"ticks\":\"\"}}],\"scatter\":[{\"fillpattern\":{\"fillmode\":\"overlay\",\"size\":10,\"solidity\":0.2},\"type\":\"scatter\"}],\"parcoords\":[{\"type\":\"parcoords\",\"line\":{\"colorbar\":{\"outlinewidth\":0,\"ticks\":\"\"}}}],\"scatterpolargl\":[{\"type\":\"scatterpolargl\",\"marker\":{\"colorbar\":{\"outlinewidth\":0,\"ticks\":\"\"}}}],\"bar\":[{\"error_x\":{\"color\":\"#2a3f5f\"},\"error_y\":{\"color\":\"#2a3f5f\"},\"marker\":{\"line\":{\"color\":\"#E5ECF6\",\"width\":0.5},\"pattern\":{\"fillmode\":\"overlay\",\"size\":10,\"solidity\":0.2}},\"type\":\"bar\"}],\"scattergeo\":[{\"type\":\"scattergeo\",\"marker\":{\"colorbar\":{\"outlinewidth\":0,\"ticks\":\"\"}}}],\"scatterpolar\":[{\"type\":\"scatterpolar\",\"marker\":{\"colorbar\":{\"outlinewidth\":0,\"ticks\":\"\"}}}],\"histogram\":[{\"marker\":{\"pattern\":{\"fillmode\":\"overlay\",\"size\":10,\"solidity\":0.2}},\"type\":\"histogram\"}],\"scattergl\":[{\"type\":\"scattergl\",\"marker\":{\"colorbar\":{\"outlinewidth\":0,\"ticks\":\"\"}}}],\"scatter3d\":[{\"type\":\"scatter3d\",\"line\":{\"colorbar\":{\"outlinewidth\":0,\"ticks\":\"\"}},\"marker\":{\"colorbar\":{\"outlinewidth\":0,\"ticks\":\"\"}}}],\"scattermapbox\":[{\"type\":\"scattermapbox\",\"marker\":{\"colorbar\":{\"outlinewidth\":0,\"ticks\":\"\"}}}],\"scatterternary\":[{\"type\":\"scatterternary\",\"marker\":{\"colorbar\":{\"outlinewidth\":0,\"ticks\":\"\"}}}],\"scattercarpet\":[{\"type\":\"scattercarpet\",\"marker\":{\"colorbar\":{\"outlinewidth\":0,\"ticks\":\"\"}}}],\"carpet\":[{\"aaxis\":{\"endlinecolor\":\"#2a3f5f\",\"gridcolor\":\"white\",\"linecolor\":\"white\",\"minorgridcolor\":\"white\",\"startlinecolor\":\"#2a3f5f\"},\"baxis\":{\"endlinecolor\":\"#2a3f5f\",\"gridcolor\":\"white\",\"linecolor\":\"white\",\"minorgridcolor\":\"white\",\"startlinecolor\":\"#2a3f5f\"},\"type\":\"carpet\"}],\"table\":[{\"cells\":{\"fill\":{\"color\":\"#EBF0F8\"},\"line\":{\"color\":\"white\"}},\"header\":{\"fill\":{\"color\":\"#C8D4E3\"},\"line\":{\"color\":\"white\"}},\"type\":\"table\"}],\"barpolar\":[{\"marker\":{\"line\":{\"color\":\"#E5ECF6\",\"width\":0.5},\"pattern\":{\"fillmode\":\"overlay\",\"size\":10,\"solidity\":0.2}},\"type\":\"barpolar\"}],\"pie\":[{\"automargin\":true,\"type\":\"pie\"}]},\"layout\":{\"autotypenumbers\":\"strict\",\"colorway\":[\"#636efa\",\"#EF553B\",\"#00cc96\",\"#ab63fa\",\"#FFA15A\",\"#19d3f3\",\"#FF6692\",\"#B6E880\",\"#FF97FF\",\"#FECB52\"],\"font\":{\"color\":\"#2a3f5f\"},\"hovermode\":\"closest\",\"hoverlabel\":{\"align\":\"left\"},\"paper_bgcolor\":\"white\",\"plot_bgcolor\":\"#E5ECF6\",\"polar\":{\"bgcolor\":\"#E5ECF6\",\"angularaxis\":{\"gridcolor\":\"white\",\"linecolor\":\"white\",\"ticks\":\"\"},\"radialaxis\":{\"gridcolor\":\"white\",\"linecolor\":\"white\",\"ticks\":\"\"}},\"ternary\":{\"bgcolor\":\"#E5ECF6\",\"aaxis\":{\"gridcolor\":\"white\",\"linecolor\":\"white\",\"ticks\":\"\"},\"baxis\":{\"gridcolor\":\"white\",\"linecolor\":\"white\",\"ticks\":\"\"},\"caxis\":{\"gridcolor\":\"white\",\"linecolor\":\"white\",\"ticks\":\"\"}},\"coloraxis\":{\"colorbar\":{\"outlinewidth\":0,\"ticks\":\"\"}},\"colorscale\":{\"sequential\":[[0.0,\"#0d0887\"],[0.1111111111111111,\"#46039f\"],[0.2222222222222222,\"#7201a8\"],[0.3333333333333333,\"#9c179e\"],[0.4444444444444444,\"#bd3786\"],[0.5555555555555556,\"#d8576b\"],[0.6666666666666666,\"#ed7953\"],[0.7777777777777778,\"#fb9f3a\"],[0.8888888888888888,\"#fdca26\"],[1.0,\"#f0f921\"]],\"sequentialminus\":[[0.0,\"#0d0887\"],[0.1111111111111111,\"#46039f\"],[0.2222222222222222,\"#7201a8\"],[0.3333333333333333,\"#9c179e\"],[0.4444444444444444,\"#bd3786\"],[0.5555555555555556,\"#d8576b\"],[0.6666666666666666,\"#ed7953\"],[0.7777777777777778,\"#fb9f3a\"],[0.8888888888888888,\"#fdca26\"],[1.0,\"#f0f921\"]],\"diverging\":[[0,\"#8e0152\"],[0.1,\"#c51b7d\"],[0.2,\"#de77ae\"],[0.3,\"#f1b6da\"],[0.4,\"#fde0ef\"],[0.5,\"#f7f7f7\"],[0.6,\"#e6f5d0\"],[0.7,\"#b8e186\"],[0.8,\"#7fbc41\"],[0.9,\"#4d9221\"],[1,\"#276419\"]]},\"xaxis\":{\"gridcolor\":\"white\",\"linecolor\":\"white\",\"ticks\":\"\",\"title\":{\"standoff\":15},\"zerolinecolor\":\"white\",\"automargin\":true,\"zerolinewidth\":2},\"yaxis\":{\"gridcolor\":\"white\",\"linecolor\":\"white\",\"ticks\":\"\",\"title\":{\"standoff\":15},\"zerolinecolor\":\"white\",\"automargin\":true,\"zerolinewidth\":2},\"scene\":{\"xaxis\":{\"backgroundcolor\":\"#E5ECF6\",\"gridcolor\":\"white\",\"linecolor\":\"white\",\"showbackground\":true,\"ticks\":\"\",\"zerolinecolor\":\"white\",\"gridwidth\":2},\"yaxis\":{\"backgroundcolor\":\"#E5ECF6\",\"gridcolor\":\"white\",\"linecolor\":\"white\",\"showbackground\":true,\"ticks\":\"\",\"zerolinecolor\":\"white\",\"gridwidth\":2},\"zaxis\":{\"backgroundcolor\":\"#E5ECF6\",\"gridcolor\":\"white\",\"linecolor\":\"white\",\"showbackground\":true,\"ticks\":\"\",\"zerolinecolor\":\"white\",\"gridwidth\":2}},\"shapedefaults\":{\"line\":{\"color\":\"#2a3f5f\"}},\"annotationdefaults\":{\"arrowcolor\":\"#2a3f5f\",\"arrowhead\":0,\"arrowwidth\":1},\"geo\":{\"bgcolor\":\"white\",\"landcolor\":\"#E5ECF6\",\"subunitcolor\":\"white\",\"showland\":true,\"showlakes\":true,\"lakecolor\":\"white\"},\"title\":{\"x\":0.05},\"mapbox\":{\"style\":\"light\"}}},\"autosize\":true,\"width\":800,\"height\":400},                        {\"responsive\": true}                    ).then(function(){\n",
       "                            \n",
       "var gd = document.getElementById('d7e0f057-0c66-4494-a4b2-e39bb245b1a9');\n",
       "var x = new MutationObserver(function (mutations, observer) {{\n",
       "        var display = window.getComputedStyle(gd).display;\n",
       "        if (!display || display === 'none') {{\n",
       "            console.log([gd, 'removed!']);\n",
       "            Plotly.purge(gd);\n",
       "            observer.disconnect();\n",
       "        }}\n",
       "}});\n",
       "\n",
       "// Listen for the removal of the full notebook cells\n",
       "var notebookContainer = gd.closest('#notebook-container');\n",
       "if (notebookContainer) {{\n",
       "    x.observe(notebookContainer, {childList: true});\n",
       "}}\n",
       "\n",
       "// Listen for the clearing of the current output cell\n",
       "var outputEl = gd.closest('.output');\n",
       "if (outputEl) {{\n",
       "    x.observe(outputEl, {childList: true});\n",
       "}}\n",
       "\n",
       "                        })                };                });            </script>        </div>"
      ]
     },
     "metadata": {},
     "output_type": "display_data"
    }
   ],
   "source": [
    "fig = optuna.visualization.plot_param_importances(study)\n",
    "fig.update_layout(\n",
    "    autosize=True,\n",
    "    width=800,\n",
    "    height=400\n",
    ")\n",
    "fig.show()"
   ]
  },
  {
   "cell_type": "code",
   "execution_count": 14,
   "id": "a5eede3a",
   "metadata": {
    "_kg_hide-input": true,
    "_kg_hide-output": true,
    "execution": {
     "iopub.execute_input": "2024-10-02T01:51:38.913290Z",
     "iopub.status.busy": "2024-10-02T01:51:38.912807Z",
     "iopub.status.idle": "2024-10-02T01:51:38.936280Z",
     "shell.execute_reply": "2024-10-02T01:51:38.935094Z"
    },
    "papermill": {
     "duration": 0.050555,
     "end_time": "2024-10-02T01:51:38.939089",
     "exception": false,
     "start_time": "2024-10-02T01:51:38.888534",
     "status": "completed"
    },
    "tags": []
   },
   "outputs": [],
   "source": [
    "results = study.trials_dataframe(attrs=('number','value', 'duration', 'params'))\n",
    "results = results.rename(columns={'value':'AUC'})\n",
    "results['duration'] = results['duration']/np.timedelta64(1, 's')\n",
    "results = results.sort_values(by='AUC',ascending=False)\n",
    "results.to_csv('cv_AUC_history.csv',index=False)"
   ]
  },
  {
   "cell_type": "markdown",
   "id": "ccc95d06",
   "metadata": {
    "papermill": {
     "duration": 0.021867,
     "end_time": "2024-10-02T01:51:38.983313",
     "exception": false,
     "start_time": "2024-10-02T01:51:38.961446",
     "status": "completed"
    },
    "tags": []
   },
   "source": [
    "The best hyperparameters are as follows:"
   ]
  },
  {
   "cell_type": "code",
   "execution_count": 15,
   "id": "6d196c01",
   "metadata": {
    "execution": {
     "iopub.execute_input": "2024-10-02T01:51:39.030998Z",
     "iopub.status.busy": "2024-10-02T01:51:39.029975Z",
     "iopub.status.idle": "2024-10-02T01:51:39.037990Z",
     "shell.execute_reply": "2024-10-02T01:51:39.036942Z"
    },
    "papermill": {
     "duration": 0.034065,
     "end_time": "2024-10-02T01:51:39.040378",
     "exception": false,
     "start_time": "2024-10-02T01:51:39.006313",
     "status": "completed"
    },
    "tags": []
   },
   "outputs": [
    {
     "data": {
      "text/plain": [
       "{'n_estimators': 1500,\n",
       " 'learning_rate': 0.10999995057648126,\n",
       " 'max_depth': 4,\n",
       " 'subsample': 0.9999999999999999,\n",
       " 'colsample_bytree': 0.49681888251576845,\n",
       " 'reg_alpha': 8.919028743833996e-06,\n",
       " 'reg_lambda': 9.999999999999998,\n",
       " 'gamma': 0.09787383664032377,\n",
       " 'min_child_weight': 1.0}"
      ]
     },
     "execution_count": 15,
     "metadata": {},
     "output_type": "execute_result"
    }
   ],
   "source": [
    "study.best_params"
   ]
  },
  {
   "cell_type": "markdown",
   "id": "7bea99a7",
   "metadata": {
    "papermill": {
     "duration": 0.022049,
     "end_time": "2024-10-02T01:51:39.084860",
     "exception": false,
     "start_time": "2024-10-02T01:51:39.062811",
     "status": "completed"
    },
    "tags": []
   },
   "source": [
    "## Final model"
   ]
  },
  {
   "cell_type": "code",
   "execution_count": 16,
   "id": "f208f3eb",
   "metadata": {
    "execution": {
     "iopub.execute_input": "2024-10-02T01:51:39.132641Z",
     "iopub.status.busy": "2024-10-02T01:51:39.132191Z",
     "iopub.status.idle": "2024-10-02T01:51:44.178385Z",
     "shell.execute_reply": "2024-10-02T01:51:44.177330Z"
    },
    "papermill": {
     "duration": 5.072992,
     "end_time": "2024-10-02T01:51:44.181103",
     "exception": false,
     "start_time": "2024-10-02T01:51:39.108111",
     "status": "completed"
    },
    "tags": []
   },
   "outputs": [],
   "source": [
    "model = return_estimator(study.best_params)\n",
    "_ = model.fit(X, y)\n",
    "\n",
    "# save model\n",
    "_ = joblib.dump(model, 'xgboost_loan_approval.pkl')"
   ]
  },
  {
   "cell_type": "markdown",
   "id": "b6b3bc24",
   "metadata": {
    "papermill": {
     "duration": 0.022134,
     "end_time": "2024-10-02T01:51:44.225689",
     "exception": false,
     "start_time": "2024-10-02T01:51:44.203555",
     "status": "completed"
    },
    "tags": []
   },
   "source": [
    "## Test predictions and submission"
   ]
  },
  {
   "cell_type": "code",
   "execution_count": 17,
   "id": "60bd9a2a",
   "metadata": {
    "execution": {
     "iopub.execute_input": "2024-10-02T01:51:44.272396Z",
     "iopub.status.busy": "2024-10-02T01:51:44.271917Z",
     "iopub.status.idle": "2024-10-02T01:51:44.670514Z",
     "shell.execute_reply": "2024-10-02T01:51:44.669327Z"
    },
    "papermill": {
     "duration": 0.425075,
     "end_time": "2024-10-02T01:51:44.673282",
     "exception": false,
     "start_time": "2024-10-02T01:51:44.248207",
     "status": "completed"
    },
    "tags": []
   },
   "outputs": [],
   "source": [
    "submission = pd.DataFrame({\n",
    "    'id': test.index.tolist(),\n",
    "    'loan_status': model.predict_proba(test)[:, 1]\n",
    "})\n",
    "\n",
    "# save submission\n",
    "submission.to_csv('submission.csv', index=False)"
   ]
  },
  {
   "cell_type": "code",
   "execution_count": 18,
   "id": "a850a056",
   "metadata": {
    "execution": {
     "iopub.execute_input": "2024-10-02T01:51:44.720385Z",
     "iopub.status.busy": "2024-10-02T01:51:44.719922Z",
     "iopub.status.idle": "2024-10-02T01:51:44.731259Z",
     "shell.execute_reply": "2024-10-02T01:51:44.730214Z"
    },
    "papermill": {
     "duration": 0.037414,
     "end_time": "2024-10-02T01:51:44.733599",
     "exception": false,
     "start_time": "2024-10-02T01:51:44.696185",
     "status": "completed"
    },
    "tags": []
   },
   "outputs": [
    {
     "data": {
      "text/html": [
       "<div>\n",
       "<style scoped>\n",
       "    .dataframe tbody tr th:only-of-type {\n",
       "        vertical-align: middle;\n",
       "    }\n",
       "\n",
       "    .dataframe tbody tr th {\n",
       "        vertical-align: top;\n",
       "    }\n",
       "\n",
       "    .dataframe thead th {\n",
       "        text-align: right;\n",
       "    }\n",
       "</style>\n",
       "<table border=\"1\" class=\"dataframe\">\n",
       "  <thead>\n",
       "    <tr style=\"text-align: right;\">\n",
       "      <th></th>\n",
       "      <th>id</th>\n",
       "      <th>loan_status</th>\n",
       "    </tr>\n",
       "  </thead>\n",
       "  <tbody>\n",
       "    <tr>\n",
       "      <th>0</th>\n",
       "      <td>58645</td>\n",
       "      <td>0.997225</td>\n",
       "    </tr>\n",
       "    <tr>\n",
       "      <th>1</th>\n",
       "      <td>58646</td>\n",
       "      <td>0.016744</td>\n",
       "    </tr>\n",
       "    <tr>\n",
       "      <th>2</th>\n",
       "      <td>58647</td>\n",
       "      <td>0.624585</td>\n",
       "    </tr>\n",
       "    <tr>\n",
       "      <th>3</th>\n",
       "      <td>58648</td>\n",
       "      <td>0.007407</td>\n",
       "    </tr>\n",
       "    <tr>\n",
       "      <th>4</th>\n",
       "      <td>58649</td>\n",
       "      <td>0.038111</td>\n",
       "    </tr>\n",
       "  </tbody>\n",
       "</table>\n",
       "</div>"
      ],
      "text/plain": [
       "      id  loan_status\n",
       "0  58645     0.997225\n",
       "1  58646     0.016744\n",
       "2  58647     0.624585\n",
       "3  58648     0.007407\n",
       "4  58649     0.038111"
      ]
     },
     "execution_count": 18,
     "metadata": {},
     "output_type": "execute_result"
    }
   ],
   "source": [
    "# check submission output\n",
    "submission.head(5)"
   ]
  },
  {
   "cell_type": "code",
   "execution_count": null,
   "id": "07593ea2",
   "metadata": {
    "papermill": {
     "duration": 0.022229,
     "end_time": "2024-10-02T01:51:44.778600",
     "exception": false,
     "start_time": "2024-10-02T01:51:44.756371",
     "status": "completed"
    },
    "tags": []
   },
   "outputs": [],
   "source": []
  }
 ],
 "metadata": {
  "kaggle": {
   "accelerator": "none",
   "dataSources": [
    {
     "databundleVersionId": 9709193,
     "sourceId": 84894,
     "sourceType": "competition"
    }
   ],
   "dockerImageVersionId": 30775,
   "isGpuEnabled": false,
   "isInternetEnabled": true,
   "language": "python",
   "sourceType": "notebook"
  },
  "kernelspec": {
   "display_name": "Python 3",
   "language": "python",
   "name": "python3"
  },
  "language_info": {
   "codemirror_mode": {
    "name": "ipython",
    "version": 3
   },
   "file_extension": ".py",
   "mimetype": "text/x-python",
   "name": "python",
   "nbconvert_exporter": "python",
   "pygments_lexer": "ipython3",
   "version": "3.10.14"
  },
  "papermill": {
   "default_parameters": {},
   "duration": 2850.198935,
   "end_time": "2024-10-02T01:51:46.426438",
   "environment_variables": {},
   "exception": null,
   "input_path": "__notebook__.ipynb",
   "output_path": "__notebook__.ipynb",
   "parameters": {},
   "start_time": "2024-10-02T01:04:16.227503",
   "version": "2.6.0"
  }
 },
 "nbformat": 4,
 "nbformat_minor": 5
}
